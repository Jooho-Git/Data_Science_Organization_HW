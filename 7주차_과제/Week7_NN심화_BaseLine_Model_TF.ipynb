{
 "cells": [
  {
   "cell_type": "markdown",
   "metadata": {
    "id": "3w6SHm1p5yXs"
   },
   "source": [
    "# Advanced NN"
   ]
  },
  {
   "cell_type": "code",
   "execution_count": 1,
   "metadata": {
    "colab": {
     "base_uri": "https://localhost:8080/"
    },
    "id": "o_axI6k0QAVJ",
    "outputId": "70b68a78-26c6-4001-87a5-1d871a64c6f0"
   },
   "outputs": [
    {
     "name": "stdout",
     "output_type": "stream",
     "text": [
      "Mounted at /content/drive\n"
     ]
    }
   ],
   "source": [
    "from google.colab import drive\n",
    "drive.mount('/content/drive')"
   ]
  },
  {
   "cell_type": "code",
   "execution_count": 2,
   "metadata": {
    "id": "j-Q0FSR5rENI"
   },
   "outputs": [],
   "source": [
    "import numpy as np\n",
    "import pandas as pd\n",
    "import matplotlib.pyplot as plt\n",
    "\n",
    "import tensorflow as tf\n",
    "from tensorflow import keras\n",
    "\n",
    "import warnings\n",
    "warnings.filterwarnings(action='ignore')\n",
    "\n",
    "data_dir = '/content/drive/MyDrive/정규세션 자료/7주차/Week7_NN심화_lsb/Week7_NN심화_Assignment/'"
   ]
  },
  {
   "cell_type": "markdown",
   "metadata": {
    "id": "hGgljobEsCNS"
   },
   "source": [
    "# 데이터 확인"
   ]
  },
  {
   "cell_type": "markdown",
   "metadata": {
    "id": "MjOsDF5ctFWp"
   },
   "source": [
    "| Label | Description |\n",
    "| --- | --- |\n",
    "| 0 | T-shirt/top |\n",
    "| 1 | Trouser |\n",
    "| 2 | Pullover |\n",
    "| 3 | Dress |\n",
    "| 4 | Coat |\n",
    "| 5 | Sandal |\n",
    "| 6 | Shirt |\n",
    "| 7 | Sneaker |\n",
    "| 8 | Bag |\n",
    "| 9 | Ankle boot |\n",
    "\n",
    "데이터 출처: https://github.com/zalandoresearch/fashion-mnist"
   ]
  },
  {
   "cell_type": "code",
   "execution_count": 3,
   "metadata": {
    "id": "c-lUvrvnD4dZ"
   },
   "outputs": [],
   "source": [
    "Train = pd.read_csv(data_dir + 'Train.csv')\n",
    "Test = pd.read_csv(data_dir + 'Test.csv')\n",
    "submission = pd.read_csv(data_dir + 'submission.csv')"
   ]
  },
  {
   "cell_type": "code",
   "execution_count": 4,
   "metadata": {
    "colab": {
     "base_uri": "https://localhost:8080/",
     "height": 252
    },
    "id": "vdYd8mBLD4dm",
    "outputId": "8e871e1a-309b-49dc-84ca-21fec2b6e3fb"
   },
   "outputs": [
    {
     "data": {
      "text/html": [
       "<div>\n",
       "<style scoped>\n",
       "    .dataframe tbody tr th:only-of-type {\n",
       "        vertical-align: middle;\n",
       "    }\n",
       "\n",
       "    .dataframe tbody tr th {\n",
       "        vertical-align: top;\n",
       "    }\n",
       "\n",
       "    .dataframe thead th {\n",
       "        text-align: right;\n",
       "    }\n",
       "</style>\n",
       "<table border=\"1\" class=\"dataframe\">\n",
       "  <thead>\n",
       "    <tr style=\"text-align: right;\">\n",
       "      <th></th>\n",
       "      <th>0</th>\n",
       "      <th>1</th>\n",
       "      <th>2</th>\n",
       "      <th>3</th>\n",
       "      <th>4</th>\n",
       "      <th>5</th>\n",
       "      <th>6</th>\n",
       "      <th>7</th>\n",
       "      <th>8</th>\n",
       "      <th>9</th>\n",
       "      <th>10</th>\n",
       "      <th>11</th>\n",
       "      <th>12</th>\n",
       "      <th>13</th>\n",
       "      <th>14</th>\n",
       "      <th>15</th>\n",
       "      <th>16</th>\n",
       "      <th>17</th>\n",
       "      <th>18</th>\n",
       "      <th>19</th>\n",
       "      <th>20</th>\n",
       "      <th>21</th>\n",
       "      <th>22</th>\n",
       "      <th>23</th>\n",
       "      <th>24</th>\n",
       "      <th>25</th>\n",
       "      <th>26</th>\n",
       "      <th>27</th>\n",
       "      <th>28</th>\n",
       "      <th>29</th>\n",
       "      <th>30</th>\n",
       "      <th>31</th>\n",
       "      <th>32</th>\n",
       "      <th>33</th>\n",
       "      <th>34</th>\n",
       "      <th>35</th>\n",
       "      <th>36</th>\n",
       "      <th>37</th>\n",
       "      <th>38</th>\n",
       "      <th>39</th>\n",
       "      <th>...</th>\n",
       "      <th>745</th>\n",
       "      <th>746</th>\n",
       "      <th>747</th>\n",
       "      <th>748</th>\n",
       "      <th>749</th>\n",
       "      <th>750</th>\n",
       "      <th>751</th>\n",
       "      <th>752</th>\n",
       "      <th>753</th>\n",
       "      <th>754</th>\n",
       "      <th>755</th>\n",
       "      <th>756</th>\n",
       "      <th>757</th>\n",
       "      <th>758</th>\n",
       "      <th>759</th>\n",
       "      <th>760</th>\n",
       "      <th>761</th>\n",
       "      <th>762</th>\n",
       "      <th>763</th>\n",
       "      <th>764</th>\n",
       "      <th>765</th>\n",
       "      <th>766</th>\n",
       "      <th>767</th>\n",
       "      <th>768</th>\n",
       "      <th>769</th>\n",
       "      <th>770</th>\n",
       "      <th>771</th>\n",
       "      <th>772</th>\n",
       "      <th>773</th>\n",
       "      <th>774</th>\n",
       "      <th>775</th>\n",
       "      <th>776</th>\n",
       "      <th>777</th>\n",
       "      <th>778</th>\n",
       "      <th>779</th>\n",
       "      <th>780</th>\n",
       "      <th>781</th>\n",
       "      <th>782</th>\n",
       "      <th>783</th>\n",
       "      <th>label</th>\n",
       "    </tr>\n",
       "  </thead>\n",
       "  <tbody>\n",
       "    <tr>\n",
       "      <th>0</th>\n",
       "      <td>0</td>\n",
       "      <td>0</td>\n",
       "      <td>0</td>\n",
       "      <td>0</td>\n",
       "      <td>0</td>\n",
       "      <td>0</td>\n",
       "      <td>0</td>\n",
       "      <td>0</td>\n",
       "      <td>0</td>\n",
       "      <td>0</td>\n",
       "      <td>44</td>\n",
       "      <td>168</td>\n",
       "      <td>122</td>\n",
       "      <td>133</td>\n",
       "      <td>137</td>\n",
       "      <td>134</td>\n",
       "      <td>128</td>\n",
       "      <td>145</td>\n",
       "      <td>145</td>\n",
       "      <td>0</td>\n",
       "      <td>0</td>\n",
       "      <td>0</td>\n",
       "      <td>0</td>\n",
       "      <td>0</td>\n",
       "      <td>0</td>\n",
       "      <td>0</td>\n",
       "      <td>0</td>\n",
       "      <td>0</td>\n",
       "      <td>0</td>\n",
       "      <td>0</td>\n",
       "      <td>0</td>\n",
       "      <td>0</td>\n",
       "      <td>0</td>\n",
       "      <td>0</td>\n",
       "      <td>0</td>\n",
       "      <td>0</td>\n",
       "      <td>0</td>\n",
       "      <td>0</td>\n",
       "      <td>127</td>\n",
       "      <td>255</td>\n",
       "      <td>...</td>\n",
       "      <td>255</td>\n",
       "      <td>222</td>\n",
       "      <td>0</td>\n",
       "      <td>0</td>\n",
       "      <td>0</td>\n",
       "      <td>0</td>\n",
       "      <td>0</td>\n",
       "      <td>0</td>\n",
       "      <td>0</td>\n",
       "      <td>0</td>\n",
       "      <td>0</td>\n",
       "      <td>0</td>\n",
       "      <td>0</td>\n",
       "      <td>0</td>\n",
       "      <td>0</td>\n",
       "      <td>0</td>\n",
       "      <td>0</td>\n",
       "      <td>0</td>\n",
       "      <td>0</td>\n",
       "      <td>0</td>\n",
       "      <td>3</td>\n",
       "      <td>0</td>\n",
       "      <td>0</td>\n",
       "      <td>163</td>\n",
       "      <td>106</td>\n",
       "      <td>0</td>\n",
       "      <td>0</td>\n",
       "      <td>94</td>\n",
       "      <td>164</td>\n",
       "      <td>139</td>\n",
       "      <td>0</td>\n",
       "      <td>0</td>\n",
       "      <td>0</td>\n",
       "      <td>0</td>\n",
       "      <td>0</td>\n",
       "      <td>0</td>\n",
       "      <td>0</td>\n",
       "      <td>0</td>\n",
       "      <td>0</td>\n",
       "      <td>1</td>\n",
       "    </tr>\n",
       "    <tr>\n",
       "      <th>1</th>\n",
       "      <td>0</td>\n",
       "      <td>0</td>\n",
       "      <td>0</td>\n",
       "      <td>0</td>\n",
       "      <td>0</td>\n",
       "      <td>0</td>\n",
       "      <td>0</td>\n",
       "      <td>0</td>\n",
       "      <td>0</td>\n",
       "      <td>0</td>\n",
       "      <td>100</td>\n",
       "      <td>198</td>\n",
       "      <td>119</td>\n",
       "      <td>40</td>\n",
       "      <td>0</td>\n",
       "      <td>67</td>\n",
       "      <td>147</td>\n",
       "      <td>190</td>\n",
       "      <td>102</td>\n",
       "      <td>9</td>\n",
       "      <td>0</td>\n",
       "      <td>0</td>\n",
       "      <td>0</td>\n",
       "      <td>0</td>\n",
       "      <td>0</td>\n",
       "      <td>0</td>\n",
       "      <td>0</td>\n",
       "      <td>0</td>\n",
       "      <td>0</td>\n",
       "      <td>0</td>\n",
       "      <td>0</td>\n",
       "      <td>0</td>\n",
       "      <td>0</td>\n",
       "      <td>0</td>\n",
       "      <td>0</td>\n",
       "      <td>0</td>\n",
       "      <td>0</td>\n",
       "      <td>176</td>\n",
       "      <td>162</td>\n",
       "      <td>181</td>\n",
       "      <td>...</td>\n",
       "      <td>212</td>\n",
       "      <td>244</td>\n",
       "      <td>100</td>\n",
       "      <td>0</td>\n",
       "      <td>3</td>\n",
       "      <td>0</td>\n",
       "      <td>0</td>\n",
       "      <td>0</td>\n",
       "      <td>0</td>\n",
       "      <td>0</td>\n",
       "      <td>0</td>\n",
       "      <td>0</td>\n",
       "      <td>0</td>\n",
       "      <td>0</td>\n",
       "      <td>0</td>\n",
       "      <td>0</td>\n",
       "      <td>0</td>\n",
       "      <td>0</td>\n",
       "      <td>0</td>\n",
       "      <td>0</td>\n",
       "      <td>9</td>\n",
       "      <td>185</td>\n",
       "      <td>206</td>\n",
       "      <td>194</td>\n",
       "      <td>190</td>\n",
       "      <td>188</td>\n",
       "      <td>166</td>\n",
       "      <td>161</td>\n",
       "      <td>154</td>\n",
       "      <td>169</td>\n",
       "      <td>0</td>\n",
       "      <td>0</td>\n",
       "      <td>0</td>\n",
       "      <td>0</td>\n",
       "      <td>0</td>\n",
       "      <td>0</td>\n",
       "      <td>0</td>\n",
       "      <td>0</td>\n",
       "      <td>0</td>\n",
       "      <td>3</td>\n",
       "    </tr>\n",
       "    <tr>\n",
       "      <th>2</th>\n",
       "      <td>0</td>\n",
       "      <td>0</td>\n",
       "      <td>0</td>\n",
       "      <td>0</td>\n",
       "      <td>0</td>\n",
       "      <td>0</td>\n",
       "      <td>0</td>\n",
       "      <td>0</td>\n",
       "      <td>0</td>\n",
       "      <td>0</td>\n",
       "      <td>0</td>\n",
       "      <td>0</td>\n",
       "      <td>0</td>\n",
       "      <td>0</td>\n",
       "      <td>0</td>\n",
       "      <td>0</td>\n",
       "      <td>0</td>\n",
       "      <td>0</td>\n",
       "      <td>0</td>\n",
       "      <td>0</td>\n",
       "      <td>0</td>\n",
       "      <td>0</td>\n",
       "      <td>0</td>\n",
       "      <td>0</td>\n",
       "      <td>0</td>\n",
       "      <td>0</td>\n",
       "      <td>0</td>\n",
       "      <td>0</td>\n",
       "      <td>0</td>\n",
       "      <td>0</td>\n",
       "      <td>0</td>\n",
       "      <td>0</td>\n",
       "      <td>0</td>\n",
       "      <td>0</td>\n",
       "      <td>0</td>\n",
       "      <td>0</td>\n",
       "      <td>0</td>\n",
       "      <td>0</td>\n",
       "      <td>0</td>\n",
       "      <td>0</td>\n",
       "      <td>...</td>\n",
       "      <td>0</td>\n",
       "      <td>0</td>\n",
       "      <td>0</td>\n",
       "      <td>0</td>\n",
       "      <td>0</td>\n",
       "      <td>0</td>\n",
       "      <td>0</td>\n",
       "      <td>0</td>\n",
       "      <td>0</td>\n",
       "      <td>0</td>\n",
       "      <td>0</td>\n",
       "      <td>0</td>\n",
       "      <td>0</td>\n",
       "      <td>0</td>\n",
       "      <td>0</td>\n",
       "      <td>0</td>\n",
       "      <td>0</td>\n",
       "      <td>0</td>\n",
       "      <td>0</td>\n",
       "      <td>0</td>\n",
       "      <td>0</td>\n",
       "      <td>0</td>\n",
       "      <td>0</td>\n",
       "      <td>0</td>\n",
       "      <td>0</td>\n",
       "      <td>0</td>\n",
       "      <td>0</td>\n",
       "      <td>0</td>\n",
       "      <td>0</td>\n",
       "      <td>0</td>\n",
       "      <td>0</td>\n",
       "      <td>0</td>\n",
       "      <td>0</td>\n",
       "      <td>0</td>\n",
       "      <td>0</td>\n",
       "      <td>0</td>\n",
       "      <td>0</td>\n",
       "      <td>0</td>\n",
       "      <td>0</td>\n",
       "      <td>8</td>\n",
       "    </tr>\n",
       "    <tr>\n",
       "      <th>3</th>\n",
       "      <td>0</td>\n",
       "      <td>0</td>\n",
       "      <td>0</td>\n",
       "      <td>0</td>\n",
       "      <td>0</td>\n",
       "      <td>0</td>\n",
       "      <td>0</td>\n",
       "      <td>0</td>\n",
       "      <td>0</td>\n",
       "      <td>0</td>\n",
       "      <td>0</td>\n",
       "      <td>0</td>\n",
       "      <td>0</td>\n",
       "      <td>0</td>\n",
       "      <td>0</td>\n",
       "      <td>0</td>\n",
       "      <td>0</td>\n",
       "      <td>0</td>\n",
       "      <td>0</td>\n",
       "      <td>0</td>\n",
       "      <td>0</td>\n",
       "      <td>0</td>\n",
       "      <td>0</td>\n",
       "      <td>0</td>\n",
       "      <td>0</td>\n",
       "      <td>0</td>\n",
       "      <td>0</td>\n",
       "      <td>0</td>\n",
       "      <td>0</td>\n",
       "      <td>0</td>\n",
       "      <td>0</td>\n",
       "      <td>0</td>\n",
       "      <td>0</td>\n",
       "      <td>0</td>\n",
       "      <td>0</td>\n",
       "      <td>0</td>\n",
       "      <td>0</td>\n",
       "      <td>0</td>\n",
       "      <td>0</td>\n",
       "      <td>0</td>\n",
       "      <td>...</td>\n",
       "      <td>0</td>\n",
       "      <td>0</td>\n",
       "      <td>0</td>\n",
       "      <td>0</td>\n",
       "      <td>0</td>\n",
       "      <td>0</td>\n",
       "      <td>0</td>\n",
       "      <td>0</td>\n",
       "      <td>0</td>\n",
       "      <td>0</td>\n",
       "      <td>0</td>\n",
       "      <td>0</td>\n",
       "      <td>0</td>\n",
       "      <td>0</td>\n",
       "      <td>0</td>\n",
       "      <td>0</td>\n",
       "      <td>0</td>\n",
       "      <td>0</td>\n",
       "      <td>0</td>\n",
       "      <td>0</td>\n",
       "      <td>0</td>\n",
       "      <td>0</td>\n",
       "      <td>0</td>\n",
       "      <td>0</td>\n",
       "      <td>0</td>\n",
       "      <td>0</td>\n",
       "      <td>0</td>\n",
       "      <td>0</td>\n",
       "      <td>0</td>\n",
       "      <td>0</td>\n",
       "      <td>0</td>\n",
       "      <td>0</td>\n",
       "      <td>0</td>\n",
       "      <td>0</td>\n",
       "      <td>0</td>\n",
       "      <td>0</td>\n",
       "      <td>0</td>\n",
       "      <td>0</td>\n",
       "      <td>0</td>\n",
       "      <td>7</td>\n",
       "    </tr>\n",
       "    <tr>\n",
       "      <th>4</th>\n",
       "      <td>0</td>\n",
       "      <td>0</td>\n",
       "      <td>0</td>\n",
       "      <td>0</td>\n",
       "      <td>0</td>\n",
       "      <td>0</td>\n",
       "      <td>0</td>\n",
       "      <td>0</td>\n",
       "      <td>0</td>\n",
       "      <td>0</td>\n",
       "      <td>0</td>\n",
       "      <td>0</td>\n",
       "      <td>0</td>\n",
       "      <td>0</td>\n",
       "      <td>0</td>\n",
       "      <td>0</td>\n",
       "      <td>0</td>\n",
       "      <td>0</td>\n",
       "      <td>0</td>\n",
       "      <td>0</td>\n",
       "      <td>0</td>\n",
       "      <td>0</td>\n",
       "      <td>0</td>\n",
       "      <td>0</td>\n",
       "      <td>0</td>\n",
       "      <td>0</td>\n",
       "      <td>0</td>\n",
       "      <td>0</td>\n",
       "      <td>0</td>\n",
       "      <td>0</td>\n",
       "      <td>0</td>\n",
       "      <td>0</td>\n",
       "      <td>0</td>\n",
       "      <td>0</td>\n",
       "      <td>0</td>\n",
       "      <td>0</td>\n",
       "      <td>0</td>\n",
       "      <td>0</td>\n",
       "      <td>0</td>\n",
       "      <td>0</td>\n",
       "      <td>...</td>\n",
       "      <td>0</td>\n",
       "      <td>0</td>\n",
       "      <td>0</td>\n",
       "      <td>0</td>\n",
       "      <td>0</td>\n",
       "      <td>0</td>\n",
       "      <td>0</td>\n",
       "      <td>0</td>\n",
       "      <td>0</td>\n",
       "      <td>0</td>\n",
       "      <td>0</td>\n",
       "      <td>0</td>\n",
       "      <td>0</td>\n",
       "      <td>0</td>\n",
       "      <td>0</td>\n",
       "      <td>0</td>\n",
       "      <td>0</td>\n",
       "      <td>0</td>\n",
       "      <td>0</td>\n",
       "      <td>0</td>\n",
       "      <td>0</td>\n",
       "      <td>0</td>\n",
       "      <td>0</td>\n",
       "      <td>0</td>\n",
       "      <td>0</td>\n",
       "      <td>0</td>\n",
       "      <td>0</td>\n",
       "      <td>0</td>\n",
       "      <td>0</td>\n",
       "      <td>0</td>\n",
       "      <td>0</td>\n",
       "      <td>0</td>\n",
       "      <td>0</td>\n",
       "      <td>0</td>\n",
       "      <td>0</td>\n",
       "      <td>0</td>\n",
       "      <td>0</td>\n",
       "      <td>0</td>\n",
       "      <td>0</td>\n",
       "      <td>5</td>\n",
       "    </tr>\n",
       "  </tbody>\n",
       "</table>\n",
       "<p>5 rows × 785 columns</p>\n",
       "</div>"
      ],
      "text/plain": [
       "   0  1  2  3  4  5  6  7  8  ...  776  777  778  779  780  781  782  783  label\n",
       "0  0  0  0  0  0  0  0  0  0  ...    0    0    0    0    0    0    0    0      1\n",
       "1  0  0  0  0  0  0  0  0  0  ...    0    0    0    0    0    0    0    0      3\n",
       "2  0  0  0  0  0  0  0  0  0  ...    0    0    0    0    0    0    0    0      8\n",
       "3  0  0  0  0  0  0  0  0  0  ...    0    0    0    0    0    0    0    0      7\n",
       "4  0  0  0  0  0  0  0  0  0  ...    0    0    0    0    0    0    0    0      5\n",
       "\n",
       "[5 rows x 785 columns]"
      ]
     },
     "execution_count": 4,
     "metadata": {},
     "output_type": "execute_result"
    }
   ],
   "source": [
    "Train.head()"
   ]
  },
  {
   "cell_type": "code",
   "execution_count": 8,
   "metadata": {
    "colab": {
     "base_uri": "https://localhost:8080/"
    },
    "id": "yGqmzvAaD4dm",
    "outputId": "10588a0b-59ef-491e-fc20-4a988ad18752"
   },
   "outputs": [
    {
     "name": "stdout",
     "output_type": "stream",
     "text": [
      "10\n",
      "(59500, 785)\n"
     ]
    }
   ],
   "source": [
    "print(Train['label'].nunique())\n",
    "print(Train.shape)"
   ]
  },
  {
   "cell_type": "code",
   "execution_count": 9,
   "metadata": {
    "colab": {
     "base_uri": "https://localhost:8080/",
     "height": 270
    },
    "id": "W00Ns-tfD4dm",
    "outputId": "15fb478c-10fb-4799-be4b-16b605dd8be9"
   },
   "outputs": [
    {
     "name": "stdout",
     "output_type": "stream",
     "text": [
      "(10500, 784)\n"
     ]
    },
    {
     "data": {
      "text/html": [
       "<div>\n",
       "<style scoped>\n",
       "    .dataframe tbody tr th:only-of-type {\n",
       "        vertical-align: middle;\n",
       "    }\n",
       "\n",
       "    .dataframe tbody tr th {\n",
       "        vertical-align: top;\n",
       "    }\n",
       "\n",
       "    .dataframe thead th {\n",
       "        text-align: right;\n",
       "    }\n",
       "</style>\n",
       "<table border=\"1\" class=\"dataframe\">\n",
       "  <thead>\n",
       "    <tr style=\"text-align: right;\">\n",
       "      <th></th>\n",
       "      <th>0</th>\n",
       "      <th>1</th>\n",
       "      <th>2</th>\n",
       "      <th>3</th>\n",
       "      <th>4</th>\n",
       "      <th>5</th>\n",
       "      <th>6</th>\n",
       "      <th>7</th>\n",
       "      <th>8</th>\n",
       "      <th>9</th>\n",
       "      <th>10</th>\n",
       "      <th>11</th>\n",
       "      <th>12</th>\n",
       "      <th>13</th>\n",
       "      <th>14</th>\n",
       "      <th>15</th>\n",
       "      <th>16</th>\n",
       "      <th>17</th>\n",
       "      <th>18</th>\n",
       "      <th>19</th>\n",
       "      <th>20</th>\n",
       "      <th>21</th>\n",
       "      <th>22</th>\n",
       "      <th>23</th>\n",
       "      <th>24</th>\n",
       "      <th>25</th>\n",
       "      <th>26</th>\n",
       "      <th>27</th>\n",
       "      <th>28</th>\n",
       "      <th>29</th>\n",
       "      <th>30</th>\n",
       "      <th>31</th>\n",
       "      <th>32</th>\n",
       "      <th>33</th>\n",
       "      <th>34</th>\n",
       "      <th>35</th>\n",
       "      <th>36</th>\n",
       "      <th>37</th>\n",
       "      <th>38</th>\n",
       "      <th>39</th>\n",
       "      <th>...</th>\n",
       "      <th>744</th>\n",
       "      <th>745</th>\n",
       "      <th>746</th>\n",
       "      <th>747</th>\n",
       "      <th>748</th>\n",
       "      <th>749</th>\n",
       "      <th>750</th>\n",
       "      <th>751</th>\n",
       "      <th>752</th>\n",
       "      <th>753</th>\n",
       "      <th>754</th>\n",
       "      <th>755</th>\n",
       "      <th>756</th>\n",
       "      <th>757</th>\n",
       "      <th>758</th>\n",
       "      <th>759</th>\n",
       "      <th>760</th>\n",
       "      <th>761</th>\n",
       "      <th>762</th>\n",
       "      <th>763</th>\n",
       "      <th>764</th>\n",
       "      <th>765</th>\n",
       "      <th>766</th>\n",
       "      <th>767</th>\n",
       "      <th>768</th>\n",
       "      <th>769</th>\n",
       "      <th>770</th>\n",
       "      <th>771</th>\n",
       "      <th>772</th>\n",
       "      <th>773</th>\n",
       "      <th>774</th>\n",
       "      <th>775</th>\n",
       "      <th>776</th>\n",
       "      <th>777</th>\n",
       "      <th>778</th>\n",
       "      <th>779</th>\n",
       "      <th>780</th>\n",
       "      <th>781</th>\n",
       "      <th>782</th>\n",
       "      <th>783</th>\n",
       "    </tr>\n",
       "  </thead>\n",
       "  <tbody>\n",
       "    <tr>\n",
       "      <th>0</th>\n",
       "      <td>0</td>\n",
       "      <td>0</td>\n",
       "      <td>0</td>\n",
       "      <td>0</td>\n",
       "      <td>0</td>\n",
       "      <td>0</td>\n",
       "      <td>0</td>\n",
       "      <td>0</td>\n",
       "      <td>0</td>\n",
       "      <td>0</td>\n",
       "      <td>0</td>\n",
       "      <td>0</td>\n",
       "      <td>42</td>\n",
       "      <td>0</td>\n",
       "      <td>0</td>\n",
       "      <td>8</td>\n",
       "      <td>5</td>\n",
       "      <td>0</td>\n",
       "      <td>0</td>\n",
       "      <td>0</td>\n",
       "      <td>0</td>\n",
       "      <td>0</td>\n",
       "      <td>0</td>\n",
       "      <td>0</td>\n",
       "      <td>0</td>\n",
       "      <td>0</td>\n",
       "      <td>0</td>\n",
       "      <td>0</td>\n",
       "      <td>0</td>\n",
       "      <td>0</td>\n",
       "      <td>0</td>\n",
       "      <td>0</td>\n",
       "      <td>0</td>\n",
       "      <td>0</td>\n",
       "      <td>0</td>\n",
       "      <td>2</td>\n",
       "      <td>0</td>\n",
       "      <td>0</td>\n",
       "      <td>0</td>\n",
       "      <td>8</td>\n",
       "      <td>...</td>\n",
       "      <td>142</td>\n",
       "      <td>155</td>\n",
       "      <td>161</td>\n",
       "      <td>158</td>\n",
       "      <td>0</td>\n",
       "      <td>0</td>\n",
       "      <td>64</td>\n",
       "      <td>59</td>\n",
       "      <td>0</td>\n",
       "      <td>0</td>\n",
       "      <td>0</td>\n",
       "      <td>0</td>\n",
       "      <td>0</td>\n",
       "      <td>0</td>\n",
       "      <td>0</td>\n",
       "      <td>0</td>\n",
       "      <td>0</td>\n",
       "      <td>0</td>\n",
       "      <td>0</td>\n",
       "      <td>0</td>\n",
       "      <td>0</td>\n",
       "      <td>0</td>\n",
       "      <td>37</td>\n",
       "      <td>110</td>\n",
       "      <td>120</td>\n",
       "      <td>115</td>\n",
       "      <td>134</td>\n",
       "      <td>136</td>\n",
       "      <td>136</td>\n",
       "      <td>123</td>\n",
       "      <td>67</td>\n",
       "      <td>0</td>\n",
       "      <td>0</td>\n",
       "      <td>0</td>\n",
       "      <td>0</td>\n",
       "      <td>0</td>\n",
       "      <td>0</td>\n",
       "      <td>0</td>\n",
       "      <td>0</td>\n",
       "      <td>0</td>\n",
       "    </tr>\n",
       "    <tr>\n",
       "      <th>1</th>\n",
       "      <td>0</td>\n",
       "      <td>0</td>\n",
       "      <td>0</td>\n",
       "      <td>0</td>\n",
       "      <td>0</td>\n",
       "      <td>0</td>\n",
       "      <td>0</td>\n",
       "      <td>1</td>\n",
       "      <td>2</td>\n",
       "      <td>0</td>\n",
       "      <td>0</td>\n",
       "      <td>13</td>\n",
       "      <td>13</td>\n",
       "      <td>0</td>\n",
       "      <td>6</td>\n",
       "      <td>73</td>\n",
       "      <td>13</td>\n",
       "      <td>0</td>\n",
       "      <td>0</td>\n",
       "      <td>2</td>\n",
       "      <td>2</td>\n",
       "      <td>2</td>\n",
       "      <td>1</td>\n",
       "      <td>0</td>\n",
       "      <td>0</td>\n",
       "      <td>0</td>\n",
       "      <td>0</td>\n",
       "      <td>0</td>\n",
       "      <td>0</td>\n",
       "      <td>0</td>\n",
       "      <td>0</td>\n",
       "      <td>0</td>\n",
       "      <td>0</td>\n",
       "      <td>2</td>\n",
       "      <td>1</td>\n",
       "      <td>0</td>\n",
       "      <td>0</td>\n",
       "      <td>1</td>\n",
       "      <td>14</td>\n",
       "      <td>8</td>\n",
       "      <td>...</td>\n",
       "      <td>174</td>\n",
       "      <td>165</td>\n",
       "      <td>118</td>\n",
       "      <td>4</td>\n",
       "      <td>0</td>\n",
       "      <td>1</td>\n",
       "      <td>0</td>\n",
       "      <td>0</td>\n",
       "      <td>0</td>\n",
       "      <td>0</td>\n",
       "      <td>0</td>\n",
       "      <td>0</td>\n",
       "      <td>0</td>\n",
       "      <td>0</td>\n",
       "      <td>0</td>\n",
       "      <td>0</td>\n",
       "      <td>0</td>\n",
       "      <td>0</td>\n",
       "      <td>0</td>\n",
       "      <td>0</td>\n",
       "      <td>0</td>\n",
       "      <td>0</td>\n",
       "      <td>0</td>\n",
       "      <td>0</td>\n",
       "      <td>47</td>\n",
       "      <td>80</td>\n",
       "      <td>46</td>\n",
       "      <td>24</td>\n",
       "      <td>9</td>\n",
       "      <td>1</td>\n",
       "      <td>0</td>\n",
       "      <td>0</td>\n",
       "      <td>1</td>\n",
       "      <td>0</td>\n",
       "      <td>0</td>\n",
       "      <td>0</td>\n",
       "      <td>0</td>\n",
       "      <td>0</td>\n",
       "      <td>0</td>\n",
       "      <td>0</td>\n",
       "    </tr>\n",
       "    <tr>\n",
       "      <th>2</th>\n",
       "      <td>0</td>\n",
       "      <td>0</td>\n",
       "      <td>0</td>\n",
       "      <td>0</td>\n",
       "      <td>0</td>\n",
       "      <td>0</td>\n",
       "      <td>0</td>\n",
       "      <td>0</td>\n",
       "      <td>0</td>\n",
       "      <td>0</td>\n",
       "      <td>0</td>\n",
       "      <td>24</td>\n",
       "      <td>154</td>\n",
       "      <td>138</td>\n",
       "      <td>117</td>\n",
       "      <td>147</td>\n",
       "      <td>255</td>\n",
       "      <td>28</td>\n",
       "      <td>0</td>\n",
       "      <td>1</td>\n",
       "      <td>0</td>\n",
       "      <td>0</td>\n",
       "      <td>0</td>\n",
       "      <td>0</td>\n",
       "      <td>0</td>\n",
       "      <td>0</td>\n",
       "      <td>0</td>\n",
       "      <td>0</td>\n",
       "      <td>0</td>\n",
       "      <td>0</td>\n",
       "      <td>0</td>\n",
       "      <td>0</td>\n",
       "      <td>0</td>\n",
       "      <td>0</td>\n",
       "      <td>0</td>\n",
       "      <td>7</td>\n",
       "      <td>27</td>\n",
       "      <td>43</td>\n",
       "      <td>48</td>\n",
       "      <td>31</td>\n",
       "      <td>...</td>\n",
       "      <td>94</td>\n",
       "      <td>84</td>\n",
       "      <td>51</td>\n",
       "      <td>46</td>\n",
       "      <td>84</td>\n",
       "      <td>52</td>\n",
       "      <td>0</td>\n",
       "      <td>0</td>\n",
       "      <td>0</td>\n",
       "      <td>0</td>\n",
       "      <td>0</td>\n",
       "      <td>0</td>\n",
       "      <td>0</td>\n",
       "      <td>0</td>\n",
       "      <td>0</td>\n",
       "      <td>0</td>\n",
       "      <td>0</td>\n",
       "      <td>0</td>\n",
       "      <td>0</td>\n",
       "      <td>97</td>\n",
       "      <td>177</td>\n",
       "      <td>157</td>\n",
       "      <td>96</td>\n",
       "      <td>79</td>\n",
       "      <td>87</td>\n",
       "      <td>99</td>\n",
       "      <td>85</td>\n",
       "      <td>100</td>\n",
       "      <td>100</td>\n",
       "      <td>114</td>\n",
       "      <td>93</td>\n",
       "      <td>58</td>\n",
       "      <td>78</td>\n",
       "      <td>45</td>\n",
       "      <td>0</td>\n",
       "      <td>0</td>\n",
       "      <td>0</td>\n",
       "      <td>0</td>\n",
       "      <td>0</td>\n",
       "      <td>0</td>\n",
       "    </tr>\n",
       "    <tr>\n",
       "      <th>3</th>\n",
       "      <td>0</td>\n",
       "      <td>0</td>\n",
       "      <td>0</td>\n",
       "      <td>0</td>\n",
       "      <td>0</td>\n",
       "      <td>0</td>\n",
       "      <td>0</td>\n",
       "      <td>0</td>\n",
       "      <td>0</td>\n",
       "      <td>0</td>\n",
       "      <td>0</td>\n",
       "      <td>0</td>\n",
       "      <td>83</td>\n",
       "      <td>128</td>\n",
       "      <td>117</td>\n",
       "      <td>109</td>\n",
       "      <td>51</td>\n",
       "      <td>0</td>\n",
       "      <td>0</td>\n",
       "      <td>0</td>\n",
       "      <td>0</td>\n",
       "      <td>0</td>\n",
       "      <td>0</td>\n",
       "      <td>0</td>\n",
       "      <td>0</td>\n",
       "      <td>0</td>\n",
       "      <td>0</td>\n",
       "      <td>0</td>\n",
       "      <td>0</td>\n",
       "      <td>0</td>\n",
       "      <td>0</td>\n",
       "      <td>0</td>\n",
       "      <td>0</td>\n",
       "      <td>0</td>\n",
       "      <td>0</td>\n",
       "      <td>1</td>\n",
       "      <td>0</td>\n",
       "      <td>0</td>\n",
       "      <td>0</td>\n",
       "      <td>100</td>\n",
       "      <td>...</td>\n",
       "      <td>194</td>\n",
       "      <td>197</td>\n",
       "      <td>206</td>\n",
       "      <td>24</td>\n",
       "      <td>113</td>\n",
       "      <td>10</td>\n",
       "      <td>0</td>\n",
       "      <td>2</td>\n",
       "      <td>0</td>\n",
       "      <td>0</td>\n",
       "      <td>0</td>\n",
       "      <td>0</td>\n",
       "      <td>0</td>\n",
       "      <td>0</td>\n",
       "      <td>0</td>\n",
       "      <td>0</td>\n",
       "      <td>0</td>\n",
       "      <td>0</td>\n",
       "      <td>0</td>\n",
       "      <td>0</td>\n",
       "      <td>0</td>\n",
       "      <td>0</td>\n",
       "      <td>57</td>\n",
       "      <td>86</td>\n",
       "      <td>85</td>\n",
       "      <td>115</td>\n",
       "      <td>96</td>\n",
       "      <td>107</td>\n",
       "      <td>110</td>\n",
       "      <td>98</td>\n",
       "      <td>71</td>\n",
       "      <td>0</td>\n",
       "      <td>0</td>\n",
       "      <td>0</td>\n",
       "      <td>0</td>\n",
       "      <td>0</td>\n",
       "      <td>0</td>\n",
       "      <td>0</td>\n",
       "      <td>0</td>\n",
       "      <td>0</td>\n",
       "    </tr>\n",
       "    <tr>\n",
       "      <th>4</th>\n",
       "      <td>0</td>\n",
       "      <td>0</td>\n",
       "      <td>0</td>\n",
       "      <td>0</td>\n",
       "      <td>0</td>\n",
       "      <td>0</td>\n",
       "      <td>0</td>\n",
       "      <td>0</td>\n",
       "      <td>0</td>\n",
       "      <td>0</td>\n",
       "      <td>57</td>\n",
       "      <td>0</td>\n",
       "      <td>0</td>\n",
       "      <td>0</td>\n",
       "      <td>0</td>\n",
       "      <td>0</td>\n",
       "      <td>48</td>\n",
       "      <td>16</td>\n",
       "      <td>0</td>\n",
       "      <td>2</td>\n",
       "      <td>0</td>\n",
       "      <td>0</td>\n",
       "      <td>0</td>\n",
       "      <td>0</td>\n",
       "      <td>0</td>\n",
       "      <td>0</td>\n",
       "      <td>0</td>\n",
       "      <td>0</td>\n",
       "      <td>0</td>\n",
       "      <td>0</td>\n",
       "      <td>0</td>\n",
       "      <td>0</td>\n",
       "      <td>0</td>\n",
       "      <td>0</td>\n",
       "      <td>0</td>\n",
       "      <td>1</td>\n",
       "      <td>0</td>\n",
       "      <td>0</td>\n",
       "      <td>157</td>\n",
       "      <td>117</td>\n",
       "      <td>...</td>\n",
       "      <td>0</td>\n",
       "      <td>1</td>\n",
       "      <td>0</td>\n",
       "      <td>18</td>\n",
       "      <td>223</td>\n",
       "      <td>5</td>\n",
       "      <td>0</td>\n",
       "      <td>0</td>\n",
       "      <td>0</td>\n",
       "      <td>0</td>\n",
       "      <td>0</td>\n",
       "      <td>0</td>\n",
       "      <td>0</td>\n",
       "      <td>0</td>\n",
       "      <td>0</td>\n",
       "      <td>0</td>\n",
       "      <td>0</td>\n",
       "      <td>0</td>\n",
       "      <td>45</td>\n",
       "      <td>44</td>\n",
       "      <td>0</td>\n",
       "      <td>5</td>\n",
       "      <td>0</td>\n",
       "      <td>0</td>\n",
       "      <td>0</td>\n",
       "      <td>0</td>\n",
       "      <td>0</td>\n",
       "      <td>0</td>\n",
       "      <td>0</td>\n",
       "      <td>1</td>\n",
       "      <td>0</td>\n",
       "      <td>0</td>\n",
       "      <td>63</td>\n",
       "      <td>0</td>\n",
       "      <td>0</td>\n",
       "      <td>0</td>\n",
       "      <td>0</td>\n",
       "      <td>0</td>\n",
       "      <td>0</td>\n",
       "      <td>0</td>\n",
       "    </tr>\n",
       "  </tbody>\n",
       "</table>\n",
       "<p>5 rows × 784 columns</p>\n",
       "</div>"
      ],
      "text/plain": [
       "   0  1  2  3  4  5  6  7  8  ...  775  776  777  778  779  780  781  782  783\n",
       "0  0  0  0  0  0  0  0  0  0  ...    0    0    0    0    0    0    0    0    0\n",
       "1  0  0  0  0  0  0  0  1  2  ...    0    1    0    0    0    0    0    0    0\n",
       "2  0  0  0  0  0  0  0  0  0  ...   58   78   45    0    0    0    0    0    0\n",
       "3  0  0  0  0  0  0  0  0  0  ...    0    0    0    0    0    0    0    0    0\n",
       "4  0  0  0  0  0  0  0  0  0  ...    0   63    0    0    0    0    0    0    0\n",
       "\n",
       "[5 rows x 784 columns]"
      ]
     },
     "execution_count": 9,
     "metadata": {},
     "output_type": "execute_result"
    }
   ],
   "source": [
    "print(Test.shape)\n",
    "Test.head()"
   ]
  },
  {
   "cell_type": "code",
   "execution_count": 10,
   "metadata": {
    "colab": {
     "base_uri": "https://localhost:8080/",
     "height": 221
    },
    "id": "XrLqBXWKD4dn",
    "outputId": "110f7905-174b-413c-c14b-96f07da18b30"
   },
   "outputs": [
    {
     "name": "stdout",
     "output_type": "stream",
     "text": [
      "(10500, 2)\n"
     ]
    },
    {
     "data": {
      "text/html": [
       "<div>\n",
       "<style scoped>\n",
       "    .dataframe tbody tr th:only-of-type {\n",
       "        vertical-align: middle;\n",
       "    }\n",
       "\n",
       "    .dataframe tbody tr th {\n",
       "        vertical-align: top;\n",
       "    }\n",
       "\n",
       "    .dataframe thead th {\n",
       "        text-align: right;\n",
       "    }\n",
       "</style>\n",
       "<table border=\"1\" class=\"dataframe\">\n",
       "  <thead>\n",
       "    <tr style=\"text-align: right;\">\n",
       "      <th></th>\n",
       "      <th>id</th>\n",
       "      <th>label</th>\n",
       "    </tr>\n",
       "  </thead>\n",
       "  <tbody>\n",
       "    <tr>\n",
       "      <th>0</th>\n",
       "      <td>0</td>\n",
       "      <td>0</td>\n",
       "    </tr>\n",
       "    <tr>\n",
       "      <th>1</th>\n",
       "      <td>1</td>\n",
       "      <td>0</td>\n",
       "    </tr>\n",
       "    <tr>\n",
       "      <th>2</th>\n",
       "      <td>2</td>\n",
       "      <td>0</td>\n",
       "    </tr>\n",
       "    <tr>\n",
       "      <th>3</th>\n",
       "      <td>3</td>\n",
       "      <td>0</td>\n",
       "    </tr>\n",
       "    <tr>\n",
       "      <th>4</th>\n",
       "      <td>4</td>\n",
       "      <td>0</td>\n",
       "    </tr>\n",
       "  </tbody>\n",
       "</table>\n",
       "</div>"
      ],
      "text/plain": [
       "   id  label\n",
       "0   0      0\n",
       "1   1      0\n",
       "2   2      0\n",
       "3   3      0\n",
       "4   4      0"
      ]
     },
     "execution_count": 10,
     "metadata": {},
     "output_type": "execute_result"
    }
   ],
   "source": [
    "print(submission.shape)\n",
    "submission.head()"
   ]
  },
  {
   "cell_type": "code",
   "execution_count": 11,
   "metadata": {
    "colab": {
     "base_uri": "https://localhost:8080/",
     "height": 252
    },
    "id": "qzA34937ss3T",
    "outputId": "cd3359ac-d274-43ba-f610-103da779cb18"
   },
   "outputs": [
    {
     "data": {
      "text/html": [
       "<div>\n",
       "<style scoped>\n",
       "    .dataframe tbody tr th:only-of-type {\n",
       "        vertical-align: middle;\n",
       "    }\n",
       "\n",
       "    .dataframe tbody tr th {\n",
       "        vertical-align: top;\n",
       "    }\n",
       "\n",
       "    .dataframe thead th {\n",
       "        text-align: right;\n",
       "    }\n",
       "</style>\n",
       "<table border=\"1\" class=\"dataframe\">\n",
       "  <thead>\n",
       "    <tr style=\"text-align: right;\">\n",
       "      <th></th>\n",
       "      <th>0</th>\n",
       "      <th>1</th>\n",
       "      <th>2</th>\n",
       "      <th>3</th>\n",
       "      <th>4</th>\n",
       "      <th>5</th>\n",
       "      <th>6</th>\n",
       "      <th>7</th>\n",
       "      <th>8</th>\n",
       "      <th>9</th>\n",
       "      <th>10</th>\n",
       "      <th>11</th>\n",
       "      <th>12</th>\n",
       "      <th>13</th>\n",
       "      <th>14</th>\n",
       "      <th>15</th>\n",
       "      <th>16</th>\n",
       "      <th>17</th>\n",
       "      <th>18</th>\n",
       "      <th>19</th>\n",
       "      <th>20</th>\n",
       "      <th>21</th>\n",
       "      <th>22</th>\n",
       "      <th>23</th>\n",
       "      <th>24</th>\n",
       "      <th>25</th>\n",
       "      <th>26</th>\n",
       "      <th>27</th>\n",
       "      <th>28</th>\n",
       "      <th>29</th>\n",
       "      <th>30</th>\n",
       "      <th>31</th>\n",
       "      <th>32</th>\n",
       "      <th>33</th>\n",
       "      <th>34</th>\n",
       "      <th>35</th>\n",
       "      <th>36</th>\n",
       "      <th>37</th>\n",
       "      <th>38</th>\n",
       "      <th>39</th>\n",
       "      <th>...</th>\n",
       "      <th>745</th>\n",
       "      <th>746</th>\n",
       "      <th>747</th>\n",
       "      <th>748</th>\n",
       "      <th>749</th>\n",
       "      <th>750</th>\n",
       "      <th>751</th>\n",
       "      <th>752</th>\n",
       "      <th>753</th>\n",
       "      <th>754</th>\n",
       "      <th>755</th>\n",
       "      <th>756</th>\n",
       "      <th>757</th>\n",
       "      <th>758</th>\n",
       "      <th>759</th>\n",
       "      <th>760</th>\n",
       "      <th>761</th>\n",
       "      <th>762</th>\n",
       "      <th>763</th>\n",
       "      <th>764</th>\n",
       "      <th>765</th>\n",
       "      <th>766</th>\n",
       "      <th>767</th>\n",
       "      <th>768</th>\n",
       "      <th>769</th>\n",
       "      <th>770</th>\n",
       "      <th>771</th>\n",
       "      <th>772</th>\n",
       "      <th>773</th>\n",
       "      <th>774</th>\n",
       "      <th>775</th>\n",
       "      <th>776</th>\n",
       "      <th>777</th>\n",
       "      <th>778</th>\n",
       "      <th>779</th>\n",
       "      <th>780</th>\n",
       "      <th>781</th>\n",
       "      <th>782</th>\n",
       "      <th>783</th>\n",
       "      <th>label</th>\n",
       "    </tr>\n",
       "  </thead>\n",
       "  <tbody>\n",
       "    <tr>\n",
       "      <th>0</th>\n",
       "      <td>0</td>\n",
       "      <td>0</td>\n",
       "      <td>0</td>\n",
       "      <td>0</td>\n",
       "      <td>0</td>\n",
       "      <td>0</td>\n",
       "      <td>0</td>\n",
       "      <td>0</td>\n",
       "      <td>0</td>\n",
       "      <td>0</td>\n",
       "      <td>44</td>\n",
       "      <td>168</td>\n",
       "      <td>122</td>\n",
       "      <td>133</td>\n",
       "      <td>137</td>\n",
       "      <td>134</td>\n",
       "      <td>128</td>\n",
       "      <td>145</td>\n",
       "      <td>145</td>\n",
       "      <td>0</td>\n",
       "      <td>0</td>\n",
       "      <td>0</td>\n",
       "      <td>0</td>\n",
       "      <td>0</td>\n",
       "      <td>0</td>\n",
       "      <td>0</td>\n",
       "      <td>0</td>\n",
       "      <td>0</td>\n",
       "      <td>0</td>\n",
       "      <td>0</td>\n",
       "      <td>0</td>\n",
       "      <td>0</td>\n",
       "      <td>0</td>\n",
       "      <td>0</td>\n",
       "      <td>0</td>\n",
       "      <td>0</td>\n",
       "      <td>0</td>\n",
       "      <td>0</td>\n",
       "      <td>127</td>\n",
       "      <td>255</td>\n",
       "      <td>...</td>\n",
       "      <td>255</td>\n",
       "      <td>222</td>\n",
       "      <td>0</td>\n",
       "      <td>0</td>\n",
       "      <td>0</td>\n",
       "      <td>0</td>\n",
       "      <td>0</td>\n",
       "      <td>0</td>\n",
       "      <td>0</td>\n",
       "      <td>0</td>\n",
       "      <td>0</td>\n",
       "      <td>0</td>\n",
       "      <td>0</td>\n",
       "      <td>0</td>\n",
       "      <td>0</td>\n",
       "      <td>0</td>\n",
       "      <td>0</td>\n",
       "      <td>0</td>\n",
       "      <td>0</td>\n",
       "      <td>0</td>\n",
       "      <td>3</td>\n",
       "      <td>0</td>\n",
       "      <td>0</td>\n",
       "      <td>163</td>\n",
       "      <td>106</td>\n",
       "      <td>0</td>\n",
       "      <td>0</td>\n",
       "      <td>94</td>\n",
       "      <td>164</td>\n",
       "      <td>139</td>\n",
       "      <td>0</td>\n",
       "      <td>0</td>\n",
       "      <td>0</td>\n",
       "      <td>0</td>\n",
       "      <td>0</td>\n",
       "      <td>0</td>\n",
       "      <td>0</td>\n",
       "      <td>0</td>\n",
       "      <td>0</td>\n",
       "      <td>1</td>\n",
       "    </tr>\n",
       "    <tr>\n",
       "      <th>1</th>\n",
       "      <td>0</td>\n",
       "      <td>0</td>\n",
       "      <td>0</td>\n",
       "      <td>0</td>\n",
       "      <td>0</td>\n",
       "      <td>0</td>\n",
       "      <td>0</td>\n",
       "      <td>0</td>\n",
       "      <td>0</td>\n",
       "      <td>0</td>\n",
       "      <td>100</td>\n",
       "      <td>198</td>\n",
       "      <td>119</td>\n",
       "      <td>40</td>\n",
       "      <td>0</td>\n",
       "      <td>67</td>\n",
       "      <td>147</td>\n",
       "      <td>190</td>\n",
       "      <td>102</td>\n",
       "      <td>9</td>\n",
       "      <td>0</td>\n",
       "      <td>0</td>\n",
       "      <td>0</td>\n",
       "      <td>0</td>\n",
       "      <td>0</td>\n",
       "      <td>0</td>\n",
       "      <td>0</td>\n",
       "      <td>0</td>\n",
       "      <td>0</td>\n",
       "      <td>0</td>\n",
       "      <td>0</td>\n",
       "      <td>0</td>\n",
       "      <td>0</td>\n",
       "      <td>0</td>\n",
       "      <td>0</td>\n",
       "      <td>0</td>\n",
       "      <td>0</td>\n",
       "      <td>176</td>\n",
       "      <td>162</td>\n",
       "      <td>181</td>\n",
       "      <td>...</td>\n",
       "      <td>212</td>\n",
       "      <td>244</td>\n",
       "      <td>100</td>\n",
       "      <td>0</td>\n",
       "      <td>3</td>\n",
       "      <td>0</td>\n",
       "      <td>0</td>\n",
       "      <td>0</td>\n",
       "      <td>0</td>\n",
       "      <td>0</td>\n",
       "      <td>0</td>\n",
       "      <td>0</td>\n",
       "      <td>0</td>\n",
       "      <td>0</td>\n",
       "      <td>0</td>\n",
       "      <td>0</td>\n",
       "      <td>0</td>\n",
       "      <td>0</td>\n",
       "      <td>0</td>\n",
       "      <td>0</td>\n",
       "      <td>9</td>\n",
       "      <td>185</td>\n",
       "      <td>206</td>\n",
       "      <td>194</td>\n",
       "      <td>190</td>\n",
       "      <td>188</td>\n",
       "      <td>166</td>\n",
       "      <td>161</td>\n",
       "      <td>154</td>\n",
       "      <td>169</td>\n",
       "      <td>0</td>\n",
       "      <td>0</td>\n",
       "      <td>0</td>\n",
       "      <td>0</td>\n",
       "      <td>0</td>\n",
       "      <td>0</td>\n",
       "      <td>0</td>\n",
       "      <td>0</td>\n",
       "      <td>0</td>\n",
       "      <td>3</td>\n",
       "    </tr>\n",
       "    <tr>\n",
       "      <th>2</th>\n",
       "      <td>0</td>\n",
       "      <td>0</td>\n",
       "      <td>0</td>\n",
       "      <td>0</td>\n",
       "      <td>0</td>\n",
       "      <td>0</td>\n",
       "      <td>0</td>\n",
       "      <td>0</td>\n",
       "      <td>0</td>\n",
       "      <td>0</td>\n",
       "      <td>0</td>\n",
       "      <td>0</td>\n",
       "      <td>0</td>\n",
       "      <td>0</td>\n",
       "      <td>0</td>\n",
       "      <td>0</td>\n",
       "      <td>0</td>\n",
       "      <td>0</td>\n",
       "      <td>0</td>\n",
       "      <td>0</td>\n",
       "      <td>0</td>\n",
       "      <td>0</td>\n",
       "      <td>0</td>\n",
       "      <td>0</td>\n",
       "      <td>0</td>\n",
       "      <td>0</td>\n",
       "      <td>0</td>\n",
       "      <td>0</td>\n",
       "      <td>0</td>\n",
       "      <td>0</td>\n",
       "      <td>0</td>\n",
       "      <td>0</td>\n",
       "      <td>0</td>\n",
       "      <td>0</td>\n",
       "      <td>0</td>\n",
       "      <td>0</td>\n",
       "      <td>0</td>\n",
       "      <td>0</td>\n",
       "      <td>0</td>\n",
       "      <td>0</td>\n",
       "      <td>...</td>\n",
       "      <td>0</td>\n",
       "      <td>0</td>\n",
       "      <td>0</td>\n",
       "      <td>0</td>\n",
       "      <td>0</td>\n",
       "      <td>0</td>\n",
       "      <td>0</td>\n",
       "      <td>0</td>\n",
       "      <td>0</td>\n",
       "      <td>0</td>\n",
       "      <td>0</td>\n",
       "      <td>0</td>\n",
       "      <td>0</td>\n",
       "      <td>0</td>\n",
       "      <td>0</td>\n",
       "      <td>0</td>\n",
       "      <td>0</td>\n",
       "      <td>0</td>\n",
       "      <td>0</td>\n",
       "      <td>0</td>\n",
       "      <td>0</td>\n",
       "      <td>0</td>\n",
       "      <td>0</td>\n",
       "      <td>0</td>\n",
       "      <td>0</td>\n",
       "      <td>0</td>\n",
       "      <td>0</td>\n",
       "      <td>0</td>\n",
       "      <td>0</td>\n",
       "      <td>0</td>\n",
       "      <td>0</td>\n",
       "      <td>0</td>\n",
       "      <td>0</td>\n",
       "      <td>0</td>\n",
       "      <td>0</td>\n",
       "      <td>0</td>\n",
       "      <td>0</td>\n",
       "      <td>0</td>\n",
       "      <td>0</td>\n",
       "      <td>8</td>\n",
       "    </tr>\n",
       "    <tr>\n",
       "      <th>3</th>\n",
       "      <td>0</td>\n",
       "      <td>0</td>\n",
       "      <td>0</td>\n",
       "      <td>0</td>\n",
       "      <td>0</td>\n",
       "      <td>0</td>\n",
       "      <td>0</td>\n",
       "      <td>0</td>\n",
       "      <td>0</td>\n",
       "      <td>0</td>\n",
       "      <td>0</td>\n",
       "      <td>0</td>\n",
       "      <td>0</td>\n",
       "      <td>0</td>\n",
       "      <td>0</td>\n",
       "      <td>0</td>\n",
       "      <td>0</td>\n",
       "      <td>0</td>\n",
       "      <td>0</td>\n",
       "      <td>0</td>\n",
       "      <td>0</td>\n",
       "      <td>0</td>\n",
       "      <td>0</td>\n",
       "      <td>0</td>\n",
       "      <td>0</td>\n",
       "      <td>0</td>\n",
       "      <td>0</td>\n",
       "      <td>0</td>\n",
       "      <td>0</td>\n",
       "      <td>0</td>\n",
       "      <td>0</td>\n",
       "      <td>0</td>\n",
       "      <td>0</td>\n",
       "      <td>0</td>\n",
       "      <td>0</td>\n",
       "      <td>0</td>\n",
       "      <td>0</td>\n",
       "      <td>0</td>\n",
       "      <td>0</td>\n",
       "      <td>0</td>\n",
       "      <td>...</td>\n",
       "      <td>0</td>\n",
       "      <td>0</td>\n",
       "      <td>0</td>\n",
       "      <td>0</td>\n",
       "      <td>0</td>\n",
       "      <td>0</td>\n",
       "      <td>0</td>\n",
       "      <td>0</td>\n",
       "      <td>0</td>\n",
       "      <td>0</td>\n",
       "      <td>0</td>\n",
       "      <td>0</td>\n",
       "      <td>0</td>\n",
       "      <td>0</td>\n",
       "      <td>0</td>\n",
       "      <td>0</td>\n",
       "      <td>0</td>\n",
       "      <td>0</td>\n",
       "      <td>0</td>\n",
       "      <td>0</td>\n",
       "      <td>0</td>\n",
       "      <td>0</td>\n",
       "      <td>0</td>\n",
       "      <td>0</td>\n",
       "      <td>0</td>\n",
       "      <td>0</td>\n",
       "      <td>0</td>\n",
       "      <td>0</td>\n",
       "      <td>0</td>\n",
       "      <td>0</td>\n",
       "      <td>0</td>\n",
       "      <td>0</td>\n",
       "      <td>0</td>\n",
       "      <td>0</td>\n",
       "      <td>0</td>\n",
       "      <td>0</td>\n",
       "      <td>0</td>\n",
       "      <td>0</td>\n",
       "      <td>0</td>\n",
       "      <td>7</td>\n",
       "    </tr>\n",
       "    <tr>\n",
       "      <th>4</th>\n",
       "      <td>0</td>\n",
       "      <td>0</td>\n",
       "      <td>0</td>\n",
       "      <td>0</td>\n",
       "      <td>0</td>\n",
       "      <td>0</td>\n",
       "      <td>0</td>\n",
       "      <td>0</td>\n",
       "      <td>0</td>\n",
       "      <td>0</td>\n",
       "      <td>0</td>\n",
       "      <td>0</td>\n",
       "      <td>0</td>\n",
       "      <td>0</td>\n",
       "      <td>0</td>\n",
       "      <td>0</td>\n",
       "      <td>0</td>\n",
       "      <td>0</td>\n",
       "      <td>0</td>\n",
       "      <td>0</td>\n",
       "      <td>0</td>\n",
       "      <td>0</td>\n",
       "      <td>0</td>\n",
       "      <td>0</td>\n",
       "      <td>0</td>\n",
       "      <td>0</td>\n",
       "      <td>0</td>\n",
       "      <td>0</td>\n",
       "      <td>0</td>\n",
       "      <td>0</td>\n",
       "      <td>0</td>\n",
       "      <td>0</td>\n",
       "      <td>0</td>\n",
       "      <td>0</td>\n",
       "      <td>0</td>\n",
       "      <td>0</td>\n",
       "      <td>0</td>\n",
       "      <td>0</td>\n",
       "      <td>0</td>\n",
       "      <td>0</td>\n",
       "      <td>...</td>\n",
       "      <td>0</td>\n",
       "      <td>0</td>\n",
       "      <td>0</td>\n",
       "      <td>0</td>\n",
       "      <td>0</td>\n",
       "      <td>0</td>\n",
       "      <td>0</td>\n",
       "      <td>0</td>\n",
       "      <td>0</td>\n",
       "      <td>0</td>\n",
       "      <td>0</td>\n",
       "      <td>0</td>\n",
       "      <td>0</td>\n",
       "      <td>0</td>\n",
       "      <td>0</td>\n",
       "      <td>0</td>\n",
       "      <td>0</td>\n",
       "      <td>0</td>\n",
       "      <td>0</td>\n",
       "      <td>0</td>\n",
       "      <td>0</td>\n",
       "      <td>0</td>\n",
       "      <td>0</td>\n",
       "      <td>0</td>\n",
       "      <td>0</td>\n",
       "      <td>0</td>\n",
       "      <td>0</td>\n",
       "      <td>0</td>\n",
       "      <td>0</td>\n",
       "      <td>0</td>\n",
       "      <td>0</td>\n",
       "      <td>0</td>\n",
       "      <td>0</td>\n",
       "      <td>0</td>\n",
       "      <td>0</td>\n",
       "      <td>0</td>\n",
       "      <td>0</td>\n",
       "      <td>0</td>\n",
       "      <td>0</td>\n",
       "      <td>5</td>\n",
       "    </tr>\n",
       "  </tbody>\n",
       "</table>\n",
       "<p>5 rows × 785 columns</p>\n",
       "</div>"
      ],
      "text/plain": [
       "   0  1  2  3  4  5  6  7  8  ...  776  777  778  779  780  781  782  783  label\n",
       "0  0  0  0  0  0  0  0  0  0  ...    0    0    0    0    0    0    0    0      1\n",
       "1  0  0  0  0  0  0  0  0  0  ...    0    0    0    0    0    0    0    0      3\n",
       "2  0  0  0  0  0  0  0  0  0  ...    0    0    0    0    0    0    0    0      8\n",
       "3  0  0  0  0  0  0  0  0  0  ...    0    0    0    0    0    0    0    0      7\n",
       "4  0  0  0  0  0  0  0  0  0  ...    0    0    0    0    0    0    0    0      5\n",
       "\n",
       "[5 rows x 785 columns]"
      ]
     },
     "execution_count": 11,
     "metadata": {},
     "output_type": "execute_result"
    }
   ],
   "source": [
    "Train.head()"
   ]
  },
  {
   "cell_type": "code",
   "execution_count": 5,
   "metadata": {
    "id": "26AwQFvemYxx"
   },
   "outputs": [],
   "source": [
    "X = Train.iloc[:, :-1].values\n",
    "X = X.reshape(-1, 28, 28, 1)\n",
    "y = Train.iloc[:, -1].values"
   ]
  },
  {
   "cell_type": "code",
   "execution_count": 6,
   "metadata": {
    "colab": {
     "base_uri": "https://localhost:8080/",
     "height": 93
    },
    "id": "kg63u1Fwjfi6",
    "outputId": "9c423aa1-94e7-400d-c380-1286b26eb8a7"
   },
   "outputs": [
    {
     "data": {
      "image/png": "[encoded data removed]",
      "text/plain": [
       "<Figure size 1440x72 with 20 Axes>"
      ]
     },
     "metadata": {
      "needs_background": "light"
     },
     "output_type": "display_data"
    }
   ],
   "source": [
    "pltsize = 1\n",
    "plt.figure(figsize=(20 * pltsize, pltsize))\n",
    "for idx in range(0, 20):\n",
    "  plt.subplot(1, 20, idx + 1)\n",
    "  plt.axis('off')\n",
    "  plt.imshow(X[idx].reshape(28, 28), cmap='gray_r')\n",
    "  plt.title(f'Class : {y[idx]}')"
   ]
  },
  {
   "cell_type": "code",
   "execution_count": 7,
   "metadata": {
    "id": "1MLqSq7utSGD"
   },
   "outputs": [],
   "source": [
    "X_test = Test.values\n",
    "X_test = X_test.reshape(-1, 28, 28, 1)"
   ]
  },
  {
   "cell_type": "code",
   "execution_count": 8,
   "metadata": {
    "colab": {
     "base_uri": "https://localhost:8080/",
     "height": 77
    },
    "id": "pzLOHRjvtYaD",
    "outputId": "de3f52c4-c120-4c0f-e2ff-a29afc0cf55a"
   },
   "outputs": [
    {
     "data": {
      "image/png": "[encoded data removed]",
      "text/plain": [
       "<Figure size 1440x72 with 20 Axes>"
      ]
     },
     "metadata": {
      "needs_background": "light"
     },
     "output_type": "display_data"
    }
   ],
   "source": [
    "pltsize = 1\n",
    "plt.figure(figsize=(20 * pltsize, pltsize))\n",
    "for idx in range(0, 20):\n",
    "  plt.subplot(1, 20, idx + 1)\n",
    "  plt.axis('off')\n",
    "  plt.imshow(X_test[idx].reshape(28, 28), cmap='gray_r')"
   ]
  },
  {
   "cell_type": "markdown",
   "metadata": {
    "id": "iSnwe75AsEPa"
   },
   "source": [
    "# 데이터 분리"
   ]
  },
  {
   "cell_type": "code",
   "execution_count": 9,
   "metadata": {
    "id": "73ttBq_osFM0"
   },
   "outputs": [],
   "source": [
    "from sklearn.model_selection import train_test_split\n",
    "\n",
    "X_train, X_val, y_train, y_val = train_test_split(X, y, test_size = 0.2, random_state = 16, stratify = y, shuffle = True)\n",
    "\n",
    "# 정규화\n",
    "X_train = X_train / 255.0\n",
    "X_val = X_val / 255.0\n",
    "X_test = X_test / 255.0"
   ]
  },
  {
   "cell_type": "markdown",
   "metadata": {
    "id": "pWfHesQguKjT"
   },
   "source": [
    "# Simple DNN"
   ]
  },
  {
   "cell_type": "code",
   "execution_count": 10,
   "metadata": {
    "id": "03C79ihXu820"
   },
   "outputs": [],
   "source": [
    "BATCH_SIZE = 128\n",
    "EPOCHS = 15"
   ]
  },
  {
   "cell_type": "code",
   "execution_count": 20,
   "metadata": {
    "colab": {
     "base_uri": "https://localhost:8080/"
    },
    "id": "WNHF7JEsR6dY",
    "outputId": "bca8c95e-1a11-4434-fcc2-0605d92a18b3"
   },
   "outputs": [
    {
     "name": "stdout",
     "output_type": "stream",
     "text": [
      "Model: \"sequential\"\n",
      "_________________________________________________________________\n",
      "Layer (type)                 Output Shape              Param #   \n",
      "=================================================================\n",
      "flatten (Flatten)            (None, 784)               0         \n",
      "_________________________________________________________________\n",
      "dense (Dense)                (None, 512)               401920    \n",
      "_________________________________________________________________\n",
      "dense_1 (Dense)              (None, 256)               131328    \n",
      "_________________________________________________________________\n",
      "dense_2 (Dense)              (None, 128)               32896     \n",
      "_________________________________________________________________\n",
      "dense_3 (Dense)              (None, 10)                1290      \n",
      "=================================================================\n",
      "Total params: 567,434\n",
      "Trainable params: 567,434\n",
      "Non-trainable params: 0\n",
      "_________________________________________________________________\n",
      "None\n"
     ]
    }
   ],
   "source": [
    "model = keras.Sequential([\n",
    "    keras.layers.Flatten(input_shape=(28, 28)),\n",
    "    keras.layers.Dense(512, activation='linear'),\n",
    "    keras.layers.Dense(256, activation='linear'),\n",
    "    keras.layers.Dense(128, activation='linear'),\n",
    "    keras.layers.Dense(10, activation='softmax')\n",
    "])\n",
    "\n",
    "print(model.summary())"
   ]
  },
  {
   "cell_type": "code",
   "execution_count": 21,
   "metadata": {
    "id": "NAmD5nM3SDvq"
   },
   "outputs": [],
   "source": [
    "optimizer = keras.optimizers.SGD(lr=0.01, momentum=0.5)\n",
    "model.compile(optimizer=optimizer,\n",
    "              loss=tf.keras.losses.SparseCategoricalCrossentropy(from_logits=True),\n",
    "              metrics=['accuracy'])"
   ]
  },
  {
   "cell_type": "code",
   "execution_count": 22,
   "metadata": {
    "colab": {
     "base_uri": "https://localhost:8080/"
    },
    "id": "YVas5F2xSE0i",
    "outputId": "0b76cdca-3437-49cb-c418-498216ae010e"
   },
   "outputs": [
    {
     "name": "stdout",
     "output_type": "stream",
     "text": [
      "Epoch 1/10\n",
      "1488/1488 [==============================] - 8s 4ms/step - loss: 0.5774 - accuracy: 0.7974 - val_loss: 0.4900 - val_accuracy: 0.8300\n",
      "Epoch 2/10\n",
      "1488/1488 [==============================] - 6s 4ms/step - loss: 0.4744 - accuracy: 0.8318 - val_loss: 0.4756 - val_accuracy: 0.8374\n",
      "Epoch 3/10\n",
      "1488/1488 [==============================] - 5s 4ms/step - loss: 0.4547 - accuracy: 0.8392 - val_loss: 0.4705 - val_accuracy: 0.8339\n",
      "Epoch 4/10\n",
      "1488/1488 [==============================] - 6s 4ms/step - loss: 0.4456 - accuracy: 0.8439 - val_loss: 0.4384 - val_accuracy: 0.8436\n",
      "Epoch 5/10\n",
      "1488/1488 [==============================] - 5s 4ms/step - loss: 0.4366 - accuracy: 0.8461 - val_loss: 0.4486 - val_accuracy: 0.8439\n",
      "Epoch 6/10\n",
      "1488/1488 [==============================] - 6s 4ms/step - loss: 0.4299 - accuracy: 0.8482 - val_loss: 0.4395 - val_accuracy: 0.8451\n",
      "Epoch 7/10\n",
      "1488/1488 [==============================] - 6s 4ms/step - loss: 0.4249 - accuracy: 0.8503 - val_loss: 0.4342 - val_accuracy: 0.8524\n",
      "Epoch 8/10\n",
      "1488/1488 [==============================] - 5s 4ms/step - loss: 0.4213 - accuracy: 0.8517 - val_loss: 0.4502 - val_accuracy: 0.8462\n",
      "Epoch 9/10\n",
      "1488/1488 [==============================] - 5s 4ms/step - loss: 0.4169 - accuracy: 0.8528 - val_loss: 0.4318 - val_accuracy: 0.8529\n",
      "Epoch 10/10\n",
      "1488/1488 [==============================] - 5s 4ms/step - loss: 0.4142 - accuracy: 0.8536 - val_loss: 0.4441 - val_accuracy: 0.8484\n"
     ]
    }
   ],
   "source": [
    "result = model.fit(X_train, y_train, epochs=10, validation_data = (X_val, y_val))"
   ]
  },
  {
   "cell_type": "code",
   "execution_count": 23,
   "metadata": {
    "colab": {
     "base_uri": "https://localhost:8080/",
     "height": 336
    },
    "id": "AMNqp8Y4sIjA",
    "outputId": "3cc79e8f-c0ff-4734-8523-cb423f662115"
   },
   "outputs": [
    {
     "data": {
      "image/png": "[encoded data removed]",
      "text/plain": [
       "<Figure size 1080x360 with 2 Axes>"
      ]
     },
     "metadata": {
      "needs_background": "light"
     },
     "output_type": "display_data"
    }
   ],
   "source": [
    "fig, axes = plt.subplots(nrows=1, ncols=2, figsize=(15, 5))\n",
    "\n",
    "axes[0].plot(result.epoch, result.history[\"loss\"], label='Train Loss')\n",
    "axes[0].plot(result.epoch, result.history['val_loss'], label='Val Loss')\n",
    "axes[0].set_ylim(0.0, 1)\n",
    "axes[0].legend()\n",
    "axes[0].set_title('Loss')\n",
    "\n",
    "axes[1].plot(result.epoch, result.history['accuracy'], label='Train Accuracy')\n",
    "axes[1].plot(result.epoch, result.history['val_accuracy'], label='Val Accuracy')\n",
    "axes[1].set_ylim(0.7, 1)\n",
    "axes[1].legend()\n",
    "axes[1].set_title('ACC')\n",
    "\n",
    "plt.show()"
   ]
  },
  {
   "cell_type": "markdown",
   "metadata": {
    "id": "RyUYGuRhsYrp"
   },
   "source": [
    "# Activation Function"
   ]
  },
  {
   "cell_type": "code",
   "execution_count": 24,
   "metadata": {
    "colab": {
     "base_uri": "https://localhost:8080/"
    },
    "id": "MEXkcaJ4pMVq",
    "outputId": "e99feb56-7bce-4e9b-c4ee-5a9599d322e9"
   },
   "outputs": [
    {
     "name": "stdout",
     "output_type": "stream",
     "text": [
      "Model: \"sequential_1\"\n",
      "_________________________________________________________________\n",
      "Layer (type)                 Output Shape              Param #   \n",
      "=================================================================\n",
      "flatten_1 (Flatten)          (None, 784)               0         \n",
      "_________________________________________________________________\n",
      "dense_4 (Dense)              (None, 512)               401920    \n",
      "_________________________________________________________________\n",
      "dense_5 (Dense)              (None, 256)               131328    \n",
      "_________________________________________________________________\n",
      "dense_6 (Dense)              (None, 128)               32896     \n",
      "_________________________________________________________________\n",
      "dense_7 (Dense)              (None, 10)                1290      \n",
      "=================================================================\n",
      "Total params: 567,434\n",
      "Trainable params: 567,434\n",
      "Non-trainable params: 0\n",
      "_________________________________________________________________\n",
      "None\n"
     ]
    }
   ],
   "source": [
    "model = keras.Sequential([\n",
    "    keras.layers.Flatten(input_shape=(28, 28)),\n",
    "    keras.layers.Dense(512, activation='relu'),\n",
    "    keras.layers.Dense(256, activation='relu'),\n",
    "    keras.layers.Dense(128, activation='relu'),\n",
    "    keras.layers.Dense(10, activation='softmax')\n",
    "])\n",
    "\n",
    "print(model.summary())"
   ]
  },
  {
   "cell_type": "code",
   "execution_count": 25,
   "metadata": {
    "id": "XtT3TuyLpsSw"
   },
   "outputs": [],
   "source": [
    "optimizer = keras.optimizers.SGD(lr=0.01, momentum=0.5)\n",
    "model.compile(optimizer=optimizer,\n",
    "              loss=tf.keras.losses.SparseCategoricalCrossentropy(from_logits=True),\n",
    "              metrics=['accuracy'])"
   ]
  },
  {
   "cell_type": "code",
   "execution_count": 26,
   "metadata": {
    "colab": {
     "base_uri": "https://localhost:8080/"
    },
    "id": "Og0aNx5iWrlb",
    "outputId": "52925e14-c624-4b54-9195-1fecf5e9ed33"
   },
   "outputs": [
    {
     "name": "stdout",
     "output_type": "stream",
     "text": [
      "Epoch 1/10\n",
      "1488/1488 [==============================] - 7s 4ms/step - loss: 0.6342 - accuracy: 0.7816 - val_loss: 0.4838 - val_accuracy: 0.8296\n",
      "Epoch 2/10\n",
      "1488/1488 [==============================] - 6s 4ms/step - loss: 0.4416 - accuracy: 0.8435 - val_loss: 0.4054 - val_accuracy: 0.8593\n",
      "Epoch 3/10\n",
      "1488/1488 [==============================] - 6s 4ms/step - loss: 0.3941 - accuracy: 0.8581 - val_loss: 0.3822 - val_accuracy: 0.8666\n",
      "Epoch 4/10\n",
      "1488/1488 [==============================] - 5s 4ms/step - loss: 0.3659 - accuracy: 0.8665 - val_loss: 0.3731 - val_accuracy: 0.8650\n",
      "Epoch 5/10\n",
      "1488/1488 [==============================] - 5s 4ms/step - loss: 0.3441 - accuracy: 0.8733 - val_loss: 0.3439 - val_accuracy: 0.8782\n",
      "Epoch 6/10\n",
      "1488/1488 [==============================] - 5s 4ms/step - loss: 0.3266 - accuracy: 0.8797 - val_loss: 0.3302 - val_accuracy: 0.8820\n",
      "Epoch 7/10\n",
      "1488/1488 [==============================] - 6s 4ms/step - loss: 0.3111 - accuracy: 0.8845 - val_loss: 0.3273 - val_accuracy: 0.8834\n",
      "Epoch 8/10\n",
      "1488/1488 [==============================] - 6s 4ms/step - loss: 0.2973 - accuracy: 0.8909 - val_loss: 0.3316 - val_accuracy: 0.8775\n",
      "Epoch 9/10\n",
      "1488/1488 [==============================] - 5s 4ms/step - loss: 0.2849 - accuracy: 0.8942 - val_loss: 0.3036 - val_accuracy: 0.8888\n",
      "Epoch 10/10\n",
      "1488/1488 [==============================] - 5s 4ms/step - loss: 0.2763 - accuracy: 0.8969 - val_loss: 0.3031 - val_accuracy: 0.8898\n"
     ]
    }
   ],
   "source": [
    "result = model.fit(X_train, y_train, epochs=10, validation_data = (X_val, y_val))"
   ]
  },
  {
   "cell_type": "code",
   "execution_count": 27,
   "metadata": {
    "colab": {
     "base_uri": "https://localhost:8080/",
     "height": 336
    },
    "id": "Qy5ufRZuWt6y",
    "outputId": "344a9093-5052-4eb1-a86a-89eb3180a6af"
   },
   "outputs": [
    {
     "data": {
      "image/png": "[encoded data removed]",
      "text/plain": [
       "<Figure size 1080x360 with 2 Axes>"
      ]
     },
     "metadata": {
      "needs_background": "light"
     },
     "output_type": "display_data"
    }
   ],
   "source": [
    "fig, axes = plt.subplots(nrows=1, ncols=2, figsize=(15, 5))\n",
    "\n",
    "axes[0].plot(result.epoch, result.history[\"loss\"], label='Train Loss')\n",
    "axes[0].plot(result.epoch, result.history['val_loss'], label='Val Loss')\n",
    "axes[0].set_ylim(0.0, 1)\n",
    "axes[0].legend()\n",
    "axes[0].set_title('Loss')\n",
    "\n",
    "axes[1].plot(result.epoch, result.history['accuracy'], label='Train Accuracy')\n",
    "axes[1].plot(result.epoch, result.history['val_accuracy'], label='Val Accuracy')\n",
    "axes[1].set_ylim(0.7, 1)\n",
    "axes[1].legend()\n",
    "axes[1].set_title('ACC')\n",
    "\n",
    "plt.show()"
   ]
  },
  {
   "cell_type": "markdown",
   "metadata": {
    "id": "WNBsJv5TscN7"
   },
   "source": [
    "# Weight Initialization"
   ]
  },
  {
   "cell_type": "code",
   "execution_count": 28,
   "metadata": {
    "colab": {
     "base_uri": "https://localhost:8080/"
    },
    "id": "ueHAnrwNtTc9",
    "outputId": "74819855-a69d-4e7c-df14-12767f5103ee"
   },
   "outputs": [
    {
     "name": "stdout",
     "output_type": "stream",
     "text": [
      "Model: \"sequential_2\"\n",
      "_________________________________________________________________\n",
      "Layer (type)                 Output Shape              Param #   \n",
      "=================================================================\n",
      "flatten_2 (Flatten)          (None, 784)               0         \n",
      "_________________________________________________________________\n",
      "dense_8 (Dense)              (None, 512)               401920    \n",
      "_________________________________________________________________\n",
      "dense_9 (Dense)              (None, 256)               131328    \n",
      "_________________________________________________________________\n",
      "dense_10 (Dense)             (None, 128)               32896     \n",
      "_________________________________________________________________\n",
      "dense_11 (Dense)             (None, 10)                1290      \n",
      "=================================================================\n",
      "Total params: 567,434\n",
      "Trainable params: 567,434\n",
      "Non-trainable params: 0\n",
      "_________________________________________________________________\n",
      "None\n"
     ]
    }
   ],
   "source": [
    "initializer = keras.initializers.HeUniform(seed = 21)\n",
    "model = keras.Sequential([\n",
    "    keras.layers.Flatten(input_shape=(28, 28)),\n",
    "    keras.layers.Dense(512, activation='relu', kernel_initializer=initializer),\n",
    "    keras.layers.Dense(256, activation='relu', kernel_initializer=initializer),\n",
    "    keras.layers.Dense(128, activation='relu', kernel_initializer=initializer),\n",
    "    keras.layers.Dense(10, activation='softmax', kernel_initializer=initializer)\n",
    "])\n",
    "\n",
    "print(model.summary())"
   ]
  },
  {
   "cell_type": "code",
   "execution_count": 29,
   "metadata": {
    "id": "cowoTV5OXdUO"
   },
   "outputs": [],
   "source": [
    "optimizer = keras.optimizers.SGD(lr=0.01, momentum=0.5)\n",
    "model.compile(optimizer=optimizer,\n",
    "              loss=tf.keras.losses.SparseCategoricalCrossentropy(from_logits=True),\n",
    "              metrics=['accuracy'])"
   ]
  },
  {
   "cell_type": "code",
   "execution_count": 30,
   "metadata": {
    "colab": {
     "base_uri": "https://localhost:8080/"
    },
    "id": "5nTAuHIIXfma",
    "outputId": "59537054-289c-4ecd-f816-b3e7943e90ec"
   },
   "outputs": [
    {
     "name": "stdout",
     "output_type": "stream",
     "text": [
      "Epoch 1/10\n",
      "1488/1488 [==============================] - 6s 4ms/step - loss: 0.5948 - accuracy: 0.7947 - val_loss: 0.4775 - val_accuracy: 0.8275\n",
      "Epoch 2/10\n",
      "1488/1488 [==============================] - 6s 4ms/step - loss: 0.4288 - accuracy: 0.8466 - val_loss: 0.3919 - val_accuracy: 0.8599\n",
      "Epoch 3/10\n",
      "1488/1488 [==============================] - 5s 4ms/step - loss: 0.3819 - accuracy: 0.8622 - val_loss: 0.3822 - val_accuracy: 0.8612\n",
      "Epoch 4/10\n",
      "1488/1488 [==============================] - 6s 4ms/step - loss: 0.3531 - accuracy: 0.8718 - val_loss: 0.3701 - val_accuracy: 0.8654\n",
      "Epoch 5/10\n",
      "1488/1488 [==============================] - 6s 4ms/step - loss: 0.3309 - accuracy: 0.8792 - val_loss: 0.3700 - val_accuracy: 0.8674\n",
      "Epoch 6/10\n",
      "1488/1488 [==============================] - 6s 4ms/step - loss: 0.3154 - accuracy: 0.8849 - val_loss: 0.3426 - val_accuracy: 0.8739\n",
      "Epoch 7/10\n",
      "1488/1488 [==============================] - 5s 4ms/step - loss: 0.2998 - accuracy: 0.8895 - val_loss: 0.3294 - val_accuracy: 0.8788\n",
      "Epoch 8/10\n",
      "1488/1488 [==============================] - 6s 4ms/step - loss: 0.2870 - accuracy: 0.8943 - val_loss: 0.3261 - val_accuracy: 0.8818\n",
      "Epoch 9/10\n",
      "1488/1488 [==============================] - 6s 4ms/step - loss: 0.2742 - accuracy: 0.8983 - val_loss: 0.3151 - val_accuracy: 0.8857\n",
      "Epoch 10/10\n",
      "1488/1488 [==============================] - 5s 4ms/step - loss: 0.2633 - accuracy: 0.9028 - val_loss: 0.3010 - val_accuracy: 0.8916\n"
     ]
    }
   ],
   "source": [
    "result = model.fit(X_train, y_train, epochs=10, validation_data = (X_val, y_val))"
   ]
  },
  {
   "cell_type": "code",
   "execution_count": 31,
   "metadata": {
    "colab": {
     "base_uri": "https://localhost:8080/",
     "height": 336
    },
    "id": "tWFsBZigXhv6",
    "outputId": "b3bc27c1-bcd4-48a2-8a76-bf25414de782"
   },
   "outputs": [
    {
     "data": {
      "image/png": "[encoded data removed]",
      "text/plain": [
       "<Figure size 1080x360 with 2 Axes>"
      ]
     },
     "metadata": {
      "needs_background": "light"
     },
     "output_type": "display_data"
    }
   ],
   "source": [
    "fig, axes = plt.subplots(nrows=1, ncols=2, figsize=(15, 5))\n",
    "\n",
    "axes[0].plot(result.epoch, result.history[\"loss\"], label='Train Loss')\n",
    "axes[0].plot(result.epoch, result.history['val_loss'], label='Val Loss')\n",
    "axes[0].set_ylim(0.0, 1)\n",
    "axes[0].legend()\n",
    "axes[0].set_title('Loss')\n",
    "\n",
    "axes[1].plot(result.epoch, result.history['accuracy'], label='Train Accuracy')\n",
    "axes[1].plot(result.epoch, result.history['val_accuracy'], label='Val Accuracy')\n",
    "axes[1].set_ylim(0.7, 1)\n",
    "axes[1].legend()\n",
    "axes[1].set_title('ACC')\n",
    "\n",
    "plt.show()"
   ]
  },
  {
   "cell_type": "markdown",
   "metadata": {
    "id": "ZQrOPXksse-7"
   },
   "source": [
    "# Batch Normalization"
   ]
  },
  {
   "cell_type": "code",
   "execution_count": 32,
   "metadata": {
    "colab": {
     "base_uri": "https://localhost:8080/"
    },
    "id": "tzszY6rO1Twt",
    "outputId": "a9cb044a-2b5d-4bb3-d813-7d829777f4b1"
   },
   "outputs": [
    {
     "name": "stdout",
     "output_type": "stream",
     "text": [
      "Model: \"sequential_3\"\n",
      "_________________________________________________________________\n",
      "Layer (type)                 Output Shape              Param #   \n",
      "=================================================================\n",
      "flatten_3 (Flatten)          (None, 784)               0         \n",
      "_________________________________________________________________\n",
      "dense_12 (Dense)             (None, 512)               401920    \n",
      "_________________________________________________________________\n",
      "batch_normalization (BatchNo (None, 512)               2048      \n",
      "_________________________________________________________________\n",
      "activation (Activation)      (None, 512)               0         \n",
      "_________________________________________________________________\n",
      "dense_13 (Dense)             (None, 256)               131328    \n",
      "_________________________________________________________________\n",
      "batch_normalization_1 (Batch (None, 256)               1024      \n",
      "_________________________________________________________________\n",
      "activation_1 (Activation)    (None, 256)               0         \n",
      "_________________________________________________________________\n",
      "dense_14 (Dense)             (None, 128)               32896     \n",
      "_________________________________________________________________\n",
      "batch_normalization_2 (Batch (None, 128)               512       \n",
      "_________________________________________________________________\n",
      "activation_2 (Activation)    (None, 128)               0         \n",
      "_________________________________________________________________\n",
      "dense_15 (Dense)             (None, 10)                1290      \n",
      "=================================================================\n",
      "Total params: 571,018\n",
      "Trainable params: 569,226\n",
      "Non-trainable params: 1,792\n",
      "_________________________________________________________________\n",
      "None\n"
     ]
    }
   ],
   "source": [
    "initializer = keras.initializers.HeUniform(seed = 21)\n",
    "model = keras.Sequential([\n",
    "    keras.layers.Flatten(input_shape=(28, 28)),\n",
    "    keras.layers.Dense(512, kernel_initializer=initializer),\n",
    "    keras.layers.BatchNormalization(),\n",
    "    keras.layers.Activation('relu'),\n",
    "    keras.layers.Dense(256, kernel_initializer=initializer),\n",
    "    keras.layers.BatchNormalization(),\n",
    "    keras.layers.Activation('relu'),\n",
    "    keras.layers.Dense(128, kernel_initializer=initializer),\n",
    "    keras.layers.BatchNormalization(),\n",
    "    keras.layers.Activation('relu'),\n",
    "    keras.layers.Dense(10, activation='softmax', kernel_initializer=initializer)\n",
    "])\n",
    "\n",
    "print(model.summary())"
   ]
  },
  {
   "cell_type": "code",
   "execution_count": 33,
   "metadata": {
    "id": "I9WRy-0C1Tw6"
   },
   "outputs": [],
   "source": [
    "optimizer = keras.optimizers.SGD(lr=0.01, momentum=0.5)\n",
    "model.compile(optimizer=optimizer,\n",
    "              loss=tf.keras.losses.SparseCategoricalCrossentropy(from_logits=True),\n",
    "              metrics=['accuracy'])"
   ]
  },
  {
   "cell_type": "code",
   "execution_count": 34,
   "metadata": {
    "colab": {
     "base_uri": "https://localhost:8080/"
    },
    "id": "ZRkJPzMFYxQC",
    "outputId": "d06e7d57-06a2-4fd1-cb84-1bb466b6810a"
   },
   "outputs": [
    {
     "name": "stdout",
     "output_type": "stream",
     "text": [
      "Epoch 1/10\n",
      "1488/1488 [==============================] - 10s 6ms/step - loss: 0.5386 - accuracy: 0.8149 - val_loss: 0.3828 - val_accuracy: 0.8608\n",
      "Epoch 2/10\n",
      "1488/1488 [==============================] - 9s 6ms/step - loss: 0.3870 - accuracy: 0.8595 - val_loss: 0.3510 - val_accuracy: 0.8697\n",
      "Epoch 3/10\n",
      "1488/1488 [==============================] - 9s 6ms/step - loss: 0.3371 - accuracy: 0.8789 - val_loss: 0.3397 - val_accuracy: 0.8762\n",
      "Epoch 4/10\n",
      "1488/1488 [==============================] - 8s 6ms/step - loss: 0.3058 - accuracy: 0.8886 - val_loss: 0.3117 - val_accuracy: 0.8848\n",
      "Epoch 5/10\n",
      "1488/1488 [==============================] - 9s 6ms/step - loss: 0.2765 - accuracy: 0.9008 - val_loss: 0.3237 - val_accuracy: 0.8827\n",
      "Epoch 6/10\n",
      "1488/1488 [==============================] - 9s 6ms/step - loss: 0.2561 - accuracy: 0.9057 - val_loss: 0.3158 - val_accuracy: 0.8838\n",
      "Epoch 7/10\n",
      "1488/1488 [==============================] - 9s 6ms/step - loss: 0.2368 - accuracy: 0.9131 - val_loss: 0.3147 - val_accuracy: 0.8898\n",
      "Epoch 8/10\n",
      "1488/1488 [==============================] - 9s 6ms/step - loss: 0.2216 - accuracy: 0.9191 - val_loss: 0.3149 - val_accuracy: 0.8904\n",
      "Epoch 9/10\n",
      "1488/1488 [==============================] - 8s 6ms/step - loss: 0.2070 - accuracy: 0.9250 - val_loss: 0.3237 - val_accuracy: 0.8880\n",
      "Epoch 10/10\n",
      "1488/1488 [==============================] - 9s 6ms/step - loss: 0.1930 - accuracy: 0.9301 - val_loss: 0.3224 - val_accuracy: 0.8873\n"
     ]
    }
   ],
   "source": [
    "result = model.fit(X_train, y_train, epochs=10, validation_data = (X_val, y_val))"
   ]
  },
  {
   "cell_type": "code",
   "execution_count": 35,
   "metadata": {
    "colab": {
     "base_uri": "https://localhost:8080/",
     "height": 336
    },
    "id": "_F7dKHTD0TsQ",
    "outputId": "2b5975de-17ef-4487-a964-8e1b25bf4d9a"
   },
   "outputs": [
    {
     "data": {
      "image/png": "[encoded data removed]",
      "text/plain": [
       "<Figure size 1080x360 with 2 Axes>"
      ]
     },
     "metadata": {
      "needs_background": "light"
     },
     "output_type": "display_data"
    }
   ],
   "source": [
    "fig, axes = plt.subplots(nrows=1, ncols=2, figsize=(15, 5))\n",
    "\n",
    "axes[0].plot(result.epoch, result.history[\"loss\"], label='Train Loss')\n",
    "axes[0].plot(result.epoch, result.history['val_loss'], label='Val Loss')\n",
    "axes[0].set_ylim(0.0, 1)\n",
    "axes[0].legend()\n",
    "axes[0].set_title('Loss')\n",
    "\n",
    "axes[1].plot(result.epoch, result.history['accuracy'], label='Train Accuracy')\n",
    "axes[1].plot(result.epoch, result.history['val_accuracy'], label='Val Accuracy')\n",
    "axes[1].set_ylim(0.7, 1)\n",
    "axes[1].legend()\n",
    "axes[1].set_title('ACC')\n",
    "\n",
    "plt.show()"
   ]
  },
  {
   "cell_type": "markdown",
   "metadata": {
    "id": "1gwUB32GshKT"
   },
   "source": [
    "# Optimization"
   ]
  },
  {
   "cell_type": "code",
   "execution_count": 36,
   "metadata": {
    "colab": {
     "base_uri": "https://localhost:8080/"
    },
    "id": "IX0cwOXy1fr-",
    "outputId": "9ab7722d-3f09-4942-ccf8-4adef8440c3c"
   },
   "outputs": [
    {
     "name": "stdout",
     "output_type": "stream",
     "text": [
      "Model: \"sequential_4\"\n",
      "_________________________________________________________________\n",
      "Layer (type)                 Output Shape              Param #   \n",
      "=================================================================\n",
      "flatten_4 (Flatten)          (None, 784)               0         \n",
      "_________________________________________________________________\n",
      "dense_16 (Dense)             (None, 512)               401920    \n",
      "_________________________________________________________________\n",
      "batch_normalization_3 (Batch (None, 512)               2048      \n",
      "_________________________________________________________________\n",
      "activation_3 (Activation)    (None, 512)               0         \n",
      "_________________________________________________________________\n",
      "dense_17 (Dense)             (None, 256)               131328    \n",
      "_________________________________________________________________\n",
      "batch_normalization_4 (Batch (None, 256)               1024      \n",
      "_________________________________________________________________\n",
      "activation_4 (Activation)    (None, 256)               0         \n",
      "_________________________________________________________________\n",
      "dense_18 (Dense)             (None, 128)               32896     \n",
      "_________________________________________________________________\n",
      "batch_normalization_5 (Batch (None, 128)               512       \n",
      "_________________________________________________________________\n",
      "activation_5 (Activation)    (None, 128)               0         \n",
      "_________________________________________________________________\n",
      "dense_19 (Dense)             (None, 10)                1290      \n",
      "=================================================================\n",
      "Total params: 571,018\n",
      "Trainable params: 569,226\n",
      "Non-trainable params: 1,792\n",
      "_________________________________________________________________\n",
      "None\n"
     ]
    }
   ],
   "source": [
    "initializer = keras.initializers.HeUniform(seed = 21)\n",
    "model = keras.Sequential([\n",
    "    keras.layers.Flatten(input_shape=(28, 28)),\n",
    "    keras.layers.Dense(512, kernel_initializer=initializer),\n",
    "    keras.layers.BatchNormalization(),\n",
    "    keras.layers.Activation('relu'),\n",
    "    keras.layers.Dense(256, kernel_initializer=initializer),\n",
    "    keras.layers.BatchNormalization(),\n",
    "    keras.layers.Activation('relu'),\n",
    "    keras.layers.Dense(128, kernel_initializer=initializer),\n",
    "    keras.layers.BatchNormalization(),\n",
    "    keras.layers.Activation('relu'),\n",
    "    keras.layers.Dense(10, activation='softmax', kernel_initializer=initializer)\n",
    "])\n",
    "\n",
    "print(model.summary())"
   ]
  },
  {
   "cell_type": "code",
   "execution_count": 37,
   "metadata": {
    "id": "JCaB9wCZ1fsI"
   },
   "outputs": [],
   "source": [
    "optimizer = keras.optimizers.Adam(lr=0.01)\n",
    "model.compile(optimizer=optimizer,\n",
    "              loss=tf.keras.losses.SparseCategoricalCrossentropy(from_logits=True),\n",
    "              metrics=['accuracy'])"
   ]
  },
  {
   "cell_type": "code",
   "execution_count": 38,
   "metadata": {
    "colab": {
     "base_uri": "https://localhost:8080/"
    },
    "id": "UFu8D0J5Y7Ca",
    "outputId": "5df1ccc9-ab05-4b37-d690-37224aca9b66"
   },
   "outputs": [
    {
     "name": "stdout",
     "output_type": "stream",
     "text": [
      "Epoch 1/10\n",
      "1488/1488 [==============================] - 10s 6ms/step - loss: 0.5440 - accuracy: 0.8056 - val_loss: 0.4391 - val_accuracy: 0.8383\n",
      "Epoch 2/10\n",
      "1488/1488 [==============================] - 9s 6ms/step - loss: 0.4247 - accuracy: 0.8456 - val_loss: 0.4254 - val_accuracy: 0.8463\n",
      "Epoch 3/10\n",
      "1488/1488 [==============================] - 9s 6ms/step - loss: 0.3785 - accuracy: 0.8622 - val_loss: 0.4439 - val_accuracy: 0.8310\n",
      "Epoch 4/10\n",
      "1488/1488 [==============================] - 9s 6ms/step - loss: 0.3533 - accuracy: 0.8700 - val_loss: 0.3318 - val_accuracy: 0.8771\n",
      "Epoch 5/10\n",
      "1488/1488 [==============================] - 8s 6ms/step - loss: 0.3251 - accuracy: 0.8795 - val_loss: 0.3228 - val_accuracy: 0.8797\n",
      "Epoch 6/10\n",
      "1488/1488 [==============================] - 9s 6ms/step - loss: 0.3074 - accuracy: 0.8855 - val_loss: 0.3232 - val_accuracy: 0.8828\n",
      "Epoch 7/10\n",
      "1488/1488 [==============================] - 9s 6ms/step - loss: 0.2932 - accuracy: 0.8904 - val_loss: 0.3092 - val_accuracy: 0.8867\n",
      "Epoch 8/10\n",
      "1488/1488 [==============================] - 9s 6ms/step - loss: 0.2765 - accuracy: 0.8970 - val_loss: 0.3213 - val_accuracy: 0.8840\n",
      "Epoch 9/10\n",
      "1488/1488 [==============================] - 8s 6ms/step - loss: 0.2632 - accuracy: 0.9006 - val_loss: 0.3097 - val_accuracy: 0.8870\n",
      "Epoch 10/10\n",
      "1488/1488 [==============================] - 9s 6ms/step - loss: 0.2538 - accuracy: 0.9034 - val_loss: 0.3178 - val_accuracy: 0.8902\n"
     ]
    }
   ],
   "source": [
    "result = model.fit(X_train, y_train, epochs=10, validation_data = (X_val, y_val))"
   ]
  },
  {
   "cell_type": "code",
   "execution_count": 39,
   "metadata": {
    "colab": {
     "base_uri": "https://localhost:8080/",
     "height": 336
    },
    "id": "mxeGk5BO0ULy",
    "outputId": "ea0d4c85-de20-4f67-ca27-9eb3a97d01e0"
   },
   "outputs": [
    {
     "data": {
      "image/png": "[encoded data removed]",
      "text/plain": [
       "<Figure size 1080x360 with 2 Axes>"
      ]
     },
     "metadata": {
      "needs_background": "light"
     },
     "output_type": "display_data"
    }
   ],
   "source": [
    "fig, axes = plt.subplots(nrows=1, ncols=2, figsize=(15, 5))\n",
    "\n",
    "axes[0].plot(result.epoch, result.history[\"loss\"], label='Train Loss')\n",
    "axes[0].plot(result.epoch, result.history['val_loss'], label='Val Loss')\n",
    "axes[0].set_ylim(0.0, 1)\n",
    "axes[0].legend()\n",
    "axes[0].set_title('Loss')\n",
    "\n",
    "axes[1].plot(result.epoch, result.history['accuracy'], label='Train Accuracy')\n",
    "axes[1].plot(result.epoch, result.history['val_accuracy'], label='Val Accuracy')\n",
    "axes[1].set_ylim(0.7, 1)\n",
    "axes[1].legend()\n",
    "axes[1].set_title('ACC')\n",
    "\n",
    "plt.show()"
   ]
  },
  {
   "cell_type": "markdown",
   "metadata": {
    "id": "efosC0aKsjO7"
   },
   "source": [
    "# Dropout"
   ]
  },
  {
   "cell_type": "code",
   "execution_count": 40,
   "metadata": {
    "colab": {
     "base_uri": "https://localhost:8080/"
    },
    "id": "raKGt6Ws1l9m",
    "outputId": "b3276644-aa03-41e4-c605-e3f122fa1d4a"
   },
   "outputs": [
    {
     "name": "stdout",
     "output_type": "stream",
     "text": [
      "Model: \"sequential_5\"\n",
      "_________________________________________________________________\n",
      "Layer (type)                 Output Shape              Param #   \n",
      "=================================================================\n",
      "flatten_5 (Flatten)          (None, 784)               0         \n",
      "_________________________________________________________________\n",
      "dense_20 (Dense)             (None, 512)               401920    \n",
      "_________________________________________________________________\n",
      "batch_normalization_6 (Batch (None, 512)               2048      \n",
      "_________________________________________________________________\n",
      "activation_6 (Activation)    (None, 512)               0         \n",
      "_________________________________________________________________\n",
      "dropout (Dropout)            (None, 512)               0         \n",
      "_________________________________________________________________\n",
      "dense_21 (Dense)             (None, 256)               131328    \n",
      "_________________________________________________________________\n",
      "batch_normalization_7 (Batch (None, 256)               1024      \n",
      "_________________________________________________________________\n",
      "activation_7 (Activation)    (None, 256)               0         \n",
      "_________________________________________________________________\n",
      "dropout_1 (Dropout)          (None, 256)               0         \n",
      "_________________________________________________________________\n",
      "dense_22 (Dense)             (None, 128)               32896     \n",
      "_________________________________________________________________\n",
      "batch_normalization_8 (Batch (None, 128)               512       \n",
      "_________________________________________________________________\n",
      "activation_8 (Activation)    (None, 128)               0         \n",
      "_________________________________________________________________\n",
      "dropout_2 (Dropout)          (None, 128)               0         \n",
      "_________________________________________________________________\n",
      "dense_23 (Dense)             (None, 10)                1290      \n",
      "=================================================================\n",
      "Total params: 571,018\n",
      "Trainable params: 569,226\n",
      "Non-trainable params: 1,792\n",
      "_________________________________________________________________\n",
      "None\n"
     ]
    }
   ],
   "source": [
    "initializer = keras.initializers.HeUniform(seed = 21)\n",
    "model = keras.Sequential([\n",
    "    keras.layers.Flatten(input_shape=(28, 28)),\n",
    "    keras.layers.Dense(512, kernel_initializer=initializer),\n",
    "    keras.layers.BatchNormalization(),\n",
    "    keras.layers.Activation('relu'),\n",
    "    keras.layers.Dropout(0.2),\n",
    "    keras.layers.Dense(256, kernel_initializer=initializer),\n",
    "    keras.layers.BatchNormalization(),\n",
    "    keras.layers.Activation('relu'),\n",
    "    keras.layers.Dropout(0.2),\n",
    "    keras.layers.Dense(128, kernel_initializer=initializer),\n",
    "    keras.layers.BatchNormalization(),\n",
    "    keras.layers.Activation('relu'),\n",
    "    keras.layers.Dropout(0.2),\n",
    "    keras.layers.Dense(10, activation='softmax', kernel_initializer=initializer)\n",
    "])\n",
    "\n",
    "print(model.summary())"
   ]
  },
  {
   "cell_type": "code",
   "execution_count": 48,
   "metadata": {
    "id": "4XGK9N2E1l9m"
   },
   "outputs": [],
   "source": [
    "optimizer = keras.optimizers.Adam(lr=0.01)\n",
    "model.compile(optimizer=optimizer,\n",
    "              loss=tf.keras.losses.SparseCategoricalCrossentropy(from_logits=True),\n",
    "              metrics=['accuracy'])"
   ]
  },
  {
   "cell_type": "code",
   "execution_count": 49,
   "metadata": {
    "colab": {
     "base_uri": "https://localhost:8080/"
    },
    "id": "5yqbcOGSZcQ_",
    "outputId": "17d24edf-d446-4f52-93b1-eb1e855593c4"
   },
   "outputs": [
    {
     "name": "stdout",
     "output_type": "stream",
     "text": [
      "Epoch 1/10\n",
      "1488/1488 [==============================] - 11s 6ms/step - loss: 0.4340 - accuracy: 0.8442 - val_loss: 0.3956 - val_accuracy: 0.8522\n",
      "Epoch 2/10\n",
      "1488/1488 [==============================] - 9s 6ms/step - loss: 0.4022 - accuracy: 0.8535 - val_loss: 0.3778 - val_accuracy: 0.8559\n",
      "Epoch 3/10\n",
      "1488/1488 [==============================] - 9s 6ms/step - loss: 0.3838 - accuracy: 0.8612 - val_loss: 0.3288 - val_accuracy: 0.8787\n",
      "Epoch 4/10\n",
      "1488/1488 [==============================] - 9s 6ms/step - loss: 0.3611 - accuracy: 0.8680 - val_loss: 0.3243 - val_accuracy: 0.8806\n",
      "Epoch 5/10\n",
      "1488/1488 [==============================] - 10s 6ms/step - loss: 0.3488 - accuracy: 0.8730 - val_loss: 0.3011 - val_accuracy: 0.8908\n",
      "Epoch 6/10\n",
      "1488/1488 [==============================] - 10s 6ms/step - loss: 0.3343 - accuracy: 0.8774 - val_loss: 0.3240 - val_accuracy: 0.8877\n",
      "Epoch 7/10\n",
      "1488/1488 [==============================] - 9s 6ms/step - loss: 0.3213 - accuracy: 0.8829 - val_loss: 0.3745 - val_accuracy: 0.8660\n",
      "Epoch 8/10\n",
      "1488/1488 [==============================] - 9s 6ms/step - loss: 0.3118 - accuracy: 0.8867 - val_loss: 0.3304 - val_accuracy: 0.8810\n",
      "Epoch 9/10\n",
      "1488/1488 [==============================] - 9s 6ms/step - loss: 0.3060 - accuracy: 0.8876 - val_loss: 0.3261 - val_accuracy: 0.8882\n",
      "Epoch 10/10\n",
      "1488/1488 [==============================] - 9s 6ms/step - loss: 0.2959 - accuracy: 0.8915 - val_loss: 0.2950 - val_accuracy: 0.8950\n"
     ]
    }
   ],
   "source": [
    "result = model.fit(X_train, y_train, epochs=10, validation_data = (X_val, y_val))"
   ]
  },
  {
   "cell_type": "code",
   "execution_count": 43,
   "metadata": {
    "colab": {
     "base_uri": "https://localhost:8080/",
     "height": 336
    },
    "id": "QMCB53iN1l9m",
    "outputId": "40c47956-4319-48d9-a9b4-0232c38fa9cd"
   },
   "outputs": [
    {
     "data": {
      "image/png": "[encoded data removed]",
      "text/plain": [
       "<Figure size 1080x360 with 2 Axes>"
      ]
     },
     "metadata": {
      "needs_background": "light"
     },
     "output_type": "display_data"
    }
   ],
   "source": [
    "fig, axes = plt.subplots(nrows=1, ncols=2, figsize=(15, 5))\n",
    "\n",
    "axes[0].plot(result.epoch, result.history[\"loss\"], label='Train Loss')\n",
    "axes[0].plot(result.epoch, result.history['val_loss'], label='Val Loss')\n",
    "axes[0].set_ylim(0.0, 1)\n",
    "axes[0].legend()\n",
    "axes[0].set_title('Loss')\n",
    "\n",
    "axes[1].plot(result.epoch, result.history['accuracy'], label='Train Accuracy')\n",
    "axes[1].plot(result.epoch, result.history['val_accuracy'], label='Val Accuracy')\n",
    "axes[1].set_ylim(0.7, 1)\n",
    "axes[1].legend()\n",
    "axes[1].set_title('ACC')\n",
    "\n",
    "plt.show()"
   ]
  },
  {
   "cell_type": "markdown",
   "metadata": {
    "id": "xj3e9wo2snij"
   },
   "source": [
    "# Regularization"
   ]
  },
  {
   "cell_type": "code",
   "execution_count": 44,
   "metadata": {
    "colab": {
     "base_uri": "https://localhost:8080/"
    },
    "id": "CgPtNZuq1uDl",
    "outputId": "998b5a90-50c4-4dad-f042-78d0655eb1f9"
   },
   "outputs": [
    {
     "name": "stdout",
     "output_type": "stream",
     "text": [
      "Model: \"sequential_6\"\n",
      "_________________________________________________________________\n",
      "Layer (type)                 Output Shape              Param #   \n",
      "=================================================================\n",
      "flatten_6 (Flatten)          (None, 784)               0         \n",
      "_________________________________________________________________\n",
      "dense_24 (Dense)             (None, 512)               401920    \n",
      "_________________________________________________________________\n",
      "batch_normalization_9 (Batch (None, 512)               2048      \n",
      "_________________________________________________________________\n",
      "activation_9 (Activation)    (None, 512)               0         \n",
      "_________________________________________________________________\n",
      "dropout_3 (Dropout)          (None, 512)               0         \n",
      "_________________________________________________________________\n",
      "dense_25 (Dense)             (None, 256)               131328    \n",
      "_________________________________________________________________\n",
      "batch_normalization_10 (Batc (None, 256)               1024      \n",
      "_________________________________________________________________\n",
      "activation_10 (Activation)   (None, 256)               0         \n",
      "_________________________________________________________________\n",
      "dropout_4 (Dropout)          (None, 256)               0         \n",
      "_________________________________________________________________\n",
      "dense_26 (Dense)             (None, 128)               32896     \n",
      "_________________________________________________________________\n",
      "batch_normalization_11 (Batc (None, 128)               512       \n",
      "_________________________________________________________________\n",
      "activation_11 (Activation)   (None, 128)               0         \n",
      "_________________________________________________________________\n",
      "dropout_5 (Dropout)          (None, 128)               0         \n",
      "_________________________________________________________________\n",
      "dense_27 (Dense)             (None, 10)                1290      \n",
      "=================================================================\n",
      "Total params: 571,018\n",
      "Trainable params: 569,226\n",
      "Non-trainable params: 1,792\n",
      "_________________________________________________________________\n",
      "None\n"
     ]
    }
   ],
   "source": [
    "initializer = keras.initializers.HeUniform(seed = 21)\n",
    "model = keras.Sequential([\n",
    "    keras.layers.Flatten(input_shape=(28, 28)),\n",
    "    keras.layers.Dense(512, kernel_initializer=initializer),\n",
    "    keras.layers.BatchNormalization(),\n",
    "    keras.layers.Activation('relu'),\n",
    "    keras.layers.Dropout(0.2),\n",
    "    keras.layers.Dense(256, kernel_initializer=initializer),\n",
    "    keras.layers.BatchNormalization(),\n",
    "    keras.layers.Activation('relu'),\n",
    "    keras.layers.Dropout(0.2),\n",
    "    keras.layers.Dense(128, kernel_initializer=initializer),\n",
    "    keras.layers.BatchNormalization(),\n",
    "    keras.layers.Activation('relu'),\n",
    "    keras.layers.Dropout(0.2),\n",
    "    keras.layers.Dense(10, activation='softmax', kernel_initializer=initializer)\n",
    "])\n",
    "\n",
    "print(model.summary())"
   ]
  },
  {
   "cell_type": "code",
   "execution_count": 45,
   "metadata": {
    "id": "q1cJo6fO1uDm"
   },
   "outputs": [],
   "source": [
    "optimizer = keras.optimizers.Adam(lr=0.01, decay = 0.001)\n",
    "model.compile(optimizer=optimizer,\n",
    "              loss=tf.keras.losses.SparseCategoricalCrossentropy(from_logits=True),\n",
    "              metrics=['accuracy'])"
   ]
  },
  {
   "cell_type": "code",
   "execution_count": 46,
   "metadata": {
    "colab": {
     "base_uri": "https://localhost:8080/"
    },
    "id": "JrlSRSreZ5pQ",
    "outputId": "7e3396fe-403d-4017-df10-4f322af0ff50"
   },
   "outputs": [
    {
     "name": "stdout",
     "output_type": "stream",
     "text": [
      "Epoch 1/10\n",
      "1488/1488 [==============================] - 11s 7ms/step - loss: 0.5679 - accuracy: 0.7957 - val_loss: 0.4873 - val_accuracy: 0.8249\n",
      "Epoch 2/10\n",
      "1488/1488 [==============================] - 9s 6ms/step - loss: 0.4197 - accuracy: 0.8478 - val_loss: 0.3331 - val_accuracy: 0.8785\n",
      "Epoch 3/10\n",
      "1488/1488 [==============================] - 10s 6ms/step - loss: 0.3718 - accuracy: 0.8639 - val_loss: 0.3426 - val_accuracy: 0.8717\n",
      "Epoch 4/10\n",
      "1488/1488 [==============================] - 9s 6ms/step - loss: 0.3383 - accuracy: 0.8763 - val_loss: 0.3066 - val_accuracy: 0.8863\n",
      "Epoch 5/10\n",
      "1488/1488 [==============================] - 9s 6ms/step - loss: 0.3142 - accuracy: 0.8829 - val_loss: 0.2843 - val_accuracy: 0.8931\n",
      "Epoch 6/10\n",
      "1488/1488 [==============================] - 9s 6ms/step - loss: 0.2964 - accuracy: 0.8900 - val_loss: 0.2886 - val_accuracy: 0.8925\n",
      "Epoch 7/10\n",
      "1488/1488 [==============================] - 10s 6ms/step - loss: 0.2779 - accuracy: 0.8974 - val_loss: 0.2787 - val_accuracy: 0.8956\n",
      "Epoch 8/10\n",
      "1488/1488 [==============================] - 10s 6ms/step - loss: 0.2671 - accuracy: 0.9013 - val_loss: 0.2820 - val_accuracy: 0.8974\n",
      "Epoch 9/10\n",
      "1488/1488 [==============================] - 9s 6ms/step - loss: 0.2559 - accuracy: 0.9044 - val_loss: 0.2727 - val_accuracy: 0.9008\n",
      "Epoch 10/10\n",
      "1488/1488 [==============================] - 10s 6ms/step - loss: 0.2436 - accuracy: 0.9081 - val_loss: 0.2761 - val_accuracy: 0.9003\n"
     ]
    }
   ],
   "source": [
    "result = model.fit(X_train, y_train, epochs=10, validation_data = (X_val, y_val))"
   ]
  },
  {
   "cell_type": "code",
   "execution_count": 47,
   "metadata": {
    "colab": {
     "base_uri": "https://localhost:8080/",
     "height": 336
    },
    "id": "ExSQ5kPIZ613",
    "outputId": "fa541b18-4854-49b1-aa16-e5217cfa642e"
   },
   "outputs": [
    {
     "data": {
      "image/png": "[encoded data removed]",
      "text/plain": [
       "<Figure size 1080x360 with 2 Axes>"
      ]
     },
     "metadata": {
      "needs_background": "light"
     },
     "output_type": "display_data"
    }
   ],
   "source": [
    "fig, axes = plt.subplots(nrows=1, ncols=2, figsize=(15, 5))\n",
    "\n",
    "axes[0].plot(result.epoch, result.history[\"loss\"], label='Train Loss')\n",
    "axes[0].plot(result.epoch, result.history['val_loss'], label='Val Loss')\n",
    "axes[0].set_ylim(0.0, 1)\n",
    "axes[0].legend()\n",
    "axes[0].set_title('Loss')\n",
    "\n",
    "axes[1].plot(result.epoch, result.history['accuracy'], label='Train Accuracy')\n",
    "axes[1].plot(result.epoch, result.history['val_accuracy'], label='Val Accuracy')\n",
    "axes[1].set_ylim(0.7, 1)\n",
    "axes[1].legend()\n",
    "axes[1].set_title('ACC')\n",
    "\n",
    "plt.show()"
   ]
  },
  {
   "cell_type": "markdown",
   "metadata": {
    "id": "rN_P7N9jepaT"
   },
   "source": [
    "# 모델 수정해보기"
   ]
  },
  {
   "cell_type": "markdown",
   "metadata": {
    "id": "xN040lcs5bHU"
   },
   "source": [
    "## 활성화 함수 변경\n",
    "- LeakyReLU\n",
    "- PReLU\n",
    "- ELU"
   ]
  },
  {
   "cell_type": "code",
   "execution_count": 22,
   "metadata": {
    "colab": {
     "base_uri": "https://localhost:8080/"
    },
    "id": "d59O2tAFEoiX",
    "outputId": "f9270a4b-8fd0-4796-e294-6c8c1ad97d23"
   },
   "outputs": [
    {
     "name": "stdout",
     "output_type": "stream",
     "text": [
      "Model: \"sequential_3\"\n",
      "_________________________________________________________________\n",
      "Layer (type)                 Output Shape              Param #   \n",
      "=================================================================\n",
      "flatten_3 (Flatten)          (None, 784)               0         \n",
      "_________________________________________________________________\n",
      "dense_12 (Dense)             (None, 512)               401920    \n",
      "_________________________________________________________________\n",
      "batch_normalization_9 (Batch (None, 512)               2048      \n",
      "_________________________________________________________________\n",
      "leaky_re_lu_3 (LeakyReLU)    (None, 512)               0         \n",
      "_________________________________________________________________\n",
      "dropout_9 (Dropout)          (None, 512)               0         \n",
      "_________________________________________________________________\n",
      "dense_13 (Dense)             (None, 256)               131328    \n",
      "_________________________________________________________________\n",
      "batch_normalization_10 (Batc (None, 256)               1024      \n",
      "_________________________________________________________________\n",
      "leaky_re_lu_4 (LeakyReLU)    (None, 256)               0         \n",
      "_________________________________________________________________\n",
      "dropout_10 (Dropout)         (None, 256)               0         \n",
      "_________________________________________________________________\n",
      "dense_14 (Dense)             (None, 128)               32896     \n",
      "_________________________________________________________________\n",
      "batch_normalization_11 (Batc (None, 128)               512       \n",
      "_________________________________________________________________\n",
      "leaky_re_lu_5 (LeakyReLU)    (None, 128)               0         \n",
      "_________________________________________________________________\n",
      "dropout_11 (Dropout)         (None, 128)               0         \n",
      "_________________________________________________________________\n",
      "dense_15 (Dense)             (None, 10)                1290      \n",
      "=================================================================\n",
      "Total params: 571,018\n",
      "Trainable params: 569,226\n",
      "Non-trainable params: 1,792\n",
      "_________________________________________________________________\n",
      "None\n"
     ]
    }
   ],
   "source": [
    "# LeakyReLU 활성화함수 사용\n",
    "initializer = keras.initializers.HeUniform(seed = 21)\n",
    "model = keras.Sequential([\n",
    "    keras.layers.Flatten(input_shape=(28, 28)),\n",
    "    keras.layers.Dense(512, kernel_initializer=initializer),\n",
    "    keras.layers.BatchNormalization(),\n",
    "    keras.layers.LeakyReLU(alpha=0.3),\n",
    "    keras.layers.Dropout(0.2),\n",
    "    keras.layers.Dense(256, kernel_initializer=initializer),\n",
    "    keras.layers.BatchNormalization(),\n",
    "    keras.layers.LeakyReLU(alpha=0.3),\n",
    "    keras.layers.Dropout(0.2),\n",
    "    keras.layers.Dense(128, kernel_initializer=initializer),\n",
    "    keras.layers.BatchNormalization(),\n",
    "    keras.layers.LeakyReLU(alpha=0.3),\n",
    "    keras.layers.Dropout(0.2),\n",
    "    keras.layers.Dense(10, activation='softmax', kernel_initializer=initializer)\n",
    "])\n",
    "\n",
    "print(model.summary())"
   ]
  },
  {
   "cell_type": "code",
   "execution_count": 23,
   "metadata": {
    "id": "r2tHn_8aEoij"
   },
   "outputs": [],
   "source": [
    "optimizer = keras.optimizers.Adam(lr=0.01)\n",
    "model.compile(optimizer=optimizer,\n",
    "              loss=tf.keras.losses.SparseCategoricalCrossentropy(from_logits=True),\n",
    "              metrics=['accuracy'])"
   ]
  },
  {
   "cell_type": "code",
   "execution_count": 24,
   "metadata": {
    "colab": {
     "base_uri": "https://localhost:8080/"
    },
    "id": "02oiy1nmEoik",
    "outputId": "d53aff61-6c8c-472f-f4ef-e04d04aa117f"
   },
   "outputs": [
    {
     "name": "stdout",
     "output_type": "stream",
     "text": [
      "Epoch 1/15\n",
      "1488/1488 [==============================] - 11s 7ms/step - loss: 0.5930 - accuracy: 0.7879 - val_loss: 0.4258 - val_accuracy: 0.8428\n",
      "Epoch 2/15\n",
      "1488/1488 [==============================] - 9s 6ms/step - loss: 0.4803 - accuracy: 0.8290 - val_loss: 0.4517 - val_accuracy: 0.8443\n",
      "Epoch 3/15\n",
      "1488/1488 [==============================] - 9s 6ms/step - loss: 0.4481 - accuracy: 0.8403 - val_loss: 0.3993 - val_accuracy: 0.8492\n",
      "Epoch 4/15\n",
      "1488/1488 [==============================] - 10s 6ms/step - loss: 0.4312 - accuracy: 0.8441 - val_loss: 0.4344 - val_accuracy: 0.8404\n",
      "Epoch 5/15\n",
      "1488/1488 [==============================] - 9s 6ms/step - loss: 0.4102 - accuracy: 0.8502 - val_loss: 0.3835 - val_accuracy: 0.8571\n",
      "Epoch 6/15\n",
      "1488/1488 [==============================] - 9s 6ms/step - loss: 0.3980 - accuracy: 0.8539 - val_loss: 0.3749 - val_accuracy: 0.8637\n",
      "Epoch 7/15\n",
      "1488/1488 [==============================] - 9s 6ms/step - loss: 0.3844 - accuracy: 0.8595 - val_loss: 0.4207 - val_accuracy: 0.8493\n",
      "Epoch 8/15\n",
      "1488/1488 [==============================] - 9s 6ms/step - loss: 0.3752 - accuracy: 0.8621 - val_loss: 0.4405 - val_accuracy: 0.8525\n",
      "Epoch 9/15\n",
      "1488/1488 [==============================] - 10s 6ms/step - loss: 0.3677 - accuracy: 0.8639 - val_loss: 0.3336 - val_accuracy: 0.8797\n",
      "Epoch 10/15\n",
      "1488/1488 [==============================] - 9s 6ms/step - loss: 0.3552 - accuracy: 0.8698 - val_loss: 0.3828 - val_accuracy: 0.8603\n",
      "Epoch 11/15\n",
      "1488/1488 [==============================] - 9s 6ms/step - loss: 0.3498 - accuracy: 0.8718 - val_loss: 0.3242 - val_accuracy: 0.8834\n",
      "Epoch 12/15\n",
      "1488/1488 [==============================] - 10s 6ms/step - loss: 0.3448 - accuracy: 0.8729 - val_loss: 0.3421 - val_accuracy: 0.8758\n",
      "Epoch 13/15\n",
      "1488/1488 [==============================] - 9s 6ms/step - loss: 0.3370 - accuracy: 0.8738 - val_loss: 0.3530 - val_accuracy: 0.8748\n",
      "Epoch 14/15\n",
      "1488/1488 [==============================] - 9s 6ms/step - loss: 0.3321 - accuracy: 0.8762 - val_loss: 0.3285 - val_accuracy: 0.8829\n",
      "Epoch 15/15\n",
      "1488/1488 [==============================] - 9s 6ms/step - loss: 0.3230 - accuracy: 0.8807 - val_loss: 0.3476 - val_accuracy: 0.8742\n"
     ]
    }
   ],
   "source": [
    "result = model.fit(X_train, y_train, epochs=15, validation_data = (X_val, y_val))"
   ]
  },
  {
   "cell_type": "code",
   "execution_count": 25,
   "metadata": {
    "colab": {
     "base_uri": "https://localhost:8080/"
    },
    "id": "bNd5kcHzaBH5",
    "outputId": "3831794b-49cf-45c9-8631-987963d9e1f1"
   },
   "outputs": [
    {
     "name": "stdout",
     "output_type": "stream",
     "text": [
      "Model: \"sequential_4\"\n",
      "_________________________________________________________________\n",
      "Layer (type)                 Output Shape              Param #   \n",
      "=================================================================\n",
      "flatten_4 (Flatten)          (None, 784)               0         \n",
      "_________________________________________________________________\n",
      "dense_16 (Dense)             (None, 512)               401920    \n",
      "_________________________________________________________________\n",
      "batch_normalization_12 (Batc (None, 512)               2048      \n",
      "_________________________________________________________________\n",
      "p_re_lu_3 (PReLU)            (None, 512)               512       \n",
      "_________________________________________________________________\n",
      "dropout_12 (Dropout)         (None, 512)               0         \n",
      "_________________________________________________________________\n",
      "dense_17 (Dense)             (None, 256)               131328    \n",
      "_________________________________________________________________\n",
      "batch_normalization_13 (Batc (None, 256)               1024      \n",
      "_________________________________________________________________\n",
      "p_re_lu_4 (PReLU)            (None, 256)               256       \n",
      "_________________________________________________________________\n",
      "dropout_13 (Dropout)         (None, 256)               0         \n",
      "_________________________________________________________________\n",
      "dense_18 (Dense)             (None, 128)               32896     \n",
      "_________________________________________________________________\n",
      "batch_normalization_14 (Batc (None, 128)               512       \n",
      "_________________________________________________________________\n",
      "p_re_lu_5 (PReLU)            (None, 128)               128       \n",
      "_________________________________________________________________\n",
      "dropout_14 (Dropout)         (None, 128)               0         \n",
      "_________________________________________________________________\n",
      "dense_19 (Dense)             (None, 10)                1290      \n",
      "=================================================================\n",
      "Total params: 571,914\n",
      "Trainable params: 570,122\n",
      "Non-trainable params: 1,792\n",
      "_________________________________________________________________\n",
      "None\n"
     ]
    }
   ],
   "source": [
    "# PReLU 활성화함수 사용\n",
    "initializer = keras.initializers.HeUniform(seed = 21)\n",
    "model = keras.Sequential([\n",
    "    keras.layers.Flatten(input_shape=(28, 28)),\n",
    "    keras.layers.Dense(512, kernel_initializer=initializer),\n",
    "    keras.layers.BatchNormalization(),\n",
    "    keras.layers.PReLU(alpha_initializer='zeros', alpha_regularizer=None, alpha_constraint=None, shared_axes=None),\n",
    "    keras.layers.Dropout(0.2),\n",
    "    keras.layers.Dense(256, kernel_initializer=initializer),\n",
    "    keras.layers.BatchNormalization(),\n",
    "    keras.layers.PReLU(alpha_initializer='zeros', alpha_regularizer=None, alpha_constraint=None, shared_axes=None),\n",
    "    keras.layers.Dropout(0.2),\n",
    "    keras.layers.Dense(128, kernel_initializer=initializer),\n",
    "    keras.layers.BatchNormalization(),\n",
    "    keras.layers.PReLU(alpha_initializer='zeros', alpha_regularizer=None, alpha_constraint=None, shared_axes=None),\n",
    "    keras.layers.Dropout(0.2),\n",
    "    keras.layers.Dense(10, activation='softmax', kernel_initializer=initializer)\n",
    "])\n",
    "\n",
    "print(model.summary())"
   ]
  },
  {
   "cell_type": "code",
   "execution_count": 26,
   "metadata": {
    "id": "uKbxhpVGaBH_"
   },
   "outputs": [],
   "source": [
    "optimizer = keras.optimizers.Adam(lr=0.01)\n",
    "model.compile(optimizer=optimizer,\n",
    "              loss=tf.keras.losses.SparseCategoricalCrossentropy(from_logits=True),\n",
    "              metrics=['accuracy'])"
   ]
  },
  {
   "cell_type": "code",
   "execution_count": 27,
   "metadata": {
    "colab": {
     "base_uri": "https://localhost:8080/"
    },
    "id": "Tab6g2R7aBH_",
    "outputId": "ddcff5cb-9e9e-41a5-d67d-f09f771912d1"
   },
   "outputs": [
    {
     "name": "stdout",
     "output_type": "stream",
     "text": [
      "Epoch 1/15\n",
      "1488/1488 [==============================] - 12s 7ms/step - loss: 0.5903 - accuracy: 0.7899 - val_loss: 0.5523 - val_accuracy: 0.7951\n",
      "Epoch 2/15\n",
      "1488/1488 [==============================] - 11s 7ms/step - loss: 0.4657 - accuracy: 0.8330 - val_loss: 0.4241 - val_accuracy: 0.8504\n",
      "Epoch 3/15\n",
      "1488/1488 [==============================] - 10s 7ms/step - loss: 0.4285 - accuracy: 0.8460 - val_loss: 0.4379 - val_accuracy: 0.8459\n",
      "Epoch 4/15\n",
      "1488/1488 [==============================] - 10s 7ms/step - loss: 0.4000 - accuracy: 0.8533 - val_loss: 0.3993 - val_accuracy: 0.8566\n",
      "Epoch 5/15\n",
      "1488/1488 [==============================] - 10s 7ms/step - loss: 0.3781 - accuracy: 0.8622 - val_loss: 0.3768 - val_accuracy: 0.8574\n",
      "Epoch 6/15\n",
      "1488/1488 [==============================] - 10s 7ms/step - loss: 0.3608 - accuracy: 0.8681 - val_loss: 0.3268 - val_accuracy: 0.8787\n",
      "Epoch 7/15\n",
      "1488/1488 [==============================] - 10s 7ms/step - loss: 0.3455 - accuracy: 0.8735 - val_loss: 0.3212 - val_accuracy: 0.8826\n",
      "Epoch 8/15\n",
      "1488/1488 [==============================] - 10s 7ms/step - loss: 0.3291 - accuracy: 0.8807 - val_loss: 0.3483 - val_accuracy: 0.8761\n",
      "Epoch 9/15\n",
      "1488/1488 [==============================] - 10s 7ms/step - loss: 0.3198 - accuracy: 0.8822 - val_loss: 0.3078 - val_accuracy: 0.8876\n",
      "Epoch 10/15\n",
      "1488/1488 [==============================] - 10s 7ms/step - loss: 0.3077 - accuracy: 0.8861 - val_loss: 0.2981 - val_accuracy: 0.8868\n",
      "Epoch 11/15\n",
      "1488/1488 [==============================] - 10s 7ms/step - loss: 0.3018 - accuracy: 0.8888 - val_loss: 0.3379 - val_accuracy: 0.8766\n",
      "Epoch 12/15\n",
      "1488/1488 [==============================] - 10s 7ms/step - loss: 0.2912 - accuracy: 0.8930 - val_loss: 0.3232 - val_accuracy: 0.8876\n",
      "Epoch 13/15\n",
      "1488/1488 [==============================] - 10s 7ms/step - loss: 0.2846 - accuracy: 0.8937 - val_loss: 0.3028 - val_accuracy: 0.8878\n",
      "Epoch 14/15\n",
      "1488/1488 [==============================] - 10s 7ms/step - loss: 0.2758 - accuracy: 0.8983 - val_loss: 0.2920 - val_accuracy: 0.8954\n",
      "Epoch 15/15\n",
      "1488/1488 [==============================] - 10s 7ms/step - loss: 0.2659 - accuracy: 0.9021 - val_loss: 0.2874 - val_accuracy: 0.8927\n"
     ]
    }
   ],
   "source": [
    "result = model.fit(X_train, y_train, epochs=15, validation_data = (X_val, y_val))"
   ]
  },
  {
   "cell_type": "code",
   "execution_count": 19,
   "metadata": {
    "colab": {
     "base_uri": "https://localhost:8080/"
    },
    "id": "7o5JokCJaOCA",
    "outputId": "484c95fa-4997-4f65-92d4-dd79614d890b"
   },
   "outputs": [
    {
     "name": "stdout",
     "output_type": "stream",
     "text": [
      "Model: \"sequential_2\"\n",
      "_________________________________________________________________\n",
      "Layer (type)                 Output Shape              Param #   \n",
      "=================================================================\n",
      "flatten_2 (Flatten)          (None, 784)               0         \n",
      "_________________________________________________________________\n",
      "dense_8 (Dense)              (None, 512)               401920    \n",
      "_________________________________________________________________\n",
      "batch_normalization_6 (Batch (None, 512)               2048      \n",
      "_________________________________________________________________\n",
      "activation_6 (Activation)    (None, 512)               0         \n",
      "_________________________________________________________________\n",
      "dropout_6 (Dropout)          (None, 512)               0         \n",
      "_________________________________________________________________\n",
      "dense_9 (Dense)              (None, 256)               131328    \n",
      "_________________________________________________________________\n",
      "batch_normalization_7 (Batch (None, 256)               1024      \n",
      "_________________________________________________________________\n",
      "activation_7 (Activation)    (None, 256)               0         \n",
      "_________________________________________________________________\n",
      "dropout_7 (Dropout)          (None, 256)               0         \n",
      "_________________________________________________________________\n",
      "dense_10 (Dense)             (None, 128)               32896     \n",
      "_________________________________________________________________\n",
      "batch_normalization_8 (Batch (None, 128)               512       \n",
      "_________________________________________________________________\n",
      "activation_8 (Activation)    (None, 128)               0         \n",
      "_________________________________________________________________\n",
      "dropout_8 (Dropout)          (None, 128)               0         \n",
      "_________________________________________________________________\n",
      "dense_11 (Dense)             (None, 10)                1290      \n",
      "=================================================================\n",
      "Total params: 571,018\n",
      "Trainable params: 569,226\n",
      "Non-trainable params: 1,792\n",
      "_________________________________________________________________\n",
      "None\n"
     ]
    }
   ],
   "source": [
    "# ELU 활성화함수 사용\n",
    "initializer = keras.initializers.HeUniform(seed = 21)\n",
    "model = keras.Sequential([\n",
    "    keras.layers.Flatten(input_shape=(28, 28)),\n",
    "    keras.layers.Dense(512, kernel_initializer=initializer),\n",
    "    keras.layers.BatchNormalization(),\n",
    "    keras.activations.elu(x, alpha=1.0),\n",
    "    keras.layers.Dropout(0.2),\n",
    "    keras.layers.Dense(256, kernel_initializer=initializer),\n",
    "    keras.layers.BatchNormalization(),\n",
    "    keras.activations.elu(x, alpha=1.0),\n",
    "    keras.layers.Dropout(0.2),\n",
    "    keras.layers.Dense(128, kernel_initializer=initializer),\n",
    "    keras.layers.BatchNormalization(),\n",
    "    keras.activations.elu(x, alpha=1.0),\n",
    "    keras.layers.Dropout(0.2),\n",
    "    keras.layers.Dense(10, activation='softmax', kernel_initializer=initializer)\n",
    "])\n",
    "\n",
    "print(model.summary())"
   ]
  },
  {
   "cell_type": "code",
   "execution_count": 20,
   "metadata": {
    "id": "IJVDj6o-aOCR"
   },
   "outputs": [],
   "source": [
    "optimizer = keras.optimizers.Adam(lr=0.01)\n",
    "model.compile(optimizer=optimizer,\n",
    "              loss=tf.keras.losses.SparseCategoricalCrossentropy(from_logits=True),\n",
    "              metrics=['accuracy'])"
   ]
  },
  {
   "cell_type": "code",
   "execution_count": 21,
   "metadata": {
    "colab": {
     "base_uri": "https://localhost:8080/"
    },
    "id": "yhekGe0VaOCR",
    "outputId": "ba556b2f-d07b-4837-de27-a0ca6d7a08f4"
   },
   "outputs": [
    {
     "name": "stdout",
     "output_type": "stream",
     "text": [
      "Epoch 1/15\n",
      "1488/1488 [==============================] - 11s 6ms/step - loss: 0.5980 - accuracy: 0.7863 - val_loss: 0.4639 - val_accuracy: 0.8364\n",
      "Epoch 2/15\n",
      "1488/1488 [==============================] - 9s 6ms/step - loss: 0.4727 - accuracy: 0.8297 - val_loss: 0.4593 - val_accuracy: 0.8388\n",
      "Epoch 3/15\n",
      "1488/1488 [==============================] - 9s 6ms/step - loss: 0.4359 - accuracy: 0.8434 - val_loss: 0.5071 - val_accuracy: 0.8134\n",
      "Epoch 4/15\n",
      "1488/1488 [==============================] - 9s 6ms/step - loss: 0.4062 - accuracy: 0.8534 - val_loss: 0.3621 - val_accuracy: 0.8715\n",
      "Epoch 5/15\n",
      "1488/1488 [==============================] - 9s 6ms/step - loss: 0.3878 - accuracy: 0.8613 - val_loss: 0.3742 - val_accuracy: 0.8667\n",
      "Epoch 6/15\n",
      "1488/1488 [==============================] - 9s 6ms/step - loss: 0.3655 - accuracy: 0.8669 - val_loss: 0.3252 - val_accuracy: 0.8791\n",
      "Epoch 7/15\n",
      "1488/1488 [==============================] - 9s 6ms/step - loss: 0.3519 - accuracy: 0.8720 - val_loss: 0.4253 - val_accuracy: 0.8474\n",
      "Epoch 8/15\n",
      "1488/1488 [==============================] - 9s 6ms/step - loss: 0.3375 - accuracy: 0.8758 - val_loss: 0.3200 - val_accuracy: 0.8824\n",
      "Epoch 9/15\n",
      "1488/1488 [==============================] - 9s 6ms/step - loss: 0.3275 - accuracy: 0.8802 - val_loss: 0.4404 - val_accuracy: 0.8394\n",
      "Epoch 10/15\n",
      "1488/1488 [==============================] - 9s 6ms/step - loss: 0.3135 - accuracy: 0.8847 - val_loss: 0.3332 - val_accuracy: 0.8797\n",
      "Epoch 11/15\n",
      "1488/1488 [==============================] - 10s 6ms/step - loss: 0.3026 - accuracy: 0.8904 - val_loss: 0.3037 - val_accuracy: 0.8928\n",
      "Epoch 12/15\n",
      "1488/1488 [==============================] - 9s 6ms/step - loss: 0.2923 - accuracy: 0.8930 - val_loss: 0.3391 - val_accuracy: 0.8802\n",
      "Epoch 13/15\n",
      "1488/1488 [==============================] - 9s 6ms/step - loss: 0.2838 - accuracy: 0.8959 - val_loss: 0.3400 - val_accuracy: 0.8824\n",
      "Epoch 14/15\n",
      "1488/1488 [==============================] - 9s 6ms/step - loss: 0.2789 - accuracy: 0.8985 - val_loss: 0.2962 - val_accuracy: 0.8963\n",
      "Epoch 15/15\n",
      "1488/1488 [==============================] - 10s 6ms/step - loss: 0.2727 - accuracy: 0.8988 - val_loss: 0.3095 - val_accuracy: 0.8856\n"
     ]
    }
   ],
   "source": [
    "result = model.fit(X_train, y_train, epochs=15, validation_data = (X_val, y_val))"
   ]
  },
  {
   "cell_type": "markdown",
   "metadata": {
    "id": "2U_jKa29lqc6"
   },
   "source": [
    "활성화함수는 ReLU를 그대로 사용하는 것이 좋아보인다"
   ]
  },
  {
   "cell_type": "markdown",
   "metadata": {
    "id": "j1CmYXKj8_Rg"
   },
   "source": [
    "## optimization 방식 변경\n",
    "- AdaDelta\n",
    "- Nadam\n",
    "- Adamax"
   ]
  },
  {
   "cell_type": "code",
   "execution_count": 28,
   "metadata": {
    "colab": {
     "base_uri": "https://localhost:8080/"
    },
    "id": "VvYiXY4ta4vF",
    "outputId": "de5070be-5aa2-45c5-898a-b08b3c24a8d5"
   },
   "outputs": [
    {
     "name": "stdout",
     "output_type": "stream",
     "text": [
      "Model: \"sequential_5\"\n",
      "_________________________________________________________________\n",
      "Layer (type)                 Output Shape              Param #   \n",
      "=================================================================\n",
      "flatten_5 (Flatten)          (None, 784)               0         \n",
      "_________________________________________________________________\n",
      "dense_20 (Dense)             (None, 512)               401920    \n",
      "_________________________________________________________________\n",
      "batch_normalization_15 (Batc (None, 512)               2048      \n",
      "_________________________________________________________________\n",
      "activation_9 (Activation)    (None, 512)               0         \n",
      "_________________________________________________________________\n",
      "dropout_15 (Dropout)         (None, 512)               0         \n",
      "_________________________________________________________________\n",
      "dense_21 (Dense)             (None, 256)               131328    \n",
      "_________________________________________________________________\n",
      "batch_normalization_16 (Batc (None, 256)               1024      \n",
      "_________________________________________________________________\n",
      "activation_10 (Activation)   (None, 256)               0         \n",
      "_________________________________________________________________\n",
      "dropout_16 (Dropout)         (None, 256)               0         \n",
      "_________________________________________________________________\n",
      "dense_22 (Dense)             (None, 128)               32896     \n",
      "_________________________________________________________________\n",
      "batch_normalization_17 (Batc (None, 128)               512       \n",
      "_________________________________________________________________\n",
      "activation_11 (Activation)   (None, 128)               0         \n",
      "_________________________________________________________________\n",
      "dropout_17 (Dropout)         (None, 128)               0         \n",
      "_________________________________________________________________\n",
      "dense_23 (Dense)             (None, 64)                8256      \n",
      "_________________________________________________________________\n",
      "batch_normalization_18 (Batc (None, 64)                256       \n",
      "_________________________________________________________________\n",
      "activation_12 (Activation)   (None, 64)                0         \n",
      "_________________________________________________________________\n",
      "dropout_18 (Dropout)         (None, 64)                0         \n",
      "_________________________________________________________________\n",
      "dense_24 (Dense)             (None, 10)                650       \n",
      "=================================================================\n",
      "Total params: 578,890\n",
      "Trainable params: 576,970\n",
      "Non-trainable params: 1,920\n",
      "_________________________________________________________________\n",
      "None\n"
     ]
    }
   ],
   "source": [
    "# Nadam + 한 층 더 추가 (두개 층 추가는 성능 저하됨)\n",
    "initializer = keras.initializers.HeUniform(seed = 21)\n",
    "model = keras.Sequential([\n",
    "    keras.layers.Flatten(input_shape=(28, 28)),\n",
    "    keras.layers.Dense(512, kernel_initializer=initializer),\n",
    "    keras.layers.BatchNormalization(),\n",
    "    keras.layers.Activation('relu'),\n",
    "    keras.layers.Dropout(0.2),\n",
    "    keras.layers.Dense(256, kernel_initializer=initializer),\n",
    "    keras.layers.BatchNormalization(),\n",
    "    keras.layers.Activation('relu'),\n",
    "    keras.layers.Dropout(0.2),\n",
    "    keras.layers.Dense(128, kernel_initializer=initializer),\n",
    "    keras.layers.BatchNormalization(),\n",
    "    keras.layers.Activation('relu'),\n",
    "    keras.layers.Dropout(0.2),\n",
    "    keras.layers.Dense(64, kernel_initializer=initializer),\n",
    "    keras.layers.BatchNormalization(),\n",
    "    keras.layers.Activation('relu'),\n",
    "    keras.layers.Dropout(0.2),\n",
    "    keras.layers.Dense(10, activation='softmax', kernel_initializer=initializer)\n",
    "])\n",
    "\n",
    "print(model.summary())"
   ]
  },
  {
   "cell_type": "code",
   "execution_count": 31,
   "metadata": {
    "id": "AFrkIXhua4vG"
   },
   "outputs": [],
   "source": [
    "optimizer = keras.optimizers.Nadam(lr=0.01)\n",
    "model.compile(optimizer=optimizer,\n",
    "              loss=tf.keras.losses.SparseCategoricalCrossentropy(from_logits=True),\n",
    "              metrics=['accuracy'])"
   ]
  },
  {
   "cell_type": "code",
   "execution_count": 32,
   "metadata": {
    "colab": {
     "base_uri": "https://localhost:8080/"
    },
    "id": "Y7YinbIaa4vG",
    "outputId": "aaad4a76-d250-45d4-bfc6-09a29abe5d69"
   },
   "outputs": [
    {
     "name": "stdout",
     "output_type": "stream",
     "text": [
      "Epoch 1/15\n",
      "1488/1488 [==============================] - 20s 12ms/step - loss: 0.2858 - accuracy: 0.8972 - val_loss: 0.2976 - val_accuracy: 0.8913\n",
      "Epoch 2/15\n",
      "1488/1488 [==============================] - 17s 12ms/step - loss: 0.2799 - accuracy: 0.8992 - val_loss: 0.3073 - val_accuracy: 0.8903\n",
      "Epoch 3/15\n",
      "1488/1488 [==============================] - 17s 11ms/step - loss: 0.2760 - accuracy: 0.8990 - val_loss: 0.2878 - val_accuracy: 0.8990\n",
      "Epoch 4/15\n",
      "1488/1488 [==============================] - 17s 11ms/step - loss: 0.2725 - accuracy: 0.8996 - val_loss: 0.2837 - val_accuracy: 0.9019\n",
      "Epoch 5/15\n",
      "1488/1488 [==============================] - 17s 12ms/step - loss: 0.2662 - accuracy: 0.9040 - val_loss: 0.2900 - val_accuracy: 0.8955\n",
      "Epoch 6/15\n",
      "1488/1488 [==============================] - 17s 11ms/step - loss: 0.2616 - accuracy: 0.9045 - val_loss: 0.2953 - val_accuracy: 0.8968\n",
      "Epoch 7/15\n",
      "1488/1488 [==============================] - 17s 11ms/step - loss: 0.2551 - accuracy: 0.9070 - val_loss: 0.3080 - val_accuracy: 0.8889\n",
      "Epoch 8/15\n",
      "1488/1488 [==============================] - 17s 11ms/step - loss: 0.2562 - accuracy: 0.9063 - val_loss: 0.2959 - val_accuracy: 0.8983\n",
      "Epoch 9/15\n",
      "1488/1488 [==============================] - 17s 11ms/step - loss: 0.2447 - accuracy: 0.9107 - val_loss: 0.2939 - val_accuracy: 0.9011\n",
      "Epoch 10/15\n",
      "1488/1488 [==============================] - 17s 12ms/step - loss: 0.2416 - accuracy: 0.9113 - val_loss: 0.3261 - val_accuracy: 0.8901\n",
      "Epoch 11/15\n",
      "1488/1488 [==============================] - 17s 12ms/step - loss: 0.2376 - accuracy: 0.9128 - val_loss: 0.3175 - val_accuracy: 0.8941\n",
      "Epoch 12/15\n",
      "1488/1488 [==============================] - 17s 12ms/step - loss: 0.2384 - accuracy: 0.9131 - val_loss: 0.2921 - val_accuracy: 0.8966\n",
      "Epoch 13/15\n",
      "1488/1488 [==============================] - 17s 12ms/step - loss: 0.2307 - accuracy: 0.9153 - val_loss: 0.2839 - val_accuracy: 0.9033\n",
      "Epoch 14/15\n",
      "1488/1488 [==============================] - 17s 12ms/step - loss: 0.2287 - accuracy: 0.9159 - val_loss: 0.2803 - val_accuracy: 0.9018\n",
      "Epoch 15/15\n",
      "1488/1488 [==============================] - 17s 12ms/step - loss: 0.2239 - accuracy: 0.9184 - val_loss: 0.3116 - val_accuracy: 0.8997\n"
     ]
    }
   ],
   "source": [
    "result = model.fit(X_train, y_train, epochs=15, validation_data = (X_val, y_val))"
   ]
  },
  {
   "cell_type": "code",
   "execution_count": 39,
   "metadata": {
    "id": "gZ37Zzd7gpHN"
   },
   "outputs": [],
   "source": [
    "# Adadelta\n",
    "optimizer = keras.optimizers.Adadelta(lr=0.01)\n",
    "model.compile(optimizer=optimizer,\n",
    "              loss=tf.keras.losses.SparseCategoricalCrossentropy(from_logits=True),\n",
    "              metrics=['accuracy'])"
   ]
  },
  {
   "cell_type": "code",
   "execution_count": 40,
   "metadata": {
    "colab": {
     "base_uri": "https://localhost:8080/"
    },
    "id": "YcB_WjmSgpHU",
    "outputId": "4ae1a363-0479-462a-ce60-e64d64fb6363"
   },
   "outputs": [
    {
     "name": "stdout",
     "output_type": "stream",
     "text": [
      "Epoch 1/15\n",
      "1488/1488 [==============================] - 15s 9ms/step - loss: 0.5214 - accuracy: 0.8186 - val_loss: 0.3883 - val_accuracy: 0.8639\n",
      "Epoch 2/15\n",
      "1488/1488 [==============================] - 13s 9ms/step - loss: 0.5130 - accuracy: 0.8239 - val_loss: 0.3837 - val_accuracy: 0.8640\n",
      "Epoch 3/15\n",
      "1488/1488 [==============================] - 13s 9ms/step - loss: 0.5096 - accuracy: 0.8249 - val_loss: 0.3818 - val_accuracy: 0.8651\n",
      "Epoch 4/15\n",
      "1488/1488 [==============================] - 13s 9ms/step - loss: 0.5019 - accuracy: 0.8283 - val_loss: 0.3793 - val_accuracy: 0.8665\n",
      "Epoch 5/15\n",
      "1488/1488 [==============================] - 13s 9ms/step - loss: 0.5006 - accuracy: 0.8295 - val_loss: 0.3775 - val_accuracy: 0.8669\n",
      "Epoch 6/15\n",
      "1488/1488 [==============================] - 13s 9ms/step - loss: 0.5027 - accuracy: 0.8284 - val_loss: 0.3758 - val_accuracy: 0.8677\n",
      "Epoch 7/15\n",
      "1488/1488 [==============================] - 13s 9ms/step - loss: 0.4994 - accuracy: 0.8303 - val_loss: 0.3739 - val_accuracy: 0.8683\n",
      "Epoch 8/15\n",
      "1488/1488 [==============================] - 13s 9ms/step - loss: 0.4968 - accuracy: 0.8321 - val_loss: 0.3731 - val_accuracy: 0.8676\n",
      "Epoch 9/15\n",
      "1488/1488 [==============================] - 13s 9ms/step - loss: 0.4962 - accuracy: 0.8311 - val_loss: 0.3726 - val_accuracy: 0.8687\n",
      "Epoch 10/15\n",
      "1488/1488 [==============================] - 14s 9ms/step - loss: 0.4948 - accuracy: 0.8306 - val_loss: 0.3711 - val_accuracy: 0.8695\n",
      "Epoch 11/15\n",
      "1488/1488 [==============================] - 13s 9ms/step - loss: 0.4939 - accuracy: 0.8324 - val_loss: 0.3703 - val_accuracy: 0.8686\n",
      "Epoch 12/15\n",
      "1488/1488 [==============================] - 13s 9ms/step - loss: 0.4931 - accuracy: 0.8312 - val_loss: 0.3691 - val_accuracy: 0.8686\n",
      "Epoch 13/15\n",
      "1488/1488 [==============================] - 14s 9ms/step - loss: 0.4893 - accuracy: 0.8338 - val_loss: 0.3690 - val_accuracy: 0.8687\n",
      "Epoch 14/15\n",
      "1488/1488 [==============================] - 13s 9ms/step - loss: 0.4879 - accuracy: 0.8333 - val_loss: 0.3679 - val_accuracy: 0.8692\n",
      "Epoch 15/15\n",
      "1488/1488 [==============================] - 13s 9ms/step - loss: 0.4893 - accuracy: 0.8315 - val_loss: 0.3674 - val_accuracy: 0.8690\n"
     ]
    }
   ],
   "source": [
    "result = model.fit(X_train, y_train, epochs=15, validation_data = (X_val, y_val))"
   ]
  },
  {
   "cell_type": "code",
   "execution_count": 43,
   "metadata": {
    "id": "UeMz5ax_EXFM"
   },
   "outputs": [],
   "source": [
    "# Adamax\n",
    "optimizer = keras.optimizers.Adamax(lr=0.01)\n",
    "model.compile(optimizer=optimizer,\n",
    "              loss=tf.keras.losses.SparseCategoricalCrossentropy(from_logits=True),\n",
    "              metrics=['accuracy'])"
   ]
  },
  {
   "cell_type": "code",
   "execution_count": 44,
   "metadata": {
    "colab": {
     "base_uri": "https://localhost:8080/"
    },
    "id": "U9fuZNqpEXH4",
    "outputId": "d6f148b8-899d-46d0-b1ab-e26520ec440e"
   },
   "outputs": [
    {
     "name": "stdout",
     "output_type": "stream",
     "text": [
      "Epoch 1/10\n",
      "1488/1488 [==============================] - 15s 9ms/step - loss: 0.4686 - accuracy: 0.8408 - val_loss: 0.3530 - val_accuracy: 0.8698\n",
      "Epoch 2/10\n",
      "1488/1488 [==============================] - 13s 9ms/step - loss: 0.4295 - accuracy: 0.8516 - val_loss: 0.3366 - val_accuracy: 0.8786\n",
      "Epoch 3/10\n",
      "1488/1488 [==============================] - 13s 9ms/step - loss: 0.4077 - accuracy: 0.8596 - val_loss: 0.3253 - val_accuracy: 0.8800\n",
      "Epoch 4/10\n",
      "1488/1488 [==============================] - 13s 9ms/step - loss: 0.3898 - accuracy: 0.8651 - val_loss: 0.3241 - val_accuracy: 0.8805\n",
      "Epoch 5/10\n",
      "1488/1488 [==============================] - 13s 9ms/step - loss: 0.3742 - accuracy: 0.8700 - val_loss: 0.3070 - val_accuracy: 0.8899\n",
      "Epoch 6/10\n",
      "1488/1488 [==============================] - 13s 9ms/step - loss: 0.3580 - accuracy: 0.8755 - val_loss: 0.3190 - val_accuracy: 0.8844\n",
      "Epoch 7/10\n",
      "1488/1488 [==============================] - 13s 9ms/step - loss: 0.3523 - accuracy: 0.8785 - val_loss: 0.3123 - val_accuracy: 0.8895\n",
      "Epoch 8/10\n",
      "1488/1488 [==============================] - 13s 9ms/step - loss: 0.3398 - accuracy: 0.8809 - val_loss: 0.3106 - val_accuracy: 0.8907\n",
      "Epoch 9/10\n",
      "1488/1488 [==============================] - 13s 9ms/step - loss: 0.3302 - accuracy: 0.8850 - val_loss: 0.2899 - val_accuracy: 0.8964\n",
      "Epoch 10/10\n",
      "1488/1488 [==============================] - 13s 9ms/step - loss: 0.3192 - accuracy: 0.8900 - val_loss: 0.3049 - val_accuracy: 0.8932\n"
     ]
    }
   ],
   "source": [
    "result = model.fit(X_train, y_train, epochs=10, validation_data = (X_val, y_val))"
   ]
  },
  {
   "cell_type": "markdown",
   "metadata": {
    "id": "DxvW71-ak9yn"
   },
   "source": [
    "결론적으로 활성화함수는 relu를 그대로 사용하는 것이 가장 성능이 좋다고 볼 수 있으며 층을 하나 추가하여 Nadam으로 최적화를 진행하면 성능이 조금 올라가는 것을 확인할 수 있다."
   ]
  },
  {
   "cell_type": "markdown",
   "metadata": {
    "id": "dSLnNAGatnRb"
   },
   "source": [
    "# 제출"
   ]
  },
  {
   "cell_type": "code",
   "execution_count": 45,
   "metadata": {
    "id": "ADxy8kMw49ts"
   },
   "outputs": [],
   "source": [
    "BATCH_SIZE = 128\n",
    "EPOCHS = 100"
   ]
  },
  {
   "cell_type": "code",
   "execution_count": 46,
   "metadata": {
    "colab": {
     "base_uri": "https://localhost:8080/"
    },
    "id": "DH-mIU7z49tz",
    "outputId": "f4af4a76-c165-4d39-efbc-60eec15da9bc"
   },
   "outputs": [
    {
     "name": "stdout",
     "output_type": "stream",
     "text": [
      "Model: \"sequential_7\"\n",
      "_________________________________________________________________\n",
      "Layer (type)                 Output Shape              Param #   \n",
      "=================================================================\n",
      "flatten_7 (Flatten)          (None, 784)               0         \n",
      "_________________________________________________________________\n",
      "dense_31 (Dense)             (None, 512)               401920    \n",
      "_________________________________________________________________\n",
      "batch_normalization_24 (Batc (None, 512)               2048      \n",
      "_________________________________________________________________\n",
      "activation_18 (Activation)   (None, 512)               0         \n",
      "_________________________________________________________________\n",
      "dropout_24 (Dropout)         (None, 512)               0         \n",
      "_________________________________________________________________\n",
      "dense_32 (Dense)             (None, 256)               131328    \n",
      "_________________________________________________________________\n",
      "batch_normalization_25 (Batc (None, 256)               1024      \n",
      "_________________________________________________________________\n",
      "activation_19 (Activation)   (None, 256)               0         \n",
      "_________________________________________________________________\n",
      "dropout_25 (Dropout)         (None, 256)               0         \n",
      "_________________________________________________________________\n",
      "dense_33 (Dense)             (None, 128)               32896     \n",
      "_________________________________________________________________\n",
      "batch_normalization_26 (Batc (None, 128)               512       \n",
      "_________________________________________________________________\n",
      "activation_20 (Activation)   (None, 128)               0         \n",
      "_________________________________________________________________\n",
      "dropout_26 (Dropout)         (None, 128)               0         \n",
      "_________________________________________________________________\n",
      "dense_34 (Dense)             (None, 64)                8256      \n",
      "_________________________________________________________________\n",
      "batch_normalization_27 (Batc (None, 64)                256       \n",
      "_________________________________________________________________\n",
      "activation_21 (Activation)   (None, 64)                0         \n",
      "_________________________________________________________________\n",
      "dropout_27 (Dropout)         (None, 64)                0         \n",
      "_________________________________________________________________\n",
      "dense_35 (Dense)             (None, 10)                650       \n",
      "=================================================================\n",
      "Total params: 578,890\n",
      "Trainable params: 576,970\n",
      "Non-trainable params: 1,920\n",
      "_________________________________________________________________\n",
      "None\n"
     ]
    }
   ],
   "source": [
    "initializer = keras.initializers.HeUniform(seed = 21)\n",
    "model = keras.Sequential([\n",
    "    keras.layers.Flatten(input_shape=(28, 28)),\n",
    "    keras.layers.Dense(512, kernel_initializer=initializer),\n",
    "    keras.layers.BatchNormalization(),\n",
    "    keras.layers.Activation('relu'),\n",
    "    keras.layers.Dropout(0.2),\n",
    "    keras.layers.Dense(256, kernel_initializer=initializer),\n",
    "    keras.layers.BatchNormalization(),\n",
    "    keras.layers.Activation('relu'),\n",
    "    keras.layers.Dropout(0.2),\n",
    "    keras.layers.Dense(128, kernel_initializer=initializer),\n",
    "    keras.layers.BatchNormalization(),\n",
    "    keras.layers.Activation('relu'),\n",
    "    keras.layers.Dropout(0.2),\n",
    "    keras.layers.Dense(64, kernel_initializer=initializer),\n",
    "    keras.layers.BatchNormalization(),\n",
    "    keras.layers.Activation('relu'),\n",
    "    keras.layers.Dropout(0.2),\n",
    "    keras.layers.Dense(10, activation='softmax', kernel_initializer=initializer)\n",
    "])\n",
    "\n",
    "print(model.summary())"
   ]
  },
  {
   "cell_type": "code",
   "execution_count": 47,
   "metadata": {
    "id": "Qj9X1vtd49tz"
   },
   "outputs": [],
   "source": [
    "optimizer = keras.optimizers.Nadam(lr=0.01, decay = 0.001)\n",
    "model.compile(optimizer=optimizer,\n",
    "              loss=tf.keras.losses.SparseCategoricalCrossentropy(from_logits=True),\n",
    "              metrics=['accuracy'])"
   ]
  },
  {
   "cell_type": "code",
   "execution_count": 48,
   "metadata": {
    "colab": {
     "base_uri": "https://localhost:8080/"
    },
    "id": "A4gIloexaELP",
    "outputId": "4642d2a3-44c9-4422-fcf0-fe525b0af4e7"
   },
   "outputs": [
    {
     "name": "stdout",
     "output_type": "stream",
     "text": [
      "Epoch 1/100\n",
      "372/372 [==============================] - 7s 13ms/step - loss: 0.5534 - accuracy: 0.8044 - val_loss: 0.4325 - val_accuracy: 0.8413\n",
      "Epoch 2/100\n",
      "372/372 [==============================] - 5s 12ms/step - loss: 0.4292 - accuracy: 0.8474 - val_loss: 0.3927 - val_accuracy: 0.8631\n",
      "Epoch 3/100\n",
      "372/372 [==============================] - 5s 12ms/step - loss: 0.3903 - accuracy: 0.8605 - val_loss: 0.3786 - val_accuracy: 0.8650\n",
      "Epoch 4/100\n",
      "372/372 [==============================] - 4s 12ms/step - loss: 0.3619 - accuracy: 0.8707 - val_loss: 0.3235 - val_accuracy: 0.8812\n",
      "Epoch 5/100\n",
      "372/372 [==============================] - 5s 12ms/step - loss: 0.3413 - accuracy: 0.8773 - val_loss: 0.3526 - val_accuracy: 0.8691\n",
      "Epoch 6/100\n",
      "372/372 [==============================] - 5s 12ms/step - loss: 0.3296 - accuracy: 0.8799 - val_loss: 0.3838 - val_accuracy: 0.8600\n",
      "Epoch 7/100\n",
      "372/372 [==============================] - 5s 12ms/step - loss: 0.3095 - accuracy: 0.8881 - val_loss: 0.3535 - val_accuracy: 0.8729\n",
      "Epoch 8/100\n",
      "372/372 [==============================] - 5s 12ms/step - loss: 0.2999 - accuracy: 0.8912 - val_loss: 0.3114 - val_accuracy: 0.8912\n",
      "Epoch 9/100\n",
      "372/372 [==============================] - 4s 12ms/step - loss: 0.2908 - accuracy: 0.8936 - val_loss: 0.3417 - val_accuracy: 0.8749\n",
      "Epoch 10/100\n",
      "372/372 [==============================] - 4s 12ms/step - loss: 0.2802 - accuracy: 0.8986 - val_loss: 0.3334 - val_accuracy: 0.8790\n",
      "Epoch 11/100\n",
      "372/372 [==============================] - 5s 12ms/step - loss: 0.2725 - accuracy: 0.8999 - val_loss: 0.3000 - val_accuracy: 0.8924\n",
      "Epoch 12/100\n",
      "372/372 [==============================] - 4s 12ms/step - loss: 0.2603 - accuracy: 0.9047 - val_loss: 0.3762 - val_accuracy: 0.8643\n",
      "Epoch 13/100\n",
      "372/372 [==============================] - 4s 12ms/step - loss: 0.2534 - accuracy: 0.9072 - val_loss: 0.3363 - val_accuracy: 0.8823\n",
      "Epoch 14/100\n",
      "372/372 [==============================] - 4s 12ms/step - loss: 0.2505 - accuracy: 0.9092 - val_loss: 0.3113 - val_accuracy: 0.8866\n",
      "Epoch 15/100\n",
      "372/372 [==============================] - 5s 12ms/step - loss: 0.2404 - accuracy: 0.9118 - val_loss: 0.3014 - val_accuracy: 0.8951\n",
      "Epoch 16/100\n",
      "372/372 [==============================] - 4s 12ms/step - loss: 0.2304 - accuracy: 0.9155 - val_loss: 0.3248 - val_accuracy: 0.8841\n",
      "Epoch 17/100\n",
      "372/372 [==============================] - 4s 12ms/step - loss: 0.2273 - accuracy: 0.9170 - val_loss: 0.3617 - val_accuracy: 0.8748\n",
      "Epoch 18/100\n",
      "372/372 [==============================] - 5s 12ms/step - loss: 0.2168 - accuracy: 0.9213 - val_loss: 0.3080 - val_accuracy: 0.8924\n",
      "Epoch 19/100\n",
      "372/372 [==============================] - 5s 12ms/step - loss: 0.2152 - accuracy: 0.9212 - val_loss: 0.3688 - val_accuracy: 0.8760\n",
      "Epoch 20/100\n",
      "372/372 [==============================] - 5s 12ms/step - loss: 0.2104 - accuracy: 0.9237 - val_loss: 0.3119 - val_accuracy: 0.8950\n",
      "Epoch 21/100\n",
      "372/372 [==============================] - 5s 12ms/step - loss: 0.2024 - accuracy: 0.9264 - val_loss: 0.3112 - val_accuracy: 0.8956\n",
      "Epoch 22/100\n",
      "372/372 [==============================] - 5s 12ms/step - loss: 0.1971 - accuracy: 0.9275 - val_loss: 0.3502 - val_accuracy: 0.8825\n",
      "Epoch 23/100\n",
      "372/372 [==============================] - 5s 12ms/step - loss: 0.1923 - accuracy: 0.9300 - val_loss: 0.3336 - val_accuracy: 0.8882\n",
      "Epoch 24/100\n",
      "372/372 [==============================] - 4s 12ms/step - loss: 0.1892 - accuracy: 0.9305 - val_loss: 0.3150 - val_accuracy: 0.8960\n",
      "Epoch 25/100\n",
      "372/372 [==============================] - 4s 12ms/step - loss: 0.1845 - accuracy: 0.9320 - val_loss: 0.3484 - val_accuracy: 0.8844\n",
      "Epoch 26/100\n",
      "372/372 [==============================] - 4s 12ms/step - loss: 0.1761 - accuracy: 0.9348 - val_loss: 0.3349 - val_accuracy: 0.8846\n",
      "Epoch 27/100\n",
      "372/372 [==============================] - 4s 12ms/step - loss: 0.1767 - accuracy: 0.9359 - val_loss: 0.3349 - val_accuracy: 0.8936\n",
      "Epoch 28/100\n",
      "372/372 [==============================] - 5s 12ms/step - loss: 0.1720 - accuracy: 0.9371 - val_loss: 0.3516 - val_accuracy: 0.8896\n",
      "Epoch 29/100\n",
      "372/372 [==============================] - 4s 12ms/step - loss: 0.1714 - accuracy: 0.9376 - val_loss: 0.3253 - val_accuracy: 0.8936\n",
      "Epoch 30/100\n",
      "372/372 [==============================] - 5s 12ms/step - loss: 0.1668 - accuracy: 0.9395 - val_loss: 0.3350 - val_accuracy: 0.8899\n",
      "Epoch 31/100\n",
      "372/372 [==============================] - 5s 12ms/step - loss: 0.1599 - accuracy: 0.9409 - val_loss: 0.3203 - val_accuracy: 0.8966\n",
      "Epoch 32/100\n",
      "372/372 [==============================] - 5s 12ms/step - loss: 0.1573 - accuracy: 0.9427 - val_loss: 0.3184 - val_accuracy: 0.9002\n",
      "Epoch 33/100\n",
      "372/372 [==============================] - 5s 12ms/step - loss: 0.1532 - accuracy: 0.9441 - val_loss: 0.3420 - val_accuracy: 0.8979\n",
      "Epoch 34/100\n",
      "372/372 [==============================] - 5s 12ms/step - loss: 0.1498 - accuracy: 0.9454 - val_loss: 0.3470 - val_accuracy: 0.8930\n",
      "Epoch 35/100\n",
      "372/372 [==============================] - 4s 12ms/step - loss: 0.1456 - accuracy: 0.9477 - val_loss: 0.3322 - val_accuracy: 0.8945\n",
      "Epoch 36/100\n",
      "372/372 [==============================] - 5s 12ms/step - loss: 0.1420 - accuracy: 0.9474 - val_loss: 0.3317 - val_accuracy: 0.8979\n",
      "Epoch 37/100\n",
      "372/372 [==============================] - 5s 12ms/step - loss: 0.1430 - accuracy: 0.9474 - val_loss: 0.3515 - val_accuracy: 0.8913\n",
      "Epoch 38/100\n",
      "372/372 [==============================] - 5s 12ms/step - loss: 0.1391 - accuracy: 0.9491 - val_loss: 0.3253 - val_accuracy: 0.8951\n",
      "Epoch 39/100\n",
      "372/372 [==============================] - 5s 12ms/step - loss: 0.1314 - accuracy: 0.9531 - val_loss: 0.3454 - val_accuracy: 0.8961\n",
      "Epoch 40/100\n",
      "372/372 [==============================] - 5s 12ms/step - loss: 0.1324 - accuracy: 0.9512 - val_loss: 0.3815 - val_accuracy: 0.8944\n",
      "Epoch 41/100\n",
      "372/372 [==============================] - 5s 12ms/step - loss: 0.1281 - accuracy: 0.9531 - val_loss: 0.3802 - val_accuracy: 0.8970\n",
      "Epoch 42/100\n",
      "372/372 [==============================] - 5s 12ms/step - loss: 0.1271 - accuracy: 0.9545 - val_loss: 0.3648 - val_accuracy: 0.8898\n",
      "Epoch 43/100\n",
      "372/372 [==============================] - 5s 13ms/step - loss: 0.1281 - accuracy: 0.9528 - val_loss: 0.3831 - val_accuracy: 0.8882\n",
      "Epoch 44/100\n",
      "372/372 [==============================] - 5s 13ms/step - loss: 0.1239 - accuracy: 0.9546 - val_loss: 0.3600 - val_accuracy: 0.8987\n",
      "Epoch 45/100\n",
      "372/372 [==============================] - 5s 12ms/step - loss: 0.1206 - accuracy: 0.9564 - val_loss: 0.4184 - val_accuracy: 0.8876\n",
      "Epoch 46/100\n",
      "372/372 [==============================] - 5s 12ms/step - loss: 0.1211 - accuracy: 0.9565 - val_loss: 0.3971 - val_accuracy: 0.8933\n",
      "Epoch 47/100\n",
      "372/372 [==============================] - 5s 12ms/step - loss: 0.1157 - accuracy: 0.9584 - val_loss: 0.3860 - val_accuracy: 0.8877\n",
      "Epoch 48/100\n",
      "372/372 [==============================] - 5s 12ms/step - loss: 0.1183 - accuracy: 0.9567 - val_loss: 0.3485 - val_accuracy: 0.8950\n",
      "Epoch 49/100\n",
      "372/372 [==============================] - 5s 12ms/step - loss: 0.1105 - accuracy: 0.9591 - val_loss: 0.3934 - val_accuracy: 0.8935\n",
      "Epoch 50/100\n",
      "372/372 [==============================] - 5s 12ms/step - loss: 0.1104 - accuracy: 0.9603 - val_loss: 0.3504 - val_accuracy: 0.9034\n",
      "Epoch 51/100\n",
      "372/372 [==============================] - 5s 12ms/step - loss: 0.1088 - accuracy: 0.9600 - val_loss: 0.3942 - val_accuracy: 0.8984\n",
      "Epoch 52/100\n",
      "372/372 [==============================] - 5s 12ms/step - loss: 0.1057 - accuracy: 0.9615 - val_loss: 0.3557 - val_accuracy: 0.9024\n",
      "Epoch 53/100\n",
      "372/372 [==============================] - 5s 12ms/step - loss: 0.1078 - accuracy: 0.9611 - val_loss: 0.3865 - val_accuracy: 0.8935\n",
      "Epoch 54/100\n",
      "372/372 [==============================] - 5s 12ms/step - loss: 0.1041 - accuracy: 0.9625 - val_loss: 0.3636 - val_accuracy: 0.8943\n",
      "Epoch 55/100\n",
      "372/372 [==============================] - 5s 12ms/step - loss: 0.0994 - accuracy: 0.9635 - val_loss: 0.3952 - val_accuracy: 0.8943\n",
      "Epoch 56/100\n",
      "372/372 [==============================] - 5s 12ms/step - loss: 0.1010 - accuracy: 0.9634 - val_loss: 0.4129 - val_accuracy: 0.8885\n",
      "Epoch 57/100\n",
      "372/372 [==============================] - 5s 12ms/step - loss: 0.1018 - accuracy: 0.9633 - val_loss: 0.4233 - val_accuracy: 0.8943\n",
      "Epoch 58/100\n",
      "372/372 [==============================] - 5s 12ms/step - loss: 0.0990 - accuracy: 0.9647 - val_loss: 0.3566 - val_accuracy: 0.8967\n",
      "Epoch 59/100\n",
      "372/372 [==============================] - 5s 12ms/step - loss: 0.0934 - accuracy: 0.9654 - val_loss: 0.3873 - val_accuracy: 0.8989\n",
      "Epoch 60/100\n",
      "372/372 [==============================] - 5s 12ms/step - loss: 0.0982 - accuracy: 0.9640 - val_loss: 0.4364 - val_accuracy: 0.8895\n",
      "Epoch 61/100\n",
      "372/372 [==============================] - 5s 12ms/step - loss: 0.0918 - accuracy: 0.9664 - val_loss: 0.3762 - val_accuracy: 0.9048\n",
      "Epoch 62/100\n",
      "372/372 [==============================] - 5s 12ms/step - loss: 0.0943 - accuracy: 0.9662 - val_loss: 0.3918 - val_accuracy: 0.8967\n",
      "Epoch 63/100\n",
      "372/372 [==============================] - 5s 12ms/step - loss: 0.0911 - accuracy: 0.9674 - val_loss: 0.4105 - val_accuracy: 0.8942\n",
      "Epoch 64/100\n",
      "372/372 [==============================] - 5s 12ms/step - loss: 0.0892 - accuracy: 0.9683 - val_loss: 0.4228 - val_accuracy: 0.8985\n",
      "Epoch 65/100\n",
      "372/372 [==============================] - 5s 12ms/step - loss: 0.0895 - accuracy: 0.9679 - val_loss: 0.4103 - val_accuracy: 0.8954\n",
      "Epoch 66/100\n",
      "372/372 [==============================] - 5s 12ms/step - loss: 0.0868 - accuracy: 0.9696 - val_loss: 0.3889 - val_accuracy: 0.8924\n",
      "Epoch 67/100\n",
      "372/372 [==============================] - 5s 12ms/step - loss: 0.0881 - accuracy: 0.9686 - val_loss: 0.4790 - val_accuracy: 0.8945\n",
      "Epoch 68/100\n",
      "372/372 [==============================] - 5s 12ms/step - loss: 0.0874 - accuracy: 0.9689 - val_loss: 0.4307 - val_accuracy: 0.8957\n",
      "Epoch 69/100\n",
      "372/372 [==============================] - 5s 12ms/step - loss: 0.0849 - accuracy: 0.9706 - val_loss: 0.4548 - val_accuracy: 0.8958\n",
      "Epoch 70/100\n",
      "372/372 [==============================] - 5s 12ms/step - loss: 0.0826 - accuracy: 0.9707 - val_loss: 0.3960 - val_accuracy: 0.9001\n",
      "Epoch 71/100\n",
      "372/372 [==============================] - 5s 12ms/step - loss: 0.0859 - accuracy: 0.9696 - val_loss: 0.4349 - val_accuracy: 0.8909\n",
      "Epoch 72/100\n",
      "372/372 [==============================] - 5s 12ms/step - loss: 0.0842 - accuracy: 0.9693 - val_loss: 0.4104 - val_accuracy: 0.8962\n",
      "Epoch 73/100\n",
      "372/372 [==============================] - 5s 12ms/step - loss: 0.0811 - accuracy: 0.9706 - val_loss: 0.4706 - val_accuracy: 0.8805\n",
      "Epoch 74/100\n",
      "372/372 [==============================] - 5s 12ms/step - loss: 0.0802 - accuracy: 0.9709 - val_loss: 0.4123 - val_accuracy: 0.8904\n",
      "Epoch 75/100\n",
      "372/372 [==============================] - 5s 12ms/step - loss: 0.0759 - accuracy: 0.9737 - val_loss: 0.4280 - val_accuracy: 0.9020\n",
      "Epoch 76/100\n",
      "372/372 [==============================] - 5s 12ms/step - loss: 0.0773 - accuracy: 0.9725 - val_loss: 0.4387 - val_accuracy: 0.8966\n",
      "Epoch 77/100\n",
      "372/372 [==============================] - 5s 13ms/step - loss: 0.0770 - accuracy: 0.9729 - val_loss: 0.4370 - val_accuracy: 0.8926\n",
      "Epoch 78/100\n",
      "372/372 [==============================] - 5s 12ms/step - loss: 0.0760 - accuracy: 0.9731 - val_loss: 0.4009 - val_accuracy: 0.8990\n",
      "Epoch 79/100\n",
      "372/372 [==============================] - 5s 12ms/step - loss: 0.0763 - accuracy: 0.9724 - val_loss: 0.4431 - val_accuracy: 0.8991\n",
      "Epoch 80/100\n",
      "372/372 [==============================] - 5s 12ms/step - loss: 0.0761 - accuracy: 0.9734 - val_loss: 0.4507 - val_accuracy: 0.8914\n",
      "Epoch 81/100\n",
      "372/372 [==============================] - 5s 13ms/step - loss: 0.0724 - accuracy: 0.9739 - val_loss: 0.4847 - val_accuracy: 0.8916\n",
      "Epoch 82/100\n",
      "372/372 [==============================] - 5s 13ms/step - loss: 0.0713 - accuracy: 0.9743 - val_loss: 0.4421 - val_accuracy: 0.8963\n",
      "Epoch 83/100\n",
      "372/372 [==============================] - 5s 12ms/step - loss: 0.0743 - accuracy: 0.9734 - val_loss: 0.4452 - val_accuracy: 0.9001\n",
      "Epoch 84/100\n",
      "372/372 [==============================] - 5s 13ms/step - loss: 0.0719 - accuracy: 0.9746 - val_loss: 0.4167 - val_accuracy: 0.9006\n",
      "Epoch 85/100\n",
      "372/372 [==============================] - 5s 12ms/step - loss: 0.0692 - accuracy: 0.9746 - val_loss: 0.4466 - val_accuracy: 0.8994\n",
      "Epoch 86/100\n",
      "372/372 [==============================] - 5s 12ms/step - loss: 0.0675 - accuracy: 0.9748 - val_loss: 0.4530 - val_accuracy: 0.8974\n",
      "Epoch 87/100\n",
      "372/372 [==============================] - 5s 12ms/step - loss: 0.0698 - accuracy: 0.9754 - val_loss: 0.4337 - val_accuracy: 0.9010\n",
      "Epoch 88/100\n",
      "372/372 [==============================] - 5s 12ms/step - loss: 0.0713 - accuracy: 0.9749 - val_loss: 0.4340 - val_accuracy: 0.9006\n",
      "Epoch 89/100\n",
      "372/372 [==============================] - 5s 13ms/step - loss: 0.0660 - accuracy: 0.9776 - val_loss: 0.4701 - val_accuracy: 0.8953\n",
      "Epoch 90/100\n",
      "372/372 [==============================] - 5s 12ms/step - loss: 0.0656 - accuracy: 0.9761 - val_loss: 0.4647 - val_accuracy: 0.8947\n",
      "Epoch 91/100\n",
      "372/372 [==============================] - 5s 12ms/step - loss: 0.0674 - accuracy: 0.9759 - val_loss: 0.4844 - val_accuracy: 0.8942\n",
      "Epoch 92/100\n",
      "372/372 [==============================] - 5s 12ms/step - loss: 0.0675 - accuracy: 0.9755 - val_loss: 0.4426 - val_accuracy: 0.9010\n",
      "Epoch 93/100\n",
      "372/372 [==============================] - 5s 12ms/step - loss: 0.0617 - accuracy: 0.9778 - val_loss: 0.4231 - val_accuracy: 0.8987\n",
      "Epoch 94/100\n",
      "372/372 [==============================] - 5s 12ms/step - loss: 0.0623 - accuracy: 0.9780 - val_loss: 0.4335 - val_accuracy: 0.8990\n",
      "Epoch 95/100\n",
      "372/372 [==============================] - 5s 12ms/step - loss: 0.0617 - accuracy: 0.9776 - val_loss: 0.4393 - val_accuracy: 0.8982\n",
      "Epoch 96/100\n",
      "372/372 [==============================] - 5s 12ms/step - loss: 0.0625 - accuracy: 0.9778 - val_loss: 0.5244 - val_accuracy: 0.8916\n",
      "Epoch 97/100\n",
      "372/372 [==============================] - 5s 13ms/step - loss: 0.0629 - accuracy: 0.9777 - val_loss: 0.4791 - val_accuracy: 0.8982\n",
      "Epoch 98/100\n",
      "372/372 [==============================] - 5s 12ms/step - loss: 0.0580 - accuracy: 0.9793 - val_loss: 0.4463 - val_accuracy: 0.9009\n",
      "Epoch 99/100\n",
      "372/372 [==============================] - 5s 12ms/step - loss: 0.0619 - accuracy: 0.9780 - val_loss: 0.5038 - val_accuracy: 0.8857\n",
      "Epoch 100/100\n",
      "372/372 [==============================] - 5s 13ms/step - loss: 0.0612 - accuracy: 0.9793 - val_loss: 0.4426 - val_accuracy: 0.8997\n"
     ]
    }
   ],
   "source": [
    "result = model.fit(X_train, y_train, epochs=EPOCHS, validation_data = (X_val, y_val), batch_size=BATCH_SIZE)"
   ]
  },
  {
   "cell_type": "code",
   "execution_count": 49,
   "metadata": {
    "colab": {
     "base_uri": "https://localhost:8080/",
     "height": 336
    },
    "id": "zpOAtJVQaFrn",
    "outputId": "a0518624-31d6-4255-e7c6-ba10fb0b788a"
   },
   "outputs": [
    {
     "data": {
      "image/png": "[encoded data removed]",
      "text/plain": [
       "<Figure size 1080x360 with 2 Axes>"
      ]
     },
     "metadata": {
      "needs_background": "light"
     },
     "output_type": "display_data"
    }
   ],
   "source": [
    "fig, axes = plt.subplots(nrows=1, ncols=2, figsize=(15, 5))\n",
    "\n",
    "axes[0].plot(result.epoch, result.history[\"loss\"], label='Train Loss')\n",
    "axes[0].plot(result.epoch, result.history['val_loss'], label='Val Loss')\n",
    "axes[0].set_ylim(0.0, 1)\n",
    "axes[0].legend()\n",
    "axes[0].set_title('Loss')\n",
    "\n",
    "axes[1].plot(result.epoch, result.history['accuracy'], label='Train Accuracy')\n",
    "axes[1].plot(result.epoch, result.history['val_accuracy'], label='Val Accuracy')\n",
    "axes[1].set_ylim(0.7, 1)\n",
    "axes[1].legend()\n",
    "axes[1].set_title('ACC')\n",
    "\n",
    "plt.show()"
   ]
  },
  {
   "cell_type": "code",
   "execution_count": 50,
   "metadata": {
    "colab": {
     "base_uri": "https://localhost:8080/",
     "height": 203
    },
    "id": "P2oIdaLGtozX",
    "outputId": "5cdbbd1e-019d-4e01-febb-7e2559f5970d"
   },
   "outputs": [
    {
     "data": {
      "text/html": [
       "<div>\n",
       "<style scoped>\n",
       "    .dataframe tbody tr th:only-of-type {\n",
       "        vertical-align: middle;\n",
       "    }\n",
       "\n",
       "    .dataframe tbody tr th {\n",
       "        vertical-align: top;\n",
       "    }\n",
       "\n",
       "    .dataframe thead th {\n",
       "        text-align: right;\n",
       "    }\n",
       "</style>\n",
       "<table border=\"1\" class=\"dataframe\">\n",
       "  <thead>\n",
       "    <tr style=\"text-align: right;\">\n",
       "      <th></th>\n",
       "      <th>id</th>\n",
       "      <th>label</th>\n",
       "    </tr>\n",
       "  </thead>\n",
       "  <tbody>\n",
       "    <tr>\n",
       "      <th>0</th>\n",
       "      <td>0</td>\n",
       "      <td>6</td>\n",
       "    </tr>\n",
       "    <tr>\n",
       "      <th>1</th>\n",
       "      <td>1</td>\n",
       "      <td>4</td>\n",
       "    </tr>\n",
       "    <tr>\n",
       "      <th>2</th>\n",
       "      <td>2</td>\n",
       "      <td>0</td>\n",
       "    </tr>\n",
       "    <tr>\n",
       "      <th>3</th>\n",
       "      <td>3</td>\n",
       "      <td>0</td>\n",
       "    </tr>\n",
       "    <tr>\n",
       "      <th>4</th>\n",
       "      <td>4</td>\n",
       "      <td>6</td>\n",
       "    </tr>\n",
       "  </tbody>\n",
       "</table>\n",
       "</div>"
      ],
      "text/plain": [
       "   id  label\n",
       "0   0      6\n",
       "1   1      4\n",
       "2   2      0\n",
       "3   3      0\n",
       "4   4      6"
      ]
     },
     "execution_count": 50,
     "metadata": {},
     "output_type": "execute_result"
    }
   ],
   "source": [
    "pred_label = np.argmax(model.predict(X_test), axis = 1)\n",
    "\n",
    "submission['label'] = pred_label\n",
    "\n",
    "submission.to_csv(data_dir + 'BaseLine_Model.csv', index = False)\n",
    "\n",
    "submission.head()"
   ]
  }
 ],
 "metadata": {
  "accelerator": "GPU",
  "colab": {
   "collapsed_sections": [],
   "name": "Week7_NN심화_BaseLine_Model_TF.ipynb",
   "provenance": []
  },
  "kernelspec": {
   "display_name": "Python 3",
   "language": "python",
   "name": "python3"
  },
  "language_info": {
   "codemirror_mode": {
    "name": "ipython",
    "version": 3
   },
   "file_extension": ".py",
   "mimetype": "text/x-python",
   "name": "python",
   "nbconvert_exporter": "python",
   "pygments_lexer": "ipython3",
   "version": "3.8.8"
  }
 },
 "nbformat": 4,
 "nbformat_minor": 1
}
