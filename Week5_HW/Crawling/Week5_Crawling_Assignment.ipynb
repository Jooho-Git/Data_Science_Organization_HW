{
 "cells": [
  {
   "cell_type": "markdown",
   "id": "7e9bea8d",
   "metadata": {
    "id": "7e9bea8d"
   },
   "source": [
    "## Tobigs 5주차 Crawling 과제\n",
    "- Selenium을 활용하여 학술연구정보서비스 RISS에서 주어진 키워드에 대한 **학위 논문**을 검색 후 **첫번째 페이지**에 존재하는 논문의 **URL**을 먼저 수집합니다. \n",
    "- 수집한 URL을 기반으로 접근하여 논문 정보 **1) 저자 2) 발행년도 3) 제목 4) 부가정보의 첫번째 항목**을 수집해주세요! \n",
    "- 주석을 읽고 주어진 코드 중간에 있는 ???와 공란을 채워주시면 됩니다!"
   ]
  },
  {
   "cell_type": "code",
   "execution_count": 16,
   "id": "c5821afb",
   "metadata": {
    "id": "c5821afb"
   },
   "outputs": [],
   "source": [
    "from selenium import webdriver\n",
    "from selenium.webdriver.common.keys import Keys\n",
    "from bs4 import BeautifulSoup\n",
    "from time import sleep\n",
    "import pandas as pd"
   ]
  },
  {
   "cell_type": "code",
   "execution_count": 17,
   "id": "723899e7",
   "metadata": {
    "id": "723899e7"
   },
   "outputs": [],
   "source": [
    "keyword='코로나'  #검색용 키워드\n",
    "paper=[]  #결과 저장용 리스트"
   ]
  },
  {
   "cell_type": "markdown",
   "id": "ab8f2cca",
   "metadata": {
    "id": "ab8f2cca"
   },
   "source": [
    "#### 1. 드라이버 오픈 및 Riss로 이동"
   ]
  },
  {
   "cell_type": "code",
   "execution_count": 40,
   "id": "b95bd6c7",
   "metadata": {
    "id": "b95bd6c7"
   },
   "outputs": [],
   "source": [
    "driver = webdriver.Chrome('C:/Users/xnote/Downloads/chromedriver')  #드라이버 오픈\n",
    "driver.get('http://www.riss.kr/index.do')   #riss로 이동"
   ]
  },
  {
   "cell_type": "markdown",
   "id": "3e473c2b",
   "metadata": {
    "id": "3e473c2b"
   },
   "source": [
    "#### 2. 검색창에 접근하여 검색용 키워드 입력 및 검색"
   ]
  },
  {
   "cell_type": "code",
   "execution_count": 42,
   "id": "4ee5b659",
   "metadata": {
    "id": "4ee5b659"
   },
   "outputs": [],
   "source": [
    "driver.find_element_by_id('query').send_keys('코로나')  # 검색창 접근 및 키워드 입력\n",
    "driver.find_element_by_id('query').submit()   # 검색창에 검색용 키워드 검색"
   ]
  },
  {
   "cell_type": "markdown",
   "id": "79cbd6cf",
   "metadata": {
    "id": "79cbd6cf"
   },
   "source": [
    "#### 3. 검색 화면 창에서 학위 논문 창으로 이동\n",
    "![image](https://user-images.githubusercontent.com/69336270/129825390-d270bcca-003c-46f4-8bfd-14e4f1ed3f87.png)\n",
    "  \n",
    "    방법 1. 상단의 학위 논문 탭 클릭  \n",
    "    방법 2. 검색 화면 창에서 학위논문 결과 옆 더보기 버튼 클릭"
   ]
  },
  {
   "cell_type": "code",
   "execution_count": 43,
   "id": "e809e87e",
   "metadata": {
    "id": "e809e87e"
   },
   "outputs": [],
   "source": [
    "button = driver.find_element_by_xpath('//*[@id=\"tabMenu\"]/div/ul/li[3]/a/span')\n",
    "button.click()"
   ]
  },
  {
   "cell_type": "markdown",
   "id": "0fc0cfdd",
   "metadata": {
    "id": "0fc0cfdd"
   },
   "source": [
    "#### 4. 주어진 키워드로 검색했을 때 학위 논문의 전체 수 구하기\n",
    "\n",
    "![image](https://user-images.githubusercontent.com/69336270/129825100-89dd9681-4dd7-451a-804f-e0fbe437aeba.png)"
   ]
  },
  {
   "cell_type": "code",
   "execution_count": 22,
   "id": "ab3bb595",
   "metadata": {
    "id": "ab3bb595",
    "outputId": "0fe70a55-f4d7-4f3a-bf67-13e6c52fc845"
   },
   "outputs": [
    {
     "name": "stdout",
     "output_type": "stream",
     "text": [
      "2,348 \n",
      "\n",
      "2348\n",
      "자료형: <class 'int'>\n"
     ]
    }
   ],
   "source": [
    "total=driver.find_element_by_xpath('//*[@id=\"divContent\"]/div[2]/div/div[1]/dl/dd/span/span').text  #전체 논문수\n",
    "print(total,'\\n')\n",
    "\n",
    "import re\n",
    "total=int(re.sub(r'[^a-zA-Z0-9]','',total))\n",
    "print(total)\n",
    "print(f'자료형: {type(total)}')"
   ]
  },
  {
   "cell_type": "markdown",
   "id": "1ec1f664",
   "metadata": {
    "id": "1ec1f664"
   },
   "source": [
    "#### 5. 첫페이지에 존재하는 논문의 상세정보 url 수집"
   ]
  },
  {
   "cell_type": "code",
   "execution_count": 23,
   "id": "b4c822f2",
   "metadata": {
    "id": "b4c822f2",
    "outputId": "8db39966-ab3d-47c0-c4f5-e8b8491a366e",
    "scrolled": false
   },
   "outputs": [
    {
     "name": "stdout",
     "output_type": "stream",
     "text": [
      "http://www.riss.kr/search/detail/DetailView.do?p_mat_type=be54d9b8bc7cdb09&control_no=aadbf6e4370d3442\n",
      "http://www.riss.kr/search/detail/DetailView.do?p_mat_type=be54d9b8bc7cdb09&control_no=e03ab5057707462affe0bdc3ef48d419\n",
      "http://www.riss.kr/search/detail/DetailView.do?p_mat_type=be54d9b8bc7cdb09&control_no=8b2e61b36976fa93ffe0bdc3ef48d419\n",
      "http://www.riss.kr/search/detail/DetailView.do?p_mat_type=be54d9b8bc7cdb09&control_no=d0fbdbd21c73b325ffe0bdc3ef48d419\n",
      "http://www.riss.kr/search/detail/DetailView.do?p_mat_type=be54d9b8bc7cdb09&control_no=29ccc72d95b8f0dbffe0bdc3ef48d419\n",
      "http://www.riss.kr/search/detail/DetailView.do?p_mat_type=be54d9b8bc7cdb09&control_no=9a09cc27b7c5cc9dffe0bdc3ef48d419\n",
      "http://www.riss.kr/search/detail/DetailView.do?p_mat_type=be54d9b8bc7cdb09&control_no=c14e36d50f743d7dffe0bdc3ef48d419\n",
      "http://www.riss.kr/search/detail/DetailView.do?p_mat_type=be54d9b8bc7cdb09&control_no=0f44641b5e2bce2effe0bdc3ef48d419\n",
      "http://www.riss.kr/search/detail/DetailView.do?p_mat_type=be54d9b8bc7cdb09&control_no=4f885c4a033cac18ffe0bdc3ef48d419\n",
      "http://www.riss.kr/search/detail/DetailView.do?p_mat_type=be54d9b8bc7cdb09&control_no=aeb26b23b6e487e2ffe0bdc3ef48d419\n"
     ]
    }
   ],
   "source": [
    "urls = []\n",
    "\n",
    "html = driver.page_source # 페이지 소스 저장\n",
    "\"\"\" html 소스코드를 BeautifulSoup을 이용해 파싱 \"\"\"\n",
    "\n",
    "if total < 10:\n",
    "    # 주어진 키워드로 검색 시 전체 논문 수가 10개 미만인 경우 - 논문 첫 페이지의 논문 수 = 전체 논문 수\n",
    "    for i in range(1, total+1):  \n",
    "        page = '/html/body/div[1]/div[2]/div[4]/div[2]/div/div[3]/div[2]/ul/li['+str(i)+']/div[2]/p[1]/a'\n",
    "        url=driver.find_element_by_xpath(page).get_attribute('href')\n",
    "        urls.append(url)\n",
    "        print(url)\n",
    "else:\n",
    "    # 주어진 키워드로 검색 시 전체 논문 수가 10개 이상인 경우 - 논문 첫 페이지의 논문 수 = 10개\n",
    "    for i in range(1, 11):\n",
    "        page = '/html/body/div[1]/div[2]/div[4]/div[2]/div/div[3]/div[2]/ul/li['+str(i)+']/div[2]/p[1]/a'\n",
    "        url=driver.find_element_by_xpath(page).get_attribute('href')\n",
    "        urls.append(url)\n",
    "        print(url)"
   ]
  },
  {
   "cell_type": "markdown",
   "id": "0b1846be",
   "metadata": {
    "id": "0b1846be"
   },
   "source": [
    "#### 6-1. 저자 정보 구하기 예제\n",
    "수집한 url 중 첫번째 링크의 저자 정보를 구해보자!"
   ]
  },
  {
   "cell_type": "code",
   "execution_count": 24,
   "id": "8515bde5",
   "metadata": {
    "id": "8515bde5"
   },
   "outputs": [],
   "source": [
    "data = []  # 수집한 정보 저장용 리스트\n",
    "driver.get(urls[0])   # 첫번째 링크로 이동"
   ]
  },
  {
   "cell_type": "code",
   "execution_count": 25,
   "id": "040d6ccc",
   "metadata": {
    "id": "040d6ccc",
    "outputId": "8e0ad3bc-5d0d-4685-ba90-75e6c29f8713"
   },
   "outputs": [
    {
     "name": "stdout",
     "output_type": "stream",
     "text": [
      "박용성\n"
     ]
    }
   ],
   "source": [
    "\"\"\" 저자 정보를 xpath와 .text 메소드를 통해 구해주세요! \"\"\"\n",
    "author=driver.find_element_by_xpath('//*[@id=\"thesisInfoDiv\"]/div[2]/div[1]/ul/li[1]/div/p/a').text\n",
    "data.append(author)\n",
    "print(author)"
   ]
  },
  {
   "cell_type": "markdown",
   "id": "ba05577d",
   "metadata": {
    "id": "ba05577d"
   },
   "source": [
    "#### 6-2. 연도 정보 구하기 예제\n",
    "수집한 url 중 첫번째 링크의 연도 정보를 구해보자!"
   ]
  },
  {
   "cell_type": "code",
   "execution_count": 26,
   "id": "1b5611f6",
   "metadata": {
    "id": "1b5611f6",
    "outputId": "27366cb8-1ee6-438b-ceeb-3069ca80a80e"
   },
   "outputs": [
    {
     "name": "stdout",
     "output_type": "stream",
     "text": [
      "2002\n"
     ]
    }
   ],
   "source": [
    "\"\"\" 연도 정보를 xpath와 .text 메소드를 통해 구해주세요! \"\"\"\n",
    "year=driver.find_element_by_xpath('//*[@id=\"thesisInfoDiv\"]/div[2]/div[1]/ul/li[4]/div/p').text\n",
    "data.append(year)\n",
    "print(year)"
   ]
  },
  {
   "cell_type": "markdown",
   "id": "9a9a5c48",
   "metadata": {
    "id": "9a9a5c48"
   },
   "source": [
    "#### 6-3. 제목 정보 구하기 예제\n",
    "수집한 url 중 첫번째 링크의 제목 정보를 구해보자!"
   ]
  },
  {
   "cell_type": "code",
   "execution_count": 27,
   "id": "18baf663",
   "metadata": {
    "id": "18baf663",
    "outputId": "d73afd73-9606-49aa-922e-6b51596f771a",
    "scrolled": true
   },
   "outputs": [
    {
     "name": "stdout",
     "output_type": "stream",
     "text": [
      "코로나방전을 이용한 NO_(2) 전환 및 디젤엔진 Soot 산화에 관한 기초 연구 = Fundamental study on NO-NO_(2) conversion characteristics by corona discharge and oxidation of soot from diesel engine exhaust\n"
     ]
    }
   ],
   "source": [
    "\"\"\" 제목 정보를 xpath와 .text 메소드를 통해 구해주세요! \"\"\"\n",
    "title=driver.find_element_by_xpath('//*[@id=\"thesisInfoDiv\"]/div[1]/h3').text\n",
    "data.append(title)\n",
    "print(title)"
   ]
  },
  {
   "cell_type": "markdown",
   "id": "61ae54a3",
   "metadata": {
    "id": "61ae54a3"
   },
   "source": [
    "#### 6-4. 부가정보 정보 구하기 예제\n",
    "수집한 url 중 첫번째 링크의 부가정보 정보를 구해보자!\n",
    "\n",
    "![image](https://user-images.githubusercontent.com/69336270/129768125-b13b9554-7dba-44e0-aa27-07b901a7f50c.png)\n",
    "  \n",
    "부가정보에서 데이터를 수집하기 위해서는 우선 더보기 버튼을 클릭해주어야 한다. 이때, 더보기 버튼의 **클래스명**을 통해 클릭해주자!"
   ]
  },
  {
   "cell_type": "code",
   "execution_count": 31,
   "id": "392095fe",
   "metadata": {},
   "outputs": [
    {
     "data": {
      "text/plain": [
       "['박용성',\n",
       " '2002',\n",
       " '코로나방전을 이용한 NO_(2) 전환 및 디젤엔진 Soot 산화에 관한 기초 연구 = Fundamental study on NO-NO_(2) conversion characteristics by corona discharge and oxidation of soot from diesel engine exhaust']"
      ]
     },
     "execution_count": 31,
     "metadata": {},
     "output_type": "execute_result"
    }
   ],
   "source": [
    "data"
   ]
  },
  {
   "cell_type": "code",
   "execution_count": 34,
   "id": "170882a8",
   "metadata": {
    "id": "170882a8"
   },
   "outputs": [],
   "source": [
    "# 부가정보 가져오기 - 더보기 버튼 클릭\n",
    "\n",
    "moreViews = driver.find_elements_by_class_name('moreView')\n",
    "\n",
    "for moreView in moreViews:\n",
    "    moreView.send_keys(Keys.ENTER)\n",
    "    sleep(0.1)"
   ]
  },
  {
   "cell_type": "code",
   "execution_count": 44,
   "id": "bfebe5e9",
   "metadata": {},
   "outputs": [
    {
     "data": {
      "text/plain": [
       "[<selenium.webdriver.remote.webelement.WebElement (session=\"dd596885254610be5d12762a3c6e4ded\", element=\"ab95f64a-8fca-4bb5-8674-5f54c5a70fe7\")>,\n",
       " <selenium.webdriver.remote.webelement.WebElement (session=\"dd596885254610be5d12762a3c6e4ded\", element=\"bac446b6-3325-4192-ac59-681c6884e13b\")>,\n",
       " <selenium.webdriver.remote.webelement.WebElement (session=\"dd596885254610be5d12762a3c6e4ded\", element=\"331bd317-14fd-4ee0-8de6-53e6b0a47f9c\")>,\n",
       " <selenium.webdriver.remote.webelement.WebElement (session=\"dd596885254610be5d12762a3c6e4ded\", element=\"93ef3027-1b38-4f76-a4fe-7b1e4bb5e06d\")>,\n",
       " <selenium.webdriver.remote.webelement.WebElement (session=\"dd596885254610be5d12762a3c6e4ded\", element=\"5af3b4d3-4d41-46b6-b883-e02b13bc66da\")>]"
      ]
     },
     "execution_count": 44,
     "metadata": {},
     "output_type": "execute_result"
    }
   ],
   "source": [
    "moreViews"
   ]
  },
  {
   "cell_type": "code",
   "execution_count": 35,
   "id": "4313c749",
   "metadata": {
    "id": "4313c749",
    "outputId": "844f92d6-4bb6-4929-b290-7d7754129c00"
   },
   "outputs": [
    {
     "name": "stdout",
     "output_type": "stream",
     "text": [
      "현재 인류의 주된 에너지원은 화석연료(C_(n)H_(m))를 대기중의 산소(O_(2))로 연소시켜 나오는 CO_(2)와 H_(2)O 가스에 의한 열이다. 대기 중에 존재하는 산소는 분자 상태로 되어있다. 산소분자는 산소원자보다는 월등히 안전한 상태에 있다. 산소원자의 산화반응은 산소분자의 반응보다 엄청 빠르다. 만일, 공기중의 산소분자를 원자로 분리할 수만 있다면 물질을 산화시키는데 상당한 효과를 거둘 것으로 예상된다. 일반적으로 산소분자를 원자로 분리하는 것은 쉬운 일이 아니다. 그러나 플라즈마를 쓰면 쉽게 산소분자를 분리 할 수 있다.\n",
      "최근 활발히 연구되고 있는 저온플라즈마 방식은 높은 고전압에 의해 전극 주위의 기체가 전기적으로 불안정하게 분해되어, 하전입자가 부분적으로 발생, 소멸을 반복하면서 방전 현상을 지속하는 상태이다. 일반적으로 전류의 발생은 작으며 가스 또는 이온의 온도는 낮지만 전자의 온도를 10,000∼100,000 K로 높게 유지된다. 이는 충돌을 통해 자유 라디칼을 생성시키는 전자들에 선택적으로 전기 에너지를 전달하여 원하는 화학 반응이 보다 잘 일어나도록 하기 위해서이다.\n",
      "본 연구에서는 플라즈마 시스템에서 반응기 구조에 따른 코로나방전특성을 분석하기 위하여 음의 코로나(Cathode corona)와 양의 코로나(Anode corona)의 방전특성, 혼합형상의 방전특성, 전극간거리에 따른 방전특성 및 분위기가스에 따른 방전특성을 실험을 통하여 연구하였으며, 플라즈마에 의한 NO_(2) 생성을 최적화하기 위하여 전압변화, 전극변화 및 O_(2)의 농도에 따른 NO_(2)로의 전환특성을 알아보았다. 또한 NO_(2) 가스에 의해 Soot를 보다 효과적으로 저감시키고자 Soot의 산화 특성에 대하여 연구를 수행하였다. O_(2) 가스와 NO_(2) 가스에 의한 산화특성, 코로나 방전에 의해 생성된 NO_(2)에 의한 산화특성, 산소농도에 따른 산화특성, NO_(2), NO 및 O_(2) 가스에 의한 산화특성, 유량에 따른 산화특성 및 시간변화에 따른 산화특성을 실험을 통하여 분석하였으며, 마지막으로 디젤엔진 soot 산화의 반응상수를 O_(2) 와 NO_(2)에 의한 경우에 대하여 산출하였다.\n",
      "플라즈마 시스템에서 코로나방전특성은 음의 코로나가 양의 코로나에 비해 낮은 전압에서 코로나방전이 시작되고 Spark는 높은 전압에서 발생하여 안정된 방전(stable discharge)을 이룰 수 있었다. 또한 반응기 구조가 침상-평판이나 침상-홀의 경우나 모두 음의 코로나가 양의 코로나에 비해 안정된 방전을 이루었다. 음의 코로나와 양의 코로나를 혼합시킨 혼합 형상의 코로나방전특성은 양의 코로나전극에서 spark가 먼저 발생함으로서 방전이 불안정하였으며, 이는 침상-평판 형상과 침상-홀 형상에 모두에 대하여 같았다. 반응기 전극간 거리에 따른 코로나방전전류는 동일한 거리에서 방전전류의 세기는 낮은 전압에서 침상-평판 형상이 크나 높은 전압에서는 침상-홀 형상이 컸으며, 전극간거리가 커짐에 따라 침상-홀 형상이 모든 영역에서 방전전류가 컸다. 분위기가스에 따른 방전에너지의 세기는 가스의 분자량에 관계가 있으며 분자량이 적은 가스일 때는 가스의 입자에 의한 충돌이 적어서 상대적으로 방전이 잘 이루어 졌다.\n",
      "코로나 방전에 의한 NO의 NO_(2) 전환특성은 동일전압조건에서는 O_(2) 농도가 증가함에 따라 방전전류는 약해졌으나, NO 가스의 NO_(2)로 전환율은 높았다. 양의 코로나는 음의 코로나에 비해 높은 전압에서 방전이 시작되었으며 전압상승에 따른 전류의 증가가 급격하였다. 또한 spark도 일찍 도달하여 불안정한 방전을 이루었다. 전극변화에 따른 NO_(2) 전환효율은 낮은 전압에서의 경우 양의 코로나가 음의 코로나 보다 높았으나, 음의 코로나는 높은 전압의 인가가 가능하여, 에너지를 높임에 따라 양의 코로나와 효율은 비슷하였다.\n",
      "디젤엔진의 Soot 산화특성은 다음과 같다. 21% O_(2)가스에 의한 Soot의 산화는 470℃ 부근에서 시작되었고 산화율은 온도증가에 따라 증가하였다. Soot 산화시 HC와 O_(2)의 농도도 Soot가 CO_(2)와 CO로 산화되는 470℃ 부근에서부터 약간 감소하는 경향을 보였다. NO_(2)가스가 포함되어 있는 혼합가스(300ppmNO_(2)-16.8%O_(2)-N_(2))에 의한 Soot의 산화는 330℃부근에서부터 시작되었고, 코로나방전에 의해 생성된 NO_(2)에 의한 soot 산화는 280℃ 부근에서부터 산화가 시작되었다. O_(2) 농도에 따른 Soot 산화는 O_(2)의 농도가 높을 때 Soot의 산화가 낮은 온도에서 시작되었고 활발하였으며, CO_(2)로의 발생도 많았다. NO_(2), NO 및 O_(2) 가스에 의한 Soot의 산화는 NO_(2)가 가장 효과적이고 NO와 O_(2)가 그 다음 순으로 효과적임이 나타났다. 디젤엔진 soot 산화의 반응상수는 k_(co_(2)) = A EXP(-E_(a)/R_(u) T)와 같이 표현할 수 있으며, 실험 데이터를 이용하여 A와 Ea 값을 계산한 결과 NO_(2)가스에 의한 경우 A는 0.39(㎤/mol·sec)이고 Ea는 770(J/mol)이었으며, O_(2)가스의 경우 A는 3.6E+7(1/sec)이고 Ea는 2240(J/mol)이었다. NO_(2)가스가 O_(2)가스보다 activation energy가 작아서 낮은 온도에서 soot를 산화시킬 수 있었다.\n"
     ]
    }
   ],
   "source": [
    "# 부가정보 가져오기 - 첫번째 항목만 가져오기\n",
    "\n",
    "try:\n",
    "    \"\"\" 부가정보의 첫번째 항목을 xpath와 .text 메소드를 통해 구해주세요! \"\"\"\n",
    "    first_info=driver.find_element_by_xpath('//*[@id=\"additionalInfoDiv\"]/div/div[1]/div[3]/p').text\n",
    "    data.append(first_info)\n",
    "    print(first_info)\n",
    "except:\n",
    "    data.append(\"부가정보가 없습니다.\")"
   ]
  },
  {
   "cell_type": "markdown",
   "id": "79328be3",
   "metadata": {
    "id": "79328be3"
   },
   "source": [
    "#### 6-5. 수집한 정보를 바탕으로 DataFrame 만들기"
   ]
  },
  {
   "cell_type": "code",
   "execution_count": 36,
   "id": "2a934318",
   "metadata": {
    "id": "2a934318",
    "outputId": "74168b9a-0ec8-4e6e-aa66-8a8a6abf2a5e"
   },
   "outputs": [
    {
     "data": {
      "text/html": [
       "<div>\n",
       "<style scoped>\n",
       "    .dataframe tbody tr th:only-of-type {\n",
       "        vertical-align: middle;\n",
       "    }\n",
       "\n",
       "    .dataframe tbody tr th {\n",
       "        vertical-align: top;\n",
       "    }\n",
       "\n",
       "    .dataframe thead th {\n",
       "        text-align: right;\n",
       "    }\n",
       "</style>\n",
       "<table border=\"1\" class=\"dataframe\">\n",
       "  <thead>\n",
       "    <tr style=\"text-align: right;\">\n",
       "      <th></th>\n",
       "      <th>저자</th>\n",
       "      <th>발행년도</th>\n",
       "      <th>제목</th>\n",
       "      <th>부가정보</th>\n",
       "      <th>Url</th>\n",
       "    </tr>\n",
       "  </thead>\n",
       "  <tbody>\n",
       "    <tr>\n",
       "      <th>0</th>\n",
       "      <td>박용성</td>\n",
       "      <td>2002</td>\n",
       "      <td>코로나방전을 이용한 NO_(2) 전환 및 디젤엔진 Soot 산화에 관한 기초 연구 ...</td>\n",
       "      <td>현재 인류의 주된 에너지원은 화석연료(C_(n)H_(m))를 대기중의 산소(O_(2...</td>\n",
       "      <td>http://www.riss.kr/search/detail/DetailView.do...</td>\n",
       "    </tr>\n",
       "  </tbody>\n",
       "</table>\n",
       "</div>"
      ],
      "text/plain": [
       "    저자  발행년도                                                 제목  \\\n",
       "0  박용성  2002  코로나방전을 이용한 NO_(2) 전환 및 디젤엔진 Soot 산화에 관한 기초 연구 ...   \n",
       "\n",
       "                                                부가정보  \\\n",
       "0  현재 인류의 주된 에너지원은 화석연료(C_(n)H_(m))를 대기중의 산소(O_(2...   \n",
       "\n",
       "                                                 Url  \n",
       "0  http://www.riss.kr/search/detail/DetailView.do...  "
      ]
     },
     "execution_count": 36,
     "metadata": {},
     "output_type": "execute_result"
    }
   ],
   "source": [
    "pd.DataFrame(data = {'저자':data[0], '발행년도':data[1], '제목':data[2], '부가정보':data[3], 'Url':urls[0]}, index = [0])"
   ]
  },
  {
   "cell_type": "markdown",
   "id": "d92a3a3f",
   "metadata": {
    "id": "d92a3a3f"
   },
   "source": [
    "#### 7. 논문 정보 수집 과정 함수화 하기\n",
    "앞선 예제를 기반으로 함수 속 ???와 공란을 채워주세요"
   ]
  },
  {
   "cell_type": "code",
   "execution_count": 38,
   "id": "988d5388",
   "metadata": {
    "id": "988d5388"
   },
   "outputs": [],
   "source": [
    "def store(url):\n",
    "    data=[]  #빈 리스트\n",
    "    authur=\"\"  #저자\n",
    "    year=\"\"  #연도\n",
    "    title=\"\"  #제목\n",
    "    first_info=\"\"  #부가정보\n",
    "        \n",
    "    #저자\n",
    "    \"\"\" 저자 정보의 첫번째 항목을 xpath와 .text 메소드를 통해 구해주세요! \"\"\"\n",
    "    author=driver.find_element_by_xpath('//*[@id=\"thesisInfoDiv\"]/div[2]/div[1]/ul/li[1]/div/p/a').text\n",
    "        \n",
    "    #연도\n",
    "    \"\"\" 연도 정보의 첫번째 항목을 xpath와 .text 메소드를 통해 구해주세요! \"\"\"\n",
    "    year=driver.find_element_by_xpath('//*[@id=\"thesisInfoDiv\"]/div[2]/div[1]/ul/li[4]/div/p').text\n",
    "    \n",
    "    #제목\n",
    "    \"\"\" 제목 정보의 첫번째 항목을 xpath와 .text 메소드를 통해 구해주세요! \"\"\"\n",
    "    title=driver.find_element_by_xpath('//*[@id=\"thesisInfoDiv\"]/div[1]/h3').text\n",
    "    \n",
    "    #부가정보    \n",
    "    moreViews = driver.find_elements_by_class_name('moreView')\n",
    "\n",
    "    for moreView in moreViews:\n",
    "        moreView.send_keys(Keys.ENTER)\n",
    "        sleep(0.1)\n",
    "\n",
    "    try:\n",
    "        \"\"\" 부가정보의 첫번째 항목을 xpath와 .text 메소드를 통해 구해주세요! \"\"\"\n",
    "        first_info=driver.find_element_by_xpath('//*[@id=\"additionalInfoDiv\"]/div/div[1]/div[3]/p').text\n",
    "        \n",
    "    except:\n",
    "        first_info = \"부가정보가 없습니다.\"\n",
    "        \n",
    "    data.append(author)\n",
    "    data.append(year)\n",
    "    data.append(title)\n",
    "    data.append(first_info)\n",
    "    data.append(url)\n",
    "    paper.append(data)"
   ]
  },
  {
   "cell_type": "markdown",
   "id": "43c4079f",
   "metadata": {
    "id": "43c4079f"
   },
   "source": [
    "#### 8. 수집 및 저장\n",
    "해당 코드는 채점을 위한 코드로 수정하시면 안됩니다!"
   ]
  },
  {
   "cell_type": "code",
   "execution_count": 39,
   "id": "2d5a4fb7",
   "metadata": {
    "id": "2d5a4fb7",
    "outputId": "738c577f-ae31-4fb1-a97b-5978b522d75f"
   },
   "outputs": [
    {
     "data": {
      "text/html": [
       "<div>\n",
       "<style scoped>\n",
       "    .dataframe tbody tr th:only-of-type {\n",
       "        vertical-align: middle;\n",
       "    }\n",
       "\n",
       "    .dataframe tbody tr th {\n",
       "        vertical-align: top;\n",
       "    }\n",
       "\n",
       "    .dataframe thead th {\n",
       "        text-align: right;\n",
       "    }\n",
       "</style>\n",
       "<table border=\"1\" class=\"dataframe\">\n",
       "  <thead>\n",
       "    <tr style=\"text-align: right;\">\n",
       "      <th></th>\n",
       "      <th>저자</th>\n",
       "      <th>발행년도</th>\n",
       "      <th>제목</th>\n",
       "      <th>부가정보</th>\n",
       "      <th>Url</th>\n",
       "    </tr>\n",
       "  </thead>\n",
       "  <tbody>\n",
       "    <tr>\n",
       "      <th>0</th>\n",
       "      <td>박용성</td>\n",
       "      <td>2002</td>\n",
       "      <td>코로나방전을 이용한 NO_(2) 전환 및 디젤엔진 Soot 산화에 관한 기초 연구 ...</td>\n",
       "      <td>현재 인류의 주된 에너지원은 화석연료(C_(n)H_(m))를 대기중의 산소(O_(2...</td>\n",
       "      <td>http://www.riss.kr/search/detail/DetailView.do...</td>\n",
       "    </tr>\n",
       "    <tr>\n",
       "      <th>1</th>\n",
       "      <td>김성태</td>\n",
       "      <td>2021</td>\n",
       "      <td>코로나-19가 사회적 불안감에 미치는 영향 : - 게임 산업 종사자를 중심으로 - ...</td>\n",
       "      <td>2020년 2월 이후로 전 사람간의 접촉으로 전염되는 코로나19가 전 세계로 확산되...</td>\n",
       "      <td>http://www.riss.kr/search/detail/DetailView.do...</td>\n",
       "    </tr>\n",
       "    <tr>\n",
       "      <th>2</th>\n",
       "      <td>박석훈</td>\n",
       "      <td>2014</td>\n",
       "      <td>코로나방식 필터대전 조건에 따른 공기정화필터의 여과특성 = Filtration Ch...</td>\n",
       "      <td>쾌적한 실내공간, 초정밀 제품 생산, 개인위생보호 등의 여러 목적으로 공기정화필터의...</td>\n",
       "      <td>http://www.riss.kr/search/detail/DetailView.do...</td>\n",
       "    </tr>\n",
       "    <tr>\n",
       "      <th>3</th>\n",
       "      <td>손주연</td>\n",
       "      <td>2021</td>\n",
       "      <td>코로나-19 발생 이후 가정간편식(HMR) 소비행태변화 및 만족도 조사</td>\n",
       "      <td>The purpose of this study is to provide basic ...</td>\n",
       "      <td>http://www.riss.kr/search/detail/DetailView.do...</td>\n",
       "    </tr>\n",
       "    <tr>\n",
       "      <th>4</th>\n",
       "      <td>정용철</td>\n",
       "      <td>2008</td>\n",
       "      <td>코로나 방전형 정전기 제거장치에서의 이온생성 최적화 조건에 관한 연구 = A Stu...</td>\n",
       "      <td>The purpose of this study is to analyze the op...</td>\n",
       "      <td>http://www.riss.kr/search/detail/DetailView.do...</td>\n",
       "    </tr>\n",
       "    <tr>\n",
       "      <th>5</th>\n",
       "      <td>이해인</td>\n",
       "      <td>2021</td>\n",
       "      <td>코로나19 백신 접종의도 설문조사 고찰 연구</td>\n",
       "      <td>2020년 1월 30일 코로나바이러스의 전세계적 확산으로 ‘국제적 공중보건 비상사태...</td>\n",
       "      <td>http://www.riss.kr/search/detail/DetailView.do...</td>\n",
       "    </tr>\n",
       "    <tr>\n",
       "      <th>6</th>\n",
       "      <td>정서혜</td>\n",
       "      <td>2021</td>\n",
       "      <td>코로나-19로 변화된 환경에 대한 미술치료사의 경험연구 : 포커스 그룹 인터뷰를 중...</td>\n",
       "      <td>본 연구는 포커스 그룹 인터뷰를 사용하여 코로나-19로 인하여 미술치료사가 현장에서...</td>\n",
       "      <td>http://www.riss.kr/search/detail/DetailView.do...</td>\n",
       "    </tr>\n",
       "    <tr>\n",
       "      <th>7</th>\n",
       "      <td>ZENG, SHIYA</td>\n",
       "      <td>2021</td>\n",
       "      <td>코로나19 관련 가시성과 책임 보도가 감정과 낙인에 미치는 영향에 대한 연구</td>\n",
       "      <td>코로나19(COVID-19)는 제 6번째 ‘국제적 공중보건 비상사태’로써 세계적으로...</td>\n",
       "      <td>http://www.riss.kr/search/detail/DetailView.do...</td>\n",
       "    </tr>\n",
       "    <tr>\n",
       "      <th>8</th>\n",
       "      <td>경규희</td>\n",
       "      <td>2021</td>\n",
       "      <td>코로나19 상황에서 교사의 직무요구가 직무소진에 미치는 영향 : 코로나19에 대한 ...</td>\n",
       "      <td>본 연구의 목적은 코로나19 상황에서 국내 중등학교(중·고등학교 및 이에 상응하는 ...</td>\n",
       "      <td>http://www.riss.kr/search/detail/DetailView.do...</td>\n",
       "    </tr>\n",
       "    <tr>\n",
       "      <th>9</th>\n",
       "      <td>Zhang, Yuqing</td>\n",
       "      <td>2021</td>\n",
       "      <td>코로나19 예방행위 지속의도에 영향을 미치는 요인 연구 : 건강신념모델(HBM)의 적용</td>\n",
       "      <td>사람들이 질병 혹은 위험의 특성을 지각하는 것에 따라 우리는 그들의 예방 행동을 예...</td>\n",
       "      <td>http://www.riss.kr/search/detail/DetailView.do...</td>\n",
       "    </tr>\n",
       "  </tbody>\n",
       "</table>\n",
       "</div>"
      ],
      "text/plain": [
       "              저자  발행년도                                                 제목  \\\n",
       "0            박용성  2002  코로나방전을 이용한 NO_(2) 전환 및 디젤엔진 Soot 산화에 관한 기초 연구 ...   \n",
       "1            김성태  2021  코로나-19가 사회적 불안감에 미치는 영향 : - 게임 산업 종사자를 중심으로 - ...   \n",
       "2            박석훈  2014  코로나방식 필터대전 조건에 따른 공기정화필터의 여과특성 = Filtration Ch...   \n",
       "3            손주연  2021            코로나-19 발생 이후 가정간편식(HMR) 소비행태변화 및 만족도 조사   \n",
       "4            정용철  2008  코로나 방전형 정전기 제거장치에서의 이온생성 최적화 조건에 관한 연구 = A Stu...   \n",
       "5            이해인  2021                           코로나19 백신 접종의도 설문조사 고찰 연구   \n",
       "6            정서혜  2021  코로나-19로 변화된 환경에 대한 미술치료사의 경험연구 : 포커스 그룹 인터뷰를 중...   \n",
       "7    ZENG, SHIYA  2021         코로나19 관련 가시성과 책임 보도가 감정과 낙인에 미치는 영향에 대한 연구   \n",
       "8            경규희  2021  코로나19 상황에서 교사의 직무요구가 직무소진에 미치는 영향 : 코로나19에 대한 ...   \n",
       "9  Zhang, Yuqing  2021   코로나19 예방행위 지속의도에 영향을 미치는 요인 연구 : 건강신념모델(HBM)의 적용   \n",
       "\n",
       "                                                부가정보  \\\n",
       "0  현재 인류의 주된 에너지원은 화석연료(C_(n)H_(m))를 대기중의 산소(O_(2...   \n",
       "1  2020년 2월 이후로 전 사람간의 접촉으로 전염되는 코로나19가 전 세계로 확산되...   \n",
       "2  쾌적한 실내공간, 초정밀 제품 생산, 개인위생보호 등의 여러 목적으로 공기정화필터의...   \n",
       "3  The purpose of this study is to provide basic ...   \n",
       "4  The purpose of this study is to analyze the op...   \n",
       "5  2020년 1월 30일 코로나바이러스의 전세계적 확산으로 ‘국제적 공중보건 비상사태...   \n",
       "6  본 연구는 포커스 그룹 인터뷰를 사용하여 코로나-19로 인하여 미술치료사가 현장에서...   \n",
       "7  코로나19(COVID-19)는 제 6번째 ‘국제적 공중보건 비상사태’로써 세계적으로...   \n",
       "8  본 연구의 목적은 코로나19 상황에서 국내 중등학교(중·고등학교 및 이에 상응하는 ...   \n",
       "9  사람들이 질병 혹은 위험의 특성을 지각하는 것에 따라 우리는 그들의 예방 행동을 예...   \n",
       "\n",
       "                                                 Url  \n",
       "0  http://www.riss.kr/search/detail/DetailView.do...  \n",
       "1  http://www.riss.kr/search/detail/DetailView.do...  \n",
       "2  http://www.riss.kr/search/detail/DetailView.do...  \n",
       "3  http://www.riss.kr/search/detail/DetailView.do...  \n",
       "4  http://www.riss.kr/search/detail/DetailView.do...  \n",
       "5  http://www.riss.kr/search/detail/DetailView.do...  \n",
       "6  http://www.riss.kr/search/detail/DetailView.do...  \n",
       "7  http://www.riss.kr/search/detail/DetailView.do...  \n",
       "8  http://www.riss.kr/search/detail/DetailView.do...  \n",
       "9  http://www.riss.kr/search/detail/DetailView.do...  "
      ]
     },
     "execution_count": 39,
     "metadata": {},
     "output_type": "execute_result"
    }
   ],
   "source": [
    "paper=[]\n",
    "for url in urls:\n",
    "    driver.get(url)\n",
    "    store(url)\n",
    "    sleep(1)\n",
    "\n",
    "driver.close()  # 드라이버 닫기\n",
    "\n",
    "paper_info = pd.DataFrame(paper, columns=['저자', '발행년도', '제목', '부가정보', 'Url'])\n",
    "paper_info.to_csv('./paper_info.csv', encoding='utf-8')\n",
    "paper_info"
   ]
  }
 ],
 "metadata": {
  "colab": {
   "name": "Week5_Crawling_Assignment.ipynb",
   "provenance": []
  },
  "kernelspec": {
   "display_name": "Python 3",
   "language": "python",
   "name": "python3"
  },
  "language_info": {
   "codemirror_mode": {
    "name": "ipython",
    "version": 3
   },
   "file_extension": ".py",
   "mimetype": "text/x-python",
   "name": "python",
   "nbconvert_exporter": "python",
   "pygments_lexer": "ipython3",
   "version": "3.8.8"
  }
 },
 "nbformat": 4,
 "nbformat_minor": 5
}
