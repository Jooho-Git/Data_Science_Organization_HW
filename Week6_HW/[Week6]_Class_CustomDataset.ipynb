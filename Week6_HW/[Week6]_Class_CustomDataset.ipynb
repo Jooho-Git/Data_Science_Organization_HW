{
 "cells": [
  {
   "cell_type": "markdown",
   "metadata": {
    "id": "q8847qhBzpV3"
   },
   "source": [
    "# Week6: Class\n",
    "\n",
    "Pytorch의 Dataset 추상클래스를 상속받아 CustomDataset 만들어보기!\n",
    "\n",
    "- 현재는 X_data, y_data를 임의로 선정해두었지만, 원한다면 어떠한 데이터를 쓰셔도 상관없습니다. \n",
    "\n",
    "- 선언되어있는 3가지 메서드는 모두 구현하셔야 합니다. \n",
    "- 연습을 위한 추가적인 메서드들은 언제나 환영합니다!\n",
    "\n"
   ]
  },
  {
   "cell_type": "code",
   "execution_count": null,
   "metadata": {
    "id": "nHzO9sXUc60j"
   },
   "outputs": [],
   "source": [
    "from torch.utils.data import Dataset\n",
    "import numpy as np\n",
    "import random"
   ]
  },
  {
   "cell_type": "code",
   "execution_count": null,
   "metadata": {
    "id": "u3xgFyHBfrDy"
   },
   "outputs": [],
   "source": [
    "X_data = np.random.rand(10,10)\n",
    "y_data = np.ones(10)"
   ]
  },
  {
   "cell_type": "code",
   "execution_count": 6,
   "metadata": {
    "colab": {
     "base_uri": "https://localhost:8080/"
    },
    "id": "XjoynnkuBzZ1",
    "outputId": "d9ea9db8-d7c2-4bc4-b232-b5d03f440b18"
   },
   "outputs": [
    {
     "name": "stdout",
     "output_type": "stream",
     "text": [
      "10\n"
     ]
    },
    {
     "data": {
      "text/plain": [
       "10"
      ]
     },
     "execution_count": 6,
     "metadata": {},
     "output_type": "execute_result"
    }
   ],
   "source": [
    "print(len(X_data))\n",
    "len(y_data)"
   ]
  },
  {
   "cell_type": "code",
   "execution_count": 40,
   "metadata": {
    "id": "0uVQHsNPdAQR"
   },
   "outputs": [],
   "source": [
    "class CustomDataset(Dataset): \n",
    "    def __init__(self, X_data, y_data):\n",
    "        self.X_data=X_data\n",
    "        self.y_data=y_data\n",
    "        pass\n",
    "\n",
    "    def __len__(self):\n",
    "        return {\"X_data 길이\":len(self.X_data), \"y_data 길이\":len(self.y_data)}\n",
    "        pass\n",
    "\n",
    "    def __getitem__(self, idx):\n",
    "        x=self.X_data[np.random.choice(self.X_data.shape[0], idx, replace=False),:]\n",
    "        y=np.random.choice(self.y_data, idx, replace=False)\n",
    "        return {\"input\": x, 'label':y}"
   ]
  },
  {
   "cell_type": "code",
   "execution_count": 41,
   "metadata": {
    "colab": {
     "base_uri": "https://localhost:8080/"
    },
    "id": "8DxTC-Kqghjq",
    "outputId": "040760a0-bd1e-4bd5-e19f-ee67ffc0fb6b"
   },
   "outputs": [
    {
     "name": "stdout",
     "output_type": "stream",
     "text": [
      "{'X_data 길이': 10, 'y_data 길이': 10}\n"
     ]
    },
    {
     "data": {
      "text/plain": [
       "{'input': array([[0.46543054, 0.34926978, 0.9293326 , 0.91865636, 0.13323213,\n",
       "         0.97104704, 0.64334812, 0.63653719, 0.52614206, 0.52302531]]),\n",
       " 'label': array([1.])}"
      ]
     },
     "execution_count": 41,
     "metadata": {},
     "output_type": "execute_result"
    }
   ],
   "source": [
    "object1=CustomDataset(X_data,y_data)\n",
    "print(object1.__len__())\n",
    "object1.__getitem__(1)"
   ]
  }
 ],
 "metadata": {
  "colab": {
   "collapsed_sections": [],
   "name": "[Week6] Class-CustomDataset.ipynb",
   "provenance": []
  },
  "kernelspec": {
   "display_name": "Python 3",
   "language": "python",
   "name": "python3"
  },
  "language_info": {
   "codemirror_mode": {
    "name": "ipython",
    "version": 3
   },
   "file_extension": ".py",
   "mimetype": "text/x-python",
   "name": "python",
   "nbconvert_exporter": "python",
   "pygments_lexer": "ipython3",
   "version": "3.8.8"
  }
 },
 "nbformat": 4,
 "nbformat_minor": 1
}
