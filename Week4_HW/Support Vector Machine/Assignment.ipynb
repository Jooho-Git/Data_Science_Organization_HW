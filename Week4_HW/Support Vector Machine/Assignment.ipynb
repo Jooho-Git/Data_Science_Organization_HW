{
 "cells": [
  {
   "cell_type": "markdown",
   "id": "9ad88f3e",
   "metadata": {},
   "source": [
    "# 4주차 Multiclass SVM 구현 과제 - 16기 김주호"
   ]
  },
  {
   "cell_type": "code",
   "execution_count": 1,
   "id": "1ee53277",
   "metadata": {},
   "outputs": [
    {
     "name": "stdout",
     "output_type": "stream",
     "text": [
      "0         setosa\n",
      "1         setosa\n",
      "2         setosa\n",
      "3         setosa\n",
      "4         setosa\n",
      "         ...    \n",
      "145    virginica\n",
      "146    virginica\n",
      "147    virginica\n",
      "148    virginica\n",
      "149    virginica\n",
      "Name: species, Length: 150, dtype: object\n"
     ]
    }
   ],
   "source": [
    "import numpy as np\n",
    "import pandas as pd\n",
    "import matplotlib.pyplot as plt\n",
    "import seaborn as sns\n",
    "from sklearn.svm import SVC\n",
    "from sklearn.model_selection import train_test_split\n",
    "from sklearn.pipeline import Pipeline\n",
    "from sklearn.preprocessing import StandardScaler\n",
    "from sklearn.metrics import accuracy_score\n",
    "\n",
    "#IRIS 데이터 로드\n",
    "iris =  sns.load_dataset('iris')\n",
    "X= iris.iloc[:,:4] #학습할데이터\n",
    "y = iris.iloc[:,-1] #타겟\n",
    "print(y)"
   ]
  },
  {
   "cell_type": "code",
   "execution_count": 2,
   "id": "57c67bc8",
   "metadata": {},
   "outputs": [],
   "source": [
    "X_train, X_test, y_train, y_test = train_test_split(X, y, test_size=0.2, random_state=48)"
   ]
  },
  {
   "cell_type": "code",
   "execution_count": 3,
   "id": "88a4203d",
   "metadata": {},
   "outputs": [],
   "source": [
    "def standardization(train, test):\n",
    "    scaler = StandardScaler()\n",
    "    train = scaler.fit_transform(train)\n",
    "    test = scaler.transform(test)\n",
    "    return train, test\n",
    "\n",
    "X_train, X_test = standardization(X_train, X_test)"
   ]
  },
  {
   "cell_type": "code",
   "execution_count": 4,
   "id": "403590f5",
   "metadata": {},
   "outputs": [
    {
     "data": {
      "text/plain": [
       "array([[ 0.78522493,  0.32015325,  0.77221097,  1.04726529],\n",
       "       [-0.26563371, -1.29989934,  0.0982814 , -0.11996537],\n",
       "       [ 0.43493872,  0.78302542,  0.94069336,  1.43634218],\n",
       "       [-0.84944407,  0.78302542, -1.24957775, -1.28719604],\n",
       "       [-0.38239578, -1.7627715 ,  0.15444219,  0.13941922],\n",
       "       [ 0.55170079, -0.374155  ,  1.05301496,  0.7878807 ],\n",
       "       [ 0.31817664, -0.14271892,  0.65988937,  0.7878807 ],\n",
       "       [ 0.20141457, -0.374155  ,  0.43524618,  0.39880381],\n",
       "       [-1.66677857, -0.14271892, -1.36189934, -1.28719604],\n",
       "       [-0.14887164, -0.60559109,  0.21060299,  0.13941922],\n",
       "       [-0.14887164, -1.06846325, -0.12636179, -0.24965767],\n",
       "       [ 0.31817664, -0.60559109,  0.15444219,  0.13941922],\n",
       "       [ 0.66846286, -0.83702717,  0.88453256,  0.91757299],\n",
       "       [ 0.0846525 , -0.14271892,  0.77221097,  0.7878807 ],\n",
       "       [-0.49915786, -0.14271892,  0.43524618,  0.39880381],\n",
       "       [-0.26563371, -0.60559109,  0.65988937,  1.04726529],\n",
       "       [ 2.18636979,  1.70876975,  1.67078373,  1.30664988],\n",
       "       [-0.49915786,  1.94020584, -1.13725615, -1.02781144],\n",
       "       [-0.96620614,  1.0144615 , -1.36189934, -1.15750374],\n",
       "       [ 1.60255943,  0.32015325,  1.27765815,  0.7878807 ],\n",
       "       [-0.84944407,  1.70876975, -1.02493456, -1.02781144],\n",
       "       [ 0.901987  , -0.14271892,  0.37908538,  0.26911151],\n",
       "       [-1.19973028,  0.78302542, -1.02493456, -1.28719604],\n",
       "       [-0.61591993,  1.47733367, -1.24957775, -1.28719604],\n",
       "       [-0.49915786,  1.47733367, -1.24957775, -1.28719604],\n",
       "       [-0.03210957, -0.83702717,  0.77221097,  0.91757299],\n",
       "       [-1.31649236,  0.32015325, -1.19341695, -1.28719604],\n",
       "       [ 1.25227322,  0.08871717,  0.94069336,  1.17695758],\n",
       "       [-1.08296821,  0.08871717, -1.24957775, -1.41688833],\n",
       "       [-1.08296821, -1.29989934,  0.43524618,  0.6581884 ],\n",
       "       [ 0.43493872, -0.374155  ,  0.32292459,  0.13941922],\n",
       "       [ 1.60255943,  1.24589758,  1.33381894,  1.69572677],\n",
       "       [ 0.31817664, -0.374155  ,  0.54756778,  0.26911151],\n",
       "       [ 1.83608357, -0.60559109,  1.33381894,  0.91757299],\n",
       "       [-0.03210957, -0.83702717,  0.0982814 ,  0.00972692],\n",
       "       [ 0.20141457, -1.99420759,  0.71605017,  0.39880381],\n",
       "       [ 1.01874907,  0.08871717,  1.05301496,  1.56603447],\n",
       "       [-0.84944407,  1.0144615 , -1.30573855, -1.15750374],\n",
       "       [-0.14887164, -0.14271892,  0.26676379,  0.00972692],\n",
       "       [-0.38239578, -1.53133542,  0.0421206 , -0.11996537],\n",
       "       [ 0.55170079, -1.29989934,  0.71605017,  0.91757299],\n",
       "       [ 1.48579736, -0.14271892,  1.22149735,  1.17695758],\n",
       "       [-0.38239578, -1.06846325,  0.37908538,  0.00972692],\n",
       "       [-0.96620614, -1.7627715 , -0.23868339, -0.24965767],\n",
       "       [ 1.25227322,  0.08871717,  0.77221097,  1.43634218],\n",
       "       [ 0.66846286, -0.60559109,  1.05301496,  1.17695758],\n",
       "       [ 0.43493872, -1.99420759,  0.43524618,  0.39880381],\n",
       "       [-0.14887164, -0.60559109,  0.43524618,  0.13941922],\n",
       "       [-0.732682  , -0.83702717,  0.0982814 ,  0.26911151],\n",
       "       [ 2.06960772, -0.14271892,  1.61462293,  1.17695758],\n",
       "       [ 1.13551115, -0.60559109,  0.60372857,  0.26911151],\n",
       "       [-0.84944407, -1.29989934, -0.40716578, -0.11996537],\n",
       "       [-0.14887164, -1.29989934,  0.71605017,  1.04726529],\n",
       "       [ 0.66846286, -0.374155  ,  0.32292459,  0.13941922],\n",
       "       [ 1.01874907,  0.08871717,  0.37908538,  0.26911151],\n",
       "       [-0.26563371, -0.83702717,  0.26676379,  0.13941922],\n",
       "       [ 1.25227322,  0.08871717,  0.65988937,  0.39880381],\n",
       "       [-0.84944407,  0.55158933, -1.13725615, -0.89811915],\n",
       "       [-1.08296821, -0.14271892, -1.30573855, -1.28719604],\n",
       "       [ 0.20141457, -0.83702717,  0.77221097,  0.52849611],\n",
       "       [-1.08296821, -1.53133542, -0.23868339, -0.24965767],\n",
       "       [-0.03210957,  2.17164192, -1.41806014, -1.28719604],\n",
       "       [-0.96620614,  1.0144615 , -1.19341695, -0.76842685],\n",
       "       [ 0.55170079, -0.83702717,  0.65988937,  0.7878807 ],\n",
       "       [ 1.7193215 , -0.374155  ,  1.44614054,  0.7878807 ],\n",
       "       [-0.732682  ,  2.403078  , -1.24957775, -1.41688833],\n",
       "       [-0.14887164,  3.09738625, -1.24957775, -1.02781144],\n",
       "       [ 1.13551115, -0.14271892,  0.99685416,  1.17695758],\n",
       "       [-1.43325443,  0.08871717, -1.24957775, -1.28719604],\n",
       "       [-0.03210957, -0.83702717,  0.21060299, -0.24965767],\n",
       "       [ 1.01874907, -0.14271892,  0.82837177,  1.43634218],\n",
       "       [ 1.36903529,  0.32015325,  0.54756778,  0.26911151],\n",
       "       [-0.96620614,  0.32015325, -1.41806014, -1.28719604],\n",
       "       [-0.96620614,  0.78302542, -1.24957775, -1.28719604],\n",
       "       [ 0.55170079,  0.55158933,  1.27765815,  1.69572677],\n",
       "       [ 2.18636979, -0.60559109,  1.67078373,  1.04726529],\n",
       "       [ 0.0846525 , -0.14271892,  0.26676379,  0.39880381],\n",
       "       [-1.31649236,  0.32015325, -1.36189934, -1.28719604],\n",
       "       [ 0.66846286,  0.32015325,  0.88453256,  1.43634218],\n",
       "       [-0.96620614,  0.78302542, -1.19341695, -1.02781144],\n",
       "       [ 0.20141457,  0.78302542,  0.43524618,  0.52849611],\n",
       "       [-1.19973028, -0.14271892, -1.30573855, -1.41688833],\n",
       "       [ 1.01874907,  0.55158933,  1.10917575,  1.17695758],\n",
       "       [ 0.78522493, -0.60559109,  0.49140698,  0.39880381],\n",
       "       [-1.43325443,  1.24589758, -1.53038174, -1.28719604],\n",
       "       [-0.03210957, -0.60559109,  0.77221097,  1.56603447],\n",
       "       [-1.78354064, -0.14271892, -1.47422094, -1.41688833],\n",
       "       [ 1.01874907, -1.29989934,  1.16533655,  0.7878807 ],\n",
       "       [-1.08296821,  1.24589758, -1.30573855, -1.41688833],\n",
       "       [-0.49915786,  1.94020584, -1.36189934, -1.02781144],\n",
       "       [-1.43325443,  0.32015325, -1.30573855, -1.28719604],\n",
       "       [-0.03210957, -0.83702717,  0.77221097,  0.91757299],\n",
       "       [ 0.55170079, -0.60559109,  0.77221097,  0.39880381],\n",
       "       [-0.96620614,  0.55158933, -1.30573855, -1.28719604],\n",
       "       [ 2.41989393,  1.70876975,  1.50230134,  1.04726529],\n",
       "       [-1.66677857,  0.32015325, -1.36189934, -1.28719604],\n",
       "       [-1.19973028, -0.14271892, -1.30573855, -1.15750374],\n",
       "       [ 1.01874907,  0.55158933,  1.10917575,  1.69572677],\n",
       "       [-0.96620614, -2.45707976, -0.12636179, -0.24965767],\n",
       "       [-0.732682  ,  1.0144615 , -1.24957775, -1.28719604],\n",
       "       [ 2.18636979, -1.06846325,  1.78310533,  1.43634218],\n",
       "       [ 1.13551115,  0.32015325,  1.22149735,  1.43634218],\n",
       "       [-0.96620614, -0.14271892, -1.19341695, -1.28719604],\n",
       "       [-0.84944407,  1.47733367, -1.24957775, -1.02781144],\n",
       "       [ 2.18636979, -0.14271892,  1.33381894,  1.43634218],\n",
       "       [-0.14887164,  1.70876975, -1.13725615, -1.15750374],\n",
       "       [-0.26563371, -0.14271892,  0.43524618,  0.39880381],\n",
       "       [-1.19973028,  0.08871717, -1.19341695, -1.28719604],\n",
       "       [ 0.78522493, -0.14271892,  1.16533655,  1.30664988],\n",
       "       [ 0.901987  , -0.374155  ,  0.49140698,  0.13941922],\n",
       "       [-0.732682  ,  0.78302542, -1.30573855, -1.28719604],\n",
       "       [-0.84944407,  1.70876975, -1.19341695, -1.28719604],\n",
       "       [-1.43325443,  0.78302542, -1.30573855, -1.15750374],\n",
       "       [-0.03210957, -1.06846325,  0.15444219,  0.00972692],\n",
       "       [-1.08296821,  0.08871717, -1.24957775, -1.28719604],\n",
       "       [-0.26563371, -0.374155  , -0.070201  ,  0.13941922],\n",
       "       [ 0.31817664, -0.14271892,  0.49140698,  0.26911151],\n",
       "       [-0.38239578, -1.53133542, -0.0140402 , -0.24965767],\n",
       "       [ 0.66846286,  0.32015325,  0.43524618,  0.39880381],\n",
       "       [-0.84944407,  1.0144615 , -1.30573855, -1.28719604]])"
      ]
     },
     "execution_count": 4,
     "metadata": {},
     "output_type": "execute_result"
    }
   ],
   "source": [
    "X_train"
   ]
  },
  {
   "cell_type": "code",
   "execution_count": 5,
   "id": "9861d8a6",
   "metadata": {},
   "outputs": [
    {
     "data": {
      "text/plain": [
       "array([[-0.14887164, -0.374155  ,  0.26676379,  0.13941922],\n",
       "       [ 0.31817664, -0.60559109,  0.54756778,  0.00972692],\n",
       "       [ 0.31817664, -1.06846325,  1.05301496,  0.26911151],\n",
       "       [-1.5500165 , -1.7627715 , -1.36189934, -1.15750374],\n",
       "       [ 0.0846525 ,  0.32015325,  0.60372857,  0.7878807 ],\n",
       "       [ 0.78522493, -0.14271892,  0.99685416,  0.7878807 ],\n",
       "       [-0.84944407,  1.70876975, -1.24957775, -1.15750374],\n",
       "       [ 0.20141457, -0.14271892,  0.60372857,  0.7878807 ],\n",
       "       [-0.38239578,  2.63451409, -1.30573855, -1.28719604],\n",
       "       [-0.38239578, -1.29989934,  0.15444219,  0.13941922],\n",
       "       [ 0.66846286,  0.08871717,  0.99685416,  0.7878807 ],\n",
       "       [-0.38239578,  1.0144615 , -1.36189934, -1.28719604],\n",
       "       [-0.49915786,  0.78302542, -1.13725615, -1.28719604],\n",
       "       [ 0.43493872, -0.60559109,  0.60372857,  0.7878807 ],\n",
       "       [ 0.55170079, -1.7627715 ,  0.37908538,  0.13941922],\n",
       "       [ 0.55170079,  0.55158933,  0.54756778,  0.52849611],\n",
       "       [-1.19973028,  0.78302542, -1.19341695, -1.28719604],\n",
       "       [ 0.20141457, -1.99420759,  0.15444219, -0.24965767],\n",
       "       [ 0.55170079, -1.29989934,  0.65988937,  0.39880381],\n",
       "       [ 1.25227322,  0.32015325,  1.10917575,  1.43634218],\n",
       "       [-1.66677857, -0.374155  , -1.30573855, -1.28719604],\n",
       "       [ 0.78522493, -0.14271892,  0.82837177,  1.04726529],\n",
       "       [ 1.01874907, -0.14271892,  0.71605017,  0.6581884 ],\n",
       "       [ 1.01874907,  0.08871717,  0.54756778,  0.39880381],\n",
       "       [ 1.60255943, -0.14271892,  1.16533655,  0.52849611],\n",
       "       [-0.96620614,  1.24589758, -1.30573855, -1.28719604],\n",
       "       [-0.49915786,  0.78302542, -1.24957775, -1.02781144],\n",
       "       [ 0.55170079,  0.78302542,  1.05301496,  1.56603447],\n",
       "       [ 0.66846286, -0.60559109,  1.05301496,  1.30664988],\n",
       "       [-0.26563371, -0.14271892,  0.21060299,  0.13941922]])"
      ]
     },
     "execution_count": 5,
     "metadata": {},
     "output_type": "execute_result"
    }
   ],
   "source": [
    "X_test"
   ]
  },
  {
   "cell_type": "code",
   "execution_count": 6,
   "id": "e80131e5",
   "metadata": {},
   "outputs": [
    {
     "name": "stdout",
     "output_type": "stream",
     "text": [
      "<class 'pandas.core.frame.DataFrame'>\n",
      "RangeIndex: 150 entries, 0 to 149\n",
      "Data columns (total 5 columns):\n",
      " #   Column        Non-Null Count  Dtype  \n",
      "---  ------        --------------  -----  \n",
      " 0   sepal_length  150 non-null    float64\n",
      " 1   sepal_width   150 non-null    float64\n",
      " 2   petal_length  150 non-null    float64\n",
      " 3   petal_width   150 non-null    float64\n",
      " 4   species       150 non-null    object \n",
      "dtypes: float64(4), object(1)\n",
      "memory usage: 6.0+ KB\n"
     ]
    }
   ],
   "source": [
    "# 결측치 없음\n",
    "iris.info()"
   ]
  },
  {
   "cell_type": "code",
   "execution_count": 7,
   "id": "11719030",
   "metadata": {},
   "outputs": [
    {
     "data": {
      "text/plain": [
       "setosa        41\n",
       "virginica     40\n",
       "versicolor    39\n",
       "Name: species, dtype: int64"
      ]
     },
     "execution_count": 7,
     "metadata": {},
     "output_type": "execute_result"
    }
   ],
   "source": [
    "y_train.value_counts()"
   ]
  },
  {
   "cell_type": "markdown",
   "id": "8c0aa2d4",
   "metadata": {},
   "source": [
    "## SVM으로 훈련하기\n",
    "###  one vs rest 방식으로 클래스 예측"
   ]
  },
  {
   "cell_type": "markdown",
   "id": "6b7b77b8",
   "metadata": {},
   "source": [
    "**< 구현 과정 >**\n",
    "* **1. 클래스가 n가지일 때, 이를 원핫인코딩하여 n개의 타겟값 열을 만든다**\n",
    "* **2. n개의 binary SVM 학습기를 만들어 각각을 훈련한 후 각 학습기의 예측값의 배열을 변수에 저장해둔다** \n",
    "* **3. 예측값 배열에서 하나의 열 안에 1이 하나인 열은 1에 해당하는 원 데이터의 타겟값을 result 리스트 안에 append한다** \n",
    "* **4. 예측값 배열에서 하나의 열 안에 1이 두개 이상이거나 모두 0인 열은 decision_function()을 통해 가장 큰 값의 타겟값을 result에 append한다**\n",
    "* **5. 위 3,4번의 결과를 조합하여 multiclass SVM 구현한다** "
   ]
  },
  {
   "cell_type": "code",
   "execution_count": 8,
   "id": "6d4f5e95",
   "metadata": {},
   "outputs": [],
   "source": [
    "class SVM_ovr:\n",
    "    def __init__(self,num_classes,kernel,C,gamma):\n",
    "        self.num_classes=num_classes\n",
    "        self.svm=[SVC(kernel=kernel,C=C,gamma=gamma) for i in range(num_classes)]\n",
    "        \n",
    "    def fit_predict(self, X_train, y_train, X_test):\n",
    "        # y_train 원핫인코딩\n",
    "        y_train=pd.get_dummies(y_train)\n",
    "        # 학습기의 예측값을 넣을 빈 배열 pred\n",
    "        pred=np.zeros((self.num_classes,len(X_test)))\n",
    "        \n",
    "        # (A vs Rest) svm모델, (B vs Rest) svm모델, (C vs Rest) svm모델, ... 등을 학습시키고 각각에 대한 예측값을 pred라는 배열에 저장\n",
    "        for i in range(len(self.svm)):\n",
    "            self.svm[i].fit(X_train,y_train.iloc[:,i])\n",
    "            pred[i]=self.svm[i].predict(X_test)\n",
    "            \n",
    "        result=[]\n",
    "        for i in range(len(X_test)):\n",
    "            # 예측값 배열에서 각 열의 합이 1인 경우(ex. [1,0,0] [0,1,0] [0,0,1])\n",
    "            if sum(pred[:,i])==1:\n",
    "                result.append(np.argmax(pred[:,i],axis=0))\n",
    "            # 각 열의 합이 1이 아닌 경우(ex. [1,1,0],[0,0,0],[1,1,1]) => 흔한 상황은 아닐 것으로 예상됨\n",
    "            else:\n",
    "                # **동점의 상황에서만 거리계산을 하도록 함**\n",
    "                decision_score=np.zeros((self.num_classes,1))\n",
    "                for ind in range(self.num_classes):\n",
    "                    decision_score[ind]=self.svm[ind].decision_function(X_test[i].reshape(1,-1))\n",
    "                result.append(np.argmax(decision_score))\n",
    "        print(result)\n",
    "        return result"
   ]
  },
  {
   "cell_type": "markdown",
   "id": "8cab1d1c",
   "metadata": {},
   "source": [
    "**위 클래스는 fit() 함수와 predict() 함수를 합쳐 fit_predict() 함수를 만들었으며 큰 차이는 아니지만 데이터프레임이나 리스트로의 변환을 최소화하고 주로 배열의 형태로 통일하여 메모리 사용량을 줄이고자 했다. 또한, 데이터의 크기가 커질 경우, decision_function()을 통해 결정경계를 구하는 것이 수행시간을 늘릴 수 있다고 생각하여 동점이 발생하는 상황에서만 decision_function을 수행하도록 코드를 작성했다.**\n",
    "\n",
    "**SVM모델에서 decision_function은 data point와 hyperplane 사이의 거리와 비례하는 값을 갖는다.**\n",
    "\n",
    "If decision_function_shape=’ovo’, the function values are proportional to the distance of the samples X to the separating hyperplane. If the exact distances are required, divide the function values by the norm of the weight vector (coef_). See also this question for further details. If decision_function_shape=’ovr’, the decision function is a monotonic transformation of ovo decision function.  \n",
    "출처: https://scikit-learn.org/stable/modules/generated/sklearn.svm.SVC.html"
   ]
  },
  {
   "cell_type": "markdown",
   "id": "e4315cb1",
   "metadata": {},
   "source": [
    "### 구현한 multiclass SVM 정확도 구하기"
   ]
  },
  {
   "cell_type": "code",
   "execution_count": 9,
   "id": "a736acf4",
   "metadata": {
    "scrolled": true
   },
   "outputs": [
    {
     "name": "stdout",
     "output_type": "stream",
     "text": [
      "[1 1 2 0 1 2 0 2 0 1 2 0 0 2 1 1 0 1 1 2 0 2 1 1 2 0 0 2 2 1]\n"
     ]
    }
   ],
   "source": [
    "# y_test 타겟값 열 원핫인코딩 (One vs Rest에 맞도록 일반적인 원핫인코딩 진행)\n",
    "from sklearn.preprocessing import LabelEncoder\n",
    "encoder=LabelEncoder()\n",
    "y_test_le=encoder.fit_transform(y_test)\n",
    "print(y_test_le)"
   ]
  },
  {
   "cell_type": "code",
   "execution_count": 10,
   "id": "e55de1f3",
   "metadata": {},
   "outputs": [
    {
     "name": "stdout",
     "output_type": "stream",
     "text": [
      "[1, 1, 1, 2, 2, 2, 0, 2, 0, 1, 2, 0, 0, 2, 1, 1, 0, 1, 2, 2, 0, 2, 1, 1, 2, 0, 0, 2, 2, 1]\n"
     ]
    },
    {
     "data": {
      "text/plain": [
       "0.8666666666666667"
      ]
     },
     "execution_count": 10,
     "metadata": {},
     "output_type": "execute_result"
    }
   ],
   "source": [
    "clf=SVM_ovr(num_classes=3,kernel='rbf',C=5,gamma=5)\n",
    "y_pred=clf.fit_predict(X_train,y_train,X_test)\n",
    "accuracy_score(y_test_le,y_pred)"
   ]
  },
  {
   "cell_type": "markdown",
   "id": "ef4eab5f",
   "metadata": {},
   "source": [
    "### 수행시간 비교를 위한 측정"
   ]
  },
  {
   "cell_type": "code",
   "execution_count": 345,
   "id": "c51d8904",
   "metadata": {},
   "outputs": [],
   "source": [
    "rt_list_me=[]"
   ]
  },
  {
   "cell_type": "code",
   "execution_count": 355,
   "id": "61e01409",
   "metadata": {},
   "outputs": [
    {
     "name": "stdout",
     "output_type": "stream",
     "text": [
      "[1, 1, 1, 2, 2, 2, 0, 2, 0, 1, 2, 0, 0, 2, 1, 1, 0, 1, 2, 2, 0, 2, 1, 1, 2, 0, 0, 2, 2, 1]\n",
      "time : 0.008974313735961914\n"
     ]
    }
   ],
   "source": [
    "import time\n",
    "start = time.time()\n",
    "\n",
    "clf=SVM_ovr(num_classes=3,kernel='rbf',C=5,gamma=5)\n",
    "clf.fit_predict(X_train,y_train,X_test)\n",
    "\n",
    "run_time_me=time.time() - start\n",
    "print(\"time :\", run_time_me)\n",
    "\n",
    "rt_list_me.append(run_time_me)"
   ]
  },
  {
   "cell_type": "code",
   "execution_count": 356,
   "id": "a76ce1ca",
   "metadata": {},
   "outputs": [
    {
     "data": {
      "text/plain": [
       "[0.008976221084594727,\n",
       " 0.011969327926635742,\n",
       " 0.010970592498779297,\n",
       " 0.01096963882446289,\n",
       " 0.009974241256713867,\n",
       " 0.00997161865234375,\n",
       " 0.015956878662109375,\n",
       " 0.01196599006652832,\n",
       " 0.00897526741027832,\n",
       " 0.008974313735961914]"
      ]
     },
     "execution_count": 356,
     "metadata": {},
     "output_type": "execute_result"
    }
   ],
   "source": [
    "# 10번 수행하여 각 수행시간을 리스트에 더함\n",
    "rt_list_me"
   ]
  },
  {
   "cell_type": "code",
   "execution_count": 385,
   "id": "29406583",
   "metadata": {},
   "outputs": [
    {
     "name": "stdout",
     "output_type": "stream",
     "text": [
      "평균적으로 0.011초 걸린다\n"
     ]
    }
   ],
   "source": [
    "# 수행시간 10번을 평균함\n",
    "print(f'평균적으로 {round(np.mean(rt_list_me),3)}초 걸린다')"
   ]
  },
  {
   "cell_type": "markdown",
   "id": "9c3e2713",
   "metadata": {},
   "source": [
    "**15기 우수코드의 클래스와 수행시간 비교**"
   ]
  },
  {
   "cell_type": "code",
   "execution_count": 76,
   "id": "86add7af",
   "metadata": {},
   "outputs": [],
   "source": [
    "class SVM_OVR:\n",
    "    def __init__(self, num_classes, kernel, C, gamma):\n",
    "        self.num_classes = num_classes\n",
    "        self.clfs = [SVC(kernel = kernel, C = C, gamma = gamma) for _ in range(num_classes)]\n",
    "        self.classes = None\n",
    "        \n",
    "    def fit(self, X_train, y_train):\n",
    "        y_train = pd.get_dummies(y_train)\n",
    "        for i in range(self.num_classes):\n",
    "            self.clfs[i].fit(X_train,y_train.iloc[:,i]) \n",
    "            # 각 클래스별로 인지 아닌지를 판단하는 분류기를 학습시킵니다.\n",
    "        self.classes = y_train.columns\n",
    "    \n",
    "    def predict(self, X_test):\n",
    "        pred_df = pd.DataFrame([svm.predict(X_test) for svm in self.clfs]).T # 각 클래스 별 예측값\n",
    "        decisions = np.array([svm.decision_function(X_test) for svm in self.clfs]).T # 각 클래스 별 거리\n",
    "        \n",
    "        final_pred = []\n",
    "        for i in range(len(pred_df)):\n",
    "            # 예측 중 하나의 클래스만 맞다고 판단한 경우\n",
    "            # 맞다고 판단된 클래스를 final_pred 리스트에 넣어준다\n",
    "            if sum(pred_df.iloc[i]) == 1:\n",
    "                label = pred_df.iloc[i][pred_df.iloc[i] == 1].index[0]\n",
    "                final_pred.append(self.classes[label])\n",
    "            else:\n",
    "                label = np.argmax(decisions[i])\n",
    "                final_pred.append(self.classes[label])\n",
    "        \n",
    "        print(final_pred)\n",
    "        return final_pred"
   ]
  },
  {
   "cell_type": "code",
   "execution_count": 358,
   "id": "026e57c8",
   "metadata": {},
   "outputs": [],
   "source": [
    "rt_list_15=[]"
   ]
  },
  {
   "cell_type": "code",
   "execution_count": 368,
   "id": "36747fda",
   "metadata": {},
   "outputs": [
    {
     "name": "stdout",
     "output_type": "stream",
     "text": [
      "['versicolor', 'versicolor', 'versicolor', 'virginica', 'virginica', 'virginica', 'setosa', 'virginica', 'setosa', 'versicolor', 'virginica', 'setosa', 'setosa', 'virginica', 'versicolor', 'versicolor', 'setosa', 'versicolor', 'virginica', 'virginica', 'setosa', 'virginica', 'versicolor', 'versicolor', 'virginica', 'setosa', 'setosa', 'virginica', 'virginica', 'versicolor']\n",
      "time : 0.031958580017089844\n"
     ]
    }
   ],
   "source": [
    "import time\n",
    "start = time.time()\n",
    "\n",
    "clf = SVM_OVR(num_classes = 3, kernel = 'rbf', C = 5, gamma = 5)\n",
    "clf.fit(X_train, y_train)\n",
    "pred = clf.predict(X_test)\n",
    "\n",
    "run_time_15=time.time() - start\n",
    "print(\"time :\", run_time_15)\n",
    "\n",
    "rt_list_15.append(run_time_15)"
   ]
  },
  {
   "cell_type": "code",
   "execution_count": 369,
   "id": "822339c1",
   "metadata": {},
   "outputs": [
    {
     "data": {
      "text/plain": [
       "[0.04091691970825195,\n",
       " 0.02892327308654785,\n",
       " 0.02994990348815918,\n",
       " 0.028920650482177734,\n",
       " 0.04092860221862793,\n",
       " 0.029917240142822266,\n",
       " 0.028920650482177734,\n",
       " 0.029915332794189453,\n",
       " 0.03290891647338867,\n",
       " 0.031958580017089844]"
      ]
     },
     "execution_count": 369,
     "metadata": {},
     "output_type": "execute_result"
    }
   ],
   "source": [
    "# 10번 수행하여 각 수행시간을 리스트에 더함\n",
    "rt_list_15"
   ]
  },
  {
   "cell_type": "code",
   "execution_count": 386,
   "id": "f32af472",
   "metadata": {},
   "outputs": [
    {
     "name": "stdout",
     "output_type": "stream",
     "text": [
      "평균적으로 0.032초 걸린다\n"
     ]
    }
   ],
   "source": [
    "print(f'평균적으로 {round(np.mean(rt_list_15),3)}초 걸린다')"
   ]
  },
  {
   "cell_type": "markdown",
   "id": "de07b418",
   "metadata": {},
   "source": [
    "최대한 다른 변인은 통제하려고 했으나 모든 변인을 통제한 것은 아니기에 정확하지 않을 수 있지만 평균적으로 약 3배 정도 수행시간을 단축했다고 볼 수 있다. 다른 데이터셋에서도 코드의 효율성이 좋은지 확인해봐야 할 것으로 보인다."
   ]
  },
  {
   "cell_type": "markdown",
   "id": "5503a010",
   "metadata": {},
   "source": [
    "### 다른 데이터셋(mnist 데이터셋)을 통해 수행시간이 실제로 단축되었는지 확인"
   ]
  },
  {
   "cell_type": "markdown",
   "id": "51532a5d",
   "metadata": {},
   "source": [
    "**SVM_OvR 클래스 (동점이 발생하는 상황에서만 거리 계산을 한 경우, 제가 만든 클래스)**"
   ]
  },
  {
   "cell_type": "code",
   "execution_count": 102,
   "id": "ee376c8f",
   "metadata": {},
   "outputs": [],
   "source": [
    "from sklearn.datasets import load_digits\n",
    "mnist = load_digits()\n",
    "X = mnist.data\n",
    "y = mnist.target"
   ]
  },
  {
   "cell_type": "code",
   "execution_count": 38,
   "id": "06a22bda",
   "metadata": {},
   "outputs": [],
   "source": [
    "X/=16"
   ]
  },
  {
   "cell_type": "code",
   "execution_count": 30,
   "id": "f4731774",
   "metadata": {},
   "outputs": [
    {
     "data": {
      "text/plain": [
       "array([0, 1, 2, 3, 4, 5, 6, 7, 8, 9])"
      ]
     },
     "execution_count": 30,
     "metadata": {},
     "output_type": "execute_result"
    }
   ],
   "source": [
    "np.unique(y)"
   ]
  },
  {
   "cell_type": "code",
   "execution_count": 29,
   "id": "fcac54fa",
   "metadata": {},
   "outputs": [
    {
     "data": {
      "text/plain": [
       "(1437, 64)"
      ]
     },
     "execution_count": 29,
     "metadata": {},
     "output_type": "execute_result"
    }
   ],
   "source": [
    "X_train.shape"
   ]
  },
  {
   "cell_type": "code",
   "execution_count": 47,
   "id": "847f1ba3",
   "metadata": {},
   "outputs": [],
   "source": [
    "# 나의 모델의 수행시간 담아놓을 리스트\n",
    "rt_list_1=[]"
   ]
  },
  {
   "cell_type": "code",
   "execution_count": 69,
   "id": "b5e3b732",
   "metadata": {},
   "outputs": [
    {
     "name": "stdout",
     "output_type": "stream",
     "text": [
      "[6, 0, 7, 2, 6, 5, 9, 9, 3, 7, 1, 6, 1, 9, 6, 6, 3, 1, 7, 7, 6, 4, 1, 9, 7, 7, 2, 3, 4, 2, 6, 3, 4, 1, 5, 8, 2, 5, 0, 9, 2, 4, 5, 9, 9, 8, 4, 2, 1, 9, 5, 6, 6, 8, 2, 8, 4, 3, 0, 5, 5, 9, 1, 9, 4, 6, 6, 0, 9, 3, 3, 4, 3, 5, 0, 5, 5, 9, 9, 9, 0, 9, 9, 7, 3, 3, 1, 0, 4, 9, 8, 1, 7, 6, 3, 2, 9, 7, 6, 5, 1, 6, 8, 7, 4, 7, 2, 6, 3, 1, 6, 7, 1, 7, 8, 2, 4, 3, 0, 5, 9, 6, 0, 5, 2, 7, 0, 0, 1, 2, 7, 5, 8, 5, 1, 7, 1, 0, 7, 4, 5, 5, 8, 9, 5, 5, 4, 6, 8, 5, 6, 2, 9, 1, 4, 9, 4, 6, 6, 4, 9, 7, 6, 3, 3, 6, 7, 1, 9, 0, 1, 7, 3, 1, 5, 0, 2, 5, 3, 5, 9, 7, 8, 4, 0, 2, 4, 7, 3, 8, 9, 0, 5, 5, 1, 1, 3, 8, 0, 5, 5, 2, 6, 0, 8, 9, 1, 6, 4, 3, 8, 4, 2, 6, 2, 8, 1, 0, 3, 0, 0, 7, 0, 2, 8, 0, 2, 8, 9, 2, 6, 5, 9, 1, 4, 9, 0, 3, 1, 3, 0, 6, 3, 9, 9, 0, 8, 0, 8, 7, 9, 6, 2, 8, 0, 1, 6, 1, 3, 5, 2, 4, 7, 1, 6, 4, 1, 1, 7, 1, 6, 6, 8, 3, 7, 9, 8, 1, 7, 1, 1, 1, 7, 8, 2, 7, 3, 9, 4, 8, 9, 3, 3, 5, 2, 8, 3, 2, 9, 1, 4, 3, 5, 0, 7, 9, 0, 5, 5, 7, 7, 0, 2, 1, 1, 1, 0, 7, 7, 7, 5, 0, 3, 9, 7, 0, 1, 6, 2, 2, 9, 1, 0, 2, 4, 6, 2, 5, 3, 8, 4, 5, 8, 1, 7, 0, 2, 1, 4, 6, 0, 8, 3, 9, 5, 7, 9, 2, 2, 8]\n",
      "time : 0.23038315773010254\n"
     ]
    }
   ],
   "source": [
    "import time\n",
    "start = time.time()\n",
    "\n",
    "clf = SVM_ovr(num_classes = 10, kernel = 'rbf', C = 1, gamma = 1)\n",
    "pred = clf.fit_predict(X_train, y_train, X_test)\n",
    "\n",
    "run_time_1=time.time() - start\n",
    "print(\"time :\", run_time_1)\n",
    "\n",
    "rt_list_1.append(run_time_1)"
   ]
  },
  {
   "cell_type": "code",
   "execution_count": 67,
   "id": "a7f8e2ec",
   "metadata": {},
   "outputs": [
    {
     "data": {
      "text/plain": [
       "0.9888888888888889"
      ]
     },
     "execution_count": 67,
     "metadata": {},
     "output_type": "execute_result"
    }
   ],
   "source": [
    "# 정확도 출력\n",
    "accuracy_score(y_test, pred)"
   ]
  },
  {
   "cell_type": "code",
   "execution_count": 70,
   "id": "8376ee24",
   "metadata": {},
   "outputs": [
    {
     "data": {
      "text/plain": [
       "[0.2433462142944336,\n",
       " 0.23935818672180176,\n",
       " 0.23739361763000488,\n",
       " 0.26525020599365234,\n",
       " 0.23436903953552246,\n",
       " 0.2353672981262207,\n",
       " 0.25631165504455566,\n",
       " 0.25930190086364746,\n",
       " 0.23436737060546875,\n",
       " 0.23038315773010254]"
      ]
     },
     "execution_count": 70,
     "metadata": {},
     "output_type": "execute_result"
    }
   ],
   "source": [
    "rt_list_1"
   ]
  },
  {
   "cell_type": "code",
   "execution_count": 71,
   "id": "de80214f",
   "metadata": {},
   "outputs": [
    {
     "name": "stdout",
     "output_type": "stream",
     "text": [
      "평균적으로 0.244초 걸린다\n"
     ]
    }
   ],
   "source": [
    "print(f'평균적으로 {round(np.mean(rt_list_1),3)}초 걸린다')"
   ]
  },
  {
   "cell_type": "markdown",
   "id": "1ca48185",
   "metadata": {},
   "source": [
    "**SVM_OVR 클래스 (모든 행 데이터에 대해 거리 계산을 한 경우, 15기 우수코드 클래스)**"
   ]
  },
  {
   "cell_type": "code",
   "execution_count": 105,
   "id": "2c5f3d23",
   "metadata": {},
   "outputs": [],
   "source": [
    "mnist = load_digits()\n",
    "X = pd.DataFrame(mnist.data)\n",
    "y = pd.Series(mnist.target)\n",
    "X /= 16\n",
    "X_train, X_test, y_train, y_test = train_test_split(X, y, test_size=0.2, random_state=317)"
   ]
  },
  {
   "cell_type": "code",
   "execution_count": 74,
   "id": "8a3fa719",
   "metadata": {},
   "outputs": [],
   "source": [
    "# 15기 우수코드 모델을 담을 리스트\n",
    "rt_list_2=[]"
   ]
  },
  {
   "cell_type": "code",
   "execution_count": 95,
   "id": "79641bda",
   "metadata": {},
   "outputs": [
    {
     "name": "stdout",
     "output_type": "stream",
     "text": [
      "[6, 0, 7, 2, 6, 5, 9, 9, 3, 7, 1, 6, 1, 9, 6, 6, 3, 1, 7, 7, 6, 4, 1, 9, 7, 7, 2, 3, 4, 2, 6, 3, 4, 1, 5, 8, 2, 5, 0, 9, 2, 4, 5, 9, 9, 8, 4, 2, 1, 9, 5, 6, 6, 8, 2, 8, 4, 3, 0, 5, 5, 9, 1, 9, 4, 6, 6, 0, 9, 3, 3, 4, 3, 5, 0, 5, 5, 9, 9, 9, 0, 9, 9, 7, 3, 3, 1, 0, 4, 9, 8, 1, 7, 6, 3, 2, 9, 7, 6, 9, 1, 6, 8, 7, 4, 7, 2, 6, 3, 1, 6, 7, 1, 7, 8, 2, 4, 3, 0, 5, 9, 6, 0, 5, 2, 7, 0, 0, 1, 2, 7, 5, 8, 5, 1, 7, 1, 0, 7, 4, 5, 5, 8, 9, 5, 5, 4, 6, 8, 5, 6, 2, 9, 1, 4, 9, 4, 6, 6, 4, 9, 7, 6, 3, 3, 6, 7, 1, 9, 0, 1, 7, 3, 1, 5, 0, 2, 5, 3, 5, 9, 7, 8, 4, 0, 2, 4, 7, 3, 8, 9, 0, 5, 5, 1, 1, 3, 8, 0, 5, 5, 2, 6, 0, 8, 9, 1, 6, 4, 3, 8, 4, 2, 6, 2, 8, 1, 0, 3, 0, 0, 7, 0, 2, 8, 0, 2, 8, 9, 2, 6, 5, 5, 1, 4, 9, 0, 3, 1, 3, 0, 6, 3, 9, 9, 0, 8, 0, 8, 7, 9, 6, 2, 8, 0, 1, 6, 1, 3, 5, 2, 4, 7, 1, 6, 4, 1, 1, 7, 1, 6, 6, 8, 3, 7, 9, 8, 1, 7, 1, 1, 1, 7, 8, 2, 7, 3, 9, 4, 8, 9, 3, 3, 5, 2, 8, 3, 2, 9, 1, 4, 3, 5, 0, 7, 9, 0, 5, 5, 7, 7, 0, 2, 1, 1, 1, 0, 7, 7, 7, 5, 0, 3, 9, 7, 0, 1, 6, 2, 2, 9, 1, 0, 2, 4, 6, 2, 5, 3, 8, 4, 5, 8, 1, 7, 0, 2, 1, 4, 6, 0, 8, 3, 9, 5, 7, 9, 2, 2, 8]\n",
      "time : 2.139252185821533\n"
     ]
    }
   ],
   "source": [
    "import time\n",
    "start = time.time()\n",
    "\n",
    "clf = SVM_OVR(num_classes = 10, kernel = 'rbf', C = 1, gamma = 1)\n",
    "clf.fit(X_train, y_train)\n",
    "pred = clf.predict(X_test)\n",
    "\n",
    "run_time_2=time.time() - start\n",
    "print(\"time :\", run_time_2)\n",
    "\n",
    "rt_list_2.append(run_time_2)"
   ]
  },
  {
   "cell_type": "code",
   "execution_count": 96,
   "id": "3d442d9f",
   "metadata": {},
   "outputs": [
    {
     "data": {
      "text/plain": [
       "[2.2310431003570557,\n",
       " 2.2290101051330566,\n",
       " 2.1791865825653076,\n",
       " 2.1641883850097656,\n",
       " 2.1572067737579346,\n",
       " 2.175159215927124,\n",
       " 2.232038974761963,\n",
       " 2.1841299533843994,\n",
       " 2.2031173706054688,\n",
       " 2.139252185821533]"
      ]
     },
     "execution_count": 96,
     "metadata": {},
     "output_type": "execute_result"
    }
   ],
   "source": [
    "rt_list_2"
   ]
  },
  {
   "cell_type": "code",
   "execution_count": 97,
   "id": "5b01776b",
   "metadata": {},
   "outputs": [
    {
     "name": "stdout",
     "output_type": "stream",
     "text": [
      "평균적으로 2.189초 걸린다\n"
     ]
    }
   ],
   "source": [
    "print(f'평균적으로 {round(np.mean(rt_list_2),3)}초 걸린다')"
   ]
  },
  {
   "cell_type": "markdown",
   "id": "38d9a267",
   "metadata": {},
   "source": [
    "## 결론"
   ]
  },
  {
   "cell_type": "markdown",
   "id": "5db67705",
   "metadata": {},
   "source": [
    "* **결론적으로 iris 데이터보다 크기가 큰 mnist 데이터에 대해서 SVM_OVR 클래스가 SVM_ovr 클래스보다 수행시간이 9배 정도 더 걸리는 것으로 보아, 필요한 경우에만 decision_function()을 사용함으로써 계산 시간을 많이 절약할 수 있음을 알 수 있다.**  \n",
    "\n",
    "\n",
    "* **이번 과제에서는 One vs Rest방식으로만 Multiclass SVM을 구현했다. One vs One 방식과의 비교나 하이퍼파라미터의 조정을 통해 정확도 개선에 집중하기보다는 코드를 효율화하여 시간 복잡도와 메모리 사용량을 줄이는 쪽으로 집중하여 과제를 수행해보았다.**\n",
    "\n",
    "\n",
    "* **앞으로 파이썬 알고리즘을 더 공부해서 위에서 짠 SVM_ovr 클래스 코드의 시간 복잡도와 사용하는 메모리양을 더욱 줄여보고싶다.**"
   ]
  }
 ],
 "metadata": {
  "kernelspec": {
   "display_name": "Python 3",
   "language": "python",
   "name": "python3"
  },
  "language_info": {
   "codemirror_mode": {
    "name": "ipython",
    "version": 3
   },
   "file_extension": ".py",
   "mimetype": "text/x-python",
   "name": "python",
   "nbconvert_exporter": "python",
   "pygments_lexer": "ipython3",
   "version": "3.8.8"
  }
 },
 "nbformat": 4,
 "nbformat_minor": 5
}
