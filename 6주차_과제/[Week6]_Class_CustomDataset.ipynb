{
  "nbformat": 4,
  "nbformat_minor": 0,
  "metadata": {
    "colab": {
      "name": "[Week6] Class-CustomDataset.ipynb",
      "provenance": [],
      "collapsed_sections": []
    },
    "kernelspec": {
      "name": "python3",
      "display_name": "Python 3"
    },
    "language_info": {
      "name": "python"
    }
  },
  "cells": [
    {
      "cell_type": "markdown",
      "metadata": {
        "id": "q8847qhBzpV3"
      },
      "source": [
        "# Week6: Class\n",
        "\n",
        "Pytorch의 Dataset 추상클래스를 상속받아 CustomDataset 만들어보기!\n",
        "\n",
        "- 현재는 X_data, y_data를 임의로 선정해두었지만, 원한다면 어떠한 데이터를 쓰셔도 상관없습니다. \n",
        "\n",
        "- 선언되어있는 3가지 메서드는 모두 구현하셔야 합니다. \n",
        "- 연습을 위한 추가적인 메서드들은 언제나 환영합니다!\n",
        "\n"
      ]
    },
    {
      "cell_type": "code",
      "metadata": {
        "id": "nHzO9sXUc60j"
      },
      "source": [
        "from torch.utils.data import Dataset\n",
        "import numpy as np\n",
        "import random"
      ],
      "execution_count": 1,
      "outputs": []
    },
    {
      "cell_type": "code",
      "metadata": {
        "id": "u3xgFyHBfrDy"
      },
      "source": [
        "X_data = np.random.rand(10,10)\n",
        "y_data = np.ones(10)"
      ],
      "execution_count": 2,
      "outputs": []
    },
    {
      "cell_type": "code",
      "metadata": {
        "colab": {
          "base_uri": "https://localhost:8080/"
        },
        "id": "XjoynnkuBzZ1",
        "outputId": "531c5e99-5cd4-43c4-9fe8-b973a3ccc260"
      },
      "source": [
        "len(X_data)\n",
        "len(y_data)"
      ],
      "execution_count": 3,
      "outputs": [
        {
          "output_type": "execute_result",
          "data": {
            "text/plain": [
              "10"
            ]
          },
          "metadata": {},
          "execution_count": 3
        }
      ]
    },
    {
      "cell_type": "code",
      "metadata": {
        "id": "0uVQHsNPdAQR"
      },
      "source": [
        "class CustomDataset(Dataset): \n",
        "  def __init__(self, X_data, y_data):\n",
        "      self.X_data=X_data\n",
        "      self.y_data=y_data\n",
        "      pass\n",
        "\n",
        "  def __len__(self):\n",
        "      return {\"X_data 길이\":len(self.X_data), \"y_data 길이\":len(self.y_data)}\n",
        "      pass\n",
        "\n",
        "  def __getitem__(self, idx): \n",
        "      \"\"\"데이터셋에서 특정 1개의 샘플을 가져오는 함수\"\"\"\n",
        "      x=random.sample(list(self.X_data),idx)\n",
        "      y=random.sample(list(self.y_data),idx)\n",
        "      return {\"input\": x, 'label':y}"
      ],
      "execution_count": 4,
      "outputs": []
    },
    {
      "cell_type": "code",
      "metadata": {
        "id": "8DxTC-Kqghjq",
        "colab": {
          "base_uri": "https://localhost:8080/"
        },
        "outputId": "73f2f2bb-49f8-438d-b300-1e0fa8838bf1"
      },
      "source": [
        "set1=CustomDataset(X_data,y_data)\n",
        "print(set1.__len__())\n",
        "set1.__getitem__(1)"
      ],
      "execution_count": 5,
      "outputs": [
        {
          "output_type": "stream",
          "text": [
            "{'X_data 길이': 10, 'y_data 길이': 10}\n"
          ],
          "name": "stdout"
        },
        {
          "output_type": "execute_result",
          "data": {
            "text/plain": [
              "{'input': [array([0.26006416, 0.83105056, 0.70807281, 0.02718395, 0.01511079,\n",
              "         0.67009745, 0.02732353, 0.81397164, 0.05125217, 0.62727526])],\n",
              " 'label': [1.0]}"
            ]
          },
          "metadata": {},
          "execution_count": 5
        }
      ]
    }
  ]
}