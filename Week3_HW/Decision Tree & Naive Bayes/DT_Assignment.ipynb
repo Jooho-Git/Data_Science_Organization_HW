{
 "cells": [
  {
   "cell_type": "markdown",
   "metadata": {},
   "source": [
    "# DT Assignment"
   ]
  },
  {
   "cell_type": "markdown",
   "metadata": {},
   "source": [
    "# Data Loading"
   ]
  },
  {
   "cell_type": "code",
   "execution_count": 1,
   "metadata": {},
   "outputs": [],
   "source": [
    "import pandas as pd \n",
    "import numpy as np"
   ]
  },
  {
   "cell_type": "code",
   "execution_count": 2,
   "metadata": {},
   "outputs": [
    {
     "data": {
      "text/html": [
       "<div>\n",
       "<style scoped>\n",
       "    .dataframe tbody tr th:only-of-type {\n",
       "        vertical-align: middle;\n",
       "    }\n",
       "\n",
       "    .dataframe tbody tr th {\n",
       "        vertical-align: top;\n",
       "    }\n",
       "\n",
       "    .dataframe thead th {\n",
       "        text-align: right;\n",
       "    }\n",
       "</style>\n",
       "<table border=\"1\" class=\"dataframe\">\n",
       "  <thead>\n",
       "    <tr style=\"text-align: right;\">\n",
       "      <th></th>\n",
       "      <th>age</th>\n",
       "      <th>income</th>\n",
       "      <th>student</th>\n",
       "      <th>credit_rating</th>\n",
       "      <th>class_buys_computer</th>\n",
       "    </tr>\n",
       "  </thead>\n",
       "  <tbody>\n",
       "    <tr>\n",
       "      <th>0</th>\n",
       "      <td>youth</td>\n",
       "      <td>high</td>\n",
       "      <td>no</td>\n",
       "      <td>fair</td>\n",
       "      <td>no</td>\n",
       "    </tr>\n",
       "    <tr>\n",
       "      <th>1</th>\n",
       "      <td>youth</td>\n",
       "      <td>high</td>\n",
       "      <td>no</td>\n",
       "      <td>excellent</td>\n",
       "      <td>no</td>\n",
       "    </tr>\n",
       "    <tr>\n",
       "      <th>2</th>\n",
       "      <td>middle_aged</td>\n",
       "      <td>high</td>\n",
       "      <td>no</td>\n",
       "      <td>fair</td>\n",
       "      <td>yes</td>\n",
       "    </tr>\n",
       "    <tr>\n",
       "      <th>3</th>\n",
       "      <td>senior</td>\n",
       "      <td>medium</td>\n",
       "      <td>no</td>\n",
       "      <td>fair</td>\n",
       "      <td>yes</td>\n",
       "    </tr>\n",
       "    <tr>\n",
       "      <th>4</th>\n",
       "      <td>senior</td>\n",
       "      <td>low</td>\n",
       "      <td>yes</td>\n",
       "      <td>fair</td>\n",
       "      <td>yes</td>\n",
       "    </tr>\n",
       "    <tr>\n",
       "      <th>5</th>\n",
       "      <td>senior</td>\n",
       "      <td>low</td>\n",
       "      <td>yes</td>\n",
       "      <td>excellent</td>\n",
       "      <td>no</td>\n",
       "    </tr>\n",
       "    <tr>\n",
       "      <th>6</th>\n",
       "      <td>middle_aged</td>\n",
       "      <td>low</td>\n",
       "      <td>yes</td>\n",
       "      <td>excellent</td>\n",
       "      <td>yes</td>\n",
       "    </tr>\n",
       "    <tr>\n",
       "      <th>7</th>\n",
       "      <td>youth</td>\n",
       "      <td>medium</td>\n",
       "      <td>no</td>\n",
       "      <td>fair</td>\n",
       "      <td>no</td>\n",
       "    </tr>\n",
       "    <tr>\n",
       "      <th>8</th>\n",
       "      <td>youth</td>\n",
       "      <td>low</td>\n",
       "      <td>yes</td>\n",
       "      <td>fair</td>\n",
       "      <td>yes</td>\n",
       "    </tr>\n",
       "    <tr>\n",
       "      <th>9</th>\n",
       "      <td>senior</td>\n",
       "      <td>medium</td>\n",
       "      <td>yes</td>\n",
       "      <td>fair</td>\n",
       "      <td>yes</td>\n",
       "    </tr>\n",
       "    <tr>\n",
       "      <th>10</th>\n",
       "      <td>youth</td>\n",
       "      <td>medium</td>\n",
       "      <td>yes</td>\n",
       "      <td>excellent</td>\n",
       "      <td>yes</td>\n",
       "    </tr>\n",
       "    <tr>\n",
       "      <th>11</th>\n",
       "      <td>middle_aged</td>\n",
       "      <td>medium</td>\n",
       "      <td>no</td>\n",
       "      <td>excellent</td>\n",
       "      <td>yes</td>\n",
       "    </tr>\n",
       "    <tr>\n",
       "      <th>12</th>\n",
       "      <td>middle_aged</td>\n",
       "      <td>high</td>\n",
       "      <td>yes</td>\n",
       "      <td>fair</td>\n",
       "      <td>yes</td>\n",
       "    </tr>\n",
       "    <tr>\n",
       "      <th>13</th>\n",
       "      <td>senior</td>\n",
       "      <td>medium</td>\n",
       "      <td>no</td>\n",
       "      <td>excellent</td>\n",
       "      <td>no</td>\n",
       "    </tr>\n",
       "  </tbody>\n",
       "</table>\n",
       "</div>"
      ],
      "text/plain": [
       "            age  income student credit_rating class_buys_computer\n",
       "0         youth    high      no          fair                  no\n",
       "1         youth    high      no     excellent                  no\n",
       "2   middle_aged    high      no          fair                 yes\n",
       "3        senior  medium      no          fair                 yes\n",
       "4        senior     low     yes          fair                 yes\n",
       "5        senior     low     yes     excellent                  no\n",
       "6   middle_aged     low     yes     excellent                 yes\n",
       "7         youth  medium      no          fair                  no\n",
       "8         youth     low     yes          fair                 yes\n",
       "9        senior  medium     yes          fair                 yes\n",
       "10        youth  medium     yes     excellent                 yes\n",
       "11  middle_aged  medium      no     excellent                 yes\n",
       "12  middle_aged    high     yes          fair                 yes\n",
       "13       senior  medium      no     excellent                  no"
      ]
     },
     "execution_count": 2,
     "metadata": {},
     "output_type": "execute_result"
    }
   ],
   "source": [
    "pd_data = pd.read_csv('https://raw.githubusercontent.com/AugustLONG/ML01/master/01decisiontree/AllElectronics.csv')\n",
    "pd_data.drop(\"RID\",axis=1, inplace = True) #RID는 그냥 순서라서 삭제\n",
    "pd_data"
   ]
  },
  {
   "cell_type": "markdown",
   "metadata": {},
   "source": [
    "## Gini 계수를 구하는 함수 만들기"
   ]
  },
  {
   "cell_type": "markdown",
   "metadata": {},
   "source": [
    "- Input: df(데이터), label(타겟변수명)\n",
    "- 해당 결과는 아래와 같이 나와야 합니다."
   ]
  },
  {
   "cell_type": "code",
   "execution_count": 3,
   "metadata": {},
   "outputs": [],
   "source": [
    "def get_gini(df, label):\n",
    "    a=df[label].value_counts()/len(df[label])\n",
    "    # P_2는 확률의 제곱을 뜻함. 뒤에서 루프를 돌려 더할 것이므로 0이라는 초기값 설정해두기\n",
    "    P_2=0 \n",
    "    \n",
    "    # 레이블 값이 두개가 아닌 그 이상일 수 있기 때문에 P_2에 확률의 제곱의 합을 대입해두기\n",
    "    for i in range(len(a)):\n",
    "        P_2+=a[i]**2\n",
    "    \n",
    "    # 지니계수 계산\n",
    "    gini= 1-(P_2)\n",
    "    return gini"
   ]
  },
  {
   "cell_type": "code",
   "execution_count": 4,
   "metadata": {},
   "outputs": [
    {
     "data": {
      "text/plain": [
       "0.4591836734693877"
      ]
     },
     "execution_count": 4,
     "metadata": {},
     "output_type": "execute_result"
    }
   ],
   "source": [
    "get_gini(pd_data,'class_buys_computer')"
   ]
  },
  {
   "cell_type": "markdown",
   "metadata": {},
   "source": [
    "## Feature의 Class를 이진 분류로 만들기\n",
    "- ex) {A,B,C} -> ({A}, {B,C}), ({B}, {A,C}), ({C}, {A,B})"
   ]
  },
  {
   "cell_type": "markdown",
   "metadata": {},
   "source": [
    "- Input: df(데이터), attribute(Gini index를 구하고자 하는 변수명)\n",
    "- Income 변수를 결과로 출력해주세요."
   ]
  },
  {
   "cell_type": "code",
   "execution_count": 5,
   "metadata": {},
   "outputs": [],
   "source": [
    "def get_binary_split(df, attribute):\n",
    "    from itertools import combinations\n",
    "    unique_val=df[attribute].unique()\n",
    "    list_t=[] # 리스트 안 원소들이 튜플로 이루어진 경우\n",
    "    result=[] # 리스트 안 원소들도 리스트로 이루어진 경우 (정답은 이것이므로 list_t를 result로 바꿔주는 작업 필요)\n",
    "    for i in range(1,len(unique_val)):\n",
    "        list_t.extend(list(combinations(unique_val,i)))\n",
    "    for i in range(len(list_t)):\n",
    "        result.append(list(list_t[i]))\n",
    "    return result"
   ]
  },
  {
   "cell_type": "code",
   "execution_count": 6,
   "metadata": {},
   "outputs": [
    {
     "data": {
      "text/plain": [
       "[['high'],\n",
       " ['medium'],\n",
       " ['low'],\n",
       " ['high', 'medium'],\n",
       " ['high', 'low'],\n",
       " ['medium', 'low']]"
      ]
     },
     "execution_count": 6,
     "metadata": {},
     "output_type": "execute_result"
    }
   ],
   "source": [
    "get_binary_split(pd_data,\"income\")"
   ]
  },
  {
   "cell_type": "markdown",
   "metadata": {},
   "source": [
    "## 모든 이진분류의 경우의 Gini index를 구하는 함수 만들기\n",
    "- 위에서 완성한 두 함수를 사용하여 만들어주세요!\n",
    "- 해당 결과는 아래와 같이 나와야 합니다."
   ]
  },
  {
   "cell_type": "code",
   "execution_count": 7,
   "metadata": {
    "scrolled": true
   },
   "outputs": [],
   "source": [
    "def get_attribute_gini_index(df, attribute, label):\n",
    "    # get_binary_split()을 통해 attribute 컬럼의 조합을 binary변수로 받기\n",
    "    binary=get_binary_split(df,attribute)\n",
    "    # 결과가 출력될 빈 딕셔너리\n",
    "    result={}\n",
    "    \n",
    "    for col in binary:\n",
    "        # 부분집합의 원소가 하나인 경우\n",
    "        if len(col)==1:\n",
    "            df_split_1=df[df[attribute]==col[0]]        # 해당 원소를 가진 행 데이터를 df_split_1이라는 데이터프레임에 저장\n",
    "            df_split_2=df[~(df[attribute]==col[0])]     # df에서 df_split_1을 뺀 나머지 데이터프레임을 df_split_2에 저장\n",
    "            \n",
    "        # 부분집합의 원소가 두개인 경우\n",
    "        else:\n",
    "            df_split_1=df[(df[attribute]==col[0])|(df[attribute]==col[1])]\n",
    "            df_split_2=df[~((df[attribute]==col[0])|(df[attribute]==col[1]))]\n",
    "        \n",
    "        # 각 데이터프레임 label의 지니계수를 계산\n",
    "        gini_1=get_gini(df_split_1,label)\n",
    "        gini_2=get_gini(df_split_2,label)\n",
    "        \n",
    "        # split될 각 노드의 지니계수를 계산\n",
    "        gini_index=gini_1*(len(df_split_1)/len(df)) + gini_2*(len(df_split_2)/len(df))\n",
    "        \n",
    "        key=\"_\".join(col)\n",
    "        result[key]=gini_index\n",
    "    return result"
   ]
  },
  {
   "cell_type": "code",
   "execution_count": 8,
   "metadata": {
    "scrolled": false
   },
   "outputs": [
    {
     "data": {
      "text/plain": [
       "{'high': 0.4428571428571429,\n",
       " 'medium': 0.4583333333333333,\n",
       " 'low': 0.45,\n",
       " 'high_medium': 0.45,\n",
       " 'high_low': 0.4583333333333333,\n",
       " 'medium_low': 0.4428571428571429}"
      ]
     },
     "execution_count": 8,
     "metadata": {},
     "output_type": "execute_result"
    }
   ],
   "source": [
    "get_attribute_gini_index(pd_data, \"income\", \"class_buys_computer\")"
   ]
  },
  {
   "cell_type": "markdown",
   "metadata": {},
   "source": [
    "- 여기서 가장 작은 Gini index값을 가지는 class를 보여주세요."
   ]
  },
  {
   "cell_type": "code",
   "execution_count": 9,
   "metadata": {},
   "outputs": [
    {
     "data": {
      "text/plain": [
       "('high', 0.4428571428571429)"
      ]
     },
     "execution_count": 9,
     "metadata": {},
     "output_type": "execute_result"
    }
   ],
   "source": [
    "min(get_attribute_gini_index(pd_data, \"income\", \"class_buys_computer\").items())"
   ]
  },
  {
   "cell_type": "markdown",
   "metadata": {},
   "source": [
    "## 분류를 하는 데 가장 중요한 변수를 선정하고, 해당 변수의 Gini index를 제시해주세요.\n",
    "- 모든 변수에 대한 Gini index(최소)를 출력해주세요.\n",
    "- 해당 결과는 아래와 같이 나와야 합니다."
   ]
  },
  {
   "cell_type": "code",
   "execution_count": 10,
   "metadata": {},
   "outputs": [
    {
     "name": "stdout",
     "output_type": "stream",
     "text": [
      "Minimum Gini index of age : 0.3571\n",
      "Minimum Gini index of income : 0.4429\n",
      "Minimum Gini index of student : 0.3673\n",
      "Minimum Gini index of credit_rating : 0.4286\n"
     ]
    }
   ],
   "source": [
    "# 변수명 중 마지막에 위치한 label 컬럼 얻기\n",
    "label = pd_data.columns[-1]\n",
    "# label 변수를 제외한 변수명 얻기\n",
    "features = list(pd_data.columns[:-1])\n",
    "\n",
    "# 각 변수를 대상으로 반복문 수행(해당 변수 중 가장 낮은 gini 계수와 변수 출력)\n",
    "for col in features:\n",
    "    print(f\"Minimum Gini index of {col} :\",round(min(get_attribute_gini_index(pd_data, col, \"class_buys_computer\").values()),4))"
   ]
  },
  {
   "cell_type": "code",
   "execution_count": 11,
   "metadata": {},
   "outputs": [
    {
     "data": {
      "text/plain": [
       "('middle_aged', 0.35714285714285715)"
      ]
     },
     "execution_count": 11,
     "metadata": {},
     "output_type": "execute_result"
    }
   ],
   "source": [
    "# age 변수를 어떤 기준으로 나눴을 때, 가장 지니계수가 가장 작아지는지 확인\n",
    "min(get_attribute_gini_index(pd_data, \"age\", \"class_buys_computer\").items())"
   ]
  },
  {
   "cell_type": "markdown",
   "metadata": {},
   "source": [
    "## 위에서 선정한 feature로 DataFrame을 split한 후 나눠진 2개의 DataFrame에서 각각 다음으로 중요한 변수를 선정하고 해당 변수의 Gini index를 제시해주세요."
   ]
  },
  {
   "cell_type": "code",
   "execution_count": 12,
   "metadata": {},
   "outputs": [],
   "source": [
    "df_1=pd_data[pd_data['age']=='middle_aged']\n",
    "df_2=pd_data[~(pd_data['age']=='middle_aged')]"
   ]
  },
  {
   "cell_type": "code",
   "execution_count": 13,
   "metadata": {},
   "outputs": [
    {
     "name": "stdout",
     "output_type": "stream",
     "text": [
      "Age : Minimum Gini index of income : 0.0\n",
      "Age : Minimum Gini index of student : 0.0\n",
      "Age : Minimum Gini index of credit_rating : 0.0\n",
      "#############################################################\n",
      "Age : Minimum Gini index of income : 0.375\n",
      "Age : Minimum Gini index of student : 0.32\n",
      "Age : Minimum Gini index of credit_rating : 0.4167\n"
     ]
    }
   ],
   "source": [
    "# 각 변수를 대상으로 반복문 수행\n",
    "for col in features[1:]:\n",
    "    print(f\"Age : Minimum Gini index of {col} :\",round(min(get_attribute_gini_index(df_1, col, \"class_buys_computer\").values()),4))\n",
    "print(\"#############################################################\")\n",
    "for col in features[1:]:\n",
    "    print(f\"Age : Minimum Gini index of {col} :\",round(min(get_attribute_gini_index(df_2, col, \"class_buys_computer\").values()),4))"
   ]
  },
  {
   "cell_type": "markdown",
   "metadata": {},
   "source": [
    "## Entropy 를 구하는 함수 만들기"
   ]
  },
  {
   "cell_type": "code",
   "execution_count": 31,
   "metadata": {},
   "outputs": [],
   "source": [
    "def getEntropy(df, feature) :\n",
    "    import numpy as np\n",
    "    a=df[label].value_counts()/len(df[label])\n",
    "    # P_2는 확률의 제곱을 뜻함. 뒤에서 루프를 돌려 더할 것이므로 0이라는 초기값 설정해두기\n",
    "    entropy=0 \n",
    "    \n",
    "    # 레이블 값이 두개가 아닌 그 이상일 수 있기 때문에 val에 확률*log2확률의 합을 저장하기\n",
    "    for i in range(len(a)):\n",
    "        entropy-=a[i]*np.log2(a[i])\n",
    "    return(entropy)"
   ]
  },
  {
   "cell_type": "code",
   "execution_count": 32,
   "metadata": {},
   "outputs": [
    {
     "data": {
      "text/plain": [
       "0.9402859586706311"
      ]
     },
     "execution_count": 32,
     "metadata": {},
     "output_type": "execute_result"
    }
   ],
   "source": [
    "getEntropy(pd_data, \"class_buys_computer\")"
   ]
  },
  {
   "cell_type": "code",
   "execution_count": 71,
   "metadata": {},
   "outputs": [],
   "source": [
    "def getGainA(df, feature) :\n",
    "    info_D = getEntropy(df, feature) # 목표변수에 대한 Entropy 를 구하기\n",
    "    columns = list(df.loc[:, df.columns != feature]) # 목표변수(feature)를 제외한 나머지 변수들의 변수명을 리스트 형태로 저장\n",
    "    # 결과가 출력될 result라는 변수명의 딕셔너리 생성\n",
    "    result={}\n",
    "    \n",
    "    # val_entropy는 E('특정 컬럼'='해당 컬럼의 원소1'), E('특정 컬럼'='해당 컬럼의 원소2') 등의 엔트로피값을 리스트 형태로 모아둘 변수\n",
    "    # ex) E(income=high), E(income=medium), E(income=low) 의 값을 리스트로 저장\n",
    "    val_entropy=[]\n",
    "    \n",
    "    # weight는 컬럼별로 원소들이 가지는 가중치를 리스트 형태로 모아둘 변수\n",
    "    # ex) income 변수의 경우, weight=[4/14, 6/14, 4/14]\n",
    "    weight=[]\n",
    "    \n",
    "    for col in columns:\n",
    "        for val in df[col].unique():\n",
    "            df_split=df[df[col]==val]\n",
    "            val_entropy.append(getEntropy(df_split,col))\n",
    "            weight.append(len(df[df[col]==val])/len(df))\n",
    "        \n",
    "        # info_col은 해당 컬럼 전체의 엔트로피 (가중치를 고려한 평균, ex) I(income))\n",
    "        info_col=np.dot(np.array(weight),np.array(val_entropy).T)\n",
    "        \n",
    "        # 정보이득지수 info_gain\n",
    "        Info_gain=info_D-info_col\n",
    "        result[col]=Info_gain\n",
    "        \n",
    "        # 다음 루프를 위해 두 리스트 원소는 모두 지워주기\n",
    "        val_entropy.clear()\n",
    "        weight.clear()\n",
    "    return(result)"
   ]
  },
  {
   "cell_type": "code",
   "execution_count": 72,
   "metadata": {
    "scrolled": true
   },
   "outputs": [
    {
     "data": {
      "text/plain": [
       "{'age': 0.24674981977443933,\n",
       " 'income': 0.02922256565895487,\n",
       " 'student': 0.15183550136234159,\n",
       " 'credit_rating': 0.04812703040826949}"
      ]
     },
     "execution_count": 72,
     "metadata": {},
     "output_type": "execute_result"
    }
   ],
   "source": [
    "getGainA(pd_data, \"class_buys_computer\")"
   ]
  }
 ],
 "metadata": {
  "kernelspec": {
   "display_name": "Python 3",
   "language": "python",
   "name": "python3"
  },
  "language_info": {
   "codemirror_mode": {
    "name": "ipython",
    "version": 3
   },
   "file_extension": ".py",
   "mimetype": "text/x-python",
   "name": "python",
   "nbconvert_exporter": "python",
   "pygments_lexer": "ipython3",
   "version": "3.8.8"
  }
 },
 "nbformat": 4,
 "nbformat_minor": 4
}
