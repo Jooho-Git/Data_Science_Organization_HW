{
 "cells": [
  {
   "cell_type": "markdown",
   "metadata": {},
   "source": [
    "# 4주차 Ensemble 캐글 과제 - 16기 김주호"
   ]
  },
  {
   "cell_type": "markdown",
   "metadata": {
    "id": "KQkFvVLsiCyN"
   },
   "source": [
    "## 패키지 불러오기"
   ]
  },
  {
   "cell_type": "code",
   "execution_count": 1,
   "metadata": {
    "id": "RFiBEQnAOFnZ"
   },
   "outputs": [],
   "source": [
    "import pandas as pd\n",
    "import numpy as np\n",
    "import matplotlib.pyplot as plt\n",
    "import matplotlib as mpl\n",
    "import seaborn as sns\n",
    "import warnings\n",
    "\n",
    "warnings.filterwarnings(action='ignore')\n",
    "%matplotlib inline"
   ]
  },
  {
   "cell_type": "markdown",
   "metadata": {
    "id": "aKcaeyUMUQp1"
   },
   "source": [
    "## 데이터 이해하기\n",
    "\n",
    "### 목표 : 은행 신용 카드 서비스 이탈 고객 예측 모델 만들기!\n",
    "\n",
    "## 칼럼 설명\n",
    "\n",
    "- feature\n",
    " - Customer_Age : 고객의 나이\n",
    " - Gender : 성별 (M=Male, F=Female)\n",
    " - Dependent_count : 부양하는 가족의 수\n",
    " - Education_Level : 고객의 최종 학력 (example: high school, college graduate, etc.)\n",
    " - Marital_Status : 결혼 상태 (Married, Single, Divorced, Unknown)\n",
    " - Income_Category : 소득 범주 (< $40K, $40K - 60K, $60K - $80K, $80K-$120K, etc.)\n",
    " - Card_Category : 카드 종류 / Product Variable - Type of Card (Blue, Silver, Gold, Platinum)\n",
    " - Months_on_book : 은행 상품 이용 개월 수 / Period of relationship with bank\n",
    " - Total_Relationship_Count : 고객이 보유한 총 상품 수 / Total no. of products held by the customer\n",
    " - Months_Inactive_12_mon : 근 1년간 활동하지 않은 개월 수 / No. of months inactive in the last 12 months\n",
    " - Contacts_Count_12_mon : 근 1년간 활동한 횟수 / No. of Contacts in the last 12 months\n",
    " - Credit_Limit : 신용카드 한도 / Credit Limit on the Credit Card\n",
    " - Total_Revolving_Bal : 신용카드의 총 리볼빙 / Total Revolving Balance on the Credit Card\n",
    " - Avg_Open_To_Buy : 평균 잉여구매예산 / Open to Buy Credit Line (Average of last 12 months)\n",
    " - Total_Amt_Chng_Q4_Q1 : 거래량 변화율 / Change in Transaction Amount (Q4 over Q1)\n",
    " - Total_Trans_Amt : 총 거래량 / Total Transaction Amount (Last 12 months)\n",
    " - Total_Trans_Ct : 총 거래 횟수 / Total Transaction Count (Last 12 months)\n",
    " - Total_Ct_Chng_Q4_Q1 : 거래 횟수의 변화율 / Change in Transaction Count (Q4 over Q1)\n",
    " - Avg_Utilization_Ratio : 평균 카드 이용 비율 / Average Card Utilization Ratio\n",
    "\n",
    "- target\n",
    " - Attrition_Flag : 고객 활동 변수 / Existing Customer - 0, Attrited Customer - 1\n",
    "1. 은행 카드 서비스 담당자의 입장\n",
    "\n",
    "2. 카드 서비스를 이용하는 고객의 입장\n",
    "\n",
    "위 두 가지를 생각하면서 데이터를 분석\n",
    "\n",
    "데이터 출처: https://www.kaggle.com/sakshigoyal7/credit-card-customers\n",
    "\n",
    "## 평가방식\n",
    "\n",
    "평가방식은 Logloss이기 때문에 predict_proba을 통해서 각 클래스의 예측 확률을 구하는 방식으로 예측을 해야함.\n",
    "\n",
    "## 대회 주소\n",
    "https://www.kaggle.com/t/cd058141be084c4f81c9df010c587ae4"
   ]
  },
  {
   "cell_type": "code",
   "execution_count": 4,
   "metadata": {
    "id": "K55yRX4ORrD6"
   },
   "outputs": [],
   "source": [
    "# 데이터의 경로 각자에 맞추어서 변경해주세요\n",
    "data_dir = 'C:/Users/xnote/Desktop/투빅스/4주차/Week4_Ensemble_lsb/week4_Ensemble_Assignment/'\n",
    "\n",
    "train = pd.read_csv(data_dir + 'train.csv')\n",
    "test = pd.read_csv(data_dir + 'test.csv')"
   ]
  },
  {
   "cell_type": "code",
   "execution_count": 5,
   "metadata": {
    "colab": {
     "base_uri": "https://localhost:8080/",
     "height": 224
    },
    "executionInfo": {
     "elapsed": 28,
     "status": "ok",
     "timestamp": 1626605402458,
     "user": {
      "displayName": "이성범",
      "photoUrl": "",
      "userId": "11166281350151773159"
     },
     "user_tz": -540
    },
    "id": "oBsMz3WyR2gS",
    "outputId": "dd0766e2-4a29-4f60-d668-1dc6e694d87e"
   },
   "outputs": [
    {
     "data": {
      "text/html": [
       "<div>\n",
       "<style scoped>\n",
       "    .dataframe tbody tr th:only-of-type {\n",
       "        vertical-align: middle;\n",
       "    }\n",
       "\n",
       "    .dataframe tbody tr th {\n",
       "        vertical-align: top;\n",
       "    }\n",
       "\n",
       "    .dataframe thead th {\n",
       "        text-align: right;\n",
       "    }\n",
       "</style>\n",
       "<table border=\"1\" class=\"dataframe\">\n",
       "  <thead>\n",
       "    <tr style=\"text-align: right;\">\n",
       "      <th></th>\n",
       "      <th>Customer_Age</th>\n",
       "      <th>Gender</th>\n",
       "      <th>Dependent_count</th>\n",
       "      <th>Education_Level</th>\n",
       "      <th>Marital_Status</th>\n",
       "      <th>Income_Category</th>\n",
       "      <th>Card_Category</th>\n",
       "      <th>Months_on_book</th>\n",
       "      <th>Total_Relationship_Count</th>\n",
       "      <th>Months_Inactive_12_mon</th>\n",
       "      <th>Contacts_Count_12_mon</th>\n",
       "      <th>Credit_Limit</th>\n",
       "      <th>Total_Revolving_Bal</th>\n",
       "      <th>Avg_Open_To_Buy</th>\n",
       "      <th>Total_Amt_Chng_Q4_Q1</th>\n",
       "      <th>Total_Trans_Amt</th>\n",
       "      <th>Total_Trans_Ct</th>\n",
       "      <th>Total_Ct_Chng_Q4_Q1</th>\n",
       "      <th>Avg_Utilization_Ratio</th>\n",
       "      <th>Attrition_Flag</th>\n",
       "    </tr>\n",
       "  </thead>\n",
       "  <tbody>\n",
       "    <tr>\n",
       "      <th>0</th>\n",
       "      <td>44</td>\n",
       "      <td>F</td>\n",
       "      <td>1</td>\n",
       "      <td>Unknown</td>\n",
       "      <td>Divorced</td>\n",
       "      <td>Unknown</td>\n",
       "      <td>Blue</td>\n",
       "      <td>36</td>\n",
       "      <td>3</td>\n",
       "      <td>2</td>\n",
       "      <td>1</td>\n",
       "      <td>17116.0</td>\n",
       "      <td>1289</td>\n",
       "      <td>15827.0</td>\n",
       "      <td>0.559</td>\n",
       "      <td>3632</td>\n",
       "      <td>50</td>\n",
       "      <td>0.923</td>\n",
       "      <td>0.075</td>\n",
       "      <td>0</td>\n",
       "    </tr>\n",
       "    <tr>\n",
       "      <th>1</th>\n",
       "      <td>42</td>\n",
       "      <td>M</td>\n",
       "      <td>3</td>\n",
       "      <td>Uneducated</td>\n",
       "      <td>Single</td>\n",
       "      <td>$60K - $80K</td>\n",
       "      <td>Blue</td>\n",
       "      <td>30</td>\n",
       "      <td>4</td>\n",
       "      <td>2</td>\n",
       "      <td>3</td>\n",
       "      <td>8302.0</td>\n",
       "      <td>1294</td>\n",
       "      <td>7008.0</td>\n",
       "      <td>0.558</td>\n",
       "      <td>3221</td>\n",
       "      <td>66</td>\n",
       "      <td>0.610</td>\n",
       "      <td>0.156</td>\n",
       "      <td>0</td>\n",
       "    </tr>\n",
       "    <tr>\n",
       "      <th>2</th>\n",
       "      <td>57</td>\n",
       "      <td>M</td>\n",
       "      <td>0</td>\n",
       "      <td>Uneducated</td>\n",
       "      <td>Divorced</td>\n",
       "      <td>$80K - $120K</td>\n",
       "      <td>Blue</td>\n",
       "      <td>39</td>\n",
       "      <td>4</td>\n",
       "      <td>4</td>\n",
       "      <td>3</td>\n",
       "      <td>2795.0</td>\n",
       "      <td>1832</td>\n",
       "      <td>963.0</td>\n",
       "      <td>0.839</td>\n",
       "      <td>4679</td>\n",
       "      <td>67</td>\n",
       "      <td>0.861</td>\n",
       "      <td>0.655</td>\n",
       "      <td>0</td>\n",
       "    </tr>\n",
       "    <tr>\n",
       "      <th>3</th>\n",
       "      <td>26</td>\n",
       "      <td>F</td>\n",
       "      <td>1</td>\n",
       "      <td>Graduate</td>\n",
       "      <td>Single</td>\n",
       "      <td>$40K - $60K</td>\n",
       "      <td>Blue</td>\n",
       "      <td>20</td>\n",
       "      <td>6</td>\n",
       "      <td>3</td>\n",
       "      <td>3</td>\n",
       "      <td>1438.3</td>\n",
       "      <td>673</td>\n",
       "      <td>765.3</td>\n",
       "      <td>0.595</td>\n",
       "      <td>2167</td>\n",
       "      <td>48</td>\n",
       "      <td>0.412</td>\n",
       "      <td>0.468</td>\n",
       "      <td>0</td>\n",
       "    </tr>\n",
       "    <tr>\n",
       "      <th>4</th>\n",
       "      <td>38</td>\n",
       "      <td>F</td>\n",
       "      <td>0</td>\n",
       "      <td>Uneducated</td>\n",
       "      <td>Married</td>\n",
       "      <td>Less than $40K</td>\n",
       "      <td>Blue</td>\n",
       "      <td>26</td>\n",
       "      <td>5</td>\n",
       "      <td>1</td>\n",
       "      <td>4</td>\n",
       "      <td>2230.0</td>\n",
       "      <td>0</td>\n",
       "      <td>2230.0</td>\n",
       "      <td>0.896</td>\n",
       "      <td>3766</td>\n",
       "      <td>63</td>\n",
       "      <td>0.909</td>\n",
       "      <td>0.000</td>\n",
       "      <td>0</td>\n",
       "    </tr>\n",
       "  </tbody>\n",
       "</table>\n",
       "</div>"
      ],
      "text/plain": [
       "   Customer_Age Gender  Dependent_count Education_Level Marital_Status  \\\n",
       "0            44      F                1         Unknown       Divorced   \n",
       "1            42      M                3      Uneducated         Single   \n",
       "2            57      M                0      Uneducated       Divorced   \n",
       "3            26      F                1        Graduate         Single   \n",
       "4            38      F                0      Uneducated        Married   \n",
       "\n",
       "  Income_Category Card_Category  Months_on_book  Total_Relationship_Count  \\\n",
       "0         Unknown          Blue              36                         3   \n",
       "1     $60K - $80K          Blue              30                         4   \n",
       "2    $80K - $120K          Blue              39                         4   \n",
       "3     $40K - $60K          Blue              20                         6   \n",
       "4  Less than $40K          Blue              26                         5   \n",
       "\n",
       "   Months_Inactive_12_mon  Contacts_Count_12_mon  Credit_Limit  \\\n",
       "0                       2                      1       17116.0   \n",
       "1                       2                      3        8302.0   \n",
       "2                       4                      3        2795.0   \n",
       "3                       3                      3        1438.3   \n",
       "4                       1                      4        2230.0   \n",
       "\n",
       "   Total_Revolving_Bal  Avg_Open_To_Buy  Total_Amt_Chng_Q4_Q1  \\\n",
       "0                 1289          15827.0                 0.559   \n",
       "1                 1294           7008.0                 0.558   \n",
       "2                 1832            963.0                 0.839   \n",
       "3                  673            765.3                 0.595   \n",
       "4                    0           2230.0                 0.896   \n",
       "\n",
       "   Total_Trans_Amt  Total_Trans_Ct  Total_Ct_Chng_Q4_Q1  \\\n",
       "0             3632              50                0.923   \n",
       "1             3221              66                0.610   \n",
       "2             4679              67                0.861   \n",
       "3             2167              48                0.412   \n",
       "4             3766              63                0.909   \n",
       "\n",
       "   Avg_Utilization_Ratio  Attrition_Flag  \n",
       "0                  0.075               0  \n",
       "1                  0.156               0  \n",
       "2                  0.655               0  \n",
       "3                  0.468               0  \n",
       "4                  0.000               0  "
      ]
     },
     "execution_count": 5,
     "metadata": {},
     "output_type": "execute_result"
    }
   ],
   "source": [
    "train.head()"
   ]
  },
  {
   "cell_type": "code",
   "execution_count": 6,
   "metadata": {
    "colab": {
     "base_uri": "https://localhost:8080/",
     "height": 224
    },
    "executionInfo": {
     "elapsed": 26,
     "status": "ok",
     "timestamp": 1626605402459,
     "user": {
      "displayName": "이성범",
      "photoUrl": "",
      "userId": "11166281350151773159"
     },
     "user_tz": -540
    },
    "id": "WvuI5K-dSnwT",
    "outputId": "e3064372-31dc-4676-bc93-c2276567a797"
   },
   "outputs": [
    {
     "data": {
      "text/html": [
       "<div>\n",
       "<style scoped>\n",
       "    .dataframe tbody tr th:only-of-type {\n",
       "        vertical-align: middle;\n",
       "    }\n",
       "\n",
       "    .dataframe tbody tr th {\n",
       "        vertical-align: top;\n",
       "    }\n",
       "\n",
       "    .dataframe thead th {\n",
       "        text-align: right;\n",
       "    }\n",
       "</style>\n",
       "<table border=\"1\" class=\"dataframe\">\n",
       "  <thead>\n",
       "    <tr style=\"text-align: right;\">\n",
       "      <th></th>\n",
       "      <th>Customer_Age</th>\n",
       "      <th>Gender</th>\n",
       "      <th>Dependent_count</th>\n",
       "      <th>Education_Level</th>\n",
       "      <th>Marital_Status</th>\n",
       "      <th>Income_Category</th>\n",
       "      <th>Card_Category</th>\n",
       "      <th>Months_on_book</th>\n",
       "      <th>Total_Relationship_Count</th>\n",
       "      <th>Months_Inactive_12_mon</th>\n",
       "      <th>Contacts_Count_12_mon</th>\n",
       "      <th>Credit_Limit</th>\n",
       "      <th>Total_Revolving_Bal</th>\n",
       "      <th>Avg_Open_To_Buy</th>\n",
       "      <th>Total_Amt_Chng_Q4_Q1</th>\n",
       "      <th>Total_Trans_Amt</th>\n",
       "      <th>Total_Trans_Ct</th>\n",
       "      <th>Total_Ct_Chng_Q4_Q1</th>\n",
       "      <th>Avg_Utilization_Ratio</th>\n",
       "    </tr>\n",
       "  </thead>\n",
       "  <tbody>\n",
       "    <tr>\n",
       "      <th>0</th>\n",
       "      <td>53</td>\n",
       "      <td>F</td>\n",
       "      <td>2</td>\n",
       "      <td>College</td>\n",
       "      <td>Single</td>\n",
       "      <td>Less than $40K</td>\n",
       "      <td>Blue</td>\n",
       "      <td>45</td>\n",
       "      <td>6</td>\n",
       "      <td>3</td>\n",
       "      <td>3</td>\n",
       "      <td>6210.0</td>\n",
       "      <td>1083</td>\n",
       "      <td>5127.0</td>\n",
       "      <td>0.621</td>\n",
       "      <td>3095</td>\n",
       "      <td>62</td>\n",
       "      <td>0.590</td>\n",
       "      <td>0.174</td>\n",
       "    </tr>\n",
       "    <tr>\n",
       "      <th>1</th>\n",
       "      <td>52</td>\n",
       "      <td>M</td>\n",
       "      <td>1</td>\n",
       "      <td>College</td>\n",
       "      <td>Married</td>\n",
       "      <td>$80K - $120K</td>\n",
       "      <td>Blue</td>\n",
       "      <td>48</td>\n",
       "      <td>4</td>\n",
       "      <td>3</td>\n",
       "      <td>3</td>\n",
       "      <td>2066.0</td>\n",
       "      <td>1601</td>\n",
       "      <td>465.0</td>\n",
       "      <td>0.742</td>\n",
       "      <td>1578</td>\n",
       "      <td>41</td>\n",
       "      <td>0.414</td>\n",
       "      <td>0.775</td>\n",
       "    </tr>\n",
       "    <tr>\n",
       "      <th>2</th>\n",
       "      <td>27</td>\n",
       "      <td>M</td>\n",
       "      <td>0</td>\n",
       "      <td>Unknown</td>\n",
       "      <td>Married</td>\n",
       "      <td>$40K - $60K</td>\n",
       "      <td>Blue</td>\n",
       "      <td>14</td>\n",
       "      <td>4</td>\n",
       "      <td>1</td>\n",
       "      <td>4</td>\n",
       "      <td>3823.0</td>\n",
       "      <td>2130</td>\n",
       "      <td>1693.0</td>\n",
       "      <td>0.371</td>\n",
       "      <td>2026</td>\n",
       "      <td>49</td>\n",
       "      <td>0.441</td>\n",
       "      <td>0.557</td>\n",
       "    </tr>\n",
       "    <tr>\n",
       "      <th>3</th>\n",
       "      <td>43</td>\n",
       "      <td>M</td>\n",
       "      <td>3</td>\n",
       "      <td>Unknown</td>\n",
       "      <td>Single</td>\n",
       "      <td>$60K - $80K</td>\n",
       "      <td>Blue</td>\n",
       "      <td>34</td>\n",
       "      <td>6</td>\n",
       "      <td>2</td>\n",
       "      <td>0</td>\n",
       "      <td>13771.0</td>\n",
       "      <td>2517</td>\n",
       "      <td>11254.0</td>\n",
       "      <td>0.501</td>\n",
       "      <td>1510</td>\n",
       "      <td>42</td>\n",
       "      <td>0.750</td>\n",
       "      <td>0.183</td>\n",
       "    </tr>\n",
       "    <tr>\n",
       "      <th>4</th>\n",
       "      <td>55</td>\n",
       "      <td>F</td>\n",
       "      <td>2</td>\n",
       "      <td>High School</td>\n",
       "      <td>Married</td>\n",
       "      <td>$40K - $60K</td>\n",
       "      <td>Blue</td>\n",
       "      <td>42</td>\n",
       "      <td>2</td>\n",
       "      <td>2</td>\n",
       "      <td>3</td>\n",
       "      <td>5431.0</td>\n",
       "      <td>2007</td>\n",
       "      <td>3424.0</td>\n",
       "      <td>0.661</td>\n",
       "      <td>4569</td>\n",
       "      <td>82</td>\n",
       "      <td>0.608</td>\n",
       "      <td>0.370</td>\n",
       "    </tr>\n",
       "  </tbody>\n",
       "</table>\n",
       "</div>"
      ],
      "text/plain": [
       "   Customer_Age Gender  Dependent_count Education_Level Marital_Status  \\\n",
       "0            53      F                2         College         Single   \n",
       "1            52      M                1         College        Married   \n",
       "2            27      M                0         Unknown        Married   \n",
       "3            43      M                3         Unknown         Single   \n",
       "4            55      F                2     High School        Married   \n",
       "\n",
       "  Income_Category Card_Category  Months_on_book  Total_Relationship_Count  \\\n",
       "0  Less than $40K          Blue              45                         6   \n",
       "1    $80K - $120K          Blue              48                         4   \n",
       "2     $40K - $60K          Blue              14                         4   \n",
       "3     $60K - $80K          Blue              34                         6   \n",
       "4     $40K - $60K          Blue              42                         2   \n",
       "\n",
       "   Months_Inactive_12_mon  Contacts_Count_12_mon  Credit_Limit  \\\n",
       "0                       3                      3        6210.0   \n",
       "1                       3                      3        2066.0   \n",
       "2                       1                      4        3823.0   \n",
       "3                       2                      0       13771.0   \n",
       "4                       2                      3        5431.0   \n",
       "\n",
       "   Total_Revolving_Bal  Avg_Open_To_Buy  Total_Amt_Chng_Q4_Q1  \\\n",
       "0                 1083           5127.0                 0.621   \n",
       "1                 1601            465.0                 0.742   \n",
       "2                 2130           1693.0                 0.371   \n",
       "3                 2517          11254.0                 0.501   \n",
       "4                 2007           3424.0                 0.661   \n",
       "\n",
       "   Total_Trans_Amt  Total_Trans_Ct  Total_Ct_Chng_Q4_Q1  Avg_Utilization_Ratio  \n",
       "0             3095              62                0.590                  0.174  \n",
       "1             1578              41                0.414                  0.775  \n",
       "2             2026              49                0.441                  0.557  \n",
       "3             1510              42                0.750                  0.183  \n",
       "4             4569              82                0.608                  0.370  "
      ]
     },
     "execution_count": 6,
     "metadata": {},
     "output_type": "execute_result"
    }
   ],
   "source": [
    "test.head()"
   ]
  },
  {
   "cell_type": "markdown",
   "metadata": {
    "id": "CyVU0cD7ZU_V"
   },
   "source": [
    "## 데이터 전처리\n"
   ]
  },
  {
   "cell_type": "code",
   "execution_count": 7,
   "metadata": {
    "colab": {
     "base_uri": "https://localhost:8080/"
    },
    "executionInfo": {
     "elapsed": 23,
     "status": "ok",
     "timestamp": 1626605402459,
     "user": {
      "displayName": "이성범",
      "photoUrl": "",
      "userId": "11166281350151773159"
     },
     "user_tz": -540
    },
    "id": "YnPpu6AqZZZa",
    "outputId": "c6b8a40a-3bf1-4380-bd06-f4e7639a3b51"
   },
   "outputs": [
    {
     "data": {
      "text/plain": [
       "(8101, 20)"
      ]
     },
     "execution_count": 7,
     "metadata": {},
     "output_type": "execute_result"
    }
   ],
   "source": [
    "train.shape"
   ]
  },
  {
   "cell_type": "code",
   "execution_count": 8,
   "metadata": {
    "colab": {
     "base_uri": "https://localhost:8080/"
    },
    "executionInfo": {
     "elapsed": 21,
     "status": "ok",
     "timestamp": 1626605402460,
     "user": {
      "displayName": "이성범",
      "photoUrl": "",
      "userId": "11166281350151773159"
     },
     "user_tz": -540
    },
    "id": "fuc-6D7ZcigN",
    "outputId": "fc8ab7ce-c204-4116-c1ae-2aa7d66efa7e"
   },
   "outputs": [
    {
     "data": {
      "text/plain": [
       "(2026, 19)"
      ]
     },
     "execution_count": 8,
     "metadata": {},
     "output_type": "execute_result"
    }
   ],
   "source": [
    "test.shape"
   ]
  },
  {
   "cell_type": "code",
   "execution_count": 9,
   "metadata": {
    "colab": {
     "base_uri": "https://localhost:8080/"
    },
    "executionInfo": {
     "elapsed": 18,
     "status": "ok",
     "timestamp": 1626605402460,
     "user": {
      "displayName": "이성범",
      "photoUrl": "",
      "userId": "11166281350151773159"
     },
     "user_tz": -540
    },
    "id": "ZJEVr9-gclgE",
    "outputId": "c5bf0d62-dd76-4d6c-9c77-fbdf847241bb"
   },
   "outputs": [
    {
     "data": {
      "text/plain": [
       "Customer_Age                0\n",
       "Gender                      0\n",
       "Dependent_count             0\n",
       "Education_Level             0\n",
       "Marital_Status              0\n",
       "Income_Category             0\n",
       "Card_Category               0\n",
       "Months_on_book              0\n",
       "Total_Relationship_Count    0\n",
       "Months_Inactive_12_mon      0\n",
       "Contacts_Count_12_mon       0\n",
       "Credit_Limit                0\n",
       "Total_Revolving_Bal         0\n",
       "Avg_Open_To_Buy             0\n",
       "Total_Amt_Chng_Q4_Q1        0\n",
       "Total_Trans_Amt             0\n",
       "Total_Trans_Ct              0\n",
       "Total_Ct_Chng_Q4_Q1         0\n",
       "Avg_Utilization_Ratio       0\n",
       "Attrition_Flag              0\n",
       "dtype: int64"
      ]
     },
     "execution_count": 9,
     "metadata": {},
     "output_type": "execute_result"
    }
   ],
   "source": [
    "train.isna().sum()"
   ]
  },
  {
   "cell_type": "code",
   "execution_count": 10,
   "metadata": {
    "colab": {
     "base_uri": "https://localhost:8080/"
    },
    "executionInfo": {
     "elapsed": 17,
     "status": "ok",
     "timestamp": 1626605402461,
     "user": {
      "displayName": "이성범",
      "photoUrl": "",
      "userId": "11166281350151773159"
     },
     "user_tz": -540
    },
    "id": "9AVHMJLHcn79",
    "outputId": "d9e4e914-e529-447d-eec2-d89b63c5df48"
   },
   "outputs": [
    {
     "data": {
      "text/plain": [
       "Customer_Age                0\n",
       "Gender                      0\n",
       "Dependent_count             0\n",
       "Education_Level             0\n",
       "Marital_Status              0\n",
       "Income_Category             0\n",
       "Card_Category               0\n",
       "Months_on_book              0\n",
       "Total_Relationship_Count    0\n",
       "Months_Inactive_12_mon      0\n",
       "Contacts_Count_12_mon       0\n",
       "Credit_Limit                0\n",
       "Total_Revolving_Bal         0\n",
       "Avg_Open_To_Buy             0\n",
       "Total_Amt_Chng_Q4_Q1        0\n",
       "Total_Trans_Amt             0\n",
       "Total_Trans_Ct              0\n",
       "Total_Ct_Chng_Q4_Q1         0\n",
       "Avg_Utilization_Ratio       0\n",
       "dtype: int64"
      ]
     },
     "execution_count": 10,
     "metadata": {},
     "output_type": "execute_result"
    }
   ],
   "source": [
    "test.isna().sum()"
   ]
  },
  {
   "cell_type": "markdown",
   "metadata": {
    "id": "eh4iyF5WZewN"
   },
   "source": [
    "# EDA\n",
    "\n",
    "정형데이터의 경우 feature engineering 이 모델의 성능에 정말 큰 영향을 주기 때문에 EDA를 통해서 얻은 인사이트를 바탕으로 최고의 feature를 만들어보세요! "
   ]
  },
  {
   "cell_type": "code",
   "execution_count": 11,
   "metadata": {
    "id": "aHprhcx2Z4Qc"
   },
   "outputs": [
    {
     "name": "stdout",
     "output_type": "stream",
     "text": [
      "<class 'pandas.core.frame.DataFrame'>\n",
      "RangeIndex: 8101 entries, 0 to 8100\n",
      "Data columns (total 20 columns):\n",
      " #   Column                    Non-Null Count  Dtype  \n",
      "---  ------                    --------------  -----  \n",
      " 0   Customer_Age              8101 non-null   int64  \n",
      " 1   Gender                    8101 non-null   object \n",
      " 2   Dependent_count           8101 non-null   int64  \n",
      " 3   Education_Level           8101 non-null   object \n",
      " 4   Marital_Status            8101 non-null   object \n",
      " 5   Income_Category           8101 non-null   object \n",
      " 6   Card_Category             8101 non-null   object \n",
      " 7   Months_on_book            8101 non-null   int64  \n",
      " 8   Total_Relationship_Count  8101 non-null   int64  \n",
      " 9   Months_Inactive_12_mon    8101 non-null   int64  \n",
      " 10  Contacts_Count_12_mon     8101 non-null   int64  \n",
      " 11  Credit_Limit              8101 non-null   float64\n",
      " 12  Total_Revolving_Bal       8101 non-null   int64  \n",
      " 13  Avg_Open_To_Buy           8101 non-null   float64\n",
      " 14  Total_Amt_Chng_Q4_Q1      8101 non-null   float64\n",
      " 15  Total_Trans_Amt           8101 non-null   int64  \n",
      " 16  Total_Trans_Ct            8101 non-null   int64  \n",
      " 17  Total_Ct_Chng_Q4_Q1       8101 non-null   float64\n",
      " 18  Avg_Utilization_Ratio     8101 non-null   float64\n",
      " 19  Attrition_Flag            8101 non-null   int64  \n",
      "dtypes: float64(5), int64(10), object(5)\n",
      "memory usage: 1.2+ MB\n"
     ]
    }
   ],
   "source": [
    "train.info()"
   ]
  },
  {
   "cell_type": "code",
   "execution_count": 12,
   "metadata": {},
   "outputs": [
    {
     "data": {
      "text/html": [
       "<div>\n",
       "<style scoped>\n",
       "    .dataframe tbody tr th:only-of-type {\n",
       "        vertical-align: middle;\n",
       "    }\n",
       "\n",
       "    .dataframe tbody tr th {\n",
       "        vertical-align: top;\n",
       "    }\n",
       "\n",
       "    .dataframe thead th {\n",
       "        text-align: right;\n",
       "    }\n",
       "</style>\n",
       "<table border=\"1\" class=\"dataframe\">\n",
       "  <thead>\n",
       "    <tr style=\"text-align: right;\">\n",
       "      <th></th>\n",
       "      <th>Customer_Age</th>\n",
       "      <th>Gender</th>\n",
       "      <th>Dependent_count</th>\n",
       "      <th>Education_Level</th>\n",
       "      <th>Marital_Status</th>\n",
       "      <th>Income_Category</th>\n",
       "      <th>Card_Category</th>\n",
       "      <th>Months_on_book</th>\n",
       "      <th>Total_Relationship_Count</th>\n",
       "      <th>Months_Inactive_12_mon</th>\n",
       "      <th>Contacts_Count_12_mon</th>\n",
       "      <th>Credit_Limit</th>\n",
       "      <th>Total_Revolving_Bal</th>\n",
       "      <th>Avg_Open_To_Buy</th>\n",
       "      <th>Total_Amt_Chng_Q4_Q1</th>\n",
       "      <th>Total_Trans_Amt</th>\n",
       "      <th>Total_Trans_Ct</th>\n",
       "      <th>Total_Ct_Chng_Q4_Q1</th>\n",
       "      <th>Avg_Utilization_Ratio</th>\n",
       "      <th>Attrition_Flag</th>\n",
       "    </tr>\n",
       "  </thead>\n",
       "  <tbody>\n",
       "    <tr>\n",
       "      <th>count</th>\n",
       "      <td>8101.000000</td>\n",
       "      <td>8101</td>\n",
       "      <td>8101.000000</td>\n",
       "      <td>8101</td>\n",
       "      <td>8101</td>\n",
       "      <td>8101</td>\n",
       "      <td>8101</td>\n",
       "      <td>8101.000000</td>\n",
       "      <td>8101.000000</td>\n",
       "      <td>8101.000000</td>\n",
       "      <td>8101.000000</td>\n",
       "      <td>8101.000000</td>\n",
       "      <td>8101.000000</td>\n",
       "      <td>8101.000000</td>\n",
       "      <td>8101.000000</td>\n",
       "      <td>8101.000000</td>\n",
       "      <td>8101.000000</td>\n",
       "      <td>8101.000000</td>\n",
       "      <td>8101.000000</td>\n",
       "      <td>8101.000000</td>\n",
       "    </tr>\n",
       "    <tr>\n",
       "      <th>unique</th>\n",
       "      <td>NaN</td>\n",
       "      <td>2</td>\n",
       "      <td>NaN</td>\n",
       "      <td>7</td>\n",
       "      <td>4</td>\n",
       "      <td>6</td>\n",
       "      <td>4</td>\n",
       "      <td>NaN</td>\n",
       "      <td>NaN</td>\n",
       "      <td>NaN</td>\n",
       "      <td>NaN</td>\n",
       "      <td>NaN</td>\n",
       "      <td>NaN</td>\n",
       "      <td>NaN</td>\n",
       "      <td>NaN</td>\n",
       "      <td>NaN</td>\n",
       "      <td>NaN</td>\n",
       "      <td>NaN</td>\n",
       "      <td>NaN</td>\n",
       "      <td>NaN</td>\n",
       "    </tr>\n",
       "    <tr>\n",
       "      <th>top</th>\n",
       "      <td>NaN</td>\n",
       "      <td>F</td>\n",
       "      <td>NaN</td>\n",
       "      <td>Graduate</td>\n",
       "      <td>Married</td>\n",
       "      <td>Less than $40K</td>\n",
       "      <td>Blue</td>\n",
       "      <td>NaN</td>\n",
       "      <td>NaN</td>\n",
       "      <td>NaN</td>\n",
       "      <td>NaN</td>\n",
       "      <td>NaN</td>\n",
       "      <td>NaN</td>\n",
       "      <td>NaN</td>\n",
       "      <td>NaN</td>\n",
       "      <td>NaN</td>\n",
       "      <td>NaN</td>\n",
       "      <td>NaN</td>\n",
       "      <td>NaN</td>\n",
       "      <td>NaN</td>\n",
       "    </tr>\n",
       "    <tr>\n",
       "      <th>freq</th>\n",
       "      <td>NaN</td>\n",
       "      <td>4286</td>\n",
       "      <td>NaN</td>\n",
       "      <td>2535</td>\n",
       "      <td>3749</td>\n",
       "      <td>2848</td>\n",
       "      <td>7546</td>\n",
       "      <td>NaN</td>\n",
       "      <td>NaN</td>\n",
       "      <td>NaN</td>\n",
       "      <td>NaN</td>\n",
       "      <td>NaN</td>\n",
       "      <td>NaN</td>\n",
       "      <td>NaN</td>\n",
       "      <td>NaN</td>\n",
       "      <td>NaN</td>\n",
       "      <td>NaN</td>\n",
       "      <td>NaN</td>\n",
       "      <td>NaN</td>\n",
       "      <td>NaN</td>\n",
       "    </tr>\n",
       "    <tr>\n",
       "      <th>mean</th>\n",
       "      <td>46.291199</td>\n",
       "      <td>NaN</td>\n",
       "      <td>2.339958</td>\n",
       "      <td>NaN</td>\n",
       "      <td>NaN</td>\n",
       "      <td>NaN</td>\n",
       "      <td>NaN</td>\n",
       "      <td>35.905938</td>\n",
       "      <td>3.808172</td>\n",
       "      <td>2.347241</td>\n",
       "      <td>2.460931</td>\n",
       "      <td>8667.346587</td>\n",
       "      <td>1157.653746</td>\n",
       "      <td>7509.692840</td>\n",
       "      <td>0.760068</td>\n",
       "      <td>4444.729663</td>\n",
       "      <td>64.984199</td>\n",
       "      <td>0.711699</td>\n",
       "      <td>0.274665</td>\n",
       "      <td>0.160721</td>\n",
       "    </tr>\n",
       "    <tr>\n",
       "      <th>std</th>\n",
       "      <td>8.040300</td>\n",
       "      <td>NaN</td>\n",
       "      <td>1.300795</td>\n",
       "      <td>NaN</td>\n",
       "      <td>NaN</td>\n",
       "      <td>NaN</td>\n",
       "      <td>NaN</td>\n",
       "      <td>8.011260</td>\n",
       "      <td>1.553566</td>\n",
       "      <td>1.013624</td>\n",
       "      <td>1.098309</td>\n",
       "      <td>9127.897938</td>\n",
       "      <td>815.062550</td>\n",
       "      <td>9129.855775</td>\n",
       "      <td>0.218224</td>\n",
       "      <td>3448.702344</td>\n",
       "      <td>23.608677</td>\n",
       "      <td>0.235800</td>\n",
       "      <td>0.277166</td>\n",
       "      <td>0.367296</td>\n",
       "    </tr>\n",
       "    <tr>\n",
       "      <th>min</th>\n",
       "      <td>26.000000</td>\n",
       "      <td>NaN</td>\n",
       "      <td>0.000000</td>\n",
       "      <td>NaN</td>\n",
       "      <td>NaN</td>\n",
       "      <td>NaN</td>\n",
       "      <td>NaN</td>\n",
       "      <td>13.000000</td>\n",
       "      <td>1.000000</td>\n",
       "      <td>0.000000</td>\n",
       "      <td>0.000000</td>\n",
       "      <td>1438.300000</td>\n",
       "      <td>0.000000</td>\n",
       "      <td>3.000000</td>\n",
       "      <td>0.000000</td>\n",
       "      <td>563.000000</td>\n",
       "      <td>10.000000</td>\n",
       "      <td>0.000000</td>\n",
       "      <td>0.000000</td>\n",
       "      <td>0.000000</td>\n",
       "    </tr>\n",
       "    <tr>\n",
       "      <th>25%</th>\n",
       "      <td>41.000000</td>\n",
       "      <td>NaN</td>\n",
       "      <td>1.000000</td>\n",
       "      <td>NaN</td>\n",
       "      <td>NaN</td>\n",
       "      <td>NaN</td>\n",
       "      <td>NaN</td>\n",
       "      <td>31.000000</td>\n",
       "      <td>3.000000</td>\n",
       "      <td>2.000000</td>\n",
       "      <td>2.000000</td>\n",
       "      <td>2557.000000</td>\n",
       "      <td>289.000000</td>\n",
       "      <td>1316.000000</td>\n",
       "      <td>0.631000</td>\n",
       "      <td>2169.000000</td>\n",
       "      <td>45.000000</td>\n",
       "      <td>0.583000</td>\n",
       "      <td>0.020000</td>\n",
       "      <td>0.000000</td>\n",
       "    </tr>\n",
       "    <tr>\n",
       "      <th>50%</th>\n",
       "      <td>46.000000</td>\n",
       "      <td>NaN</td>\n",
       "      <td>2.000000</td>\n",
       "      <td>NaN</td>\n",
       "      <td>NaN</td>\n",
       "      <td>NaN</td>\n",
       "      <td>NaN</td>\n",
       "      <td>36.000000</td>\n",
       "      <td>4.000000</td>\n",
       "      <td>2.000000</td>\n",
       "      <td>2.000000</td>\n",
       "      <td>4549.000000</td>\n",
       "      <td>1273.000000</td>\n",
       "      <td>3508.000000</td>\n",
       "      <td>0.737000</td>\n",
       "      <td>3904.000000</td>\n",
       "      <td>67.000000</td>\n",
       "      <td>0.700000</td>\n",
       "      <td>0.173000</td>\n",
       "      <td>0.000000</td>\n",
       "    </tr>\n",
       "    <tr>\n",
       "      <th>75%</th>\n",
       "      <td>52.000000</td>\n",
       "      <td>NaN</td>\n",
       "      <td>3.000000</td>\n",
       "      <td>NaN</td>\n",
       "      <td>NaN</td>\n",
       "      <td>NaN</td>\n",
       "      <td>NaN</td>\n",
       "      <td>40.000000</td>\n",
       "      <td>5.000000</td>\n",
       "      <td>3.000000</td>\n",
       "      <td>3.000000</td>\n",
       "      <td>11135.000000</td>\n",
       "      <td>1781.000000</td>\n",
       "      <td>9930.000000</td>\n",
       "      <td>0.859000</td>\n",
       "      <td>4754.000000</td>\n",
       "      <td>81.000000</td>\n",
       "      <td>0.818000</td>\n",
       "      <td>0.504000</td>\n",
       "      <td>0.000000</td>\n",
       "    </tr>\n",
       "    <tr>\n",
       "      <th>max</th>\n",
       "      <td>73.000000</td>\n",
       "      <td>NaN</td>\n",
       "      <td>5.000000</td>\n",
       "      <td>NaN</td>\n",
       "      <td>NaN</td>\n",
       "      <td>NaN</td>\n",
       "      <td>NaN</td>\n",
       "      <td>56.000000</td>\n",
       "      <td>6.000000</td>\n",
       "      <td>6.000000</td>\n",
       "      <td>6.000000</td>\n",
       "      <td>34516.000000</td>\n",
       "      <td>2517.000000</td>\n",
       "      <td>34516.000000</td>\n",
       "      <td>3.397000</td>\n",
       "      <td>18484.000000</td>\n",
       "      <td>138.000000</td>\n",
       "      <td>3.714000</td>\n",
       "      <td>0.999000</td>\n",
       "      <td>1.000000</td>\n",
       "    </tr>\n",
       "  </tbody>\n",
       "</table>\n",
       "</div>"
      ],
      "text/plain": [
       "        Customer_Age Gender  Dependent_count Education_Level Marital_Status  \\\n",
       "count    8101.000000   8101      8101.000000            8101           8101   \n",
       "unique           NaN      2              NaN               7              4   \n",
       "top              NaN      F              NaN        Graduate        Married   \n",
       "freq             NaN   4286              NaN            2535           3749   \n",
       "mean       46.291199    NaN         2.339958             NaN            NaN   \n",
       "std         8.040300    NaN         1.300795             NaN            NaN   \n",
       "min        26.000000    NaN         0.000000             NaN            NaN   \n",
       "25%        41.000000    NaN         1.000000             NaN            NaN   \n",
       "50%        46.000000    NaN         2.000000             NaN            NaN   \n",
       "75%        52.000000    NaN         3.000000             NaN            NaN   \n",
       "max        73.000000    NaN         5.000000             NaN            NaN   \n",
       "\n",
       "       Income_Category Card_Category  Months_on_book  \\\n",
       "count             8101          8101     8101.000000   \n",
       "unique               6             4             NaN   \n",
       "top     Less than $40K          Blue             NaN   \n",
       "freq              2848          7546             NaN   \n",
       "mean               NaN           NaN       35.905938   \n",
       "std                NaN           NaN        8.011260   \n",
       "min                NaN           NaN       13.000000   \n",
       "25%                NaN           NaN       31.000000   \n",
       "50%                NaN           NaN       36.000000   \n",
       "75%                NaN           NaN       40.000000   \n",
       "max                NaN           NaN       56.000000   \n",
       "\n",
       "        Total_Relationship_Count  Months_Inactive_12_mon  \\\n",
       "count                8101.000000             8101.000000   \n",
       "unique                       NaN                     NaN   \n",
       "top                          NaN                     NaN   \n",
       "freq                         NaN                     NaN   \n",
       "mean                    3.808172                2.347241   \n",
       "std                     1.553566                1.013624   \n",
       "min                     1.000000                0.000000   \n",
       "25%                     3.000000                2.000000   \n",
       "50%                     4.000000                2.000000   \n",
       "75%                     5.000000                3.000000   \n",
       "max                     6.000000                6.000000   \n",
       "\n",
       "        Contacts_Count_12_mon  Credit_Limit  Total_Revolving_Bal  \\\n",
       "count             8101.000000   8101.000000          8101.000000   \n",
       "unique                    NaN           NaN                  NaN   \n",
       "top                       NaN           NaN                  NaN   \n",
       "freq                      NaN           NaN                  NaN   \n",
       "mean                 2.460931   8667.346587          1157.653746   \n",
       "std                  1.098309   9127.897938           815.062550   \n",
       "min                  0.000000   1438.300000             0.000000   \n",
       "25%                  2.000000   2557.000000           289.000000   \n",
       "50%                  2.000000   4549.000000          1273.000000   \n",
       "75%                  3.000000  11135.000000          1781.000000   \n",
       "max                  6.000000  34516.000000          2517.000000   \n",
       "\n",
       "        Avg_Open_To_Buy  Total_Amt_Chng_Q4_Q1  Total_Trans_Amt  \\\n",
       "count       8101.000000           8101.000000      8101.000000   \n",
       "unique              NaN                   NaN              NaN   \n",
       "top                 NaN                   NaN              NaN   \n",
       "freq                NaN                   NaN              NaN   \n",
       "mean        7509.692840              0.760068      4444.729663   \n",
       "std         9129.855775              0.218224      3448.702344   \n",
       "min            3.000000              0.000000       563.000000   \n",
       "25%         1316.000000              0.631000      2169.000000   \n",
       "50%         3508.000000              0.737000      3904.000000   \n",
       "75%         9930.000000              0.859000      4754.000000   \n",
       "max        34516.000000              3.397000     18484.000000   \n",
       "\n",
       "        Total_Trans_Ct  Total_Ct_Chng_Q4_Q1  Avg_Utilization_Ratio  \\\n",
       "count      8101.000000          8101.000000            8101.000000   \n",
       "unique             NaN                  NaN                    NaN   \n",
       "top                NaN                  NaN                    NaN   \n",
       "freq               NaN                  NaN                    NaN   \n",
       "mean         64.984199             0.711699               0.274665   \n",
       "std          23.608677             0.235800               0.277166   \n",
       "min          10.000000             0.000000               0.000000   \n",
       "25%          45.000000             0.583000               0.020000   \n",
       "50%          67.000000             0.700000               0.173000   \n",
       "75%          81.000000             0.818000               0.504000   \n",
       "max         138.000000             3.714000               0.999000   \n",
       "\n",
       "        Attrition_Flag  \n",
       "count      8101.000000  \n",
       "unique             NaN  \n",
       "top                NaN  \n",
       "freq               NaN  \n",
       "mean          0.160721  \n",
       "std           0.367296  \n",
       "min           0.000000  \n",
       "25%           0.000000  \n",
       "50%           0.000000  \n",
       "75%           0.000000  \n",
       "max           1.000000  "
      ]
     },
     "execution_count": 12,
     "metadata": {},
     "output_type": "execute_result"
    }
   ],
   "source": [
    "train.describe(include='all')"
   ]
  },
  {
   "cell_type": "code",
   "execution_count": 13,
   "metadata": {},
   "outputs": [
    {
     "name": "stdout",
     "output_type": "stream",
     "text": [
      "** Gender 범주의 수: 2 ** \n",
      " ['F' 'M'] \n",
      "\n",
      "F    4286\n",
      "M    3815\n",
      "Name: Gender, dtype: int64 \n",
      "\n",
      "################################################################################\n",
      "** Education_Level 범주의 수: 7 ** \n",
      " ['College' 'Doctorate' 'Graduate' 'High School' 'Post-Graduate'\n",
      " 'Uneducated' 'Unknown'] \n",
      "\n",
      "Graduate         2535\n",
      "High School      1609\n",
      "Unknown          1220\n",
      "Uneducated       1158\n",
      "College           807\n",
      "Post-Graduate     409\n",
      "Doctorate         363\n",
      "Name: Education_Level, dtype: int64 \n",
      "\n",
      "################################################################################\n",
      "** Marital_Status 범주의 수: 4 ** \n",
      " ['Divorced' 'Married' 'Single' 'Unknown'] \n",
      "\n",
      "Married     3749\n",
      "Single      3155\n",
      "Divorced     613\n",
      "Unknown      584\n",
      "Name: Marital_Status, dtype: int64 \n",
      "\n",
      "################################################################################\n",
      "** Income_Category 범주의 수: 6 ** \n",
      " ['$120K +' '$40K - $60K' '$60K - $80K' '$80K - $120K' 'Less than $40K'\n",
      " 'Unknown'] \n",
      "\n",
      "Less than $40K    2848\n",
      "$40K - $60K       1450\n",
      "$80K - $120K      1234\n",
      "$60K - $80K       1101\n",
      "Unknown            887\n",
      "$120K +            581\n",
      "Name: Income_Category, dtype: int64 \n",
      "\n",
      "################################################################################\n",
      "** Card_Category 범주의 수: 4 ** \n",
      " ['Blue' 'Gold' 'Platinum' 'Silver'] \n",
      "\n",
      "Blue        7546\n",
      "Silver       451\n",
      "Gold          90\n",
      "Platinum      14\n",
      "Name: Card_Category, dtype: int64 \n",
      "\n",
      "################################################################################\n"
     ]
    }
   ],
   "source": [
    "import numpy as np\n",
    "import pandas as pd\n",
    "\n",
    "df=pd.DataFrame(train.dtypes=='object')\n",
    "\n",
    "for obj in df[df[0]==True].index.tolist():\n",
    "    print('**',obj,'범주의 수:',len(np.unique(train[obj])),'**','\\n',np.unique(train[obj]),'\\n')\n",
    "    print(train[obj].value_counts(),'\\n')\n",
    "    print('#'*80)"
   ]
  },
  {
   "cell_type": "code",
   "execution_count": 14,
   "metadata": {
    "scrolled": true
   },
   "outputs": [
    {
     "name": "stdout",
     "output_type": "stream",
     "text": [
      "44    400\n",
      "45    399\n",
      "49    388\n",
      "47    386\n",
      "48    381\n",
      "46    380\n",
      "43    366\n",
      "50    363\n",
      "42    339\n",
      "51    321\n",
      "41    303\n",
      "52    302\n",
      "53    295\n",
      "40    290\n",
      "39    271\n",
      "54    255\n",
      "38    239\n",
      "55    217\n",
      "37    214\n",
      "56    197\n",
      "36    183\n",
      "57    179\n",
      "35    154\n",
      "59    132\n",
      "58    132\n",
      "34    115\n",
      "60    102\n",
      "33    101\n",
      "32     83\n",
      "62     79\n",
      "65     78\n",
      "61     74\n",
      "31     72\n",
      "26     64\n",
      "30     56\n",
      "63     52\n",
      "29     49\n",
      "64     33\n",
      "27     26\n",
      "28     24\n",
      "66      2\n",
      "68      2\n",
      "70      1\n",
      "73      1\n",
      "67      1\n",
      "Name: Customer_Age, dtype: int64\n",
      "3    2206\n",
      "2    2089\n",
      "1    1491\n",
      "4    1246\n",
      "0     732\n",
      "5     337\n",
      "Name: Dependent_count, dtype: int64\n",
      "36    1975\n",
      "37     285\n",
      "39     280\n",
      "38     278\n",
      "40     274\n",
      "34     273\n",
      "30     255\n",
      "33     250\n",
      "31     248\n",
      "35     248\n",
      "32     232\n",
      "41     229\n",
      "42     216\n",
      "28     216\n",
      "43     215\n",
      "29     194\n",
      "45     179\n",
      "44     175\n",
      "27     163\n",
      "46     155\n",
      "26     140\n",
      "47     135\n",
      "48     135\n",
      "25     129\n",
      "24     125\n",
      "49     113\n",
      "23      93\n",
      "22      88\n",
      "56      80\n",
      "50      78\n",
      "21      71\n",
      "51      64\n",
      "53      62\n",
      "20      60\n",
      "19      56\n",
      "13      56\n",
      "52      55\n",
      "18      47\n",
      "54      46\n",
      "17      33\n",
      "55      31\n",
      "15      30\n",
      "16      24\n",
      "14      10\n",
      "Name: Months_on_book, dtype: int64\n",
      "3    1825\n",
      "4    1535\n",
      "5    1527\n",
      "6    1475\n",
      "2    1011\n",
      "1     728\n",
      "Name: Total_Relationship_Count, dtype: int64\n",
      "3    3070\n",
      "2    2619\n",
      "1    1777\n",
      "4     371\n",
      "5     140\n",
      "6     101\n",
      "0      23\n",
      "Name: Months_Inactive_12_mon, dtype: int64\n",
      "3    2715\n",
      "2    2608\n",
      "1    1178\n",
      "4    1105\n",
      "0     307\n",
      "5     151\n",
      "6      37\n",
      "Name: Contacts_Count_12_mon, dtype: int64\n",
      "34516.0    411\n",
      "1438.3     409\n",
      "9959.0      13\n",
      "15987.0     13\n",
      "23981.0     10\n",
      "          ... \n",
      "4461.0       1\n",
      "6062.0       1\n",
      "14365.0      1\n",
      "13655.0      1\n",
      "32222.0      1\n",
      "Name: Credit_Limit, Length: 5267, dtype: int64\n",
      "0       1993\n",
      "2517     392\n",
      "1175      10\n",
      "1664      10\n",
      "1794       9\n",
      "        ... \n",
      "782        1\n",
      "2466       1\n",
      "2462       1\n",
      "411        1\n",
      "819        1\n",
      "Name: Total_Revolving_Bal, Length: 1894, dtype: int64\n",
      "1438.3     256\n",
      "34516.0     80\n",
      "31999.0     22\n",
      "701.0        7\n",
      "463.0        7\n",
      "          ... \n",
      "1325.0       1\n",
      "2153.0       1\n",
      "31581.0      1\n",
      "6691.0       1\n",
      "32222.0      1\n",
      "Name: Avg_Open_To_Buy, Length: 5780, dtype: int64\n",
      "0.718    28\n",
      "0.693    28\n",
      "0.703    27\n",
      "0.722    27\n",
      "0.791    27\n",
      "         ..\n",
      "1.724     1\n",
      "1.566     1\n",
      "0.389     1\n",
      "1.524     1\n",
      "0.299     1\n",
      "Name: Total_Amt_Chng_Q4_Q1, Length: 1091, dtype: int64\n",
      "4498     9\n",
      "4253     9\n",
      "4509     9\n",
      "4518     8\n",
      "4037     8\n",
      "        ..\n",
      "8938     1\n",
      "2795     1\n",
      "4844     1\n",
      "12192    1\n",
      "8192     1\n",
      "Name: Total_Trans_Amt, Length: 4507, dtype: int64\n",
      "81     172\n",
      "69     164\n",
      "78     163\n",
      "75     160\n",
      "76     159\n",
      "      ... \n",
      "11       2\n",
      "10       2\n",
      "138      1\n",
      "134      1\n",
      "132      1\n",
      "Name: Total_Trans_Ct, Length: 125, dtype: int64\n",
      "0.667    140\n",
      "0.500    131\n",
      "1.000    128\n",
      "0.750    123\n",
      "0.600     89\n",
      "        ... \n",
      "0.038      1\n",
      "0.172      1\n",
      "0.347      1\n",
      "1.206      1\n",
      "1.086      1\n",
      "Name: Total_Ct_Chng_Q4_Q1, Length: 796, dtype: int64\n",
      "0.000    1993\n",
      "0.073      36\n",
      "0.048      29\n",
      "0.057      28\n",
      "0.061      26\n",
      "         ... \n",
      "0.427       1\n",
      "0.627       1\n",
      "0.335       1\n",
      "0.992       1\n",
      "0.005       1\n",
      "Name: Avg_Utilization_Ratio, Length: 949, dtype: int64\n",
      "0    6799\n",
      "1    1302\n",
      "Name: Attrition_Flag, dtype: int64\n"
     ]
    }
   ],
   "source": [
    "for col in train.loc[:,train.dtypes!='object'].columns:\n",
    "    print(train[col].value_counts())"
   ]
  },
  {
   "cell_type": "markdown",
   "metadata": {},
   "source": [
    "수치형 변수와 문자형 변수 값의 종류를 보면 수치형 변수의 결측치는 없는 반면, **문자형 변수에는 결측치를 unknown이라는 값으로 채운 것**으로 보인다.  \n",
    "따라서 이 값을 우선 np.nan값으로 수정한다."
   ]
  },
  {
   "cell_type": "code",
   "execution_count": 15,
   "metadata": {},
   "outputs": [],
   "source": [
    "# unknown을 np.nan으로 대체\n",
    "train.replace('Unknown',np.nan,inplace=True)"
   ]
  },
  {
   "cell_type": "code",
   "execution_count": 16,
   "metadata": {
    "scrolled": false
   },
   "outputs": [
    {
     "name": "stdout",
     "output_type": "stream",
     "text": [
      "<class 'pandas.core.frame.DataFrame'>\n",
      "RangeIndex: 8101 entries, 0 to 8100\n",
      "Data columns (total 20 columns):\n",
      " #   Column                    Non-Null Count  Dtype  \n",
      "---  ------                    --------------  -----  \n",
      " 0   Customer_Age              8101 non-null   int64  \n",
      " 1   Gender                    8101 non-null   object \n",
      " 2   Dependent_count           8101 non-null   int64  \n",
      " 3   Education_Level           6881 non-null   object \n",
      " 4   Marital_Status            7517 non-null   object \n",
      " 5   Income_Category           7214 non-null   object \n",
      " 6   Card_Category             8101 non-null   object \n",
      " 7   Months_on_book            8101 non-null   int64  \n",
      " 8   Total_Relationship_Count  8101 non-null   int64  \n",
      " 9   Months_Inactive_12_mon    8101 non-null   int64  \n",
      " 10  Contacts_Count_12_mon     8101 non-null   int64  \n",
      " 11  Credit_Limit              8101 non-null   float64\n",
      " 12  Total_Revolving_Bal       8101 non-null   int64  \n",
      " 13  Avg_Open_To_Buy           8101 non-null   float64\n",
      " 14  Total_Amt_Chng_Q4_Q1      8101 non-null   float64\n",
      " 15  Total_Trans_Amt           8101 non-null   int64  \n",
      " 16  Total_Trans_Ct            8101 non-null   int64  \n",
      " 17  Total_Ct_Chng_Q4_Q1       8101 non-null   float64\n",
      " 18  Avg_Utilization_Ratio     8101 non-null   float64\n",
      " 19  Attrition_Flag            8101 non-null   int64  \n",
      "dtypes: float64(5), int64(10), object(5)\n",
      "memory usage: 1.2+ MB\n"
     ]
    }
   ],
   "source": [
    "train.info()"
   ]
  },
  {
   "cell_type": "markdown",
   "metadata": {},
   "source": [
    "결측치는 Education_Level, Income_Category, Marital_Status, 총 3개의 변수 안에 있다.\n",
    "- 1) 순위를 지정할 수 없다면 원핫인코딩으로 자동으로 결측치를 처리하고\n",
    "- 2) 순위를 지정할 수 있다면 수치형변수로 변환하여 KNNImputer로 결측치를 채운다.\n",
    "\n",
    "순위 지정 가능 변수: Education_Level, Income_Category  \n",
    "순위 지정 불가능 변수: Marital_Status, Card_Category, Gender (Card_Category, Gender는 결측치는 없으나 수치형으로 결국 바꿔줘야함.)  \n",
    "\n",
    "Gender는 0,1로 값을 바꿔주면 되지만 Marital_Status와 Card_Category의 경우, 원핫인코딩을 하게 될 경우, 범주의 수만큼 컬럼 수가 늘어나게 된다. 따라서, 두 변수의 이탈률을 시각화하여 집단화의 가능성을 파악하고 가능하다면 범주의 집단화를 통해 차원의 저주 문제를 최소화하는 것이 바람직해 보인다."
   ]
  },
  {
   "cell_type": "markdown",
   "metadata": {},
   "source": [
    "### 변수의 이탈률 시각화"
   ]
  },
  {
   "cell_type": "code",
   "execution_count": 17,
   "metadata": {
    "scrolled": false
   },
   "outputs": [
    {
     "name": "stdout",
     "output_type": "stream",
     "text": [
      "Blue        16.141002\n",
      "Silver      13.968958\n",
      "Gold        18.888889\n",
      "Platinum    28.571429\n",
      "Name: Card_Category, dtype: float64\n",
      "Blue        7546\n",
      "Silver       451\n",
      "Gold          90\n",
      "Platinum      14\n",
      "Name: Card_Category, dtype: int64\n"
     ]
    },
    {
     "data": {
      "image/png": "[encoded data removed]",
      "text/plain": [
       "<Figure size 864x576 with 1 Axes>"
      ]
     },
     "metadata": {},
     "output_type": "display_data"
    }
   ],
   "source": [
    "plt.style.use('seaborn') # matplotlib 테마\n",
    "plt.rc('font', family='Malgun Gothic') # 그래프에서 한글 깨지는 현상 방지\n",
    "plt.rc('axes', unicode_minus=False) # 그래프에서 마이너스 기호가 표시되도록\n",
    "\n",
    "df=train[train['Attrition_Flag']==1]['Card_Category'].value_counts()\n",
    "total=train['Card_Category'].value_counts()\n",
    "\n",
    "ratio=(df/total)*100\n",
    "print(ratio)\n",
    "print(total)\n",
    "\n",
    "# 업무 부서별 퇴직률 시각화\n",
    "ax=ratio.plot(kind='bar',width=0.7,color=['lightskyblue','lightsteelblue','steelblue','blue'],figsize=(12,8))\n",
    "ax.set_title('카드별 이탈률',size=20)\n",
    "ax.set_xticklabels(ratio.index,rotation=0)\n",
    "ax.set_xlabel('카드 종류',fontsize=12)\n",
    "ax.set_ylabel('이탈률(%)',size='large')\n",
    "\n",
    "for i in range(4):\n",
    "    plt.text(i, ratio[i], \"%0.1f%%\"%ratio[i], fontsize = 13, horizontalalignment='center', verticalalignment='bottom')"
   ]
  },
  {
   "cell_type": "markdown",
   "metadata": {},
   "source": [
    "Blue, Silver / Gold, Platinum 이렇게 두 범주로 나누어 볼 수 있을 것 같으나 일단 원핫인코딩을 하고, 추후에 히트맵으로 변수간 상관관계를 확인한 후 집단화하도록 한다."
   ]
  },
  {
   "cell_type": "code",
   "execution_count": 18,
   "metadata": {},
   "outputs": [
    {
     "name": "stdout",
     "output_type": "stream",
     "text": [
      "Married     15.070686\n",
      "Single      16.988906\n",
      "Divorced    16.639478\n",
      "Name: Marital_Status, dtype: float64\n",
      "Married     3749\n",
      "Single      3155\n",
      "Divorced     613\n",
      "Name: Marital_Status, dtype: int64\n"
     ]
    },
    {
     "data": {
      "image/png": "[encoded data removed]",
      "text/plain": [
       "<Figure size 864x576 with 1 Axes>"
      ]
     },
     "metadata": {},
     "output_type": "display_data"
    }
   ],
   "source": [
    "df=train[train['Attrition_Flag']==1]['Marital_Status'].value_counts()\n",
    "total=train['Marital_Status'].value_counts()\n",
    "\n",
    "ratio=(df/total)*100\n",
    "print(ratio)\n",
    "print(total)\n",
    "\n",
    "# 업무 부서별 퇴직률 시각화\n",
    "ax=ratio.plot(kind='bar',width=0.7,color=['burlywood','bisque','goldenrod'],figsize=(12,8))\n",
    "ax.set_title('결혼 상태별 이탈률',size=20)\n",
    "ax.set_xticklabels(ratio.index,rotation=0)\n",
    "ax.set_xlabel('결혼 상태',fontsize=12)\n",
    "ax.set_ylabel('이탈률(%)',size='large')\n",
    "\n",
    "for i in range(3):\n",
    "    plt.text(i, ratio[i], \"%0.1f%%\"%ratio[i], fontsize = 13, horizontalalignment='center', verticalalignment='bottom')"
   ]
  },
  {
   "cell_type": "markdown",
   "metadata": {},
   "source": [
    "이혼한 사람의 카드 이탈률과 싱글인 사람의 이탈률이 큰 차이가 없으며 이혼상태 또한 싱글에 포함되된다. 따라서, 이혼상태를 싱글로 바꾸어주고 하나의 열로 married와 single을 각각 1,0으로 값을 부여하는 것이 합당해보인다. 이 또한 1차적인 데이터 전처리를 완료한 후에 집단화하도록 한다. "
   ]
  },
  {
   "cell_type": "code",
   "execution_count": 19,
   "metadata": {},
   "outputs": [],
   "source": [
    "# 0,1로 변환 가능한 Gender변수와 문자형 변수이지만 순위를 부여할 수 있는 Education_Level, Income_Category 열은 수치형변수로 변환\n",
    "train.Gender=train.Gender.map({'F':0,'M':1})\n",
    "train.Education_Level=train.Education_Level.map({'Uneducated':0, 'High School':1, 'College':2, 'Graduate':3,\n",
    "                                                 'Post-Graduate':4, 'Doctorate':5})\n",
    "train.Income_Category=train.Income_Category.map({'Less than $40K':0,'$40K - $60K':1, '$60K - $80K':2, '$80K - $120K':3, '$120K +':4})"
   ]
  },
  {
   "cell_type": "code",
   "execution_count": 20,
   "metadata": {},
   "outputs": [
    {
     "data": {
      "text/html": [
       "<div>\n",
       "<style scoped>\n",
       "    .dataframe tbody tr th:only-of-type {\n",
       "        vertical-align: middle;\n",
       "    }\n",
       "\n",
       "    .dataframe tbody tr th {\n",
       "        vertical-align: top;\n",
       "    }\n",
       "\n",
       "    .dataframe thead th {\n",
       "        text-align: right;\n",
       "    }\n",
       "</style>\n",
       "<table border=\"1\" class=\"dataframe\">\n",
       "  <thead>\n",
       "    <tr style=\"text-align: right;\">\n",
       "      <th></th>\n",
       "      <th>Customer_Age</th>\n",
       "      <th>Gender</th>\n",
       "      <th>Dependent_count</th>\n",
       "      <th>Education_Level</th>\n",
       "      <th>Marital_Status</th>\n",
       "      <th>Income_Category</th>\n",
       "      <th>Card_Category</th>\n",
       "      <th>Months_on_book</th>\n",
       "      <th>Total_Relationship_Count</th>\n",
       "      <th>Months_Inactive_12_mon</th>\n",
       "      <th>Contacts_Count_12_mon</th>\n",
       "      <th>Credit_Limit</th>\n",
       "      <th>Total_Revolving_Bal</th>\n",
       "      <th>Avg_Open_To_Buy</th>\n",
       "      <th>Total_Amt_Chng_Q4_Q1</th>\n",
       "      <th>Total_Trans_Amt</th>\n",
       "      <th>Total_Trans_Ct</th>\n",
       "      <th>Total_Ct_Chng_Q4_Q1</th>\n",
       "      <th>Avg_Utilization_Ratio</th>\n",
       "      <th>Attrition_Flag</th>\n",
       "    </tr>\n",
       "  </thead>\n",
       "  <tbody>\n",
       "    <tr>\n",
       "      <th>0</th>\n",
       "      <td>44</td>\n",
       "      <td>0</td>\n",
       "      <td>1</td>\n",
       "      <td>NaN</td>\n",
       "      <td>Divorced</td>\n",
       "      <td>NaN</td>\n",
       "      <td>Blue</td>\n",
       "      <td>36</td>\n",
       "      <td>3</td>\n",
       "      <td>2</td>\n",
       "      <td>1</td>\n",
       "      <td>17116.0</td>\n",
       "      <td>1289</td>\n",
       "      <td>15827.0</td>\n",
       "      <td>0.559</td>\n",
       "      <td>3632</td>\n",
       "      <td>50</td>\n",
       "      <td>0.923</td>\n",
       "      <td>0.075</td>\n",
       "      <td>0</td>\n",
       "    </tr>\n",
       "    <tr>\n",
       "      <th>1</th>\n",
       "      <td>42</td>\n",
       "      <td>1</td>\n",
       "      <td>3</td>\n",
       "      <td>0.0</td>\n",
       "      <td>Single</td>\n",
       "      <td>2.0</td>\n",
       "      <td>Blue</td>\n",
       "      <td>30</td>\n",
       "      <td>4</td>\n",
       "      <td>2</td>\n",
       "      <td>3</td>\n",
       "      <td>8302.0</td>\n",
       "      <td>1294</td>\n",
       "      <td>7008.0</td>\n",
       "      <td>0.558</td>\n",
       "      <td>3221</td>\n",
       "      <td>66</td>\n",
       "      <td>0.610</td>\n",
       "      <td>0.156</td>\n",
       "      <td>0</td>\n",
       "    </tr>\n",
       "    <tr>\n",
       "      <th>2</th>\n",
       "      <td>57</td>\n",
       "      <td>1</td>\n",
       "      <td>0</td>\n",
       "      <td>0.0</td>\n",
       "      <td>Divorced</td>\n",
       "      <td>3.0</td>\n",
       "      <td>Blue</td>\n",
       "      <td>39</td>\n",
       "      <td>4</td>\n",
       "      <td>4</td>\n",
       "      <td>3</td>\n",
       "      <td>2795.0</td>\n",
       "      <td>1832</td>\n",
       "      <td>963.0</td>\n",
       "      <td>0.839</td>\n",
       "      <td>4679</td>\n",
       "      <td>67</td>\n",
       "      <td>0.861</td>\n",
       "      <td>0.655</td>\n",
       "      <td>0</td>\n",
       "    </tr>\n",
       "    <tr>\n",
       "      <th>3</th>\n",
       "      <td>26</td>\n",
       "      <td>0</td>\n",
       "      <td>1</td>\n",
       "      <td>3.0</td>\n",
       "      <td>Single</td>\n",
       "      <td>1.0</td>\n",
       "      <td>Blue</td>\n",
       "      <td>20</td>\n",
       "      <td>6</td>\n",
       "      <td>3</td>\n",
       "      <td>3</td>\n",
       "      <td>1438.3</td>\n",
       "      <td>673</td>\n",
       "      <td>765.3</td>\n",
       "      <td>0.595</td>\n",
       "      <td>2167</td>\n",
       "      <td>48</td>\n",
       "      <td>0.412</td>\n",
       "      <td>0.468</td>\n",
       "      <td>0</td>\n",
       "    </tr>\n",
       "    <tr>\n",
       "      <th>4</th>\n",
       "      <td>38</td>\n",
       "      <td>0</td>\n",
       "      <td>0</td>\n",
       "      <td>0.0</td>\n",
       "      <td>Married</td>\n",
       "      <td>0.0</td>\n",
       "      <td>Blue</td>\n",
       "      <td>26</td>\n",
       "      <td>5</td>\n",
       "      <td>1</td>\n",
       "      <td>4</td>\n",
       "      <td>2230.0</td>\n",
       "      <td>0</td>\n",
       "      <td>2230.0</td>\n",
       "      <td>0.896</td>\n",
       "      <td>3766</td>\n",
       "      <td>63</td>\n",
       "      <td>0.909</td>\n",
       "      <td>0.000</td>\n",
       "      <td>0</td>\n",
       "    </tr>\n",
       "  </tbody>\n",
       "</table>\n",
       "</div>"
      ],
      "text/plain": [
       "   Customer_Age  Gender  Dependent_count  Education_Level Marital_Status  \\\n",
       "0            44       0                1              NaN       Divorced   \n",
       "1            42       1                3              0.0         Single   \n",
       "2            57       1                0              0.0       Divorced   \n",
       "3            26       0                1              3.0         Single   \n",
       "4            38       0                0              0.0        Married   \n",
       "\n",
       "   Income_Category Card_Category  Months_on_book  Total_Relationship_Count  \\\n",
       "0              NaN          Blue              36                         3   \n",
       "1              2.0          Blue              30                         4   \n",
       "2              3.0          Blue              39                         4   \n",
       "3              1.0          Blue              20                         6   \n",
       "4              0.0          Blue              26                         5   \n",
       "\n",
       "   Months_Inactive_12_mon  Contacts_Count_12_mon  Credit_Limit  \\\n",
       "0                       2                      1       17116.0   \n",
       "1                       2                      3        8302.0   \n",
       "2                       4                      3        2795.0   \n",
       "3                       3                      3        1438.3   \n",
       "4                       1                      4        2230.0   \n",
       "\n",
       "   Total_Revolving_Bal  Avg_Open_To_Buy  Total_Amt_Chng_Q4_Q1  \\\n",
       "0                 1289          15827.0                 0.559   \n",
       "1                 1294           7008.0                 0.558   \n",
       "2                 1832            963.0                 0.839   \n",
       "3                  673            765.3                 0.595   \n",
       "4                    0           2230.0                 0.896   \n",
       "\n",
       "   Total_Trans_Amt  Total_Trans_Ct  Total_Ct_Chng_Q4_Q1  \\\n",
       "0             3632              50                0.923   \n",
       "1             3221              66                0.610   \n",
       "2             4679              67                0.861   \n",
       "3             2167              48                0.412   \n",
       "4             3766              63                0.909   \n",
       "\n",
       "   Avg_Utilization_Ratio  Attrition_Flag  \n",
       "0                  0.075               0  \n",
       "1                  0.156               0  \n",
       "2                  0.655               0  \n",
       "3                  0.468               0  \n",
       "4                  0.000               0  "
      ]
     },
     "execution_count": 20,
     "metadata": {},
     "output_type": "execute_result"
    }
   ],
   "source": [
    "train.head()"
   ]
  },
  {
   "cell_type": "code",
   "execution_count": 21,
   "metadata": {
    "scrolled": false
   },
   "outputs": [
    {
     "name": "stdout",
     "output_type": "stream",
     "text": [
      "<class 'pandas.core.frame.DataFrame'>\n",
      "RangeIndex: 8101 entries, 0 to 8100\n",
      "Data columns (total 25 columns):\n",
      " #   Column                    Non-Null Count  Dtype  \n",
      "---  ------                    --------------  -----  \n",
      " 0   Customer_Age              8101 non-null   int64  \n",
      " 1   Gender                    8101 non-null   int64  \n",
      " 2   Dependent_count           8101 non-null   int64  \n",
      " 3   Education_Level           6881 non-null   float64\n",
      " 4   Income_Category           7214 non-null   float64\n",
      " 5   Months_on_book            8101 non-null   int64  \n",
      " 6   Total_Relationship_Count  8101 non-null   int64  \n",
      " 7   Months_Inactive_12_mon    8101 non-null   int64  \n",
      " 8   Contacts_Count_12_mon     8101 non-null   int64  \n",
      " 9   Credit_Limit              8101 non-null   float64\n",
      " 10  Total_Revolving_Bal       8101 non-null   int64  \n",
      " 11  Avg_Open_To_Buy           8101 non-null   float64\n",
      " 12  Total_Amt_Chng_Q4_Q1      8101 non-null   float64\n",
      " 13  Total_Trans_Amt           8101 non-null   int64  \n",
      " 14  Total_Trans_Ct            8101 non-null   int64  \n",
      " 15  Total_Ct_Chng_Q4_Q1       8101 non-null   float64\n",
      " 16  Avg_Utilization_Ratio     8101 non-null   float64\n",
      " 17  Attrition_Flag            8101 non-null   int64  \n",
      " 18  Marital_Status_Divorced   8101 non-null   uint8  \n",
      " 19  Marital_Status_Married    8101 non-null   uint8  \n",
      " 20  Marital_Status_Single     8101 non-null   uint8  \n",
      " 21  Card_Category_Blue        8101 non-null   uint8  \n",
      " 22  Card_Category_Gold        8101 non-null   uint8  \n",
      " 23  Card_Category_Platinum    8101 non-null   uint8  \n",
      " 24  Card_Category_Silver      8101 non-null   uint8  \n",
      "dtypes: float64(7), int64(11), uint8(7)\n",
      "memory usage: 1.2 MB\n"
     ]
    }
   ],
   "source": [
    "# Card_Category와 Marital_Status 열은 원핫인코딩을 진행 (+ 자동적으로 Marital_Status의 결측치 처리)\n",
    "import pandas as pd\n",
    "train=pd.get_dummies(train)\n",
    "train.info()"
   ]
  },
  {
   "cell_type": "markdown",
   "metadata": {},
   "source": [
    "* Education_Level, Income_Category 열에 있는 결측치는 **KNNImputer를 통해 결측치 처리**해주기\n",
    "* 최적의 k값 찾기"
   ]
  },
  {
   "cell_type": "code",
   "execution_count": 26,
   "metadata": {},
   "outputs": [
    {
     "data": {
      "text/plain": [
       "[{'K': 1, 'logloss': 0.8949047517259119},\n",
       " {'K': 3, 'logloss': 0.8522910853518271},\n",
       " {'K': 5, 'logloss': 0.8949047517259119},\n",
       " {'K': 7, 'logloss': 0.9375184180999965},\n",
       " {'K': 9, 'logloss': 0.8949042584517415}]"
      ]
     },
     "execution_count": 26,
     "metadata": {},
     "output_type": "execute_result"
    }
   ],
   "source": [
    "from sklearn.impute import KNNImputer\n",
    "from sklearn.metrics import log_loss\n",
    "from sklearn.model_selection import train_test_split\n",
    "from lightgbm import LGBMClassifier\n",
    "\n",
    "def optimize_k(data, target):\n",
    "    errors = []\n",
    "    for k in range(1, 10, 2):\n",
    "        imputer = KNNImputer(n_neighbors=k)\n",
    "        imputed = imputer.fit_transform(data)\n",
    "        df_imputed = pd.DataFrame(imputed, columns=train.columns)\n",
    "        \n",
    "        X = df_imputed.drop(target, axis=1)\n",
    "        y = df_imputed[target]\n",
    "        X_train, X_test, y_train, y_test = train_test_split(X, y, test_size=0.2, random_state=42)\n",
    "\n",
    "        model = LGBMClassifier()\n",
    "        model.fit(X_train, y_train)\n",
    "        preds = model.predict(X_test)\n",
    "        loss = log_loss(y_test, preds)\n",
    "        errors.append({'K': k, 'logloss': loss})\n",
    "        \n",
    "    return errors\n",
    "\n",
    "k=optimize_k(data=train,target='Attrition_Flag')\n",
    "k"
   ]
  },
  {
   "cell_type": "code",
   "execution_count": 27,
   "metadata": {},
   "outputs": [
    {
     "name": "stdout",
     "output_type": "stream",
     "text": [
      "<class 'pandas.core.frame.DataFrame'>\n",
      "RangeIndex: 8101 entries, 0 to 8100\n",
      "Data columns (total 25 columns):\n",
      " #   Column                    Non-Null Count  Dtype  \n",
      "---  ------                    --------------  -----  \n",
      " 0   Education_Level           8101 non-null   float64\n",
      " 1   Income_Category           8101 non-null   float64\n",
      " 2   Customer_Age              8101 non-null   int64  \n",
      " 3   Gender                    8101 non-null   int64  \n",
      " 4   Dependent_count           8101 non-null   int64  \n",
      " 5   Months_on_book            8101 non-null   int64  \n",
      " 6   Total_Relationship_Count  8101 non-null   int64  \n",
      " 7   Months_Inactive_12_mon    8101 non-null   int64  \n",
      " 8   Contacts_Count_12_mon     8101 non-null   int64  \n",
      " 9   Credit_Limit              8101 non-null   float64\n",
      " 10  Total_Revolving_Bal       8101 non-null   int64  \n",
      " 11  Avg_Open_To_Buy           8101 non-null   float64\n",
      " 12  Total_Amt_Chng_Q4_Q1      8101 non-null   float64\n",
      " 13  Total_Trans_Amt           8101 non-null   int64  \n",
      " 14  Total_Trans_Ct            8101 non-null   int64  \n",
      " 15  Total_Ct_Chng_Q4_Q1       8101 non-null   float64\n",
      " 16  Avg_Utilization_Ratio     8101 non-null   float64\n",
      " 17  Attrition_Flag            8101 non-null   int64  \n",
      " 18  Marital_Status_Divorced   8101 non-null   uint8  \n",
      " 19  Marital_Status_Married    8101 non-null   uint8  \n",
      " 20  Marital_Status_Single     8101 non-null   uint8  \n",
      " 21  Card_Category_Blue        8101 non-null   uint8  \n",
      " 22  Card_Category_Gold        8101 non-null   uint8  \n",
      " 23  Card_Category_Platinum    8101 non-null   uint8  \n",
      " 24  Card_Category_Silver      8101 non-null   uint8  \n",
      "dtypes: float64(7), int64(11), uint8(7)\n",
      "memory usage: 1.2 MB\n"
     ]
    }
   ],
   "source": [
    "from sklearn.impute import KNNImputer\n",
    "imputer=KNNImputer(n_neighbors=3)\n",
    "\n",
    "# filled_train_but_heavy는 자료형태가 모두 float로 통일되기에 이전보다 메모리 사용량이 0.3MB 정도 커짐. \n",
    "# 따라서 해당 열만 추출해서 원래 데이터 프레임과 합칠 예정\n",
    "filled_train_but_heavy=pd.DataFrame(imputer.fit_transform(train),columns=train.columns)\n",
    "filled_cols=filled_train_but_heavy[['Education_Level','Income_Category']]\n",
    "\n",
    "train.drop(['Education_Level','Income_Category'],axis=1,inplace=True)\n",
    "train=pd.concat([filled_cols,train],axis=1)\n",
    "train.info()"
   ]
  },
  {
   "cell_type": "markdown",
   "metadata": {},
   "source": [
    "* 이로써 결측치는 모두 처리함.\n",
    "* **추후에 최종적으로 선택하게될 모델의 성능을 비교하며 knnimputer에서 최적의 k값을 찾을 예정**"
   ]
  },
  {
   "cell_type": "code",
   "execution_count": 28,
   "metadata": {},
   "outputs": [
    {
     "data": {
      "text/plain": [
       "<AxesSubplot:>"
      ]
     },
     "execution_count": 28,
     "metadata": {},
     "output_type": "execute_result"
    },
    {
     "data": {
      "image/png": "[encoded data removed]",
      "text/plain": [
       "<Figure size 1440x1224 with 2 Axes>"
      ]
     },
     "metadata": {},
     "output_type": "display_data"
    }
   ],
   "source": [
    "import seaborn as sns\n",
    "plt.figure(figsize=(20,17))\n",
    "sns.heatmap(train.corr(),cmap='YlGnBu',annot=True)"
   ]
  },
  {
   "cell_type": "markdown",
   "metadata": {},
   "source": [
    "1. 위 상관관계 히트맵을 보면 타겟값인 Attrition_Flag와 상관관계가 있는 변수는 상관계수가 -0.37인 Total_Trans_Ct로, 총 거래 횟수가 적을수록 고객이탈이 커진다는 것을 확인할 수 있다.\n",
    "\n",
    "\n",
    "2. Card_Category_Silver, Card_Category_Blue열이 -0.9로 음의 상관관계가 매우 높은데 원핫인코딩된 것을 고려하면 다른 카드 종류에 대해 두 열이 0인 값을 가지는 것을 제외하면 실버카드 이용자와 블루카드 이용자는 거의 완벽하게 분리된다고 볼 수 있다. 이후 다중공선성 문제를 고려하여 실버카드 열을 드랍하고 블루카드 열 이름을 Card_Category_SB로 바꾸는 것이 좋아보인다. 또한, 위 변수별 이탈률을 시각화한 것에서 두개의 범주로 나누고자 했으나 정보의 유실이 생길 것 같아 일단은 silver와 blue, gold, 그리고 platinum으로 세 개의 집단으로 나누도록 하자.\n",
    "\n",
    "\n",
    "3. Marital_Status는 이혼상태에 따른 고객 이탈에 있어 특이점을 찾을 수 없으므로 기혼과 미혼으로만 원핫인코딩을 하도록 한다.\n",
    "\n",
    "\n",
    "4. 근 1년간 활동한 횟수와 총 거래 횟수, 은행 상품을 이용한 총 개월 수, 세 개의 변수를 조합해서 **월평균 거래 횟수 대비 최근 1년간 월평균 활동한 횟수**라는 새로운 파생변수를 생성해보도록 한다"
   ]
  },
  {
   "cell_type": "markdown",
   "metadata": {},
   "source": [
    "**2,3번 정리하면 Marital_Status_Single, Marital_Status_Divorced, Card_Category_Silver 세 개 열을 드랍하고 열 이름을 수정해준다.**"
   ]
  },
  {
   "cell_type": "code",
   "execution_count": 29,
   "metadata": {},
   "outputs": [],
   "source": [
    "# Marital_Status_Single, Marital_Status_Divorced, Card_Category_Silver 세 개 열을 드랍하고 열 이름을 수정\n",
    "train.drop(['Marital_Status_Single','Marital_Status_Divorced','Card_Category_Silver'],axis=1, inplace=True)\n",
    "train.rename(columns={'Marital_Status_Married':'Maried_Status','Card_Category_Blue':'Card_Category_SB'},inplace=True)"
   ]
  },
  {
   "cell_type": "code",
   "execution_count": 30,
   "metadata": {
    "scrolled": false
   },
   "outputs": [
    {
     "name": "stdout",
     "output_type": "stream",
     "text": [
      "<class 'pandas.core.frame.DataFrame'>\n",
      "RangeIndex: 8101 entries, 0 to 8100\n",
      "Data columns (total 22 columns):\n",
      " #   Column                    Non-Null Count  Dtype  \n",
      "---  ------                    --------------  -----  \n",
      " 0   Education_Level           8101 non-null   float64\n",
      " 1   Income_Category           8101 non-null   float64\n",
      " 2   Customer_Age              8101 non-null   int64  \n",
      " 3   Gender                    8101 non-null   int64  \n",
      " 4   Dependent_count           8101 non-null   int64  \n",
      " 5   Months_on_book            8101 non-null   int64  \n",
      " 6   Total_Relationship_Count  8101 non-null   int64  \n",
      " 7   Months_Inactive_12_mon    8101 non-null   int64  \n",
      " 8   Contacts_Count_12_mon     8101 non-null   int64  \n",
      " 9   Credit_Limit              8101 non-null   float64\n",
      " 10  Total_Revolving_Bal       8101 non-null   int64  \n",
      " 11  Avg_Open_To_Buy           8101 non-null   float64\n",
      " 12  Total_Amt_Chng_Q4_Q1      8101 non-null   float64\n",
      " 13  Total_Trans_Amt           8101 non-null   int64  \n",
      " 14  Total_Trans_Ct            8101 non-null   int64  \n",
      " 15  Total_Ct_Chng_Q4_Q1       8101 non-null   float64\n",
      " 16  Avg_Utilization_Ratio     8101 non-null   float64\n",
      " 17  Attrition_Flag            8101 non-null   int64  \n",
      " 18  Maried_Status             8101 non-null   uint8  \n",
      " 19  Card_Category_SB          8101 non-null   uint8  \n",
      " 20  Card_Category_Gold        8101 non-null   uint8  \n",
      " 21  Card_Category_Platinum    8101 non-null   uint8  \n",
      "dtypes: float64(7), int64(11), uint8(4)\n",
      "memory usage: 1.1 MB\n"
     ]
    }
   ],
   "source": [
    "train.info()"
   ]
  },
  {
   "cell_type": "markdown",
   "metadata": {},
   "source": [
    "**4번: 파생변수 생성**  \n",
    "\n",
    "Contacts_Count_12_mon, Total_Trans_Ct, Months_on_book으로 \"평균 거래 횟수 대비 최근 1년간 활동한 횟수\"라는 새로운 파생변수를 생성한다. 추후에 성능을 비교하며 필요하다면 파생변수 생성에 쓰인 열은 드랍하도록 한다.  \n",
    "\n",
    "- Avg_Contacts_ratio(지정할 파생변수명) = Contacts_Count_12_mon / (Total_Trans_Ct/Months_on_book)"
   ]
  },
  {
   "cell_type": "code",
   "execution_count": 31,
   "metadata": {},
   "outputs": [],
   "source": [
    "train['Avg_Contacts_ratio']=(train['Contacts_Count_12_mon']/12)/(train['Total_Trans_Ct']/train['Months_on_book'])"
   ]
  },
  {
   "cell_type": "code",
   "execution_count": 32,
   "metadata": {},
   "outputs": [
    {
     "data": {
      "text/plain": [
       "<matplotlib.collections.PathCollection at 0x1dc1f2f4d60>"
      ]
     },
     "execution_count": 32,
     "metadata": {},
     "output_type": "execute_result"
    },
    {
     "data": {
      "image/png": "[encoded data removed]",
      "text/plain": [
       "<Figure size 576x396 with 1 Axes>"
      ]
     },
     "metadata": {},
     "output_type": "display_data"
    }
   ],
   "source": [
    "plt.scatter(train['Avg_Contacts_ratio'],train['Attrition_Flag'])"
   ]
  },
  {
   "cell_type": "code",
   "execution_count": 33,
   "metadata": {},
   "outputs": [
    {
     "data": {
      "text/html": [
       "<div>\n",
       "<style scoped>\n",
       "    .dataframe tbody tr th:only-of-type {\n",
       "        vertical-align: middle;\n",
       "    }\n",
       "\n",
       "    .dataframe tbody tr th {\n",
       "        vertical-align: top;\n",
       "    }\n",
       "\n",
       "    .dataframe thead th {\n",
       "        text-align: right;\n",
       "    }\n",
       "</style>\n",
       "<table border=\"1\" class=\"dataframe\">\n",
       "  <thead>\n",
       "    <tr style=\"text-align: right;\">\n",
       "      <th></th>\n",
       "      <th>Avg_Contacts_ratio</th>\n",
       "      <th>Attrition_Flag</th>\n",
       "    </tr>\n",
       "  </thead>\n",
       "  <tbody>\n",
       "    <tr>\n",
       "      <th>Avg_Contacts_ratio</th>\n",
       "      <td>1.000000</td>\n",
       "      <td>0.340784</td>\n",
       "    </tr>\n",
       "    <tr>\n",
       "      <th>Attrition_Flag</th>\n",
       "      <td>0.340784</td>\n",
       "      <td>1.000000</td>\n",
       "    </tr>\n",
       "  </tbody>\n",
       "</table>\n",
       "</div>"
      ],
      "text/plain": [
       "                    Avg_Contacts_ratio  Attrition_Flag\n",
       "Avg_Contacts_ratio            1.000000        0.340784\n",
       "Attrition_Flag                0.340784        1.000000"
      ]
     },
     "execution_count": 33,
     "metadata": {},
     "output_type": "execute_result"
    }
   ],
   "source": [
    "train[['Avg_Contacts_ratio','Attrition_Flag']].corr()"
   ]
  },
  {
   "cell_type": "markdown",
   "metadata": {},
   "source": [
    "**왜곡도 2이상인 피처 추출하여 왜곡도 개선을 위해 로그변환을 시행해준다.**"
   ]
  },
  {
   "cell_type": "code",
   "execution_count": 35,
   "metadata": {},
   "outputs": [
    {
     "name": "stdout",
     "output_type": "stream",
     "text": [
      "Card_Category_Platinum    23.992594\n",
      "Card_Category_Gold         9.328577\n",
      "Avg_Contacts_ratio         2.281769\n",
      "Total_Trans_Amt            2.006234\n",
      "dtype: float64\n"
     ]
    }
   ],
   "source": [
    "from scipy.stats import skew\n",
    "features_index=train.dtypes[train.dtypes!='object'].index\n",
    "skew_features=train[features_index].apply(lambda x:skew(x))\n",
    "\n",
    "## skew 정도가 1 이상인 컬럼들만 추출\n",
    "skew_features_top=skew_features[skew_features>2]\n",
    "print(skew_features_top.sort_values(ascending=False))"
   ]
  },
  {
   "cell_type": "markdown",
   "metadata": {},
   "source": [
    "원핫인코딩된 피처를 제외하면 Avg_Contacts_ratio, Total_Trans_Amt 열의 왜곡도가 2 이상으로 왜곡되어 있다.   \n",
    "이 두 열만 로그변환과 boxcox변환을 비교하여 하나를 선택하도록한다."
   ]
  },
  {
   "cell_type": "code",
   "execution_count": 37,
   "metadata": {
    "scrolled": false
   },
   "outputs": [
    {
     "data": {
      "image/png": "[encoded data removed]",
      "text/plain": [
       "<Figure size 720x360 with 2 Axes>"
      ]
     },
     "metadata": {},
     "output_type": "display_data"
    },
    {
     "data": {
      "image/png": "[encoded data removed]",
      "text/plain": [
       "<Figure size 720x360 with 2 Axes>"
      ]
     },
     "metadata": {},
     "output_type": "display_data"
    }
   ],
   "source": [
    "# 로그변환\n",
    "train_1=train.copy()\n",
    "# Total_Trans_Ct는 왜곡도가 1이상이 아니지만 두개 열을 LDA 차원축소를 할 것이기 때문에 로그변환 시도해주도록 한다.\n",
    "col_list=['Avg_Contacts_ratio', 'Total_Trans_Amt']\n",
    "for col in col_list:\n",
    "    train_1['log_'+col]=np.log1p(train_1[col]) # 0을 가진 변수도 로그변환이 가능하도록 log1p()사용\n",
    "    f,axes=plt.subplots(ncols=2,figsize=(10,5))\n",
    "    sns.histplot(train[col],ax=axes[0],color='c',kde=True,)\n",
    "    sns.histplot(train_1['log_'+col], ax=axes[1],color='c',kde=True)\n",
    "    plt.show()"
   ]
  },
  {
   "cell_type": "code",
   "execution_count": 40,
   "metadata": {},
   "outputs": [
    {
     "name": "stdout",
     "output_type": "stream",
     "text": [
      "로그변환 후 왜곡도\n",
      "1.6680371875991669\n",
      "0.2702294518509034\n"
     ]
    }
   ],
   "source": [
    "print('로그변환 후 왜곡도')\n",
    "print(train_1['log_Avg_Contacts_ratio'].skew())\n",
    "print(train_1['log_Total_Trans_Amt'].skew())"
   ]
  },
  {
   "cell_type": "markdown",
   "metadata": {},
   "source": [
    "로그변환 후 왜곡도가 개선되는 피처들이 몇몇 있음. boxcox변환을 통해 좀 더 왜곡도가 개선되는 피처가 있는지 확인해보자."
   ]
  },
  {
   "cell_type": "code",
   "execution_count": 38,
   "metadata": {
    "scrolled": false
   },
   "outputs": [
    {
     "data": {
      "image/png": "[encoded data removed]",
      "text/plain": [
       "<Figure size 720x360 with 2 Axes>"
      ]
     },
     "metadata": {},
     "output_type": "display_data"
    },
    {
     "data": {
      "image/png": "[encoded data removed]",
      "text/plain": [
       "<Figure size 720x360 with 2 Axes>"
      ]
     },
     "metadata": {},
     "output_type": "display_data"
    }
   ],
   "source": [
    "# boxcox 변환\n",
    "from scipy import stats\n",
    "train_2=train.copy()\n",
    "col_list=['Avg_Contacts_ratio', 'Total_Trans_Amt']\n",
    "for col in col_list:\n",
    "    train_2[col]=train_2[col]+1\n",
    "    train_2['boxcox_'+col]=stats.boxcox(train_2[col])[0] # 0을 가진 변수도 로그변환이 가능하도록 log1p()사용\n",
    "    f,axes=plt.subplots(ncols=2,figsize=(10,5))\n",
    "    sns.histplot(train[col],ax=axes[0],color='c',kde=True,)\n",
    "    sns.histplot(train_2['boxcox_'+col], ax=axes[1],color='c',kde=True)\n",
    "    plt.show()"
   ]
  },
  {
   "cell_type": "code",
   "execution_count": 41,
   "metadata": {},
   "outputs": [
    {
     "name": "stdout",
     "output_type": "stream",
     "text": [
      "로그변환 후 왜곡도\n",
      "0.0999987951274392\n",
      "0.0037606408723699957\n"
     ]
    }
   ],
   "source": [
    "print('로그변환 후 왜곡도')\n",
    "print(train_2['boxcox_Avg_Contacts_ratio'].skew())\n",
    "print(train_2['boxcox_Total_Trans_Amt'].skew())"
   ]
  },
  {
   "cell_type": "markdown",
   "metadata": {},
   "source": [
    "=> boxcox변환해주는 것이 두개 열의 왜곡도를 더 크게 줄이는 것을 확인할 수 있다."
   ]
  },
  {
   "cell_type": "code",
   "execution_count": 42,
   "metadata": {},
   "outputs": [],
   "source": [
    "# 왜곡도 1 이상인 열에 대해 boxcox변환 시행\n",
    "boxcox_trans_list=['Avg_Contacts_ratio', 'Total_Trans_Amt']\n",
    "\n",
    "for col in boxcox_trans_list:\n",
    "    if train[col].min()==0:\n",
    "        train[col]=train[col]+1\n",
    "    else: pass\n",
    "    train[col]=stats.boxcox(train[col])[0]"
   ]
  },
  {
   "cell_type": "code",
   "execution_count": 43,
   "metadata": {
    "scrolled": true
   },
   "outputs": [
    {
     "data": {
      "text/html": [
       "<div>\n",
       "<style scoped>\n",
       "    .dataframe tbody tr th:only-of-type {\n",
       "        vertical-align: middle;\n",
       "    }\n",
       "\n",
       "    .dataframe tbody tr th {\n",
       "        vertical-align: top;\n",
       "    }\n",
       "\n",
       "    .dataframe thead th {\n",
       "        text-align: right;\n",
       "    }\n",
       "</style>\n",
       "<table border=\"1\" class=\"dataframe\">\n",
       "  <thead>\n",
       "    <tr style=\"text-align: right;\">\n",
       "      <th></th>\n",
       "      <th>Avg_Contacts_ratio</th>\n",
       "      <th>Total_Trans_Amt</th>\n",
       "    </tr>\n",
       "  </thead>\n",
       "  <tbody>\n",
       "    <tr>\n",
       "      <th>count</th>\n",
       "      <td>8101.000000</td>\n",
       "      <td>8101.000000</td>\n",
       "    </tr>\n",
       "    <tr>\n",
       "      <th>mean</th>\n",
       "      <td>0.081624</td>\n",
       "      <td>4.827428</td>\n",
       "    </tr>\n",
       "    <tr>\n",
       "      <th>std</th>\n",
       "      <td>0.038966</td>\n",
       "      <td>0.205498</td>\n",
       "    </tr>\n",
       "    <tr>\n",
       "      <th>min</th>\n",
       "      <td>0.000000</td>\n",
       "      <td>4.178512</td>\n",
       "    </tr>\n",
       "    <tr>\n",
       "      <th>25%</th>\n",
       "      <td>0.055431</td>\n",
       "      <td>4.678313</td>\n",
       "    </tr>\n",
       "    <tr>\n",
       "      <th>50%</th>\n",
       "      <td>0.079678</td>\n",
       "      <td>4.867920</td>\n",
       "    </tr>\n",
       "    <tr>\n",
       "      <th>75%</th>\n",
       "      <td>0.108236</td>\n",
       "      <td>4.928011</td>\n",
       "    </tr>\n",
       "    <tr>\n",
       "      <th>max</th>\n",
       "      <td>0.183370</td>\n",
       "      <td>5.299555</td>\n",
       "    </tr>\n",
       "  </tbody>\n",
       "</table>\n",
       "</div>"
      ],
      "text/plain": [
       "       Avg_Contacts_ratio  Total_Trans_Amt\n",
       "count         8101.000000      8101.000000\n",
       "mean             0.081624         4.827428\n",
       "std              0.038966         0.205498\n",
       "min              0.000000         4.178512\n",
       "25%              0.055431         4.678313\n",
       "50%              0.079678         4.867920\n",
       "75%              0.108236         4.928011\n",
       "max              0.183370         5.299555"
      ]
     },
     "execution_count": 43,
     "metadata": {},
     "output_type": "execute_result"
    }
   ],
   "source": [
    "train[['Avg_Contacts_ratio', 'Total_Trans_Amt']].describe()"
   ]
  },
  {
   "cell_type": "markdown",
   "metadata": {},
   "source": [
    "차원축소랑 파생변수 생성 없이 모델 돌려보기!!"
   ]
  },
  {
   "cell_type": "markdown",
   "metadata": {
    "id": "2RCJVcg-ac-P"
   },
   "source": [
    "# Model"
   ]
  },
  {
   "cell_type": "code",
   "execution_count": 62,
   "metadata": {
    "id": "SpTY_Cx9hAIM",
    "scrolled": false
   },
   "outputs": [
    {
     "data": {
      "text/html": [
       "<div>\n",
       "<style scoped>\n",
       "    .dataframe tbody tr th:only-of-type {\n",
       "        vertical-align: middle;\n",
       "    }\n",
       "\n",
       "    .dataframe tbody tr th {\n",
       "        vertical-align: top;\n",
       "    }\n",
       "\n",
       "    .dataframe thead th {\n",
       "        text-align: right;\n",
       "    }\n",
       "</style>\n",
       "<table border=\"1\" class=\"dataframe\">\n",
       "  <thead>\n",
       "    <tr style=\"text-align: right;\">\n",
       "      <th></th>\n",
       "      <th>Education_Level</th>\n",
       "      <th>Income_Category</th>\n",
       "      <th>Customer_Age</th>\n",
       "      <th>Gender</th>\n",
       "      <th>Dependent_count</th>\n",
       "      <th>Months_on_book</th>\n",
       "      <th>Total_Relationship_Count</th>\n",
       "      <th>Months_Inactive_12_mon</th>\n",
       "      <th>Contacts_Count_12_mon</th>\n",
       "      <th>Credit_Limit</th>\n",
       "      <th>...</th>\n",
       "      <th>Total_Trans_Amt</th>\n",
       "      <th>Total_Trans_Ct</th>\n",
       "      <th>Total_Ct_Chng_Q4_Q1</th>\n",
       "      <th>Avg_Utilization_Ratio</th>\n",
       "      <th>Attrition_Flag</th>\n",
       "      <th>Maried_Status</th>\n",
       "      <th>Card_Category_SB</th>\n",
       "      <th>Card_Category_Gold</th>\n",
       "      <th>Card_Category_Platinum</th>\n",
       "      <th>Avg_Contacts_ratio</th>\n",
       "    </tr>\n",
       "  </thead>\n",
       "  <tbody>\n",
       "    <tr>\n",
       "      <th>0</th>\n",
       "      <td>2.666667</td>\n",
       "      <td>3.000000</td>\n",
       "      <td>44</td>\n",
       "      <td>0</td>\n",
       "      <td>1</td>\n",
       "      <td>36</td>\n",
       "      <td>3</td>\n",
       "      <td>2</td>\n",
       "      <td>1</td>\n",
       "      <td>17116.0</td>\n",
       "      <td>...</td>\n",
       "      <td>4.845465</td>\n",
       "      <td>50</td>\n",
       "      <td>0.923</td>\n",
       "      <td>0.075</td>\n",
       "      <td>0</td>\n",
       "      <td>0</td>\n",
       "      <td>1</td>\n",
       "      <td>0</td>\n",
       "      <td>0</td>\n",
       "      <td>0.050001</td>\n",
       "    </tr>\n",
       "    <tr>\n",
       "      <th>1</th>\n",
       "      <td>0.000000</td>\n",
       "      <td>2.000000</td>\n",
       "      <td>42</td>\n",
       "      <td>1</td>\n",
       "      <td>3</td>\n",
       "      <td>30</td>\n",
       "      <td>4</td>\n",
       "      <td>2</td>\n",
       "      <td>3</td>\n",
       "      <td>8302.0</td>\n",
       "      <td>...</td>\n",
       "      <td>4.807611</td>\n",
       "      <td>66</td>\n",
       "      <td>0.610</td>\n",
       "      <td>0.156</td>\n",
       "      <td>0</td>\n",
       "      <td>0</td>\n",
       "      <td>1</td>\n",
       "      <td>0</td>\n",
       "      <td>0</td>\n",
       "      <td>0.081650</td>\n",
       "    </tr>\n",
       "    <tr>\n",
       "      <th>2</th>\n",
       "      <td>0.000000</td>\n",
       "      <td>3.000000</td>\n",
       "      <td>57</td>\n",
       "      <td>1</td>\n",
       "      <td>0</td>\n",
       "      <td>39</td>\n",
       "      <td>4</td>\n",
       "      <td>4</td>\n",
       "      <td>3</td>\n",
       "      <td>2795.0</td>\n",
       "      <td>...</td>\n",
       "      <td>4.923222</td>\n",
       "      <td>67</td>\n",
       "      <td>0.861</td>\n",
       "      <td>0.655</td>\n",
       "      <td>0</td>\n",
       "      <td>0</td>\n",
       "      <td>1</td>\n",
       "      <td>0</td>\n",
       "      <td>0</td>\n",
       "      <td>0.096304</td>\n",
       "    </tr>\n",
       "    <tr>\n",
       "      <th>3</th>\n",
       "      <td>3.000000</td>\n",
       "      <td>1.000000</td>\n",
       "      <td>26</td>\n",
       "      <td>0</td>\n",
       "      <td>1</td>\n",
       "      <td>20</td>\n",
       "      <td>6</td>\n",
       "      <td>3</td>\n",
       "      <td>3</td>\n",
       "      <td>1438.3</td>\n",
       "      <td>...</td>\n",
       "      <td>4.678003</td>\n",
       "      <td>48</td>\n",
       "      <td>0.412</td>\n",
       "      <td>0.468</td>\n",
       "      <td>0</td>\n",
       "      <td>0</td>\n",
       "      <td>1</td>\n",
       "      <td>0</td>\n",
       "      <td>0</td>\n",
       "      <td>0.076759</td>\n",
       "    </tr>\n",
       "    <tr>\n",
       "      <th>4</th>\n",
       "      <td>0.000000</td>\n",
       "      <td>0.000000</td>\n",
       "      <td>38</td>\n",
       "      <td>0</td>\n",
       "      <td>0</td>\n",
       "      <td>26</td>\n",
       "      <td>5</td>\n",
       "      <td>1</td>\n",
       "      <td>4</td>\n",
       "      <td>2230.0</td>\n",
       "      <td>...</td>\n",
       "      <td>4.856758</td>\n",
       "      <td>63</td>\n",
       "      <td>0.909</td>\n",
       "      <td>0.000</td>\n",
       "      <td>0</td>\n",
       "      <td>1</td>\n",
       "      <td>1</td>\n",
       "      <td>0</td>\n",
       "      <td>0</td>\n",
       "      <td>0.092891</td>\n",
       "    </tr>\n",
       "    <tr>\n",
       "      <th>...</th>\n",
       "      <td>...</td>\n",
       "      <td>...</td>\n",
       "      <td>...</td>\n",
       "      <td>...</td>\n",
       "      <td>...</td>\n",
       "      <td>...</td>\n",
       "      <td>...</td>\n",
       "      <td>...</td>\n",
       "      <td>...</td>\n",
       "      <td>...</td>\n",
       "      <td>...</td>\n",
       "      <td>...</td>\n",
       "      <td>...</td>\n",
       "      <td>...</td>\n",
       "      <td>...</td>\n",
       "      <td>...</td>\n",
       "      <td>...</td>\n",
       "      <td>...</td>\n",
       "      <td>...</td>\n",
       "      <td>...</td>\n",
       "      <td>...</td>\n",
       "    </tr>\n",
       "    <tr>\n",
       "      <th>8096</th>\n",
       "      <td>3.000000</td>\n",
       "      <td>0.000000</td>\n",
       "      <td>46</td>\n",
       "      <td>0</td>\n",
       "      <td>3</td>\n",
       "      <td>36</td>\n",
       "      <td>3</td>\n",
       "      <td>2</td>\n",
       "      <td>2</td>\n",
       "      <td>2391.0</td>\n",
       "      <td>...</td>\n",
       "      <td>5.066356</td>\n",
       "      <td>101</td>\n",
       "      <td>0.603</td>\n",
       "      <td>0.680</td>\n",
       "      <td>0</td>\n",
       "      <td>0</td>\n",
       "      <td>1</td>\n",
       "      <td>0</td>\n",
       "      <td>0</td>\n",
       "      <td>0.049591</td>\n",
       "    </tr>\n",
       "    <tr>\n",
       "      <th>8097</th>\n",
       "      <td>0.000000</td>\n",
       "      <td>1.000000</td>\n",
       "      <td>37</td>\n",
       "      <td>1</td>\n",
       "      <td>3</td>\n",
       "      <td>25</td>\n",
       "      <td>5</td>\n",
       "      <td>0</td>\n",
       "      <td>3</td>\n",
       "      <td>1438.3</td>\n",
       "      <td>...</td>\n",
       "      <td>4.945867</td>\n",
       "      <td>77</td>\n",
       "      <td>0.925</td>\n",
       "      <td>0.000</td>\n",
       "      <td>0</td>\n",
       "      <td>1</td>\n",
       "      <td>1</td>\n",
       "      <td>0</td>\n",
       "      <td>0</td>\n",
       "      <td>0.063698</td>\n",
       "    </tr>\n",
       "    <tr>\n",
       "      <th>8098</th>\n",
       "      <td>3.000000</td>\n",
       "      <td>0.000000</td>\n",
       "      <td>50</td>\n",
       "      <td>0</td>\n",
       "      <td>1</td>\n",
       "      <td>36</td>\n",
       "      <td>4</td>\n",
       "      <td>2</td>\n",
       "      <td>3</td>\n",
       "      <td>1438.3</td>\n",
       "      <td>...</td>\n",
       "      <td>4.928707</td>\n",
       "      <td>71</td>\n",
       "      <td>1.088</td>\n",
       "      <td>0.000</td>\n",
       "      <td>0</td>\n",
       "      <td>1</td>\n",
       "      <td>1</td>\n",
       "      <td>0</td>\n",
       "      <td>0</td>\n",
       "      <td>0.088004</td>\n",
       "    </tr>\n",
       "    <tr>\n",
       "      <th>8099</th>\n",
       "      <td>1.000000</td>\n",
       "      <td>0.000000</td>\n",
       "      <td>55</td>\n",
       "      <td>0</td>\n",
       "      <td>2</td>\n",
       "      <td>45</td>\n",
       "      <td>5</td>\n",
       "      <td>2</td>\n",
       "      <td>0</td>\n",
       "      <td>3187.0</td>\n",
       "      <td>...</td>\n",
       "      <td>4.579635</td>\n",
       "      <td>38</td>\n",
       "      <td>0.652</td>\n",
       "      <td>0.790</td>\n",
       "      <td>0</td>\n",
       "      <td>1</td>\n",
       "      <td>1</td>\n",
       "      <td>0</td>\n",
       "      <td>0</td>\n",
       "      <td>0.000000</td>\n",
       "    </tr>\n",
       "    <tr>\n",
       "      <th>8100</th>\n",
       "      <td>0.000000</td>\n",
       "      <td>1.333333</td>\n",
       "      <td>31</td>\n",
       "      <td>0</td>\n",
       "      <td>0</td>\n",
       "      <td>36</td>\n",
       "      <td>6</td>\n",
       "      <td>3</td>\n",
       "      <td>1</td>\n",
       "      <td>5190.0</td>\n",
       "      <td>...</td>\n",
       "      <td>4.937091</td>\n",
       "      <td>81</td>\n",
       "      <td>0.800</td>\n",
       "      <td>0.324</td>\n",
       "      <td>0</td>\n",
       "      <td>0</td>\n",
       "      <td>1</td>\n",
       "      <td>0</td>\n",
       "      <td>0</td>\n",
       "      <td>0.033023</td>\n",
       "    </tr>\n",
       "  </tbody>\n",
       "</table>\n",
       "<p>8101 rows × 23 columns</p>\n",
       "</div>"
      ],
      "text/plain": [
       "      Education_Level  Income_Category  Customer_Age  Gender  Dependent_count  \\\n",
       "0            2.666667         3.000000            44       0                1   \n",
       "1            0.000000         2.000000            42       1                3   \n",
       "2            0.000000         3.000000            57       1                0   \n",
       "3            3.000000         1.000000            26       0                1   \n",
       "4            0.000000         0.000000            38       0                0   \n",
       "...               ...              ...           ...     ...              ...   \n",
       "8096         3.000000         0.000000            46       0                3   \n",
       "8097         0.000000         1.000000            37       1                3   \n",
       "8098         3.000000         0.000000            50       0                1   \n",
       "8099         1.000000         0.000000            55       0                2   \n",
       "8100         0.000000         1.333333            31       0                0   \n",
       "\n",
       "      Months_on_book  Total_Relationship_Count  Months_Inactive_12_mon  \\\n",
       "0                 36                         3                       2   \n",
       "1                 30                         4                       2   \n",
       "2                 39                         4                       4   \n",
       "3                 20                         6                       3   \n",
       "4                 26                         5                       1   \n",
       "...              ...                       ...                     ...   \n",
       "8096              36                         3                       2   \n",
       "8097              25                         5                       0   \n",
       "8098              36                         4                       2   \n",
       "8099              45                         5                       2   \n",
       "8100              36                         6                       3   \n",
       "\n",
       "      Contacts_Count_12_mon  Credit_Limit  ...  Total_Trans_Amt  \\\n",
       "0                         1       17116.0  ...         4.845465   \n",
       "1                         3        8302.0  ...         4.807611   \n",
       "2                         3        2795.0  ...         4.923222   \n",
       "3                         3        1438.3  ...         4.678003   \n",
       "4                         4        2230.0  ...         4.856758   \n",
       "...                     ...           ...  ...              ...   \n",
       "8096                      2        2391.0  ...         5.066356   \n",
       "8097                      3        1438.3  ...         4.945867   \n",
       "8098                      3        1438.3  ...         4.928707   \n",
       "8099                      0        3187.0  ...         4.579635   \n",
       "8100                      1        5190.0  ...         4.937091   \n",
       "\n",
       "      Total_Trans_Ct  Total_Ct_Chng_Q4_Q1  Avg_Utilization_Ratio  \\\n",
       "0                 50                0.923                  0.075   \n",
       "1                 66                0.610                  0.156   \n",
       "2                 67                0.861                  0.655   \n",
       "3                 48                0.412                  0.468   \n",
       "4                 63                0.909                  0.000   \n",
       "...              ...                  ...                    ...   \n",
       "8096             101                0.603                  0.680   \n",
       "8097              77                0.925                  0.000   \n",
       "8098              71                1.088                  0.000   \n",
       "8099              38                0.652                  0.790   \n",
       "8100              81                0.800                  0.324   \n",
       "\n",
       "      Attrition_Flag  Maried_Status  Card_Category_SB  Card_Category_Gold  \\\n",
       "0                  0              0                 1                   0   \n",
       "1                  0              0                 1                   0   \n",
       "2                  0              0                 1                   0   \n",
       "3                  0              0                 1                   0   \n",
       "4                  0              1                 1                   0   \n",
       "...              ...            ...               ...                 ...   \n",
       "8096               0              0                 1                   0   \n",
       "8097               0              1                 1                   0   \n",
       "8098               0              1                 1                   0   \n",
       "8099               0              1                 1                   0   \n",
       "8100               0              0                 1                   0   \n",
       "\n",
       "      Card_Category_Platinum  Avg_Contacts_ratio  \n",
       "0                          0            0.050001  \n",
       "1                          0            0.081650  \n",
       "2                          0            0.096304  \n",
       "3                          0            0.076759  \n",
       "4                          0            0.092891  \n",
       "...                      ...                 ...  \n",
       "8096                       0            0.049591  \n",
       "8097                       0            0.063698  \n",
       "8098                       0            0.088004  \n",
       "8099                       0            0.000000  \n",
       "8100                       0            0.033023  \n",
       "\n",
       "[8101 rows x 23 columns]"
      ]
     },
     "execution_count": 62,
     "metadata": {},
     "output_type": "execute_result"
    }
   ],
   "source": [
    "train"
   ]
  },
  {
   "cell_type": "code",
   "execution_count": 63,
   "metadata": {},
   "outputs": [],
   "source": [
    "X_features=train.drop('Attrition_Flag',axis=1)\n",
    "y_target=train['Attrition_Flag']"
   ]
  },
  {
   "cell_type": "code",
   "execution_count": 64,
   "metadata": {},
   "outputs": [],
   "source": [
    "# 훈련용, 테스트용 데이터 분리\n",
    "from sklearn.model_selection import train_test_split\n",
    "X_train, X_test, y_train, y_test = train_test_split(X_features, y_target, test_size=0.2, random_state = 2021, stratify = y_target)"
   ]
  },
  {
   "cell_type": "code",
   "execution_count": 65,
   "metadata": {},
   "outputs": [
    {
     "data": {
      "text/plain": [
       "0    0.839352\n",
       "1    0.160648\n",
       "Name: Attrition_Flag, dtype: float64"
      ]
     },
     "execution_count": 65,
     "metadata": {},
     "output_type": "execute_result"
    }
   ],
   "source": [
    "y_train.value_counts() / y_train.value_counts().sum()"
   ]
  },
  {
   "cell_type": "code",
   "execution_count": 66,
   "metadata": {},
   "outputs": [
    {
     "data": {
      "text/plain": [
       "(6480, 22)"
      ]
     },
     "execution_count": 66,
     "metadata": {},
     "output_type": "execute_result"
    }
   ],
   "source": [
    "X_train.shape"
   ]
  },
  {
   "cell_type": "markdown",
   "metadata": {},
   "source": [
    "## Voting"
   ]
  },
  {
   "cell_type": "code",
   "execution_count": 49,
   "metadata": {},
   "outputs": [],
   "source": [
    "from sklearn.tree import DecisionTreeClassifier\n",
    "from sklearn.linear_model import LogisticRegression\n",
    "from sklearn.svm import SVC\n",
    "from sklearn.ensemble import VotingClassifier\n",
    "\n",
    "log_clf = LogisticRegression(random_state = 16)\n",
    "dt_clf = DecisionTreeClassifier(random_state = 16, max_depth = None)\n",
    "svm_clf = SVC(probability = True, random_state = 16) # 클래스의 예측 확률을 구하기 위해서\n",
    "\n",
    "voting_clf = VotingClassifier(estimators = [('lr', log_clf), ('dt', dt_clf), ('svm', svm_clf)], voting = 'soft')"
   ]
  },
  {
   "cell_type": "code",
   "execution_count": 50,
   "metadata": {},
   "outputs": [],
   "source": [
    "def eval_index(clf,X_train,y_train,y_test):\n",
    "    from sklearn.metrics import log_loss, confusion_matrix, accuracy_score\n",
    "    clf.fit(X_train,y_train)\n",
    "    pred = clf.predict(X_test)\n",
    "    pred_proba=clf.predict_proba(X_test)\n",
    "    \n",
    "    confusion=confusion_matrix(y_test,pred)\n",
    "    accuracy=accuracy_score(y_test,pred)\n",
    "    log_loss=log_loss(y_test,pred_proba)\n",
    "    \n",
    "    print('오차행렬')\n",
    "    print(confusion,'\\n')\n",
    "    print(f'손실함수 값(logloss): {log_loss:.4f}, 정확도: {accuracy:.4f}')"
   ]
  },
  {
   "cell_type": "code",
   "execution_count": 51,
   "metadata": {},
   "outputs": [],
   "source": [
    "X_train=X_train.to_numpy()\n",
    "y_train=y_train.to_numpy()\n",
    "X_test=X_test.to_numpy()\n",
    "y_test=y_test.to_numpy()"
   ]
  },
  {
   "cell_type": "code",
   "execution_count": 52,
   "metadata": {},
   "outputs": [
    {
     "name": "stdout",
     "output_type": "stream",
     "text": [
      "오차행렬\n",
      "[[1301   59]\n",
      " [ 134  127]] \n",
      "\n",
      "손실함수 값(logloss): 0.3048, 정확도: 0.8809\n",
      "\n",
      "\n",
      "오차행렬\n",
      "[[1294   66]\n",
      " [  43  218]] \n",
      "\n",
      "손실함수 값(logloss): 2.3225, 정확도: 0.9328\n",
      "\n",
      "\n",
      "오차행렬\n",
      "[[1360    0]\n",
      " [ 261    0]] \n",
      "\n",
      "손실함수 값(logloss): 0.3363, 정확도: 0.8390\n",
      "\n",
      "\n",
      "오차행렬\n",
      "[[1327   33]\n",
      " [  99  162]] \n",
      "\n",
      "손실함수 값(logloss): 0.2147, 정확도: 0.9186\n",
      "\n",
      "\n"
     ]
    }
   ],
   "source": [
    "for clf in [log_clf,dt_clf,svm_clf,voting_clf]:\n",
    "    eval_index(clf, X_train, y_train, y_test)\n",
    "    print('\\n')"
   ]
  },
  {
   "cell_type": "code",
   "execution_count": 53,
   "metadata": {},
   "outputs": [],
   "source": [
    "from sklearn.ensemble import RandomForestClassifier\n",
    "\n",
    "rf_clf = RandomForestClassifier(random_state = 16, n_estimators = 500, n_jobs = -1)"
   ]
  },
  {
   "cell_type": "code",
   "execution_count": 54,
   "metadata": {},
   "outputs": [
    {
     "name": "stdout",
     "output_type": "stream",
     "text": [
      "오차행렬\n",
      "[[1331   29]\n",
      " [  44  217]] \n",
      "\n",
      "손실함수 값(logloss): 0.1382, 정확도: 0.9550\n"
     ]
    }
   ],
   "source": [
    "eval_index(rf_clf, X_train, y_train, y_test)"
   ]
  },
  {
   "cell_type": "code",
   "execution_count": 55,
   "metadata": {},
   "outputs": [],
   "source": [
    "from sklearn.tree import DecisionTreeClassifier\n",
    "from sklearn.ensemble import BaggingClassifier\n",
    "\n",
    "dt_clf2 = DecisionTreeClassifier(random_state = 16, max_depth = None)\n",
    "\n",
    "bag_clf = BaggingClassifier(dt_clf2,\n",
    "                            n_estimators = 500,\n",
    "                            bootstrap = True, n_jobs = -1) # Bagging\n",
    "\n",
    "pas_clf = BaggingClassifier(dt_clf2,\n",
    "                            n_estimators = 500,\n",
    "                            bootstrap = False, n_jobs = -1) # Pasting"
   ]
  },
  {
   "cell_type": "code",
   "execution_count": 56,
   "metadata": {},
   "outputs": [
    {
     "name": "stdout",
     "output_type": "stream",
     "text": [
      "오차행렬\n",
      "[[1323   37]\n",
      " [  35  226]] \n",
      "\n",
      "손실함수 값(logloss): 0.1367, 정확도: 0.9556\n"
     ]
    }
   ],
   "source": [
    "eval_index(bag_clf, X_train, y_train, y_test)"
   ]
  },
  {
   "cell_type": "code",
   "execution_count": 69,
   "metadata": {},
   "outputs": [],
   "source": [
    "from xgboost import XGBClassifier\n",
    "from lightgbm import LGBMClassifier\n",
    "\n",
    "xgb_clf = XGBClassifier(random_state = 16,\n",
    "                        n_estimators = 500)\n",
    "\n",
    "lgbm_clf = LGBMClassifier(random_state = 16,\n",
    "                          n_estimators = 500)"
   ]
  },
  {
   "cell_type": "code",
   "execution_count": 70,
   "metadata": {},
   "outputs": [
    {
     "name": "stdout",
     "output_type": "stream",
     "text": [
      "[04:08:28] WARNING: ..\\src\\learner.cc:1061: Starting in XGBoost 1.3.0, the default evaluation metric used with the objective 'binary:logistic' was changed from 'error' to 'logloss'. Explicitly set eval_metric if you'd like to restore the old behavior.\n",
      "오차행렬\n",
      "[[1335   25]\n",
      " [  28  233]] \n",
      "\n",
      "손실함수 값(logloss): 0.1086, 정확도: 0.9673\n"
     ]
    }
   ],
   "source": [
    "eval_index(xgb_clf, X_train, y_train, y_test)"
   ]
  },
  {
   "cell_type": "code",
   "execution_count": 71,
   "metadata": {},
   "outputs": [
    {
     "name": "stdout",
     "output_type": "stream",
     "text": [
      "오차행렬\n",
      "[[1341   19]\n",
      " [  27  234]] \n",
      "\n",
      "손실함수 값(logloss): 0.1285, 정확도: 0.9716\n"
     ]
    }
   ],
   "source": [
    "eval_index(lgbm_clf, X_train, y_train, y_test)"
   ]
  },
  {
   "cell_type": "code",
   "execution_count": 72,
   "metadata": {},
   "outputs": [
    {
     "data": {
      "text/plain": [
       "<AxesSubplot:title={'center':'Feature importance'}, xlabel='F score', ylabel='Features'>"
      ]
     },
     "execution_count": 72,
     "metadata": {},
     "output_type": "execute_result"
    },
    {
     "data": {
      "image/png": "[encoded data removed]",
      "text/plain": [
       "<Figure size 720x864 with 1 Axes>"
      ]
     },
     "metadata": {},
     "output_type": "display_data"
    }
   ],
   "source": [
    "from xgboost import plot_importance\n",
    "import matplotlib.pyplot as plt\n",
    "fig,ax=plt.subplots(figsize=(10,12))\n",
    "plot_importance(xgb_clf,ax=ax)"
   ]
  },
  {
   "cell_type": "code",
   "execution_count": 73,
   "metadata": {},
   "outputs": [
    {
     "data": {
      "text/plain": [
       "<AxesSubplot:title={'center':'Feature importance'}, xlabel='Feature importance', ylabel='Features'>"
      ]
     },
     "execution_count": 73,
     "metadata": {},
     "output_type": "execute_result"
    },
    {
     "data": {
      "image/png": "[encoded data removed]",
      "text/plain": [
       "<Figure size 720x864 with 1 Axes>"
      ]
     },
     "metadata": {},
     "output_type": "display_data"
    }
   ],
   "source": [
    "from lightgbm import plot_importance\n",
    "import matplotlib.pyplot as plt\n",
    "fig,ax=plt.subplots(figsize=(10,12))\n",
    "plot_importance(lgbm_clf,ax=ax)"
   ]
  },
  {
   "cell_type": "markdown",
   "metadata": {},
   "source": [
    "## 이상치 제거"
   ]
  },
  {
   "cell_type": "code",
   "execution_count": 242,
   "metadata": {
    "scrolled": false
   },
   "outputs": [
    {
     "data": {
      "text/plain": [
       "<AxesSubplot:xlabel='Total_Trans_Amt', ylabel='Density'>"
      ]
     },
     "execution_count": 242,
     "metadata": {},
     "output_type": "execute_result"
    },
    {
     "data": {
      "image/png": "[encoded data removed]",
      "text/plain": [
       "<Figure size 576x396 with 1 Axes>"
      ]
     },
     "metadata": {},
     "output_type": "display_data"
    }
   ],
   "source": [
    "sns.distplot(train['Total_Trans_Amt'])"
   ]
  },
  {
   "cell_type": "markdown",
   "metadata": {},
   "source": [
    "**타겟값과 Total_Trans_Amt는 음의 상관관계이므로 Amount가 lowest(=quan_25-iqr_weight)보다 작을 때, 타겟값이 0인 것은 이상치 혹은 노이즈라고 판단가능하다. Amount가 highest(=quan_25+iqr_weight)보다 클 때는 타겟값이 1인 것이 이상치 및 노이즈라고 볼 수 있다.**"
   ]
  },
  {
   "cell_type": "code",
   "execution_count": 74,
   "metadata": {},
   "outputs": [],
   "source": [
    "import numpy as np\n",
    "def get_outlier_0(df,column,weight=1.5):\n",
    "    attrition=df[df['Attrition_Flag']==0][column]\n",
    "    quan_25=np.percentile(attrition.values,25)\n",
    "    quan_75=np.percentile(attrition.values,75)\n",
    "    iqr=quan_75-quan_25\n",
    "    iqr_weight=iqr*weight\n",
    "    lowest=quan_25-iqr_weight\n",
    "    highest=quan_25+iqr_weight\n",
    "    outlier_index=attrition[(attrition<lowest)].index\n",
    "    return outlier_index"
   ]
  },
  {
   "cell_type": "code",
   "execution_count": 75,
   "metadata": {},
   "outputs": [],
   "source": [
    "def get_outlier_1(df,column,weight=1.5):\n",
    "    attrition=df[df['Attrition_Flag']==1][column]\n",
    "    quan_25=np.percentile(attrition.values,25)\n",
    "    quan_75=np.percentile(attrition.values,75)\n",
    "    iqr=quan_75-quan_25\n",
    "    iqr_weight=iqr*weight\n",
    "    lowest=quan_25-iqr_weight\n",
    "    highest=quan_25+iqr_weight\n",
    "    outlier_index=attrition[(attrition>highest)].index\n",
    "    return outlier_index"
   ]
  },
  {
   "cell_type": "code",
   "execution_count": 76,
   "metadata": {},
   "outputs": [
    {
     "name": "stdout",
     "output_type": "stream",
     "text": [
      "Int64Index([1005, 2372, 2477, 3243, 4816, 7295], dtype='int64')\n"
     ]
    }
   ],
   "source": [
    "outlier_index0_Amt=get_outlier_0(df=train,column='Total_Trans_Amt')\n",
    "print(outlier_index0_Amt)"
   ]
  },
  {
   "cell_type": "code",
   "execution_count": 77,
   "metadata": {},
   "outputs": [
    {
     "name": "stdout",
     "output_type": "stream",
     "text": [
      "Int64Index([   6,   13,   27,   36,   89,  118,  214,  231,  241,  274,\n",
      "            ...\n",
      "            7957, 7965, 7973, 7981, 7994, 8001, 8037, 8044, 8074, 8082],\n",
      "           dtype='int64', length=253)\n"
     ]
    }
   ],
   "source": [
    "outlier_index1_Amt=get_outlier_1(df=train,column='Total_Trans_Amt')\n",
    "print(outlier_index1_Amt)"
   ]
  },
  {
   "cell_type": "markdown",
   "metadata": {},
   "source": [
    "253개는 너무 많기에 이상치라고 보기 힘들다. 따라서 이 부분을 행 데이터에서 제거하는 것은 생략한다."
   ]
  },
  {
   "cell_type": "code",
   "execution_count": 78,
   "metadata": {},
   "outputs": [
    {
     "data": {
      "text/plain": [
       "(8101, 23)"
      ]
     },
     "execution_count": 78,
     "metadata": {},
     "output_type": "execute_result"
    }
   ],
   "source": [
    "train.shape"
   ]
  },
  {
   "cell_type": "code",
   "execution_count": 79,
   "metadata": {},
   "outputs": [],
   "source": [
    "# 이상치 행 제거!\n",
    "train2=train.copy()\n",
    "\n",
    "train2.drop(outlier_index0_Amt,axis=0,inplace=True)"
   ]
  },
  {
   "cell_type": "code",
   "execution_count": 80,
   "metadata": {},
   "outputs": [
    {
     "data": {
      "text/plain": [
       "(8095, 23)"
      ]
     },
     "execution_count": 80,
     "metadata": {},
     "output_type": "execute_result"
    }
   ],
   "source": [
    "train2.shape"
   ]
  },
  {
   "cell_type": "code",
   "execution_count": 81,
   "metadata": {},
   "outputs": [],
   "source": [
    "X_features=train2.drop('Attrition_Flag',axis=1)\n",
    "y_target=train2['Attrition_Flag']\n",
    "\n",
    "from sklearn.model_selection import train_test_split\n",
    "X_train, X_test, y_train, y_test = train_test_split(X_features, y_target, test_size=0.2, random_state = 2021, stratify = y_target)"
   ]
  },
  {
   "cell_type": "code",
   "execution_count": 82,
   "metadata": {},
   "outputs": [
    {
     "name": "stdout",
     "output_type": "stream",
     "text": [
      "[04:09:19] WARNING: ..\\src\\learner.cc:1061: Starting in XGBoost 1.3.0, the default evaluation metric used with the objective 'binary:logistic' was changed from 'error' to 'logloss'. Explicitly set eval_metric if you'd like to restore the old behavior.\n",
      "오차행렬\n",
      "[[1346   13]\n",
      " [  26  234]] \n",
      "\n",
      "손실함수 값(logloss): 0.0789, 정확도: 0.9759\n"
     ]
    }
   ],
   "source": [
    "eval_index(xgb_clf, X_train, y_train, y_test)"
   ]
  },
  {
   "cell_type": "code",
   "execution_count": 83,
   "metadata": {},
   "outputs": [
    {
     "name": "stdout",
     "output_type": "stream",
     "text": [
      "오차행렬\n",
      "[[1345   14]\n",
      " [  26  234]] \n",
      "\n",
      "손실함수 값(logloss): 0.1127, 정확도: 0.9753\n"
     ]
    }
   ],
   "source": [
    "eval_index(lgbm_clf, X_train, y_train, y_test)"
   ]
  },
  {
   "cell_type": "code",
   "execution_count": 84,
   "metadata": {},
   "outputs": [
    {
     "name": "stdout",
     "output_type": "stream",
     "text": [
      "오차행렬\n",
      "[[1338   21]\n",
      " [  46  214]] \n",
      "\n",
      "손실함수 값(logloss): 0.1254, 정확도: 0.9586\n"
     ]
    }
   ],
   "source": [
    "eval_index(rf_clf, X_train, y_train, y_test)"
   ]
  },
  {
   "cell_type": "markdown",
   "metadata": {},
   "source": [
    "이상치 제거를 통해 logloss값이 줄어든 것을 확인할 수 있다."
   ]
  },
  {
   "cell_type": "markdown",
   "metadata": {},
   "source": [
    "### train 데이터셋 전처리 전체 (RobustScaling 과정 추가)"
   ]
  },
  {
   "cell_type": "code",
   "execution_count": 89,
   "metadata": {},
   "outputs": [],
   "source": [
    "data_dir = 'C:/Users/xnote/Desktop/투빅스/4주차/Week4_Ensemble_lsb/week4_Ensemble_Assignment/'\n",
    "train = pd.read_csv(data_dir + 'train.csv')\n",
    "\n",
    "train.replace('Unknown',np.nan,inplace=True)\n",
    "train.Gender=train.Gender.map({'F':0,'M':1})\n",
    "train.Education_Level=train.Education_Level.map({'Uneducated':0, 'High School':1, 'College':2, 'Graduate':3,\n",
    "                                                 'Post-Graduate':4, 'Doctorate':5})\n",
    "train.Income_Category=train.Income_Category.map({'Less than $40K':0,'$40K - $60K':1, '$60K - $80K':2, '$80K - $120K':3, '$120K +':4})\n",
    "train=pd.get_dummies(train)\n",
    "\n",
    "from sklearn.impute import KNNImputer\n",
    "imputer=KNNImputer(n_neighbors=3)\n",
    "filled_train_but_heavy=pd.DataFrame(imputer.fit_transform(train),columns=train.columns)\n",
    "filled_cols=filled_train_but_heavy[['Education_Level','Income_Category']]\n",
    "\n",
    "train.drop(['Education_Level','Income_Category'],axis=1,inplace=True)\n",
    "train=pd.concat([filled_cols,train],axis=1)\n",
    "\n",
    "train.drop(['Marital_Status_Single','Marital_Status_Divorced','Card_Category_Silver'],axis=1, inplace=True)\n",
    "train.rename(columns={'Marital_Status_Married':'Marital_Status','Card_Category_Blue':'Card_Category_SB'},inplace=True)\n",
    "\n",
    "train['Avg_Contacts_ratio']=(train['Contacts_Count_12_mon']/12)/(train['Total_Trans_Ct']/train['Months_on_book'])\n",
    "\n",
    "boxcox_trans_list=['Total_Trans_Amt','Avg_Contacts_ratio']\n",
    "for col in boxcox_trans_list:\n",
    "    if train[col].min()==0:\n",
    "        train[col]=train[col]+1\n",
    "    else: pass\n",
    "    train[col]=stats.boxcox(train[col])[0]\n",
    "\n",
    "train2=train.copy()\n",
    "train2.drop(outlier_index0_Amt,axis=0,inplace=True)\n",
    "\n",
    "X_features=train2.drop('Attrition_Flag',axis=1)\n",
    "y_target=train2['Attrition_Flag']\n",
    "\n",
    "# RobustScaler()로 스케일링했을 때 가장 테스트 성능이 좋았음\n",
    "from sklearn.preprocessing import RobustScaler\n",
    "robustScaler = RobustScaler()\n",
    "X_features=robustScaler.fit_transform(X_features)\n",
    "\n",
    "from sklearn.model_selection import train_test_split\n",
    "X_train, X_test, y_train, y_test = train_test_split(X_features, y_target, test_size=0.2, random_state = 2021, stratify = y_target)"
   ]
  },
  {
   "cell_type": "markdown",
   "metadata": {},
   "source": [
    "### XGBoost 베이지안 최적화"
   ]
  },
  {
   "cell_type": "code",
   "execution_count": 109,
   "metadata": {},
   "outputs": [],
   "source": [
    "bayes_params={'learning_rate':(0.05,0.1), 'colsample_bytree':(0.5,1), 'subsample':(0.5,1), 'max_depth':(5,50), \n",
    "              'reg_alpha':(0,0.5), 'reg_lambda':(0,0.5), 'min_child_weight':(1,20)}"
   ]
  },
  {
   "cell_type": "code",
   "execution_count": 110,
   "metadata": {},
   "outputs": [],
   "source": [
    "from xgboost import XGBClassifier\n",
    "from sklearn.metrics import log_loss\n",
    "\n",
    "def xgb_loss(learning_rate, colsample_bytree, subsample, max_depth, reg_alpha, reg_lambda, min_child_weight):\n",
    "    params={'n_estimators':200, 'learning_rate':learning_rate, 'colsample_bytree':colsample_bytree, 'subsample':subsample, \n",
    "            'max_depth':int(round(max_depth)), 'reg_alpha':reg_alpha, \n",
    "            'reg_lambda':reg_lambda, 'min_child_weight': min_child_weight}\n",
    "\n",
    "    xgb_model=XGBClassifier(**params)\n",
    "    xgb_model.fit(X_train, y_train, eval_set=[(X_test,y_test)], early_stopping_rounds=300,\\\n",
    "                eval_metric='logloss', verbose=True)\n",
    "    valid_proba=xgb_model.predict_proba(X_test)[:,1]\n",
    "    loss=log_loss(y_test,valid_proba)\n",
    "    return -1*loss"
   ]
  },
  {
   "cell_type": "code",
   "execution_count": 111,
   "metadata": {},
   "outputs": [
    {
     "name": "stdout",
     "output_type": "stream",
     "text": [
      "Requirement already satisfied: Bayesian-Optimization in c:\\programdata\\anaconda3\\lib\\site-packages (1.2.0)\n",
      "Requirement already satisfied: scipy>=0.14.0 in c:\\programdata\\anaconda3\\lib\\site-packages (from Bayesian-Optimization) (1.6.2)\n",
      "Requirement already satisfied: numpy>=1.9.0 in c:\\programdata\\anaconda3\\lib\\site-packages (from Bayesian-Optimization) (1.20.1)\n",
      "Requirement already satisfied: scikit-learn>=0.18.0 in c:\\programdata\\anaconda3\\lib\\site-packages (from Bayesian-Optimization) (0.24.1)\n",
      "Requirement already satisfied: joblib>=0.11 in c:\\programdata\\anaconda3\\lib\\site-packages (from scikit-learn>=0.18.0->Bayesian-Optimization) (1.0.1)\n",
      "Requirement already satisfied: threadpoolctl>=2.0.0 in c:\\programdata\\anaconda3\\lib\\site-packages (from scikit-learn>=0.18.0->Bayesian-Optimization) (2.1.0)\n"
     ]
    }
   ],
   "source": [
    "!pip install Bayesian-Optimization\n",
    "\n",
    "from bayes_opt import BayesianOptimization\n",
    "BO_xgb=BayesianOptimization(xgb_loss, bayes_params, random_state=156)"
   ]
  },
  {
   "cell_type": "code",
   "execution_count": null,
   "metadata": {
    "scrolled": true
   },
   "outputs": [],
   "source": [
    "BO_xgb.maximize(init_points=5,n_iter=10)"
   ]
  },
  {
   "cell_type": "code",
   "execution_count": 113,
   "metadata": {},
   "outputs": [
    {
     "data": {
      "text/plain": [
       "{'target': -0.06969010798701837,\n",
       " 'params': {'colsample_bytree': 0.5499591604634895,\n",
       "  'learning_rate': 0.06119635045051186,\n",
       "  'max_depth': 18.330739371664343,\n",
       "  'min_child_weight': 1.5793307508764438,\n",
       "  'reg_alpha': 0.3727254234620351,\n",
       "  'reg_lambda': 0.3357280072581404,\n",
       "  'subsample': 0.6943717433587178}}"
      ]
     },
     "execution_count": 113,
     "metadata": {},
     "output_type": "execute_result"
    }
   ],
   "source": [
    "BO_xgb.max"
   ]
  },
  {
   "cell_type": "code",
   "execution_count": null,
   "metadata": {},
   "outputs": [],
   "source": [
    "max_params=BO_xgb.max['params']\n",
    "max_params['max_depth']=int(round(max_params['max_depth']))\n",
    "\n",
    "xgb_clf=XGBClassifier(n_estimators=1000,**max_params)\n",
    "evals=[(X_test,y_test)]\n",
    "\n",
    "xgb_clf.fit(X_train,y_train,early_stopping_rounds=300,eval_metric='logloss',eval_set=evals)\n",
    "loss=log_loss(y_test,xgb_clf.predict_proba(X_test)[:,1])\n",
    "print(f'log loss: {loss:.4f}')"
   ]
  },
  {
   "cell_type": "markdown",
   "metadata": {},
   "source": [
    "0.0680"
   ]
  },
  {
   "cell_type": "markdown",
   "metadata": {},
   "source": [
    "### LightGBM 베이지안 최적화"
   ]
  },
  {
   "cell_type": "code",
   "execution_count": 99,
   "metadata": {},
   "outputs": [],
   "source": [
    "bayes_params={'learning_rate':(0.01,0.1),'num_leaves':(30,120),'colsample_bytree':(0.5,1),'subsample':(0.5,1),\\\n",
    "              'max_depth':(50,200),'reg_alpha':(0,0.5),'reg_lambda':(0,0.5),\\\n",
    "              'min_split_gain':(0.001,0.1),'min_child_weight':(1,10)}"
   ]
  },
  {
   "cell_type": "code",
   "execution_count": 104,
   "metadata": {},
   "outputs": [],
   "source": [
    "from lightgbm import LGBMClassifier\n",
    "from sklearn.metrics import log_loss\n",
    "\n",
    "def lgbm_loss(learning_rate,num_leaves,colsample_bytree,subsample,max_depth,reg_alpha,\\\n",
    "                 reg_lambda,min_split_gain,min_child_weight):\n",
    "  \n",
    "    params={'n_estimators':200,'learning_rate':learning_rate,'num_leaves':\\\n",
    "          int(round(num_leaves)),'colsample_bytree':colsample_bytree,'subsample':\\\n",
    "          subsample,'max_depth':int(round(max_depth)),'reg_alpha':reg_alpha,\\\n",
    "          'reg_lambda':reg_lambda,'min_split_gain':min_split_gain,'min_child_weight':\\\n",
    "          min_child_weight}\n",
    "\n",
    "    lgb_model=LGBMClassifier(**params)\n",
    "    lgb_model.fit(X_train,y_train,eval_set=[(X_test,y_test)],early_stopping_rounds=30,\\\n",
    "                eval_metric='logloss')\n",
    "    valid_proba=lgb_model.predict_proba(X_test)[:,1]\n",
    "    loss=log_loss(y_test,valid_proba)\n",
    "    \n",
    "    return -1*loss"
   ]
  },
  {
   "cell_type": "code",
   "execution_count": null,
   "metadata": {},
   "outputs": [],
   "source": [
    "BO_lgb=BayesianOptimization(lgbm_loss, bayes_params, random_state=156)\n",
    "BO_lgb.maximize(init_points=10,n_iter=30)"
   ]
  },
  {
   "cell_type": "code",
   "execution_count": 106,
   "metadata": {},
   "outputs": [
    {
     "data": {
      "text/plain": [
       "{'target': -0.06469510534101801,\n",
       " 'params': {'colsample_bytree': 0.7955518267517033,\n",
       "  'learning_rate': 0.04953018123676111,\n",
       "  'max_depth': 68.09130856797502,\n",
       "  'min_child_weight': 1.0,\n",
       "  'min_split_gain': 0.04138343581219259,\n",
       "  'num_leaves': 99.96786696910127,\n",
       "  'reg_alpha': 0.5,\n",
       "  'reg_lambda': 0.11177980013061867,\n",
       "  'subsample': 0.9429288832144591}}"
      ]
     },
     "execution_count": 106,
     "metadata": {},
     "output_type": "execute_result"
    }
   ],
   "source": [
    "BO_lgb.max"
   ]
  },
  {
   "cell_type": "code",
   "execution_count": null,
   "metadata": {},
   "outputs": [],
   "source": [
    "max_params=BO_lgb.max['params']\n",
    "max_params['max_depth']=int(round(max_params['max_depth']))\n",
    "max_params['num_leaves']=int(round(max_params['num_leaves']))\n",
    "\n",
    "lgb_clf=LGBMClassifier(n_estimators=3000,**max_params)\n",
    "evals=[(X_test,y_test)]\n",
    "\n",
    "lgb_clf.fit(X_train,y_train,early_stopping_rounds=300,eval_metric='logloss',eval_set=evals)\n",
    "loss=log_loss(y_test,lgb_clf.predict_proba(X_test)[:,1])\n",
    "print(f'log loss: {loss:.4f}')"
   ]
  },
  {
   "cell_type": "markdown",
   "metadata": {},
   "source": [
    "0.0637"
   ]
  },
  {
   "cell_type": "markdown",
   "metadata": {},
   "source": [
    "### test 데이터셋 전처리"
   ]
  },
  {
   "cell_type": "code",
   "execution_count": 115,
   "metadata": {},
   "outputs": [],
   "source": [
    "data_dir = 'C:/Users/xnote/Desktop/투빅스/4주차/Week4_Ensemble_lsb/week4_Ensemble_Assignment/'\n",
    "test = pd.read_csv(data_dir + 'test.csv')\n",
    "\n",
    "test.replace('Unknown',np.nan,inplace=True)\n",
    "test.Gender=test.Gender.map({'F':0,'M':1})\n",
    "test.Education_Level=test.Education_Level.map({'Uneducated':0, 'High School':1, 'College':2, 'Graduate':3,\n",
    "                                                 'Post-Graduate':4, 'Doctorate':5})\n",
    "test.Income_Category=test.Income_Category.map({'Less than $40K':0,'$40K - $60K':1, '$60K - $80K':2, '$80K - $120K':3, '$120K +':4})\n",
    "test=pd.get_dummies(test)\n",
    "\n",
    "from sklearn.impute import KNNImputer\n",
    "imputer=KNNImputer(n_neighbors=5)\n",
    "filled_test_but_heavy=pd.DataFrame(imputer.fit_transform(test),columns=test.columns)\n",
    "filled_cols=filled_test_but_heavy[['Education_Level','Income_Category']]\n",
    "\n",
    "test.drop(['Education_Level','Income_Category'],axis=1,inplace=True)\n",
    "test=pd.concat([filled_cols,test],axis=1)\n",
    "\n",
    "test.drop(['Marital_Status_Single','Marital_Status_Divorced','Card_Category_Silver'],axis=1, inplace=True)\n",
    "test.rename(columns={'Marital_Status_Married':'Maried_Status','Card_Category_Blue':'Card_Category_SB'},inplace=True)\n",
    "\n",
    "test['Avg_Contacts_ratio']=(test['Contacts_Count_12_mon']/12)/(test['Total_Trans_Ct']/test['Months_on_book'])\n",
    "\n",
    "boxcox_trans_list=['Total_Trans_Amt','Avg_Contacts_ratio']\n",
    "for col in boxcox_trans_list:\n",
    "    if test[col].min()==0:\n",
    "        test[col]=test[col]+1\n",
    "    else: pass\n",
    "    test[col]=stats.boxcox(test[col])[0]\n",
    "\n",
    "from sklearn.preprocessing import RobustScaler\n",
    "robustScaler = RobustScaler()\n",
    "test=robustScaler.fit_transform(test)"
   ]
  },
  {
   "cell_type": "code",
   "execution_count": 119,
   "metadata": {},
   "outputs": [],
   "source": [
    "submission = pd.read_csv(data_dir + 'submission.csv')"
   ]
  },
  {
   "cell_type": "code",
   "execution_count": 120,
   "metadata": {},
   "outputs": [
    {
     "data": {
      "text/plain": [
       "array([[9.99653344e-01, 3.46656078e-04],\n",
       "       [9.97315885e-01, 2.68411509e-03],\n",
       "       [9.44039907e-01, 5.59600933e-02],\n",
       "       ...,\n",
       "       [9.99928058e-01, 7.19415807e-05],\n",
       "       [9.99563539e-01, 4.36460680e-04],\n",
       "       [9.99503424e-01, 4.96575879e-04]])"
      ]
     },
     "execution_count": 120,
     "metadata": {},
     "output_type": "execute_result"
    }
   ],
   "source": [
    "y_pred1 = lgb_clf.predict_proba(test)\n",
    "submission.iloc[:, 1:] = y_pred1\n",
    "y_pred1"
   ]
  },
  {
   "cell_type": "code",
   "execution_count": 121,
   "metadata": {},
   "outputs": [
    {
     "data": {
      "text/plain": [
       "array([[9.9949038e-01, 5.0963793e-04],\n",
       "       [9.9817842e-01, 1.8215500e-03],\n",
       "       [9.7052574e-01, 2.9474271e-02],\n",
       "       ...,\n",
       "       [9.9992138e-01, 7.8620687e-05],\n",
       "       [9.9972373e-01, 2.7627169e-04],\n",
       "       [9.9918646e-01, 8.1354060e-04]], dtype=float32)"
      ]
     },
     "execution_count": 121,
     "metadata": {},
     "output_type": "execute_result"
    }
   ],
   "source": [
    "y_pred2 = xgb_clf.predict_proba(test)\n",
    "submission.iloc[:, 1:] = y_pred2\n",
    "y_pred2"
   ]
  },
  {
   "cell_type": "markdown",
   "metadata": {
    "id": "UmPqzs9P3wHG"
   },
   "source": [
    "# 예측\n",
    "\n",
    "베이지안 최적화로 하이퍼 파라미터가 튜닝된 LighGBM 모델의 예측 확률인 y_pred1을 예측값으로 제출하겠습니다.  \n",
    "캐글 아이디는 Stat_Jooho입니다!"
   ]
  },
  {
   "cell_type": "code",
   "execution_count": 123,
   "metadata": {
    "colab": {
     "base_uri": "https://localhost:8080/",
     "height": 204
    },
    "executionInfo": {
     "elapsed": 8,
     "status": "ok",
     "timestamp": 1626605558179,
     "user": {
      "displayName": "이성범",
      "photoUrl": "",
      "userId": "11166281350151773159"
     },
     "user_tz": -540
    },
    "id": "8-cO6CziIRSh",
    "outputId": "6df605b9-4582-4400-c3c2-4246f0ee9192",
    "scrolled": false
   },
   "outputs": [
    {
     "data": {
      "text/html": [
       "<div>\n",
       "<style scoped>\n",
       "    .dataframe tbody tr th:only-of-type {\n",
       "        vertical-align: middle;\n",
       "    }\n",
       "\n",
       "    .dataframe tbody tr th {\n",
       "        vertical-align: top;\n",
       "    }\n",
       "\n",
       "    .dataframe thead th {\n",
       "        text-align: right;\n",
       "    }\n",
       "</style>\n",
       "<table border=\"1\" class=\"dataframe\">\n",
       "  <thead>\n",
       "    <tr style=\"text-align: right;\">\n",
       "      <th></th>\n",
       "      <th>id</th>\n",
       "      <th>Existing Customer</th>\n",
       "      <th>Attrited Customer</th>\n",
       "    </tr>\n",
       "  </thead>\n",
       "  <tbody>\n",
       "    <tr>\n",
       "      <th>0</th>\n",
       "      <td>0</td>\n",
       "      <td>0.999653</td>\n",
       "      <td>0.000347</td>\n",
       "    </tr>\n",
       "    <tr>\n",
       "      <th>1</th>\n",
       "      <td>1</td>\n",
       "      <td>0.997316</td>\n",
       "      <td>0.002684</td>\n",
       "    </tr>\n",
       "    <tr>\n",
       "      <th>2</th>\n",
       "      <td>2</td>\n",
       "      <td>0.944040</td>\n",
       "      <td>0.055960</td>\n",
       "    </tr>\n",
       "    <tr>\n",
       "      <th>3</th>\n",
       "      <td>3</td>\n",
       "      <td>0.992954</td>\n",
       "      <td>0.007046</td>\n",
       "    </tr>\n",
       "    <tr>\n",
       "      <th>4</th>\n",
       "      <td>4</td>\n",
       "      <td>0.999894</td>\n",
       "      <td>0.000106</td>\n",
       "    </tr>\n",
       "    <tr>\n",
       "      <th>...</th>\n",
       "      <td>...</td>\n",
       "      <td>...</td>\n",
       "      <td>...</td>\n",
       "    </tr>\n",
       "    <tr>\n",
       "      <th>2021</th>\n",
       "      <td>2021</td>\n",
       "      <td>0.999521</td>\n",
       "      <td>0.000479</td>\n",
       "    </tr>\n",
       "    <tr>\n",
       "      <th>2022</th>\n",
       "      <td>2022</td>\n",
       "      <td>0.998983</td>\n",
       "      <td>0.001017</td>\n",
       "    </tr>\n",
       "    <tr>\n",
       "      <th>2023</th>\n",
       "      <td>2023</td>\n",
       "      <td>0.999928</td>\n",
       "      <td>0.000072</td>\n",
       "    </tr>\n",
       "    <tr>\n",
       "      <th>2024</th>\n",
       "      <td>2024</td>\n",
       "      <td>0.999564</td>\n",
       "      <td>0.000436</td>\n",
       "    </tr>\n",
       "    <tr>\n",
       "      <th>2025</th>\n",
       "      <td>2025</td>\n",
       "      <td>0.999503</td>\n",
       "      <td>0.000497</td>\n",
       "    </tr>\n",
       "  </tbody>\n",
       "</table>\n",
       "<p>2026 rows × 3 columns</p>\n",
       "</div>"
      ],
      "text/plain": [
       "        id  Existing Customer  Attrited Customer\n",
       "0        0           0.999653           0.000347\n",
       "1        1           0.997316           0.002684\n",
       "2        2           0.944040           0.055960\n",
       "3        3           0.992954           0.007046\n",
       "4        4           0.999894           0.000106\n",
       "...    ...                ...                ...\n",
       "2021  2021           0.999521           0.000479\n",
       "2022  2022           0.998983           0.001017\n",
       "2023  2023           0.999928           0.000072\n",
       "2024  2024           0.999564           0.000436\n",
       "2025  2025           0.999503           0.000497\n",
       "\n",
       "[2026 rows x 3 columns]"
      ]
     },
     "execution_count": 123,
     "metadata": {},
     "output_type": "execute_result"
    }
   ],
   "source": [
    "submission.iloc[:, 1:] = y_pred1\n",
    "\n",
    "submission.to_csv(data_dir + 'submission.csv', index = False)\n",
    "submission"
   ]
  }
 ],
 "metadata": {
  "colab": {
   "authorship_tag": "ABX9TyNMdl/swhUKVRoJv83mfyxT",
   "collapsed_sections": [],
   "name": "Week4_Ensemble_Assignment.ipynb",
   "provenance": []
  },
  "kernelspec": {
   "display_name": "Python 3",
   "language": "python",
   "name": "python3"
  },
  "language_info": {
   "codemirror_mode": {
    "name": "ipython",
    "version": 3
   },
   "file_extension": ".py",
   "mimetype": "text/x-python",
   "name": "python",
   "nbconvert_exporter": "python",
   "pygments_lexer": "ipython3",
   "version": "3.8.8"
  }
 },
 "nbformat": 4,
 "nbformat_minor": 1
}
